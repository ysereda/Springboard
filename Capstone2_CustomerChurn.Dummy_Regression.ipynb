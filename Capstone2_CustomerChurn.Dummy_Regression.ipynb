{
 "cells": [
  {
   "cell_type": "markdown",
   "metadata": {},
   "source": [
    "# Dummy Regression"
   ]
  },
  {
   "cell_type": "code",
   "execution_count": 2,
   "metadata": {},
   "outputs": [],
   "source": [
    "import os\n",
    "os.chdir('C:/Sereda/Lectures/Springboard/Capstone2_CustomerChurn/')\n",
    "import pandas as pd\n",
    "import numpy as np\n",
    "from sklearn.dummy import DummyClassifier\n",
    "\n",
    "from sklearn.linear_model import LogisticRegression\n",
    "from sklearn.model_selection import train_test_split, cross_val_score\n",
    "from sklearn.metrics import confusion_matrix, classification_report, roc_curve, roc_auc_score\n",
    "import matplotlib.pyplot as plt\n",
    "plt.style.use('fivethirtyeight')\n",
    "pd.set_option('display.max_rows', 600)"
   ]
  },
  {
   "cell_type": "code",
   "execution_count": 3,
   "metadata": {},
   "outputs": [
    {
     "data": {
      "text/html": [
       "<div>\n",
       "<style scoped>\n",
       "    .dataframe tbody tr th:only-of-type {\n",
       "        vertical-align: middle;\n",
       "    }\n",
       "\n",
       "    .dataframe tbody tr th {\n",
       "        vertical-align: top;\n",
       "    }\n",
       "\n",
       "    .dataframe thead th {\n",
       "        text-align: right;\n",
       "    }\n",
       "</style>\n",
       "<table border=\"1\" class=\"dataframe\">\n",
       "  <thead>\n",
       "    <tr style=\"text-align: right;\">\n",
       "      <th></th>\n",
       "      <th>is_auto_renew</th>\n",
       "      <th>is_cancel</th>\n",
       "      <th>reg_to_trans_days</th>\n",
       "      <th>is_churn</th>\n",
       "      <th>registration_winter</th>\n",
       "      <th>registration_spring</th>\n",
       "      <th>registration_summer</th>\n",
       "      <th>registration_autumn</th>\n",
       "      <th>registration_beginOfMonth</th>\n",
       "      <th>registration_middleOfMonth</th>\n",
       "      <th>...</th>\n",
       "      <th>transaction_DayofMonth_29</th>\n",
       "      <th>transaction_DayofMonth_30</th>\n",
       "      <th>transaction_DayofMonth_31</th>\n",
       "      <th>transaction_DayOfWeek_0</th>\n",
       "      <th>transaction_DayOfWeek_1</th>\n",
       "      <th>transaction_DayOfWeek_2</th>\n",
       "      <th>transaction_DayOfWeek_3</th>\n",
       "      <th>transaction_DayOfWeek_4</th>\n",
       "      <th>transaction_DayOfWeek_5</th>\n",
       "      <th>transaction_DayOfWeek_6</th>\n",
       "    </tr>\n",
       "  </thead>\n",
       "  <tbody>\n",
       "    <tr>\n",
       "      <th>0</th>\n",
       "      <td>0</td>\n",
       "      <td>0</td>\n",
       "      <td>4098</td>\n",
       "      <td>0</td>\n",
       "      <td>0</td>\n",
       "      <td>1</td>\n",
       "      <td>0</td>\n",
       "      <td>0</td>\n",
       "      <td>0</td>\n",
       "      <td>0</td>\n",
       "      <td>...</td>\n",
       "      <td>0</td>\n",
       "      <td>0</td>\n",
       "      <td>0</td>\n",
       "      <td>0</td>\n",
       "      <td>1</td>\n",
       "      <td>0</td>\n",
       "      <td>0</td>\n",
       "      <td>0</td>\n",
       "      <td>0</td>\n",
       "      <td>0</td>\n",
       "    </tr>\n",
       "    <tr>\n",
       "      <th>1</th>\n",
       "      <td>0</td>\n",
       "      <td>0</td>\n",
       "      <td>4098</td>\n",
       "      <td>0</td>\n",
       "      <td>0</td>\n",
       "      <td>1</td>\n",
       "      <td>0</td>\n",
       "      <td>0</td>\n",
       "      <td>0</td>\n",
       "      <td>0</td>\n",
       "      <td>...</td>\n",
       "      <td>0</td>\n",
       "      <td>0</td>\n",
       "      <td>0</td>\n",
       "      <td>1</td>\n",
       "      <td>0</td>\n",
       "      <td>0</td>\n",
       "      <td>0</td>\n",
       "      <td>0</td>\n",
       "      <td>0</td>\n",
       "      <td>0</td>\n",
       "    </tr>\n",
       "    <tr>\n",
       "      <th>2</th>\n",
       "      <td>0</td>\n",
       "      <td>0</td>\n",
       "      <td>4098</td>\n",
       "      <td>0</td>\n",
       "      <td>0</td>\n",
       "      <td>1</td>\n",
       "      <td>0</td>\n",
       "      <td>0</td>\n",
       "      <td>0</td>\n",
       "      <td>0</td>\n",
       "      <td>...</td>\n",
       "      <td>0</td>\n",
       "      <td>0</td>\n",
       "      <td>0</td>\n",
       "      <td>0</td>\n",
       "      <td>1</td>\n",
       "      <td>0</td>\n",
       "      <td>0</td>\n",
       "      <td>0</td>\n",
       "      <td>0</td>\n",
       "      <td>0</td>\n",
       "    </tr>\n",
       "    <tr>\n",
       "      <th>3</th>\n",
       "      <td>1</td>\n",
       "      <td>0</td>\n",
       "      <td>4021</td>\n",
       "      <td>1</td>\n",
       "      <td>0</td>\n",
       "      <td>1</td>\n",
       "      <td>0</td>\n",
       "      <td>0</td>\n",
       "      <td>0</td>\n",
       "      <td>0</td>\n",
       "      <td>...</td>\n",
       "      <td>0</td>\n",
       "      <td>0</td>\n",
       "      <td>1</td>\n",
       "      <td>0</td>\n",
       "      <td>1</td>\n",
       "      <td>0</td>\n",
       "      <td>0</td>\n",
       "      <td>0</td>\n",
       "      <td>0</td>\n",
       "      <td>0</td>\n",
       "    </tr>\n",
       "    <tr>\n",
       "      <th>4</th>\n",
       "      <td>1</td>\n",
       "      <td>0</td>\n",
       "      <td>4021</td>\n",
       "      <td>0</td>\n",
       "      <td>0</td>\n",
       "      <td>1</td>\n",
       "      <td>0</td>\n",
       "      <td>0</td>\n",
       "      <td>0</td>\n",
       "      <td>0</td>\n",
       "      <td>...</td>\n",
       "      <td>0</td>\n",
       "      <td>1</td>\n",
       "      <td>0</td>\n",
       "      <td>0</td>\n",
       "      <td>1</td>\n",
       "      <td>0</td>\n",
       "      <td>0</td>\n",
       "      <td>0</td>\n",
       "      <td>0</td>\n",
       "      <td>0</td>\n",
       "    </tr>\n",
       "  </tbody>\n",
       "</table>\n",
       "<p>5 rows × 372 columns</p>\n",
       "</div>"
      ],
      "text/plain": [
       "   is_auto_renew  is_cancel  reg_to_trans_days  is_churn  registration_winter  \\\n",
       "0              0          0               4098         0                    0   \n",
       "1              0          0               4098         0                    0   \n",
       "2              0          0               4098         0                    0   \n",
       "3              1          0               4021         1                    0   \n",
       "4              1          0               4021         0                    0   \n",
       "\n",
       "   registration_spring  registration_summer  registration_autumn  \\\n",
       "0                    1                    0                    0   \n",
       "1                    1                    0                    0   \n",
       "2                    1                    0                    0   \n",
       "3                    1                    0                    0   \n",
       "4                    1                    0                    0   \n",
       "\n",
       "   registration_beginOfMonth  registration_middleOfMonth  ...  \\\n",
       "0                          0                           0  ...   \n",
       "1                          0                           0  ...   \n",
       "2                          0                           0  ...   \n",
       "3                          0                           0  ...   \n",
       "4                          0                           0  ...   \n",
       "\n",
       "   transaction_DayofMonth_29  transaction_DayofMonth_30  \\\n",
       "0                          0                          0   \n",
       "1                          0                          0   \n",
       "2                          0                          0   \n",
       "3                          0                          0   \n",
       "4                          0                          1   \n",
       "\n",
       "   transaction_DayofMonth_31  transaction_DayOfWeek_0  \\\n",
       "0                          0                        0   \n",
       "1                          0                        1   \n",
       "2                          0                        0   \n",
       "3                          1                        0   \n",
       "4                          0                        0   \n",
       "\n",
       "   transaction_DayOfWeek_1  transaction_DayOfWeek_2  transaction_DayOfWeek_3  \\\n",
       "0                        1                        0                        0   \n",
       "1                        0                        0                        0   \n",
       "2                        1                        0                        0   \n",
       "3                        1                        0                        0   \n",
       "4                        1                        0                        0   \n",
       "\n",
       "   transaction_DayOfWeek_4  transaction_DayOfWeek_5  transaction_DayOfWeek_6  \n",
       "0                        0                        0                        0  \n",
       "1                        0                        0                        0  \n",
       "2                        0                        0                        0  \n",
       "3                        0                        0                        0  \n",
       "4                        0                        0                        0  \n",
       "\n",
       "[5 rows x 372 columns]"
      ]
     },
     "execution_count": 3,
     "metadata": {},
     "output_type": "execute_result"
    }
   ],
   "source": [
    "csv = \"./data/df_20161022_onehot.csv\" #csv = \"data/df_20161022_1.gender_onehot.featuresmt.csv\"\n",
    "df = pd.read_csv(csv)\n",
    "X = df.drop('is_churn', axis=1) # drop unknown churn\n",
    "y = df[['is_churn']]\n",
    "y = np.ravel(y)\n",
    "df.head()"
   ]
  },
  {
   "cell_type": "markdown",
   "metadata": {},
   "source": [
    "#### Train-Test split\n",
    "Taking 70% for training set and 30% for test set."
   ]
  },
  {
   "cell_type": "code",
   "execution_count": 4,
   "metadata": {},
   "outputs": [
    {
     "name": "stdout",
     "output_type": "stream",
     "text": [
      "Train samples: 11986\n",
      "Test samples: 5138\n"
     ]
    }
   ],
   "source": [
    "X_train, X_test, y_train, y_test = train_test_split(X, y, test_size=0.3, random_state=0)\n",
    "print(\"Train samples:\",y_train.shape[0])\n",
    "print(\"Test samples:\",y_test.shape[0])"
   ]
  },
  {
   "cell_type": "code",
   "execution_count": 5,
   "metadata": {},
   "outputs": [
    {
     "name": "stdout",
     "output_type": "stream",
     "text": [
      "Benchmark accuracy = 0.920591669910471\n"
     ]
    }
   ],
   "source": [
    "dummy = DummyClassifier(strategy = 'most_frequent', random_state=0).fit(X_train, y_train);\n",
    "print(\"Benchmark accuracy =\",dummy.score(X_test, y_test))"
   ]
  },
  {
   "cell_type": "markdown",
   "metadata": {},
   "source": [
    "This is the same as the proportion of no churn in the test set:"
   ]
  },
  {
   "cell_type": "code",
   "execution_count": 6,
   "metadata": {},
   "outputs": [
    {
     "name": "stdout",
     "output_type": "stream",
     "text": [
      "Proportion of 0: 0.920591669910471\n"
     ]
    }
   ],
   "source": [
    "print(\"Proportion of 0:\", 1-np.sum(y_test)/len(y_test))"
   ]
  },
  {
   "cell_type": "code",
   "execution_count": null,
   "metadata": {},
   "outputs": [],
   "source": []
  }
 ],
 "metadata": {
  "kernelspec": {
   "display_name": "Python 3",
   "language": "python",
   "name": "python3"
  },
  "language_info": {
   "codemirror_mode": {
    "name": "ipython",
    "version": 3
   },
   "file_extension": ".py",
   "mimetype": "text/x-python",
   "name": "python",
   "nbconvert_exporter": "python",
   "pygments_lexer": "ipython3",
   "version": "3.8.5"
  }
 },
 "nbformat": 4,
 "nbformat_minor": 4
}
