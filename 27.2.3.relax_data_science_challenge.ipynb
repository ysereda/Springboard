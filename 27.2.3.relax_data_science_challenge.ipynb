{
 "cells": [
  {
   "cell_type": "markdown",
   "id": "579b930d",
   "metadata": {},
   "source": [
    "# 27.2.3 Relax Inc. Take-Home Challenge\n",
    "Relax Inc. makes productivity and project management software that's popular with both individuals and teams. Founded by several former Facebook employees, it's considered a great company to work for.\n",
    "\n",
    "A  user  table  ( \"takehome_users\" )  with  data  on  12,000  users  who  signed  up  for  the\n",
    "product  in  the  last  two  years.   This  table  includes:\n",
    "\n",
    "● name:  the  user's  name\n",
    "\n",
    "● object_id:   the  user's  id\n",
    "\n",
    "● email:  email  address\n",
    "\n",
    "● creation_source:   how  their  account  was  created.  This  takes  on  one of  5  values:\n",
    "\n",
    "    ○ PERSONAL_PROJECTS:  invited  to  join  another  user's personal  workspace\n",
    "    \n",
    "    ○ GUEST_INVITE:  invited  to  an  organization  as  a  guest (limited  permissions)\n",
    "    \n",
    "    ○ ORG_INVITE:  invited  to  an  organization  (as  a  full  member)\n",
    "    \n",
    "    ○ SIGNUP:  signed  up  via  the  website\n",
    "    \n",
    "    ○ SIGNUP_GOOGLE_AUTH:  signed  up  using  Google Authentication  (using  a  Google  email  account  for  their  login id)\n",
    "● creation_time:  when  they  created  their  account\n",
    "\n",
    "● last_session_creation_time:   unix  timestamp  of  last  login\n",
    "\n",
    "● opted_in_to_mailing_list:  whether  they  have  opted  into  receiving marketing  emails\n",
    "\n",
    "● enabled_for_marketing_drip:  whether  they  are  on  the  regular marketing  email  drip\n",
    "\n",
    "● org_id:   the  organization  (group  of  users)  they  belong  to\n",
    "\n",
    "● invited_by_user_id:   which  user  invited  them  to  join  (if  applicable).\n",
    "\n",
    "2]  A  usage  summary  table  ( \"takehome_user_engagement\" )  that  has  a  row  for  each  day that  a  user  logged  into  the  product.\n",
    "\n",
    "Defining  an  \"adopted  user\"   as  a  user  who   has  logged  into  the  product  on  three  separate days  in  at  least  one  seven-day  period ,  identify  which  factors  predict  future  user adoption.\n",
    "\n",
    "Please  send  us  a  brief  writeup  of  your  findings  (the  more  concise,  the  better -- no  more\n",
    "than  one  page),  along  with  any  summary  tables,  graphs,  code,  or  queries  that  can  help\n",
    "us  understand  your  approach.  Please  note  any  factors  you  considered  or  investigation\n",
    "you  did,  even  if  they  did  not  pan  out.  Feel  free  to  identify  any  further  research  or  data\n",
    "you  think  would  be  valuable."
   ]
  },
  {
   "cell_type": "code",
   "execution_count": 1,
   "id": "3aac6901",
   "metadata": {},
   "outputs": [],
   "source": [
    "%reset -f\n",
    "import pandas as pd\n",
    "import numpy as np\n",
    "from sklearn.preprocessing import MinMaxScaler\n",
    "from sklearn.model_selection import train_test_split\n",
    "# import tensorflow\n",
    "import tensorflow as tf\n",
    "#import keras \n",
    "from tensorflow import keras\n",
    "from sklearn.metrics import confusion_matrix, classification_report\n",
    "import matplotlib.pyplot as plt\n",
    "import seaborn\n",
    "import os\n",
    "os.chdir('C:/Sereda/Lectures/Springboard/27.Effective_Interviewing_for_Data_Scientists/relax_challenge')"
   ]
  },
  {
   "cell_type": "code",
   "execution_count": 2,
   "id": "8721c4be",
   "metadata": {},
   "outputs": [
    {
     "data": {
      "text/html": [
       "<div>\n",
       "<style scoped>\n",
       "    .dataframe tbody tr th:only-of-type {\n",
       "        vertical-align: middle;\n",
       "    }\n",
       "\n",
       "    .dataframe tbody tr th {\n",
       "        vertical-align: top;\n",
       "    }\n",
       "\n",
       "    .dataframe thead th {\n",
       "        text-align: right;\n",
       "    }\n",
       "</style>\n",
       "<table border=\"1\" class=\"dataframe\">\n",
       "  <thead>\n",
       "    <tr style=\"text-align: right;\">\n",
       "      <th></th>\n",
       "      <th>object_id</th>\n",
       "      <th>creation_time</th>\n",
       "      <th>creation_source</th>\n",
       "      <th>last_session_creation_time</th>\n",
       "      <th>opted_in_to_mailing_list</th>\n",
       "      <th>enabled_for_marketing_drip</th>\n",
       "      <th>org_id</th>\n",
       "      <th>invited_by_user_id</th>\n",
       "    </tr>\n",
       "  </thead>\n",
       "  <tbody>\n",
       "    <tr>\n",
       "      <th>0</th>\n",
       "      <td>1</td>\n",
       "      <td>2014-04-22 03:53:30</td>\n",
       "      <td>GUEST_INVITE</td>\n",
       "      <td>1398138810</td>\n",
       "      <td>1</td>\n",
       "      <td>0</td>\n",
       "      <td>11</td>\n",
       "      <td>10803.0</td>\n",
       "    </tr>\n",
       "    <tr>\n",
       "      <th>1</th>\n",
       "      <td>2</td>\n",
       "      <td>2013-11-15 03:45:04</td>\n",
       "      <td>ORG_INVITE</td>\n",
       "      <td>1396237504</td>\n",
       "      <td>0</td>\n",
       "      <td>0</td>\n",
       "      <td>1</td>\n",
       "      <td>316.0</td>\n",
       "    </tr>\n",
       "    <tr>\n",
       "      <th>2</th>\n",
       "      <td>3</td>\n",
       "      <td>2013-03-19 23:14:52</td>\n",
       "      <td>ORG_INVITE</td>\n",
       "      <td>1363734892</td>\n",
       "      <td>0</td>\n",
       "      <td>0</td>\n",
       "      <td>94</td>\n",
       "      <td>1525.0</td>\n",
       "    </tr>\n",
       "  </tbody>\n",
       "</table>\n",
       "</div>"
      ],
      "text/plain": [
       "   object_id        creation_time creation_source last_session_creation_time  \\\n",
       "0          1  2014-04-22 03:53:30    GUEST_INVITE                 1398138810   \n",
       "1          2  2013-11-15 03:45:04      ORG_INVITE                 1396237504   \n",
       "2          3  2013-03-19 23:14:52      ORG_INVITE                 1363734892   \n",
       "\n",
       "   opted_in_to_mailing_list  enabled_for_marketing_drip  org_id  \\\n",
       "0                         1                           0      11   \n",
       "1                         0                           0       1   \n",
       "2                         0                           0      94   \n",
       "\n",
       "   invited_by_user_id  \n",
       "0             10803.0  \n",
       "1               316.0  \n",
       "2              1525.0  "
      ]
     },
     "execution_count": 2,
     "metadata": {},
     "output_type": "execute_result"
    }
   ],
   "source": [
    "m = pd.read_csv('takehome_users.csv', encoding='latin1', parse_dates=['last_session_creation_time']).\\\n",
    "    drop(['name','email'], axis=1)\n",
    "# encoding is necessary for reading special characters, such as 'æ'\n",
    "m.head(3)"
   ]
  },
  {
   "cell_type": "code",
   "execution_count": 3,
   "id": "9bad8892",
   "metadata": {},
   "outputs": [
    {
     "data": {
      "text/html": [
       "<div>\n",
       "<style scoped>\n",
       "    .dataframe tbody tr th:only-of-type {\n",
       "        vertical-align: middle;\n",
       "    }\n",
       "\n",
       "    .dataframe tbody tr th {\n",
       "        vertical-align: top;\n",
       "    }\n",
       "\n",
       "    .dataframe thead th {\n",
       "        text-align: right;\n",
       "    }\n",
       "</style>\n",
       "<table border=\"1\" class=\"dataframe\">\n",
       "  <thead>\n",
       "    <tr style=\"text-align: right;\">\n",
       "      <th></th>\n",
       "      <th>time_stamp</th>\n",
       "      <th>user_id</th>\n",
       "      <th>visited</th>\n",
       "    </tr>\n",
       "  </thead>\n",
       "  <tbody>\n",
       "    <tr>\n",
       "      <th>0</th>\n",
       "      <td>2014-04-22 03:53:30</td>\n",
       "      <td>1</td>\n",
       "      <td>1</td>\n",
       "    </tr>\n",
       "    <tr>\n",
       "      <th>1</th>\n",
       "      <td>2013-11-15 03:45:04</td>\n",
       "      <td>2</td>\n",
       "      <td>1</td>\n",
       "    </tr>\n",
       "    <tr>\n",
       "      <th>2</th>\n",
       "      <td>2013-11-29 03:45:04</td>\n",
       "      <td>2</td>\n",
       "      <td>1</td>\n",
       "    </tr>\n",
       "  </tbody>\n",
       "</table>\n",
       "</div>"
      ],
      "text/plain": [
       "           time_stamp  user_id  visited\n",
       "0 2014-04-22 03:53:30        1        1\n",
       "1 2013-11-15 03:45:04        2        1\n",
       "2 2013-11-29 03:45:04        2        1"
      ]
     },
     "execution_count": 3,
     "metadata": {},
     "output_type": "execute_result"
    }
   ],
   "source": [
    "# usage data\n",
    "u = pd.read_csv('takehome_user_engagement.csv', index_col = None, parse_dates=['time_stamp'])\n",
    "#u['time_stamp'] = pd.to_datetime(u['time_stamp']) # str -> Timestamp\n",
    "u.head(3)"
   ]
  },
  {
   "cell_type": "markdown",
   "id": "9862e625",
   "metadata": {},
   "source": [
    "### Generate labels\n",
    "Defining  an  \"adopted  user\"   as  a  user  who   has  logged  into  the  product  on  three  separate days  in  at  least  one  seven-day  period ,  identify  which  factors  predict  future  user adoption."
   ]
  },
  {
   "cell_type": "code",
   "execution_count": 4,
   "id": "6675a509",
   "metadata": {},
   "outputs": [
    {
     "data": {
      "text/html": [
       "<div>\n",
       "<style scoped>\n",
       "    .dataframe tbody tr th:only-of-type {\n",
       "        vertical-align: middle;\n",
       "    }\n",
       "\n",
       "    .dataframe tbody tr th {\n",
       "        vertical-align: top;\n",
       "    }\n",
       "\n",
       "    .dataframe thead th {\n",
       "        text-align: right;\n",
       "    }\n",
       "</style>\n",
       "<table border=\"1\" class=\"dataframe\">\n",
       "  <thead>\n",
       "    <tr style=\"text-align: right;\">\n",
       "      <th></th>\n",
       "      <th>time_stamp</th>\n",
       "      <th>user_id</th>\n",
       "      <th>visited</th>\n",
       "    </tr>\n",
       "  </thead>\n",
       "  <tbody>\n",
       "    <tr>\n",
       "      <th>0</th>\n",
       "      <td>2014-04-22 03:53:30</td>\n",
       "      <td>1</td>\n",
       "      <td>1</td>\n",
       "    </tr>\n",
       "    <tr>\n",
       "      <th>1</th>\n",
       "      <td>2013-11-15 03:45:04</td>\n",
       "      <td>2</td>\n",
       "      <td>1</td>\n",
       "    </tr>\n",
       "    <tr>\n",
       "      <th>2</th>\n",
       "      <td>2013-11-29 03:45:04</td>\n",
       "      <td>2</td>\n",
       "      <td>1</td>\n",
       "    </tr>\n",
       "  </tbody>\n",
       "</table>\n",
       "</div>"
      ],
      "text/plain": [
       "           time_stamp  user_id  visited\n",
       "0 2014-04-22 03:53:30        1        1\n",
       "1 2013-11-15 03:45:04        2        1\n",
       "2 2013-11-29 03:45:04        2        1"
      ]
     },
     "execution_count": 4,
     "metadata": {},
     "output_type": "execute_result"
    }
   ],
   "source": [
    "u.head(3)"
   ]
  },
  {
   "cell_type": "code",
   "execution_count": 5,
   "id": "7a92bafc",
   "metadata": {
    "scrolled": false
   },
   "outputs": [
    {
     "data": {
      "text/plain": [
       "array([1], dtype=int64)"
      ]
     },
     "execution_count": 5,
     "metadata": {},
     "output_type": "execute_result"
    }
   ],
   "source": [
    "u['visited'].unique()"
   ]
  },
  {
   "cell_type": "markdown",
   "id": "153d9efd",
   "metadata": {},
   "source": [
    "Since 'visited'=1, we can use this column for aggregation (to calculate the number of visits in each 7-day period)."
   ]
  },
  {
   "cell_type": "code",
   "execution_count": 6,
   "id": "e3891dc1",
   "metadata": {},
   "outputs": [
    {
     "data": {
      "text/html": [
       "<div>\n",
       "<style scoped>\n",
       "    .dataframe tbody tr th:only-of-type {\n",
       "        vertical-align: middle;\n",
       "    }\n",
       "\n",
       "    .dataframe tbody tr th {\n",
       "        vertical-align: top;\n",
       "    }\n",
       "\n",
       "    .dataframe thead th {\n",
       "        text-align: right;\n",
       "    }\n",
       "</style>\n",
       "<table border=\"1\" class=\"dataframe\">\n",
       "  <thead>\n",
       "    <tr style=\"text-align: right;\">\n",
       "      <th></th>\n",
       "      <th>object_id</th>\n",
       "      <th>creation_time</th>\n",
       "      <th>creation_source</th>\n",
       "      <th>opted_in_to_mailing_list</th>\n",
       "      <th>enabled_for_marketing_drip</th>\n",
       "      <th>org_id</th>\n",
       "      <th>invited_by_user_id</th>\n",
       "      <th>adopt</th>\n",
       "    </tr>\n",
       "  </thead>\n",
       "  <tbody>\n",
       "    <tr>\n",
       "      <th>0</th>\n",
       "      <td>1</td>\n",
       "      <td>2014-04-22 03:53:30</td>\n",
       "      <td>GUEST_INVITE</td>\n",
       "      <td>1</td>\n",
       "      <td>0</td>\n",
       "      <td>11</td>\n",
       "      <td>10803.0</td>\n",
       "      <td>False</td>\n",
       "    </tr>\n",
       "    <tr>\n",
       "      <th>1</th>\n",
       "      <td>2</td>\n",
       "      <td>2013-11-15 03:45:04</td>\n",
       "      <td>ORG_INVITE</td>\n",
       "      <td>0</td>\n",
       "      <td>0</td>\n",
       "      <td>1</td>\n",
       "      <td>316.0</td>\n",
       "      <td>True</td>\n",
       "    </tr>\n",
       "    <tr>\n",
       "      <th>2</th>\n",
       "      <td>3</td>\n",
       "      <td>2013-03-19 23:14:52</td>\n",
       "      <td>ORG_INVITE</td>\n",
       "      <td>0</td>\n",
       "      <td>0</td>\n",
       "      <td>94</td>\n",
       "      <td>1525.0</td>\n",
       "      <td>False</td>\n",
       "    </tr>\n",
       "  </tbody>\n",
       "</table>\n",
       "</div>"
      ],
      "text/plain": [
       "   object_id        creation_time creation_source  opted_in_to_mailing_list  \\\n",
       "0          1  2014-04-22 03:53:30    GUEST_INVITE                         1   \n",
       "1          2  2013-11-15 03:45:04      ORG_INVITE                         0   \n",
       "2          3  2013-03-19 23:14:52      ORG_INVITE                         0   \n",
       "\n",
       "   enabled_for_marketing_drip  org_id  invited_by_user_id  adopt  \n",
       "0                           0      11             10803.0  False  \n",
       "1                           0       1               316.0   True  \n",
       "2                           0      94              1525.0  False  "
      ]
     },
     "execution_count": 6,
     "metadata": {},
     "output_type": "execute_result"
    }
   ],
   "source": [
    "# Resample using 7-day period, Multiple Aggregation on sampled data\n",
    "users = u['user_id'].unique()\n",
    "adopt = []\n",
    "for i in users:\n",
    "    u_filter = u[u['user_id'] == i].set_index('time_stamp').resample(\"1D\").count() # 1 or 0 for every day\n",
    "    u_filter = u_filter.rolling(window=7).sum() # sum over 1 week\n",
    "    u_filter = u_filter.dropna()\n",
    "    adopt.append(any(u_filter['visited'].values >= 3))\n",
    "users_adopt = pd.DataFrame(list(zip(users, adopt))) # format: (1391, False)\n",
    "# Merge two tables: users and usage\n",
    "users_adopt.columns = ['object_id', 'adopt']\n",
    "df = m.merge(users_adopt, on='object_id', how='left')\n",
    "df.drop(['last_session_creation_time'], axis=1, inplace=True)\n",
    "df.head(3)"
   ]
  },
  {
   "cell_type": "markdown",
   "id": "82339d38",
   "metadata": {},
   "source": [
    "Not all users have usage information:"
   ]
  },
  {
   "cell_type": "code",
   "execution_count": 7,
   "id": "cfe784e4",
   "metadata": {},
   "outputs": [
    {
     "name": "stdout",
     "output_type": "stream",
     "text": [
      "No. of users: 12000\n",
      "No. of users with usage info: 8823\n"
     ]
    }
   ],
   "source": [
    "print(\"No. of users:\",len(m.object_id.unique()))\n",
    "print(\"No. of users with usage info:\",len(u.user_id.unique()))"
   ]
  },
  {
   "cell_type": "markdown",
   "id": "6012f3af",
   "metadata": {},
   "source": [
    "As a result of this, some users will have null label to be predicted. Such records will be the prediction set."
   ]
  },
  {
   "cell_type": "code",
   "execution_count": 8,
   "id": "5cc2f702",
   "metadata": {},
   "outputs": [
    {
     "name": "stdout",
     "output_type": "stream",
     "text": [
      "Train & test: (8823, 8)\n",
      "Predict: (3177, 8)\n"
     ]
    }
   ],
   "source": [
    "df_train_test = df.loc[df['adopt'].notnull()]\n",
    "df_predict = df.loc[df['adopt'].isnull()]\n",
    "print(\"Train & test:\",df_train_test.shape)\n",
    "print(\"Predict:\",df_predict.shape)"
   ]
  },
  {
   "cell_type": "code",
   "execution_count": 9,
   "id": "dd76b077",
   "metadata": {},
   "outputs": [
    {
     "data": {
      "text/html": [
       "<div>\n",
       "<style scoped>\n",
       "    .dataframe tbody tr th:only-of-type {\n",
       "        vertical-align: middle;\n",
       "    }\n",
       "\n",
       "    .dataframe tbody tr th {\n",
       "        vertical-align: top;\n",
       "    }\n",
       "\n",
       "    .dataframe thead th {\n",
       "        text-align: right;\n",
       "    }\n",
       "</style>\n",
       "<table border=\"1\" class=\"dataframe\">\n",
       "  <thead>\n",
       "    <tr style=\"text-align: right;\">\n",
       "      <th></th>\n",
       "      <th>object_id</th>\n",
       "      <th>creation_time</th>\n",
       "      <th>creation_source</th>\n",
       "      <th>opted_in_to_mailing_list</th>\n",
       "      <th>enabled_for_marketing_drip</th>\n",
       "      <th>org_id</th>\n",
       "      <th>invited_by_user_id</th>\n",
       "      <th>adopt</th>\n",
       "    </tr>\n",
       "  </thead>\n",
       "  <tbody>\n",
       "    <tr>\n",
       "      <th>0</th>\n",
       "      <td>1</td>\n",
       "      <td>2014-04-22 03:53:30</td>\n",
       "      <td>GUEST_INVITE</td>\n",
       "      <td>1</td>\n",
       "      <td>0</td>\n",
       "      <td>11</td>\n",
       "      <td>10803.0</td>\n",
       "      <td>0</td>\n",
       "    </tr>\n",
       "    <tr>\n",
       "      <th>1</th>\n",
       "      <td>2</td>\n",
       "      <td>2013-11-15 03:45:04</td>\n",
       "      <td>ORG_INVITE</td>\n",
       "      <td>0</td>\n",
       "      <td>0</td>\n",
       "      <td>1</td>\n",
       "      <td>316.0</td>\n",
       "      <td>1</td>\n",
       "    </tr>\n",
       "    <tr>\n",
       "      <th>2</th>\n",
       "      <td>3</td>\n",
       "      <td>2013-03-19 23:14:52</td>\n",
       "      <td>ORG_INVITE</td>\n",
       "      <td>0</td>\n",
       "      <td>0</td>\n",
       "      <td>94</td>\n",
       "      <td>1525.0</td>\n",
       "      <td>0</td>\n",
       "    </tr>\n",
       "    <tr>\n",
       "      <th>3</th>\n",
       "      <td>4</td>\n",
       "      <td>2013-05-21 08:09:28</td>\n",
       "      <td>GUEST_INVITE</td>\n",
       "      <td>0</td>\n",
       "      <td>0</td>\n",
       "      <td>1</td>\n",
       "      <td>5151.0</td>\n",
       "      <td>0</td>\n",
       "    </tr>\n",
       "    <tr>\n",
       "      <th>4</th>\n",
       "      <td>5</td>\n",
       "      <td>2013-01-17 10:14:20</td>\n",
       "      <td>GUEST_INVITE</td>\n",
       "      <td>0</td>\n",
       "      <td>0</td>\n",
       "      <td>193</td>\n",
       "      <td>5240.0</td>\n",
       "      <td>0</td>\n",
       "    </tr>\n",
       "  </tbody>\n",
       "</table>\n",
       "</div>"
      ],
      "text/plain": [
       "   object_id       creation_time creation_source  opted_in_to_mailing_list  \\\n",
       "0          1 2014-04-22 03:53:30    GUEST_INVITE                         1   \n",
       "1          2 2013-11-15 03:45:04      ORG_INVITE                         0   \n",
       "2          3 2013-03-19 23:14:52      ORG_INVITE                         0   \n",
       "3          4 2013-05-21 08:09:28    GUEST_INVITE                         0   \n",
       "4          5 2013-01-17 10:14:20    GUEST_INVITE                         0   \n",
       "\n",
       "   enabled_for_marketing_drip  org_id  invited_by_user_id  adopt  \n",
       "0                           0      11             10803.0      0  \n",
       "1                           0       1               316.0      1  \n",
       "2                           0      94              1525.0      0  \n",
       "3                           0       1              5151.0      0  \n",
       "4                           0     193              5240.0      0  "
      ]
     },
     "execution_count": 9,
     "metadata": {},
     "output_type": "execute_result"
    }
   ],
   "source": [
    "# Convert labels False/true to 0/1\n",
    "#df.loc[:, 'adopt'] = df['adopt'].map({False:0, True:1}) #, np.nan:0\n",
    "df['adopt'] = df['adopt'].map({False:0, True:1})\n",
    "df.dropna(subset=['adopt'], inplace=True)\n",
    "df['adopt'] = df['adopt'].astype(int) # make labels integer\n",
    "df['creation_time'] = pd.to_datetime(df['creation_time']) # to datetime\n",
    "df.head()"
   ]
  },
  {
   "cell_type": "markdown",
   "id": "33445e42",
   "metadata": {},
   "source": [
    "### Feature engineering\n",
    "Let's add seasonal information."
   ]
  },
  {
   "cell_type": "code",
   "execution_count": 10,
   "id": "1619eb32",
   "metadata": {},
   "outputs": [],
   "source": [
    "df['creation_month'] = df['creation_time'].dt.month\n",
    "df['creation_weekday'] = df['creation_time'].dt.weekday"
   ]
  },
  {
   "cell_type": "code",
   "execution_count": 11,
   "id": "5fe9e69a",
   "metadata": {},
   "outputs": [],
   "source": [
    "# mapping 'invited_by_user_id' => 'invited_by_user'\n",
    "invited = lambda rec: 0 if np.isnan(rec) else 1\n",
    "df['invited_by_user'] = df['invited_by_user_id'].apply(invited)\n",
    "df.drop(['creation_time','invited_by_user_id'], axis=1, inplace=True)\n",
    "df.set_index('object_id', inplace=True)"
   ]
  },
  {
   "cell_type": "code",
   "execution_count": 12,
   "id": "d116e529",
   "metadata": {},
   "outputs": [
    {
     "data": {
      "text/html": [
       "<div>\n",
       "<style scoped>\n",
       "    .dataframe tbody tr th:only-of-type {\n",
       "        vertical-align: middle;\n",
       "    }\n",
       "\n",
       "    .dataframe tbody tr th {\n",
       "        vertical-align: top;\n",
       "    }\n",
       "\n",
       "    .dataframe thead th {\n",
       "        text-align: right;\n",
       "    }\n",
       "</style>\n",
       "<table border=\"1\" class=\"dataframe\">\n",
       "  <thead>\n",
       "    <tr style=\"text-align: right;\">\n",
       "      <th></th>\n",
       "      <th>creation_source</th>\n",
       "      <th>opted_in_to_mailing_list</th>\n",
       "      <th>enabled_for_marketing_drip</th>\n",
       "      <th>org_id</th>\n",
       "      <th>adopt</th>\n",
       "      <th>creation_month</th>\n",
       "      <th>creation_weekday</th>\n",
       "      <th>invited_by_user</th>\n",
       "    </tr>\n",
       "    <tr>\n",
       "      <th>object_id</th>\n",
       "      <th></th>\n",
       "      <th></th>\n",
       "      <th></th>\n",
       "      <th></th>\n",
       "      <th></th>\n",
       "      <th></th>\n",
       "      <th></th>\n",
       "      <th></th>\n",
       "    </tr>\n",
       "  </thead>\n",
       "  <tbody>\n",
       "    <tr>\n",
       "      <th>1</th>\n",
       "      <td>GUEST_INVITE</td>\n",
       "      <td>1</td>\n",
       "      <td>0</td>\n",
       "      <td>11</td>\n",
       "      <td>0</td>\n",
       "      <td>4</td>\n",
       "      <td>1</td>\n",
       "      <td>1</td>\n",
       "    </tr>\n",
       "    <tr>\n",
       "      <th>2</th>\n",
       "      <td>ORG_INVITE</td>\n",
       "      <td>0</td>\n",
       "      <td>0</td>\n",
       "      <td>1</td>\n",
       "      <td>1</td>\n",
       "      <td>11</td>\n",
       "      <td>4</td>\n",
       "      <td>1</td>\n",
       "    </tr>\n",
       "    <tr>\n",
       "      <th>3</th>\n",
       "      <td>ORG_INVITE</td>\n",
       "      <td>0</td>\n",
       "      <td>0</td>\n",
       "      <td>94</td>\n",
       "      <td>0</td>\n",
       "      <td>3</td>\n",
       "      <td>1</td>\n",
       "      <td>1</td>\n",
       "    </tr>\n",
       "    <tr>\n",
       "      <th>4</th>\n",
       "      <td>GUEST_INVITE</td>\n",
       "      <td>0</td>\n",
       "      <td>0</td>\n",
       "      <td>1</td>\n",
       "      <td>0</td>\n",
       "      <td>5</td>\n",
       "      <td>1</td>\n",
       "      <td>1</td>\n",
       "    </tr>\n",
       "    <tr>\n",
       "      <th>5</th>\n",
       "      <td>GUEST_INVITE</td>\n",
       "      <td>0</td>\n",
       "      <td>0</td>\n",
       "      <td>193</td>\n",
       "      <td>0</td>\n",
       "      <td>1</td>\n",
       "      <td>3</td>\n",
       "      <td>1</td>\n",
       "    </tr>\n",
       "  </tbody>\n",
       "</table>\n",
       "</div>"
      ],
      "text/plain": [
       "          creation_source  opted_in_to_mailing_list  \\\n",
       "object_id                                             \n",
       "1            GUEST_INVITE                         1   \n",
       "2              ORG_INVITE                         0   \n",
       "3              ORG_INVITE                         0   \n",
       "4            GUEST_INVITE                         0   \n",
       "5            GUEST_INVITE                         0   \n",
       "\n",
       "           enabled_for_marketing_drip  org_id  adopt  creation_month  \\\n",
       "object_id                                                              \n",
       "1                                   0      11      0               4   \n",
       "2                                   0       1      1              11   \n",
       "3                                   0      94      0               3   \n",
       "4                                   0       1      0               5   \n",
       "5                                   0     193      0               1   \n",
       "\n",
       "           creation_weekday  invited_by_user  \n",
       "object_id                                     \n",
       "1                         1                1  \n",
       "2                         4                1  \n",
       "3                         1                1  \n",
       "4                         1                1  \n",
       "5                         3                1  "
      ]
     },
     "execution_count": 12,
     "metadata": {},
     "output_type": "execute_result"
    }
   ],
   "source": [
    "df.head()"
   ]
  },
  {
   "cell_type": "code",
   "execution_count": 13,
   "id": "4a2953fe",
   "metadata": {},
   "outputs": [
    {
     "data": {
      "text/plain": [
       "ORG_INVITE            3188\n",
       "SIGNUP                1898\n",
       "GUEST_INVITE          1588\n",
       "SIGNUP_GOOGLE_AUTH    1385\n",
       "PERSONAL_PROJECTS      764\n",
       "Name: creation_source, dtype: int64"
      ]
     },
     "execution_count": 13,
     "metadata": {},
     "output_type": "execute_result"
    }
   ],
   "source": [
    "df['creation_source'].value_counts()"
   ]
  },
  {
   "cell_type": "code",
   "execution_count": 14,
   "id": "f30a515a",
   "metadata": {},
   "outputs": [
    {
     "data": {
      "text/plain": [
       "0    6597\n",
       "1    2226\n",
       "Name: opted_in_to_mailing_list, dtype: int64"
      ]
     },
     "execution_count": 14,
     "metadata": {},
     "output_type": "execute_result"
    }
   ],
   "source": [
    "df['opted_in_to_mailing_list'].value_counts()"
   ]
  },
  {
   "cell_type": "code",
   "execution_count": 15,
   "id": "33def8cd",
   "metadata": {
    "scrolled": true
   },
   "outputs": [
    {
     "data": {
      "text/plain": [
       "0    7482\n",
       "1    1341\n",
       "Name: enabled_for_marketing_drip, dtype: int64"
      ]
     },
     "execution_count": 15,
     "metadata": {},
     "output_type": "execute_result"
    }
   ],
   "source": [
    "df['enabled_for_marketing_drip'].value_counts()"
   ]
  },
  {
   "cell_type": "code",
   "execution_count": 16,
   "id": "6ab6d37f",
   "metadata": {},
   "outputs": [
    {
     "data": {
      "text/plain": [
       "0      228\n",
       "1      172\n",
       "2      150\n",
       "3      125\n",
       "4      122\n",
       "      ... \n",
       "396      6\n",
       "400      6\n",
       "397      5\n",
       "386      4\n",
       "416      2\n",
       "Name: org_id, Length: 417, dtype: int64"
      ]
     },
     "execution_count": 16,
     "metadata": {},
     "output_type": "execute_result"
    }
   ],
   "source": [
    "df['org_id'].value_counts()"
   ]
  },
  {
   "cell_type": "markdown",
   "id": "2fd28323",
   "metadata": {},
   "source": [
    "### Encoding"
   ]
  },
  {
   "cell_type": "code",
   "execution_count": 17,
   "id": "d6b07ee6",
   "metadata": {},
   "outputs": [
    {
     "name": "stdout",
     "output_type": "stream",
     "text": [
      "(8823, 439)\n"
     ]
    },
    {
     "data": {
      "text/html": [
       "<div>\n",
       "<style scoped>\n",
       "    .dataframe tbody tr th:only-of-type {\n",
       "        vertical-align: middle;\n",
       "    }\n",
       "\n",
       "    .dataframe tbody tr th {\n",
       "        vertical-align: top;\n",
       "    }\n",
       "\n",
       "    .dataframe thead th {\n",
       "        text-align: right;\n",
       "    }\n",
       "</style>\n",
       "<table border=\"1\" class=\"dataframe\">\n",
       "  <thead>\n",
       "    <tr style=\"text-align: right;\">\n",
       "      <th></th>\n",
       "      <th>opted_in_to_mailing_list</th>\n",
       "      <th>enabled_for_marketing_drip</th>\n",
       "      <th>adopt</th>\n",
       "      <th>creation_weekday</th>\n",
       "      <th>invited_by_user</th>\n",
       "      <th>creation_source_GUEST_INVITE</th>\n",
       "      <th>creation_source_ORG_INVITE</th>\n",
       "      <th>creation_source_PERSONAL_PROJECTS</th>\n",
       "      <th>creation_source_SIGNUP</th>\n",
       "      <th>creation_source_SIGNUP_GOOGLE_AUTH</th>\n",
       "      <th>...</th>\n",
       "      <th>org_id_407</th>\n",
       "      <th>org_id_408</th>\n",
       "      <th>org_id_409</th>\n",
       "      <th>org_id_410</th>\n",
       "      <th>org_id_411</th>\n",
       "      <th>org_id_412</th>\n",
       "      <th>org_id_413</th>\n",
       "      <th>org_id_414</th>\n",
       "      <th>org_id_415</th>\n",
       "      <th>org_id_416</th>\n",
       "    </tr>\n",
       "    <tr>\n",
       "      <th>object_id</th>\n",
       "      <th></th>\n",
       "      <th></th>\n",
       "      <th></th>\n",
       "      <th></th>\n",
       "      <th></th>\n",
       "      <th></th>\n",
       "      <th></th>\n",
       "      <th></th>\n",
       "      <th></th>\n",
       "      <th></th>\n",
       "      <th></th>\n",
       "      <th></th>\n",
       "      <th></th>\n",
       "      <th></th>\n",
       "      <th></th>\n",
       "      <th></th>\n",
       "      <th></th>\n",
       "      <th></th>\n",
       "      <th></th>\n",
       "      <th></th>\n",
       "      <th></th>\n",
       "    </tr>\n",
       "  </thead>\n",
       "  <tbody>\n",
       "    <tr>\n",
       "      <th>1</th>\n",
       "      <td>1</td>\n",
       "      <td>0</td>\n",
       "      <td>0</td>\n",
       "      <td>1</td>\n",
       "      <td>1</td>\n",
       "      <td>1</td>\n",
       "      <td>0</td>\n",
       "      <td>0</td>\n",
       "      <td>0</td>\n",
       "      <td>0</td>\n",
       "      <td>...</td>\n",
       "      <td>0</td>\n",
       "      <td>0</td>\n",
       "      <td>0</td>\n",
       "      <td>0</td>\n",
       "      <td>0</td>\n",
       "      <td>0</td>\n",
       "      <td>0</td>\n",
       "      <td>0</td>\n",
       "      <td>0</td>\n",
       "      <td>0</td>\n",
       "    </tr>\n",
       "    <tr>\n",
       "      <th>2</th>\n",
       "      <td>0</td>\n",
       "      <td>0</td>\n",
       "      <td>1</td>\n",
       "      <td>4</td>\n",
       "      <td>1</td>\n",
       "      <td>0</td>\n",
       "      <td>1</td>\n",
       "      <td>0</td>\n",
       "      <td>0</td>\n",
       "      <td>0</td>\n",
       "      <td>...</td>\n",
       "      <td>0</td>\n",
       "      <td>0</td>\n",
       "      <td>0</td>\n",
       "      <td>0</td>\n",
       "      <td>0</td>\n",
       "      <td>0</td>\n",
       "      <td>0</td>\n",
       "      <td>0</td>\n",
       "      <td>0</td>\n",
       "      <td>0</td>\n",
       "    </tr>\n",
       "    <tr>\n",
       "      <th>3</th>\n",
       "      <td>0</td>\n",
       "      <td>0</td>\n",
       "      <td>0</td>\n",
       "      <td>1</td>\n",
       "      <td>1</td>\n",
       "      <td>0</td>\n",
       "      <td>1</td>\n",
       "      <td>0</td>\n",
       "      <td>0</td>\n",
       "      <td>0</td>\n",
       "      <td>...</td>\n",
       "      <td>0</td>\n",
       "      <td>0</td>\n",
       "      <td>0</td>\n",
       "      <td>0</td>\n",
       "      <td>0</td>\n",
       "      <td>0</td>\n",
       "      <td>0</td>\n",
       "      <td>0</td>\n",
       "      <td>0</td>\n",
       "      <td>0</td>\n",
       "    </tr>\n",
       "  </tbody>\n",
       "</table>\n",
       "<p>3 rows × 439 columns</p>\n",
       "</div>"
      ],
      "text/plain": [
       "           opted_in_to_mailing_list  enabled_for_marketing_drip  adopt  \\\n",
       "object_id                                                                \n",
       "1                                 1                           0      0   \n",
       "2                                 0                           0      1   \n",
       "3                                 0                           0      0   \n",
       "\n",
       "           creation_weekday  invited_by_user  creation_source_GUEST_INVITE  \\\n",
       "object_id                                                                    \n",
       "1                         1                1                             1   \n",
       "2                         4                1                             0   \n",
       "3                         1                1                             0   \n",
       "\n",
       "           creation_source_ORG_INVITE  creation_source_PERSONAL_PROJECTS  \\\n",
       "object_id                                                                  \n",
       "1                                   0                                  0   \n",
       "2                                   1                                  0   \n",
       "3                                   1                                  0   \n",
       "\n",
       "           creation_source_SIGNUP  creation_source_SIGNUP_GOOGLE_AUTH  ...  \\\n",
       "object_id                                                              ...   \n",
       "1                               0                                   0  ...   \n",
       "2                               0                                   0  ...   \n",
       "3                               0                                   0  ...   \n",
       "\n",
       "           org_id_407  org_id_408  org_id_409  org_id_410  org_id_411  \\\n",
       "object_id                                                               \n",
       "1                   0           0           0           0           0   \n",
       "2                   0           0           0           0           0   \n",
       "3                   0           0           0           0           0   \n",
       "\n",
       "           org_id_412  org_id_413  org_id_414  org_id_415  org_id_416  \n",
       "object_id                                                              \n",
       "1                   0           0           0           0           0  \n",
       "2                   0           0           0           0           0  \n",
       "3                   0           0           0           0           0  \n",
       "\n",
       "[3 rows x 439 columns]"
      ]
     },
     "execution_count": 17,
     "metadata": {},
     "output_type": "execute_result"
    }
   ],
   "source": [
    "# One-hot encoding based on data type\n",
    "df = pd.get_dummies(df, drop_first=False, columns=['creation_source','creation_month','org_id'])\n",
    "# 'org_id' is label-encoded\n",
    "print(df.shape)\n",
    "df.head(3)"
   ]
  },
  {
   "cell_type": "markdown",
   "id": "be70b31b",
   "metadata": {},
   "source": [
    "### Scaling"
   ]
  },
  {
   "cell_type": "code",
   "execution_count": 18,
   "id": "69a964b9",
   "metadata": {},
   "outputs": [],
   "source": [
    "#scale_cols = ['org_id']\n",
    "# now we scling all the data \n",
    "#scale = MinMaxScaler()\n",
    "#df[scale_cols] = scale.fit_transform(df[scale_cols]) # -1 to 1"
   ]
  },
  {
   "cell_type": "markdown",
   "id": "553a6840",
   "metadata": {},
   "source": [
    "### Independent and dependent variables, splitting"
   ]
  },
  {
   "cell_type": "code",
   "execution_count": 19,
   "id": "7f63b90e",
   "metadata": {},
   "outputs": [],
   "source": [
    "# independent and dependent variables\n",
    "X = df.drop('adopt',axis=1)\n",
    "y = df['adopt']"
   ]
  },
  {
   "cell_type": "code",
   "execution_count": 20,
   "id": "7e82068e",
   "metadata": {},
   "outputs": [
    {
     "name": "stdout",
     "output_type": "stream",
     "text": [
      "(6176, 438)\n",
      "(2647, 438)\n"
     ]
    }
   ],
   "source": [
    "X_train, X_test, y_train, y_test = train_test_split(X,y, test_size=0.3, random_state=0)\n",
    "print(X_train.shape)\n",
    "print(X_test.shape)"
   ]
  },
  {
   "cell_type": "markdown",
   "id": "a97bcc65",
   "metadata": {},
   "source": [
    "### Binary Prediction using Artificial Neural Network\n",
    "https://www.analyticsvidhya.com/blog/2021/10/customer-churn-prediction-using-artificial-neural-network/\n",
    "\n",
    "Now we have to define our model, - set the parameters and layers of the deep neural network which will be used for training the data."
   ]
  },
  {
   "cell_type": "code",
   "execution_count": 297,
   "id": "8be3b34f",
   "metadata": {},
   "outputs": [],
   "source": [
    "# define sequential NN model\n",
    "model = keras.Sequential([\n",
    "    keras.layers.Dense(438, input_shape=(None,438), activation='relu'), # input layer\n",
    "    keras.layers.Dense(219,activation = 'relu'),\n",
    "    keras.layers.Dropout(0.2),\n",
    "    keras.layers.Dense(50,activation = 'relu'),\n",
    "    keras.layers.Dropout(0.1),\n",
    "    keras.layers.Dense(10,activation = 'relu'),\n",
    "    keras.layers.Dense(5,activation = 'gelu'),\n",
    "    keras.layers.Dense(2,activation = 'relu'),\n",
    "    keras.layers.Dense(1, activation='sigmoid')]) # output layer, use sigmoid for binary output"
   ]
  },
  {
   "cell_type": "code",
   "execution_count": 298,
   "id": "51f868d5",
   "metadata": {},
   "outputs": [
    {
     "name": "stdout",
     "output_type": "stream",
     "text": [
      "Epoch 1/30\n",
      "WARNING:tensorflow:Model was constructed with shape (None, None, 438) for input KerasTensor(type_spec=TensorSpec(shape=(None, None, 438), dtype=tf.float32, name='dense_357_input'), name='dense_357_input', description=\"created by layer 'dense_357_input'\"), but it was called on an input with incompatible shape (32, 438).\n",
      "WARNING:tensorflow:Model was constructed with shape (None, None, 438) for input KerasTensor(type_spec=TensorSpec(shape=(None, None, 438), dtype=tf.float32, name='dense_357_input'), name='dense_357_input', description=\"created by layer 'dense_357_input'\"), but it was called on an input with incompatible shape (32, 438).\n",
      "193/193 [==============================] - 1s 3ms/step - loss: 0.4902 - accuracy: 0.8188 - auc: 0.5205\n",
      "Epoch 2/30\n",
      "193/193 [==============================] - 1s 3ms/step - loss: 0.4481 - accuracy: 0.8216 - auc: 0.6506\n",
      "Epoch 3/30\n",
      "193/193 [==============================] - 1s 3ms/step - loss: 0.4284 - accuracy: 0.8216 - auc: 0.7142\n",
      "Epoch 4/30\n",
      "193/193 [==============================] - 1s 3ms/step - loss: 0.4033 - accuracy: 0.8216 - auc: 0.7691\n",
      "Epoch 5/30\n",
      "193/193 [==============================] - 1s 3ms/step - loss: 0.3535 - accuracy: 0.8347 - auc: 0.8427\n",
      "Epoch 6/30\n",
      "193/193 [==============================] - 1s 3ms/step - loss: 0.2798 - accuracy: 0.8753 - auc: 0.9090\n",
      "Epoch 7/30\n",
      "193/193 [==============================] - 1s 3ms/step - loss: 0.2037 - accuracy: 0.9152 - auc: 0.9528\n",
      "Epoch 8/30\n",
      "193/193 [==============================] - 1s 3ms/step - loss: 0.1469 - accuracy: 0.9451 - auc: 0.9747\n",
      "Epoch 9/30\n",
      "193/193 [==============================] - 1s 3ms/step - loss: 0.1088 - accuracy: 0.9600 - auc: 0.9855\n",
      "Epoch 10/30\n",
      "193/193 [==============================] - 1s 3ms/step - loss: 0.0873 - accuracy: 0.9660 - auc: 0.9920\n",
      "Epoch 11/30\n",
      "193/193 [==============================] - 1s 3ms/step - loss: 0.0682 - accuracy: 0.9725 - auc: 0.9953\n",
      "Epoch 12/30\n",
      "193/193 [==============================] - 1s 3ms/step - loss: 0.0571 - accuracy: 0.9739 - auc: 0.9963\n",
      "Epoch 13/30\n",
      "193/193 [==============================] - 1s 3ms/step - loss: 0.0529 - accuracy: 0.9768 - auc: 0.9969\n",
      "Epoch 14/30\n",
      "193/193 [==============================] - 1s 3ms/step - loss: 0.0504 - accuracy: 0.9767 - auc: 0.9973\n",
      "Epoch 15/30\n",
      "193/193 [==============================] - 1s 3ms/step - loss: 0.0425 - accuracy: 0.9801 - auc: 0.9981\n",
      "Epoch 16/30\n",
      "193/193 [==============================] - 1s 3ms/step - loss: 0.0424 - accuracy: 0.9806 - auc: 0.9972\n",
      "Epoch 17/30\n",
      "193/193 [==============================] - 1s 3ms/step - loss: 0.0345 - accuracy: 0.9824 - auc: 0.9987\n",
      "Epoch 18/30\n",
      "193/193 [==============================] - 1s 3ms/step - loss: 0.0374 - accuracy: 0.9812 - auc: 0.9980\n",
      "Epoch 19/30\n",
      "193/193 [==============================] - 1s 3ms/step - loss: 0.0324 - accuracy: 0.9828 - auc: 0.9988\n",
      "Epoch 20/30\n",
      "193/193 [==============================] - 1s 3ms/step - loss: 0.0427 - accuracy: 0.9814 - auc: 0.9973\n",
      "Epoch 21/30\n",
      "193/193 [==============================] - 1s 3ms/step - loss: 0.0383 - accuracy: 0.9802 - auc: 0.9980\n",
      "Epoch 22/30\n",
      "193/193 [==============================] - 1s 3ms/step - loss: 0.0349 - accuracy: 0.9824 - auc: 0.9982\n",
      "Epoch 23/30\n",
      "193/193 [==============================] - 1s 3ms/step - loss: 0.0354 - accuracy: 0.9827 - auc: 0.9982\n",
      "Epoch 24/30\n",
      "193/193 [==============================] - 1s 3ms/step - loss: 0.0279 - accuracy: 0.9843 - auc: 0.9991\n",
      "Epoch 25/30\n",
      "193/193 [==============================] - 1s 3ms/step - loss: 0.0247 - accuracy: 0.9867 - auc: 0.9988\n",
      "Epoch 26/30\n",
      "193/193 [==============================] - 1s 3ms/step - loss: 0.0261 - accuracy: 0.9853 - auc: 0.9991\n",
      "Epoch 27/30\n",
      "193/193 [==============================] - 1s 3ms/step - loss: 0.0265 - accuracy: 0.9854 - auc: 0.9992\n",
      "Epoch 28/30\n",
      "193/193 [==============================] - 1s 3ms/step - loss: 0.0303 - accuracy: 0.9846 - auc: 0.9989\n",
      "Epoch 29/30\n",
      "193/193 [==============================] - 1s 3ms/step - loss: 0.0252 - accuracy: 0.9859 - auc: 0.9992\n",
      "Epoch 30/30\n",
      "193/193 [==============================] - 1s 3ms/step - loss: 0.0285 - accuracy: 0.9853 - auc: 0.9987\n"
     ]
    }
   ],
   "source": [
    "model.compile(optimizer = 'adam', loss = 'binary_crossentropy', metrics=['accuracy','AUC']) # compile neural net.\n",
    "history_model = model.fit(X_train, y_train, epochs=30) # fit our model to training data"
   ]
  },
  {
   "cell_type": "markdown",
   "id": "daf6f698",
   "metadata": {},
   "source": [
    "Here we define sequential model, in which the input, hidden and output layers are connected in a sequential manner. We define one input layer which contains all 20 columns as an input, second and third layer is hidden layers which contain 15, 10 hidden neurons and here we apply RelU activation function. Our last layer is the output layer, as our output is in the form of 1 and 0 so, we will use the sigmoid activation function.\n",
    "\n",
    "Now we compile our sequential model and fit the training data into our model."
   ]
  },
  {
   "cell_type": "markdown",
   "id": "0f3c4471",
   "metadata": {},
   "source": [
    "#### Evaluate our model"
   ]
  },
  {
   "cell_type": "code",
   "execution_count": 299,
   "id": "323ffb8e",
   "metadata": {
    "scrolled": true
   },
   "outputs": [
    {
     "name": "stdout",
     "output_type": "stream",
     "text": [
      "WARNING:tensorflow:Model was constructed with shape (None, None, 438) for input KerasTensor(type_spec=TensorSpec(shape=(None, None, 438), dtype=tf.float32, name='dense_357_input'), name='dense_357_input', description=\"created by layer 'dense_357_input'\"), but it was called on an input with incompatible shape (None, 438).\n",
      "83/83 [==============================] - 0s 2ms/step - loss: 2.7276 - accuracy: 0.7412 - auc: 0.5132\n"
     ]
    },
    {
     "data": {
      "text/plain": [
       "[2.727637767791748, 0.7412164807319641, 0.5131543874740601]"
      ]
     },
     "execution_count": 299,
     "metadata": {},
     "output_type": "execute_result"
    }
   ],
   "source": [
    "model.evaluate(X_test,y_test)"
   ]
  },
  {
   "cell_type": "code",
   "execution_count": 300,
   "id": "41f35634",
   "metadata": {},
   "outputs": [
    {
     "name": "stdout",
     "output_type": "stream",
     "text": [
      "{'verbose': 1, 'epochs': 30, 'steps': 193}\n",
      "{'loss': [0.4901769459247589, 0.44806838035583496, 0.4283888041973114, 0.4032585322856903, 0.3535172939300537, 0.27978572249412537, 0.2036772221326828, 0.1468811184167862, 0.1088123545050621, 0.08726123720407486, 0.06823623925447464, 0.05705944448709488, 0.05294201523065567, 0.05035858973860741, 0.04248552396893501, 0.04244757816195488, 0.03451607748866081, 0.03742272034287453, 0.032425180077552795, 0.0427202470600605, 0.038256965577602386, 0.03492016717791557, 0.03541092947125435, 0.02788064070045948, 0.024662181735038757, 0.026130281388759613, 0.02647489309310913, 0.030312402173876762, 0.02517806366086006, 0.028546815738081932], 'accuracy': [0.818814754486084, 0.8215673565864563, 0.8215673565864563, 0.8215673565864563, 0.8346826434135437, 0.8753238320350647, 0.9151554107666016, 0.9451100826263428, 0.9600064754486084, 0.9659973978996277, 0.9724740982055664, 0.9739313721656799, 0.9768458604812622, 0.9766839146614075, 0.9800841808319092, 0.9805699586868286, 0.9823510646820068, 0.981217622756958, 0.9828367829322815, 0.981379508972168, 0.9802461266517639, 0.9823510646820068, 0.9826748967170715, 0.984294056892395, 0.9867228269577026, 0.9852655529975891, 0.9854274392127991, 0.9846178889274597, 0.9859132170677185, 0.9852655529975891], 'auc': [0.52052903175354, 0.6505702137947083, 0.7142276167869568, 0.7690523862838745, 0.8427194952964783, 0.9090478420257568, 0.9528007507324219, 0.9746819734573364, 0.9855257272720337, 0.9919724464416504, 0.9952661395072937, 0.9962733387947083, 0.9969445466995239, 0.9973142743110657, 0.9981045126914978, 0.9971938133239746, 0.9987155795097351, 0.9980428814888, 0.9988069534301758, 0.9972927570343018, 0.9979581832885742, 0.9982339143753052, 0.9982340931892395, 0.9990749359130859, 0.9988281726837158, 0.9990907907485962, 0.999159574508667, 0.9989033937454224, 0.9992325305938721, 0.998671293258667]}\n"
     ]
    }
   ],
   "source": [
    "print(history_model.params)\n",
    "print(history_model.history)"
   ]
  },
  {
   "cell_type": "code",
   "execution_count": 301,
   "id": "a0b2ac2c",
   "metadata": {},
   "outputs": [
    {
     "data": {
      "image/png": "[encoded data removed]",
      "text/plain": [
       "<Figure size 432x288 with 1 Axes>"
      ]
     },
     "metadata": {
      "needs_background": "light"
     },
     "output_type": "display_data"
    }
   ],
   "source": [
    "# Plot training performance\n",
    "plt.plot(history_model.history['auc'])\n",
    "#plt.plot(history_model.history['val_auc'])\n",
    "plt.plot(history_model.history['accuracy'])\n",
    "#plt.plot(history_model.history['val_accuracy'])\n",
    "plt.legend(['AUC train', 'Accuracy train']);\n",
    "plt.xlabel('epoch');\n",
    "plt.ylabel('performance');"
   ]
  },
  {
   "cell_type": "markdown",
   "id": "29154f75",
   "metadata": {},
   "source": [
    "### Predict"
   ]
  },
  {
   "cell_type": "code",
   "execution_count": 302,
   "id": "de72edf2",
   "metadata": {},
   "outputs": [
    {
     "name": "stdout",
     "output_type": "stream",
     "text": [
      "WARNING:tensorflow:Model was constructed with shape (None, None, 438) for input KerasTensor(type_spec=TensorSpec(shape=(None, None, 438), dtype=tf.float32, name='dense_357_input'), name='dense_357_input', description=\"created by layer 'dense_357_input'\"), but it was called on an input with incompatible shape (None, 438).\n"
     ]
    },
    {
     "data": {
      "text/html": [
       "<div>\n",
       "<style scoped>\n",
       "    .dataframe tbody tr th:only-of-type {\n",
       "        vertical-align: middle;\n",
       "    }\n",
       "\n",
       "    .dataframe tbody tr th {\n",
       "        vertical-align: top;\n",
       "    }\n",
       "\n",
       "    .dataframe thead th {\n",
       "        text-align: right;\n",
       "    }\n",
       "</style>\n",
       "<table border=\"1\" class=\"dataframe\">\n",
       "  <thead>\n",
       "    <tr style=\"text-align: right;\">\n",
       "      <th></th>\n",
       "      <th>original_label</th>\n",
       "      <th>predicted_label</th>\n",
       "    </tr>\n",
       "    <tr>\n",
       "      <th>object_id</th>\n",
       "      <th></th>\n",
       "      <th></th>\n",
       "    </tr>\n",
       "  </thead>\n",
       "  <tbody>\n",
       "    <tr>\n",
       "      <th>1759</th>\n",
       "      <td>1</td>\n",
       "      <td>0</td>\n",
       "    </tr>\n",
       "    <tr>\n",
       "      <th>7994</th>\n",
       "      <td>0</td>\n",
       "      <td>0</td>\n",
       "    </tr>\n",
       "    <tr>\n",
       "      <th>7547</th>\n",
       "      <td>0</td>\n",
       "      <td>0</td>\n",
       "    </tr>\n",
       "    <tr>\n",
       "      <th>1865</th>\n",
       "      <td>1</td>\n",
       "      <td>1</td>\n",
       "    </tr>\n",
       "    <tr>\n",
       "      <th>8683</th>\n",
       "      <td>0</td>\n",
       "      <td>0</td>\n",
       "    </tr>\n",
       "    <tr>\n",
       "      <th>3604</th>\n",
       "      <td>0</td>\n",
       "      <td>0</td>\n",
       "    </tr>\n",
       "    <tr>\n",
       "      <th>10574</th>\n",
       "      <td>1</td>\n",
       "      <td>0</td>\n",
       "    </tr>\n",
       "    <tr>\n",
       "      <th>1168</th>\n",
       "      <td>0</td>\n",
       "      <td>0</td>\n",
       "    </tr>\n",
       "    <tr>\n",
       "      <th>10526</th>\n",
       "      <td>1</td>\n",
       "      <td>1</td>\n",
       "    </tr>\n",
       "    <tr>\n",
       "      <th>3636</th>\n",
       "      <td>0</td>\n",
       "      <td>0</td>\n",
       "    </tr>\n",
       "  </tbody>\n",
       "</table>\n",
       "</div>"
      ],
      "text/plain": [
       "           original_label  predicted_label\n",
       "object_id                                 \n",
       "1759                    1                0\n",
       "7994                    0                0\n",
       "7547                    0                0\n",
       "1865                    1                1\n",
       "8683                    0                0\n",
       "3604                    0                0\n",
       "10574                   1                0\n",
       "1168                    0                0\n",
       "10526                   1                1\n",
       "3636                    0                0"
      ]
     },
     "execution_count": 302,
     "metadata": {},
     "output_type": "execute_result"
    }
   ],
   "source": [
    "# predict the labels\n",
    "y_pred = model.predict(X_test)\n",
    "# unscaling the y_pred values \n",
    "y_pred_lis = []\n",
    "for i in y_pred:\n",
    "    if i > 0.5:\n",
    "        y_pred_lis.append(1)\n",
    "    else:\n",
    "        y_pred_lis.append(0)\n",
    "#print(y_pred_lis)\n",
    "\n",
    "#make dataframe for comparing the orignal and predicted values\n",
    "data = {'original_label':y_test, 'predicted_label':y_pred_lis}\n",
    "df_check = pd.DataFrame(data)\n",
    "df_check.head(10)"
   ]
  },
  {
   "cell_type": "code",
   "execution_count": 304,
   "id": "21dbdac8",
   "metadata": {
    "scrolled": true
   },
   "outputs": [
    {
     "name": "stdout",
     "output_type": "stream",
     "text": [
      "              precision    recall  f1-score   support\n",
      "\n",
      "           0       0.82      0.87      0.85      2152\n",
      "           1       0.24      0.17      0.20       495\n",
      "\n",
      "    accuracy                           0.74      2647\n",
      "   macro avg       0.53      0.52      0.52      2647\n",
      "weighted avg       0.71      0.74      0.72      2647\n",
      "\n"
     ]
    },
    {
     "data": {
      "image/png": "[encoded data removed]",
      "text/plain": [
       "<Figure size 144x144 with 2 Axes>"
      ]
     },
     "metadata": {
      "needs_background": "light"
     },
     "output_type": "display_data"
    }
   ],
   "source": [
    "# Performance metrics\n",
    "print(classification_report(y_test,y_pred_lis))\n",
    "# ploting the confusion matrix plot\n",
    "conf_mat = tf.math.confusion_matrix(labels=y_test,predictions=y_pred_lis)\n",
    "plt.figure(figsize = (2,2))\n",
    "seaborn.heatmap(conf_mat, annot=True,fmt='d')\n",
    "plt.xlabel('Predicted')\n",
    "plt.ylabel('True');"
   ]
  },
  {
   "cell_type": "code",
   "execution_count": null,
   "id": "43b004ea",
   "metadata": {},
   "outputs": [],
   "source": [
    "1793,118"
   ]
  },
  {
   "cell_type": "markdown",
   "id": "ce94b649",
   "metadata": {},
   "source": [
    "This is a strongly imbalanced set, presenting a difficulty for sequential NN model. In addition, the model is impossible to interpret. It is better to try tree-based ensemble models. Accuracy has increased after adding seasonal variables 'creation_month' and 'creation_weekday'."
   ]
  }
 ],
 "metadata": {
  "kernelspec": {
   "display_name": "Python 3 (ipykernel)",
   "language": "python",
   "name": "python3"
  },
  "language_info": {
   "codemirror_mode": {
    "name": "ipython",
    "version": 3
   },
   "file_extension": ".py",
   "mimetype": "text/x-python",
   "name": "python",
   "nbconvert_exporter": "python",
   "pygments_lexer": "ipython3",
   "version": "3.9.7"
  }
 },
 "nbformat": 4,
 "nbformat_minor": 5
}
