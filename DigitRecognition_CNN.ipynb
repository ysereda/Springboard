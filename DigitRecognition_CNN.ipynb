{
 "cells": [
  {
   "cell_type": "markdown",
   "metadata": {},
   "source": [
    "# Handwritten Digit Recognition app\n",
    "https://data-flair.training/blogs/python-deep-learning-project-handwritten-digit-recognition/\n",
    "\n",
    "Data: MNIST dataset\n",
    "\n",
    "Model: <a href=\"https://data-flair.training/blogs/convolutional-neural-networks-tutorial/\">Convolutional Neural Networks</a>\n",
    "\n",
    "Theory: <a href=\"https://www.linkedin.com/learning/neural-networks-and-convolutional-neural-networks-essential-training/neural-networks?autoAdvance=true&autoSkip=true&autoplay=true&resume=false&u=36492188\">\"Neural_Networks_and_Convolutional_Neural_Networks_Essential_Training\"</a> LinkedIn course by Jonathan Fernandes.\n",
    "\n",
    "Libraries: Keras, Tkinter for building GUI.\n",
    "\n",
    "In the end, a GUI is built where one can draw a digit and recognize it straight away. If the image is misclassified, one can provide correct label and save the handwritten image and label. Corrections can then be added to the main image dataset for model re-training."
   ]
  },
  {
   "cell_type": "markdown",
   "metadata": {},
   "source": [
    "## 1. Libraries and MNIST dataset\n",
    "MNIST dataset contains 60,000 training images of handwritten digits from 0 to 9 and 10,000 images for testing. Images have black background and white-gray digits. Digits are represented as a 28×28 matrix where each cell contains grayscale pixel value from 0 to 255. There are 10 classes, one for each digit.\n",
    "\n",
    "The Keras library already contains some datasets and MNIST is one of them. So we can easily import the dataset and start working with it. The `mnist.load_data()` method returns us the training data, its labels and also the testing data and its labels.\n",
    "#### Import packages"
   ]
  },
  {
   "cell_type": "code",
   "execution_count": 1,
   "metadata": {},
   "outputs": [],
   "source": [
    "%reset -f\n",
    "import os\n",
    "os.chdir('C:/Sereda/Lectures/Springboard/Projects/DigitRecognition_CNN')\n",
    "\n",
    "#pip install tensorflow\n",
    "#pip install keras\n",
    "#pip install pillow\n",
    "import numpy as np\n",
    "import matplotlib.pyplot as plt\n",
    "import pandas as pd # save image array to csv\n",
    "# to view plots in notebook\n",
    "%matplotlib inline\n",
    "\n",
    "import keras\n",
    "from keras.datasets import mnist\n",
    "from keras.models import Sequential\n",
    "from keras.layers import Dense, Dropout, Flatten\n",
    "from keras.layers import Conv2D, MaxPooling2D   # convolutional NNs\n",
    "from keras import backend as K\n",
    "#from keras import utils as np_utils\n",
    "#from tensorflow.keras import utils as np_utils\n",
    "#from keras.preprocessing.image import load_img, array_to_img\n",
    "from keras.utils.np_utils import to_categorical\n",
    "#import tensorflow as tf\n",
    "\n",
    "from PIL import Image, ImageGrab\n",
    "# Image augmentation\n",
    "from keras.preprocessing.image import ImageDataGenerator, array_to_img, img_to_array, load_img\n",
    "from keras.applications.inception_v3 import preprocess_input\n",
    "# GUI\n",
    "from keras.models import load_model\n",
    "from tkinter import *\n",
    "import tkinter as tk\n",
    "import win32gui"
   ]
  },
  {
   "cell_type": "markdown",
   "metadata": {},
   "source": [
    "#### Load the data"
   ]
  },
  {
   "cell_type": "code",
   "execution_count": 2,
   "metadata": {},
   "outputs": [
    {
     "name": "stdout",
     "output_type": "stream",
     "text": [
      "MNIST dataset\n",
      "X_train: (60000, 28, 28)\n",
      "y_train: (60000,)\n",
      "X_test: (10000, 28, 28)\n",
      "y_test: (10000,)\n"
     ]
    }
   ],
   "source": [
    "# the data, split between train and test sets\n",
    "print(\"MNIST dataset\")\n",
    "(X_train, y_train), (X_test, y_test) = mnist.load_data()\n",
    "print(\"X_train:\",X_train.shape)\n",
    "print(\"y_train:\",y_train.shape)\n",
    "print(\"X_test:\",X_test.shape)\n",
    "print(\"y_test:\",y_test.shape)"
   ]
  },
  {
   "cell_type": "markdown",
   "metadata": {},
   "source": [
    "#### Plot an image to see if data is correct"
   ]
  },
  {
   "cell_type": "code",
   "execution_count": 3,
   "metadata": {},
   "outputs": [
    {
     "data": {
      "image/png": "[encoded data removed]",
      "text/plain": [
       "<Figure size 432x288 with 1 Axes>"
      ]
     },
     "metadata": {
      "needs_background": "light"
     },
     "output_type": "display_data"
    },
    {
     "name": "stdout",
     "output_type": "stream",
     "text": [
      "Label = 5\n"
     ]
    }
   ],
   "source": [
    "n = 0 # image number\n",
    "img = X_train[n,:,:].astype('float32')/255\n",
    "plt.imshow(img, cmap='gray')\n",
    "plt.title(f'MNIST image {n}')\n",
    "plt.show()\n",
    "print(f\"Label = {y_train[n]}\")"
   ]
  },
  {
   "cell_type": "markdown",
   "metadata": {},
   "source": [
    "## 2. Preprocessing\n",
    "The image data cannot be fed directly into the model so we need to perform some operations and process the data to make it ready for our neural network. The dimension of the training data is (60000,28,28). The CNN model will require one more dimension so we reshape the matrix to shape (60000,28,28,1).\n",
    "#### Training data format"
   ]
  },
  {
   "cell_type": "code",
   "execution_count": 4,
   "metadata": {},
   "outputs": [
    {
     "name": "stdout",
     "output_type": "stream",
     "text": [
      "Images as 784-component vectors for training\n",
      "New training size, X_train: (60000, 784)\n",
      "New test size, X_test: (10000, 784)\n"
     ]
    }
   ],
   "source": [
    "# Keep image data as a matrix or convert to vector?\n",
    "mx = False # True/False: If false - as 28^2 vector for NN, if true - as 28 x 28 matrix for CNN\n",
    "sy = X_test.shape[1]; sx = X_test.shape[2]; # image sizes\n",
    "if mx:\n",
    "    print(f\"Images as {sy} x {sx} matrixes for training\")\n",
    "    input_shape = (sy, sx, 1)\n",
    "else:\n",
    "    print(f\"Images as {sy*sx}-component vectors for training\")\n",
    "    input_shape = (sy*sx, )\n",
    "    X_train = X_train.reshape(-1,sy*sx)\n",
    "    X_test = X_test.reshape(-1,sy*sx)\n",
    "    print(\"New training size, X_train:\",X_train.shape)\n",
    "    print(\"New test size, X_test:\",X_test.shape)"
   ]
  },
  {
   "cell_type": "markdown",
   "metadata": {},
   "source": [
    "#### Add manually labeled images\n",
    "If some corrections were saved during previous digit recognitions, read them to add to the training dataset. "
   ]
  },
  {
   "cell_type": "code",
   "execution_count": 757,
   "metadata": {},
   "outputs": [
    {
     "name": "stdout",
     "output_type": "stream",
     "text": [
      "Reading saved misclassified images with available labels: images.csv\n",
      "Adding manually labeled images to MNIST training set, X_labeled: (69, 784)\n",
      "New training size, X_train: (60069, 784)\n",
      "Reading saved correct labels: labels.csv\n",
      "Adding manual labels to MNIST training labels, y_labeled: (69, 1)\n",
      "New training labels size: (60069, 1)\n",
      "Last label: [0.]\n",
      "Last image:\n"
     ]
    },
    {
     "data": {
      "image/png": "[encoded data removed]",
      "text/plain": [
       "<Figure size 432x288 with 1 Axes>"
      ]
     },
     "metadata": {
      "needs_background": "light"
     },
     "output_type": "display_data"
    }
   ],
   "source": [
    "saved_images = 'images.csv' # (n, sy*sx) n vectors with sy*sx components of 0-255, no header\n",
    "saved_labels = 'labels.csv' # scalars, no header\n",
    "\n",
    "if os.path.exists(saved_images):\n",
    "    print(\"Reading saved misclassified images with available labels:\",saved_images)\n",
    "    X_labeled = pd.read_csv(saved_images, header=None)\n",
    "    print(\"Adding manually labeled images to MNIST training set, X_labeled:\",X_labeled.shape)\n",
    "    if mx:\n",
    "        X_train = np.concatenate( (X_train, np.array(X_labeled).reshape(-1,sy,sx)) )\n",
    "    else:\n",
    "        X_train = np.concatenate( (X_train, np.array(X_labeled)) )\n",
    "    print(\"New training size, X_train:\",X_train.shape)\n",
    "else: print(\"No saved labeled images\")\n",
    "\n",
    "if os.path.exists(saved_labels):\n",
    "    print(\"Reading saved correct labels:\",saved_labels)\n",
    "    y_labeled = pd.read_csv(saved_labels, header=None)\n",
    "    print(\"Adding manual labels to MNIST training labels, y_labeled:\",y_labeled.shape)\n",
    "    #y_train = np.concatenate( (y_train, np.array(y_labeled).reshape(-1)) )\n",
    "    # Do we need to add last dimension 1 to y_train?\n",
    "    y_train = np.concatenate((y_train.reshape(-1,1), np.array(y_labeled).ravel().reshape(-1,1)))\n",
    "    print(\"New training labels size:\",y_train.shape)\n",
    "else: print(\"No saved manual labels\")\n",
    "\n",
    "# Verify\n",
    "print(\"Last label:\",y_train[-1])\n",
    "print(\"Last image:\")\n",
    "plt.imshow(X_train.reshape(-1,sy,sx)[-1], cmap='gray');"
   ]
  },
  {
   "cell_type": "markdown",
   "metadata": {},
   "source": [
    "#### Scale predictors from 0 to 1 and one-hot encode labels"
   ]
  },
  {
   "cell_type": "code",
   "execution_count": 5,
   "metadata": {},
   "outputs": [
    {
     "name": "stdout",
     "output_type": "stream",
     "text": [
      "X_train: (60000, 784)\n",
      "X_test: (10000, 784)\n",
      "60000 train samples\n",
      "10000 test samples\n",
      "y_train: (60000, 10)\n",
      "y_test: (10000, 10)\n"
     ]
    }
   ],
   "source": [
    "X_train = X_train.astype('float32')/255 # Convert to float to avoid problems during rescaling to 0-1.\n",
    "# Could do 1-... to invert image and make white background with black digits.\n",
    "X_test = X_test.astype('float32')/255 # 1-...\n",
    "#print(\"min. X_train[0] =\",np.min(X_train[0])) # 0-1\n",
    "#print(\"max. X_train[0] =\",np.max(X_train[0]))\n",
    "print('X_train:', X_train.shape)\n",
    "print('X_test:', X_test.shape)\n",
    "\n",
    "print(X_train.shape[0], 'train samples')\n",
    "print(X_test.shape[0], 'test samples')\n",
    "\n",
    "# convert class vectors to binary class matrices\n",
    "num_classes=10   # 10 digits 0-9\n",
    "y_train = to_categorical(y_train, num_classes)\n",
    "y_test = to_categorical(y_test, num_classes)\n",
    "print('y_train:', y_train.shape)\n",
    "print('y_test:', y_test.shape)"
   ]
  },
  {
   "cell_type": "markdown",
   "metadata": {},
   "source": [
    "## 3. Neural Network models in Keras\n",
    "### 3.1 NN model"
   ]
  },
  {
   "cell_type": "code",
   "execution_count": 6,
   "metadata": {},
   "outputs": [
    {
     "name": "stdout",
     "output_type": "stream",
     "text": [
      "Model: \"sequential\"\n",
      "_________________________________________________________________\n",
      " Layer (type)                Output Shape              Param #   \n",
      "=================================================================\n",
      " dense (Dense)               (None, 50)                39250     \n",
      "                                                                 \n",
      " dense_1 (Dense)             (None, 50)                2550      \n",
      "                                                                 \n",
      " dense_2 (Dense)             (None, 10)                510       \n",
      "                                                                 \n",
      "=================================================================\n",
      "Total params: 42,310\n",
      "Trainable params: 42,310\n",
      "Non-trainable params: 0\n",
      "_________________________________________________________________\n",
      "Explanation of the number of weights:\n",
      "1st layer's parameters: 39250\n",
      "2nd layer's parameters: 2550\n",
      "output layer's parameters: 510\n"
     ]
    }
   ],
   "source": [
    "# Create model\n",
    "nn = Sequential()\n",
    "# Add the first hidden layer\n",
    "#nn.add(Dense(50, activation='relu', input_shape=(28*28,))) # 50 nodes, ReLU activation function, input_shape indicated only once\n",
    "nn.add(Dense(50, activation='relu', input_shape=(sy*sx,))) # 50 nodes, ReLU activation function, input_shape indicated only once\n",
    "# Add the second hidden layer\n",
    "nn.add(Dense(50, activation='relu'))\n",
    "# Add the output layer\n",
    "nn.add(Dense(10, activation='softmax'))\n",
    "\n",
    "# Compile model\n",
    "nn.compile(optimizer='adam', loss='categorical_crossentropy', metrics=['accuracy','AUC'])\n",
    "nn.summary()\n",
    "\n",
    "print(\"Explanation of the number of weights:\")\n",
    "print(\"1st layer's parameters:\",50*(sx*sy+1)) # Each of the 50 nodes of layer 1 takes sx*sy inputs (pixels here) +1 due to bias\n",
    "print(\"2nd layer's parameters:\",50*(50+1)) # Each of the 50 nodes of layer 2 takes 50 inputs + 1 bias\n",
    "print(\"output layer's parameters:\",num_classes*(50+1)) # Each of the 10 output classes takes 50 inputs + 1 bias"
   ]
  },
  {
   "cell_type": "markdown",
   "metadata": {},
   "source": [
    "### 3.2 Convolutional Neural Networks\n",
    "A CNN model generally consists of convolutional and pooling layers. It works better for data that are represented as grid structures,- this is the reason why CNN works well for image classification problems. One image is distinguishable from another by its spatial structure. Areas close to each other are highly significant for an image.\n",
    "\n",
    "However, fully connected neural networks typically don't work well on large images, since they don't scale well with image size. Example: 32 * 32 * 3 image = 3072 weights; 200 * 200 * 3 = 120000 weights. This large number of parameters can quickly lead to overfitting. One could work with smaller version of images, but one would lose information.\n",
    "\n",
    "The dropout layer is used to deactivate some of the neurons and while training, it reduces overfitting of the model.\n",
    "\n",
    "We will then compile the model with the Adadelta optimizer.\n",
    "However, beware of poor scaling of compute time with image size.\n",
    "\n",
    "#### Convolutions\n",
    "* <b>Kernel</b> (filter, or matrix): 3 x 3 or 5 x 5. Center element of the kernel is placed over the source pixel. The source pixel is then replaced with the sum of elemenwise products in the kernel and corresponding nearby source pixels.\n",
    "* Convolve it over the image in all possible ways.\n",
    "This gives 2D <b>activation map</b>. Convolving decreases the spatial size.\n",
    "\n",
    "<b>Zero Padding</b>\n",
    "\n",
    "Using n x n filter, we lose n-1 pixels in each of the 2 dimensions each time. To preserve the spatial size of the input (do not lose pixels), pad with 0's.\n",
    "\n",
    "F: size of filter<br>\n",
    "S: stride<br>\n",
    "N: size of image<br>\n",
    "P: amount of padding<br>\n",
    "The image output size is given by $\\frac{N-F+2P}{S}+1$\n",
    "\n",
    "#### Pooling\n",
    "<b>Max Pooling</b>\n",
    "\n",
    "Keep only a maximal value from each block, e.g. 2 x 2.\n",
    "\n",
    "<b>Average Pooling</b>\n",
    "\n",
    "Keep only an average value from each block.\n",
    "Why to use the pooling? To progressively reduce the size and chances of overfitting. Max pooling is more popular, as convolutions \"light up\" when they detect a particular feature in a region of an image. When downsampling, it makes sense to preserve the parts that were most activated.\n",
    "\n",
    "#### Dropout\n",
    "<b>Dropout</b> to prevent overfitting.\n",
    "* Randomly kill each neuron in layer of a training set with probability p, typically 0.5 (half of the neurons in a layer are dropped during the training). Therefore, the network cannot rely on activation of any set of hidden units, since they may be turned off at any time during tarining, and the model is forced to learn more general and more robust patterns from the data.\n",
    "We don't use dropout during validation of the data."
   ]
  },
  {
   "cell_type": "code",
   "execution_count": 7,
   "metadata": {},
   "outputs": [],
   "source": [
    "if mx:\n",
    "    cnn = Sequential()\n",
    "    cnn.add(Conv2D(32, kernel_size=(3, 3),activation='relu',input_shape=input_shape))\n",
    "    cnn.add(Conv2D(64, (3, 3), activation='relu'))\n",
    "    cnn.add(MaxPooling2D(pool_size=(2, 2)))\n",
    "    cnn.add(Dropout(0.25))\n",
    "    cnn.add(Flatten())\n",
    "    cnn.add(Dense(256, activation='relu'))\n",
    "    cnn.add(Dropout(0.5))\n",
    "    cnn.add(Dense(num_classes, activation='softmax'))\n",
    "    \n",
    "    # Compile model\n",
    "    cnn.compile(loss='categorical_crossentropy', optimizer='Adadelta', metrics=['accuracy']) #optimizer=tf.keras.optimizers.Adadelta()\n",
    "    cnn.summary()\n",
    "    \n",
    "    print(\"Explanation of the number of weights:\")\n",
    "    print(\"1st layer's parameters:\",32*((28-3+2*1)//3+1)) # convolutions*nodes: Filter size = 3, Padding = 1, Stride = 3\n",
    "    print(\"2nd layer's parameters:\", (32*((26-3+2*1)//3+1) + 1)*64)\n",
    "    print(\"6th layer's parameters:\", (9216+1)*256)\n",
    "    print(\"output layer's parameters:\", (256+1)*10)"
   ]
  },
  {
   "cell_type": "markdown",
   "metadata": {},
   "source": [
    "### 3.3 Choose / load / train / save the model"
   ]
  },
  {
   "cell_type": "code",
   "execution_count": 7,
   "metadata": {},
   "outputs": [
    {
     "name": "stdout",
     "output_type": "stream",
     "text": [
      "Reading model weights: nn.e200.h5\n"
     ]
    }
   ],
   "source": [
    "# Choose model\n",
    "if mx:\n",
    "    model = cnn\n",
    "    model_fn = 'cnn.e200.h5' # HDF5 format\n",
    "else:\n",
    "    model = nn\n",
    "    model_fn = 'nn.e200.h5'\n",
    "\n",
    "# If the model was previously trained, read the weights\n",
    "if os.path.isfile(model_fn):\n",
    "    print(\"Reading model weights:\",model_fn)\n",
    "    model.load_weights(model_fn)"
   ]
  },
  {
   "cell_type": "markdown",
   "metadata": {},
   "source": [
    "The `model.fit()` function of Keras will start the training of the model. It takes the <b>training data, validation data, epochs,</b> and <b>batch size</b>. It takes some time to train the model. After training, we save the weights and model definition in the ‘mnist.h5’ file."
   ]
  },
  {
   "cell_type": "code",
   "execution_count": 672,
   "metadata": {},
   "outputs": [
    {
     "name": "stdout",
     "output_type": "stream",
     "text": [
      "input_shape = (784,)\n",
      "X_train_sc: (60000, 784)\n",
      "X_test_sc: (10000, 784)\n"
     ]
    }
   ],
   "source": [
    "#print(\"input_shape =\",input_shape)\n",
    "#X_train_sc = X_train.reshape(-1,sy*sx)\n",
    "#X_test_sc = X_test.reshape(-1,sy*sx)\n",
    "#print(\"X_train_sc:\",X_train_sc.shape)\n",
    "#print(\"X_test_sc:\",X_test_sc.shape)"
   ]
  },
  {
   "cell_type": "code",
   "execution_count": 763,
   "metadata": {
    "collapsed": true
   },
   "outputs": [
    {
     "name": "stdout",
     "output_type": "stream",
     "text": [
      "Train model\n",
      "Epoch 1/200\n",
      "470/470 [==============================] - 1s 2ms/step - loss: 0.0078 - accuracy: 0.9988 - auc: 0.9998 - val_loss: 0.2570 - val_accuracy: 0.9747 - val_auc: 0.9917\n",
      "Epoch 2/200\n",
      "470/470 [==============================] - 1s 2ms/step - loss: 0.0024 - accuracy: 0.9994 - auc: 0.9999 - val_loss: 0.2819 - val_accuracy: 0.9724 - val_auc: 0.9904\n",
      "Epoch 3/200\n",
      "470/470 [==============================] - 1s 2ms/step - loss: 0.0048 - accuracy: 0.9985 - auc: 0.9999 - val_loss: 0.2590 - val_accuracy: 0.9751 - val_auc: 0.9915\n",
      "Epoch 4/200\n",
      "470/470 [==============================] - 1s 2ms/step - loss: 0.0034 - accuracy: 0.9989 - auc: 0.9999 - val_loss: 0.2557 - val_accuracy: 0.9757 - val_auc: 0.9914\n",
      "Epoch 5/200\n",
      "470/470 [==============================] - 1s 2ms/step - loss: 0.0022 - accuracy: 0.9992 - auc: 1.0000 - val_loss: 0.2578 - val_accuracy: 0.9735 - val_auc: 0.9915\n",
      "Epoch 6/200\n",
      "470/470 [==============================] - 1s 2ms/step - loss: 2.8345e-04 - accuracy: 1.0000 - auc: 1.0000 - val_loss: 0.2539 - val_accuracy: 0.9739 - val_auc: 0.9917\n",
      "Epoch 7/200\n",
      "470/470 [==============================] - 1s 2ms/step - loss: 0.0057 - accuracy: 0.9985 - auc: 0.9998 - val_loss: 0.2780 - val_accuracy: 0.9721 - val_auc: 0.9911\n",
      "Epoch 8/200\n",
      "302/470 [==================>...........] - ETA: 0s - loss: 0.0055 - accuracy: 0.9983 - auc: 0.9998"
     ]
    },
    {
     "ename": "KeyboardInterrupt",
     "evalue": "",
     "output_type": "error",
     "traceback": [
      "\u001b[1;31m---------------------------------------------------------------------------\u001b[0m",
      "\u001b[1;31mKeyboardInterrupt\u001b[0m                         Traceback (most recent call last)",
      "\u001b[1;32m~\\AppData\\Local\\Temp/ipykernel_12136/1194414702.py\u001b[0m in \u001b[0;36m<module>\u001b[1;34m\u001b[0m\n\u001b[0;32m      1\u001b[0m \u001b[0mprint\u001b[0m\u001b[1;33m(\u001b[0m\u001b[1;34m\"Train model\"\u001b[0m\u001b[1;33m)\u001b[0m\u001b[1;33m\u001b[0m\u001b[1;33m\u001b[0m\u001b[0m\n\u001b[0;32m      2\u001b[0m \u001b[1;31m#model.fit(X_train, y_train, epochs=1)\u001b[0m\u001b[1;33m\u001b[0m\u001b[1;33m\u001b[0m\u001b[0m\n\u001b[1;32m----> 3\u001b[1;33m \u001b[0mhistory_model\u001b[0m \u001b[1;33m=\u001b[0m \u001b[0mmodel\u001b[0m\u001b[1;33m.\u001b[0m\u001b[0mfit\u001b[0m\u001b[1;33m(\u001b[0m\u001b[0mX_train\u001b[0m\u001b[1;33m,\u001b[0m \u001b[0my_train\u001b[0m\u001b[1;33m,\u001b[0m \u001b[0mbatch_size\u001b[0m\u001b[1;33m=\u001b[0m\u001b[1;36m128\u001b[0m\u001b[1;33m,\u001b[0m \u001b[0mepochs\u001b[0m\u001b[1;33m=\u001b[0m\u001b[1;36m200\u001b[0m\u001b[1;33m,\u001b[0m \u001b[0mvalidation_data\u001b[0m\u001b[1;33m=\u001b[0m\u001b[1;33m(\u001b[0m\u001b[0mX_test\u001b[0m\u001b[1;33m,\u001b[0m \u001b[0my_test\u001b[0m\u001b[1;33m)\u001b[0m\u001b[1;33m,\u001b[0m \u001b[0mverbose\u001b[0m\u001b[1;33m=\u001b[0m\u001b[1;36m1\u001b[0m\u001b[1;33m)\u001b[0m\u001b[1;33m;\u001b[0m\u001b[1;33m\u001b[0m\u001b[1;33m\u001b[0m\u001b[0m\n\u001b[0m",
      "\u001b[1;32m~\\anaconda3\\lib\\site-packages\\keras\\utils\\traceback_utils.py\u001b[0m in \u001b[0;36merror_handler\u001b[1;34m(*args, **kwargs)\u001b[0m\n\u001b[0;32m     62\u001b[0m     \u001b[0mfiltered_tb\u001b[0m \u001b[1;33m=\u001b[0m \u001b[1;32mNone\u001b[0m\u001b[1;33m\u001b[0m\u001b[1;33m\u001b[0m\u001b[0m\n\u001b[0;32m     63\u001b[0m     \u001b[1;32mtry\u001b[0m\u001b[1;33m:\u001b[0m\u001b[1;33m\u001b[0m\u001b[1;33m\u001b[0m\u001b[0m\n\u001b[1;32m---> 64\u001b[1;33m       \u001b[1;32mreturn\u001b[0m \u001b[0mfn\u001b[0m\u001b[1;33m(\u001b[0m\u001b[1;33m*\u001b[0m\u001b[0margs\u001b[0m\u001b[1;33m,\u001b[0m \u001b[1;33m**\u001b[0m\u001b[0mkwargs\u001b[0m\u001b[1;33m)\u001b[0m\u001b[1;33m\u001b[0m\u001b[1;33m\u001b[0m\u001b[0m\n\u001b[0m\u001b[0;32m     65\u001b[0m     \u001b[1;32mexcept\u001b[0m \u001b[0mException\u001b[0m \u001b[1;32mas\u001b[0m \u001b[0me\u001b[0m\u001b[1;33m:\u001b[0m  \u001b[1;31m# pylint: disable=broad-except\u001b[0m\u001b[1;33m\u001b[0m\u001b[1;33m\u001b[0m\u001b[0m\n\u001b[0;32m     66\u001b[0m       \u001b[0mfiltered_tb\u001b[0m \u001b[1;33m=\u001b[0m \u001b[0m_process_traceback_frames\u001b[0m\u001b[1;33m(\u001b[0m\u001b[0me\u001b[0m\u001b[1;33m.\u001b[0m\u001b[0m__traceback__\u001b[0m\u001b[1;33m)\u001b[0m\u001b[1;33m\u001b[0m\u001b[1;33m\u001b[0m\u001b[0m\n",
      "\u001b[1;32m~\\anaconda3\\lib\\site-packages\\keras\\engine\\training.py\u001b[0m in \u001b[0;36mfit\u001b[1;34m(self, x, y, batch_size, epochs, verbose, callbacks, validation_split, validation_data, shuffle, class_weight, sample_weight, initial_epoch, steps_per_epoch, validation_steps, validation_batch_size, validation_freq, max_queue_size, workers, use_multiprocessing)\u001b[0m\n\u001b[0;32m   1382\u001b[0m                 _r=1):\n\u001b[0;32m   1383\u001b[0m               \u001b[0mcallbacks\u001b[0m\u001b[1;33m.\u001b[0m\u001b[0mon_train_batch_begin\u001b[0m\u001b[1;33m(\u001b[0m\u001b[0mstep\u001b[0m\u001b[1;33m)\u001b[0m\u001b[1;33m\u001b[0m\u001b[1;33m\u001b[0m\u001b[0m\n\u001b[1;32m-> 1384\u001b[1;33m               \u001b[0mtmp_logs\u001b[0m \u001b[1;33m=\u001b[0m \u001b[0mself\u001b[0m\u001b[1;33m.\u001b[0m\u001b[0mtrain_function\u001b[0m\u001b[1;33m(\u001b[0m\u001b[0miterator\u001b[0m\u001b[1;33m)\u001b[0m\u001b[1;33m\u001b[0m\u001b[1;33m\u001b[0m\u001b[0m\n\u001b[0m\u001b[0;32m   1385\u001b[0m               \u001b[1;32mif\u001b[0m \u001b[0mdata_handler\u001b[0m\u001b[1;33m.\u001b[0m\u001b[0mshould_sync\u001b[0m\u001b[1;33m:\u001b[0m\u001b[1;33m\u001b[0m\u001b[1;33m\u001b[0m\u001b[0m\n\u001b[0;32m   1386\u001b[0m                 \u001b[0mcontext\u001b[0m\u001b[1;33m.\u001b[0m\u001b[0masync_wait\u001b[0m\u001b[1;33m(\u001b[0m\u001b[1;33m)\u001b[0m\u001b[1;33m\u001b[0m\u001b[1;33m\u001b[0m\u001b[0m\n",
      "\u001b[1;32m~\\anaconda3\\lib\\site-packages\\tensorflow\\python\\util\\traceback_utils.py\u001b[0m in \u001b[0;36merror_handler\u001b[1;34m(*args, **kwargs)\u001b[0m\n\u001b[0;32m    148\u001b[0m     \u001b[0mfiltered_tb\u001b[0m \u001b[1;33m=\u001b[0m \u001b[1;32mNone\u001b[0m\u001b[1;33m\u001b[0m\u001b[1;33m\u001b[0m\u001b[0m\n\u001b[0;32m    149\u001b[0m     \u001b[1;32mtry\u001b[0m\u001b[1;33m:\u001b[0m\u001b[1;33m\u001b[0m\u001b[1;33m\u001b[0m\u001b[0m\n\u001b[1;32m--> 150\u001b[1;33m       \u001b[1;32mreturn\u001b[0m \u001b[0mfn\u001b[0m\u001b[1;33m(\u001b[0m\u001b[1;33m*\u001b[0m\u001b[0margs\u001b[0m\u001b[1;33m,\u001b[0m \u001b[1;33m**\u001b[0m\u001b[0mkwargs\u001b[0m\u001b[1;33m)\u001b[0m\u001b[1;33m\u001b[0m\u001b[1;33m\u001b[0m\u001b[0m\n\u001b[0m\u001b[0;32m    151\u001b[0m     \u001b[1;32mexcept\u001b[0m \u001b[0mException\u001b[0m \u001b[1;32mas\u001b[0m \u001b[0me\u001b[0m\u001b[1;33m:\u001b[0m\u001b[1;33m\u001b[0m\u001b[1;33m\u001b[0m\u001b[0m\n\u001b[0;32m    152\u001b[0m       \u001b[0mfiltered_tb\u001b[0m \u001b[1;33m=\u001b[0m \u001b[0m_process_traceback_frames\u001b[0m\u001b[1;33m(\u001b[0m\u001b[0me\u001b[0m\u001b[1;33m.\u001b[0m\u001b[0m__traceback__\u001b[0m\u001b[1;33m)\u001b[0m\u001b[1;33m\u001b[0m\u001b[1;33m\u001b[0m\u001b[0m\n",
      "\u001b[1;32m~\\anaconda3\\lib\\site-packages\\tensorflow\\python\\eager\\def_function.py\u001b[0m in \u001b[0;36m__call__\u001b[1;34m(self, *args, **kwds)\u001b[0m\n\u001b[0;32m    913\u001b[0m \u001b[1;33m\u001b[0m\u001b[0m\n\u001b[0;32m    914\u001b[0m       \u001b[1;32mwith\u001b[0m \u001b[0mOptionalXlaContext\u001b[0m\u001b[1;33m(\u001b[0m\u001b[0mself\u001b[0m\u001b[1;33m.\u001b[0m\u001b[0m_jit_compile\u001b[0m\u001b[1;33m)\u001b[0m\u001b[1;33m:\u001b[0m\u001b[1;33m\u001b[0m\u001b[1;33m\u001b[0m\u001b[0m\n\u001b[1;32m--> 915\u001b[1;33m         \u001b[0mresult\u001b[0m \u001b[1;33m=\u001b[0m \u001b[0mself\u001b[0m\u001b[1;33m.\u001b[0m\u001b[0m_call\u001b[0m\u001b[1;33m(\u001b[0m\u001b[1;33m*\u001b[0m\u001b[0margs\u001b[0m\u001b[1;33m,\u001b[0m \u001b[1;33m**\u001b[0m\u001b[0mkwds\u001b[0m\u001b[1;33m)\u001b[0m\u001b[1;33m\u001b[0m\u001b[1;33m\u001b[0m\u001b[0m\n\u001b[0m\u001b[0;32m    916\u001b[0m \u001b[1;33m\u001b[0m\u001b[0m\n\u001b[0;32m    917\u001b[0m       \u001b[0mnew_tracing_count\u001b[0m \u001b[1;33m=\u001b[0m \u001b[0mself\u001b[0m\u001b[1;33m.\u001b[0m\u001b[0mexperimental_get_tracing_count\u001b[0m\u001b[1;33m(\u001b[0m\u001b[1;33m)\u001b[0m\u001b[1;33m\u001b[0m\u001b[1;33m\u001b[0m\u001b[0m\n",
      "\u001b[1;32m~\\anaconda3\\lib\\site-packages\\tensorflow\\python\\eager\\def_function.py\u001b[0m in \u001b[0;36m_call\u001b[1;34m(self, *args, **kwds)\u001b[0m\n\u001b[0;32m    945\u001b[0m       \u001b[1;31m# In this case we have created variables on the first call, so we run the\u001b[0m\u001b[1;33m\u001b[0m\u001b[1;33m\u001b[0m\u001b[0m\n\u001b[0;32m    946\u001b[0m       \u001b[1;31m# defunned version which is guaranteed to never create variables.\u001b[0m\u001b[1;33m\u001b[0m\u001b[1;33m\u001b[0m\u001b[0m\n\u001b[1;32m--> 947\u001b[1;33m       \u001b[1;32mreturn\u001b[0m \u001b[0mself\u001b[0m\u001b[1;33m.\u001b[0m\u001b[0m_stateless_fn\u001b[0m\u001b[1;33m(\u001b[0m\u001b[1;33m*\u001b[0m\u001b[0margs\u001b[0m\u001b[1;33m,\u001b[0m \u001b[1;33m**\u001b[0m\u001b[0mkwds\u001b[0m\u001b[1;33m)\u001b[0m  \u001b[1;31m# pylint: disable=not-callable\u001b[0m\u001b[1;33m\u001b[0m\u001b[1;33m\u001b[0m\u001b[0m\n\u001b[0m\u001b[0;32m    948\u001b[0m     \u001b[1;32melif\u001b[0m \u001b[0mself\u001b[0m\u001b[1;33m.\u001b[0m\u001b[0m_stateful_fn\u001b[0m \u001b[1;32mis\u001b[0m \u001b[1;32mnot\u001b[0m \u001b[1;32mNone\u001b[0m\u001b[1;33m:\u001b[0m\u001b[1;33m\u001b[0m\u001b[1;33m\u001b[0m\u001b[0m\n\u001b[0;32m    949\u001b[0m       \u001b[1;31m# Release the lock early so that multiple threads can perform the call\u001b[0m\u001b[1;33m\u001b[0m\u001b[1;33m\u001b[0m\u001b[0m\n",
      "\u001b[1;32m~\\anaconda3\\lib\\site-packages\\tensorflow\\python\\eager\\function.py\u001b[0m in \u001b[0;36m__call__\u001b[1;34m(self, *args, **kwargs)\u001b[0m\n\u001b[0;32m   2954\u001b[0m       (graph_function,\n\u001b[0;32m   2955\u001b[0m        filtered_flat_args) = self._maybe_define_function(args, kwargs)\n\u001b[1;32m-> 2956\u001b[1;33m     return graph_function._call_flat(\n\u001b[0m\u001b[0;32m   2957\u001b[0m         filtered_flat_args, captured_inputs=graph_function.captured_inputs)  # pylint: disable=protected-access\n\u001b[0;32m   2958\u001b[0m \u001b[1;33m\u001b[0m\u001b[0m\n",
      "\u001b[1;32m~\\anaconda3\\lib\\site-packages\\tensorflow\\python\\eager\\function.py\u001b[0m in \u001b[0;36m_call_flat\u001b[1;34m(self, args, captured_inputs, cancellation_manager)\u001b[0m\n\u001b[0;32m   1851\u001b[0m         and executing_eagerly):\n\u001b[0;32m   1852\u001b[0m       \u001b[1;31m# No tape is watching; skip to running the function.\u001b[0m\u001b[1;33m\u001b[0m\u001b[1;33m\u001b[0m\u001b[0m\n\u001b[1;32m-> 1853\u001b[1;33m       return self._build_call_outputs(self._inference_function.call(\n\u001b[0m\u001b[0;32m   1854\u001b[0m           ctx, args, cancellation_manager=cancellation_manager))\n\u001b[0;32m   1855\u001b[0m     forward_backward = self._select_forward_and_backward_functions(\n",
      "\u001b[1;32m~\\anaconda3\\lib\\site-packages\\tensorflow\\python\\eager\\function.py\u001b[0m in \u001b[0;36mcall\u001b[1;34m(self, ctx, args, cancellation_manager)\u001b[0m\n\u001b[0;32m    497\u001b[0m       \u001b[1;32mwith\u001b[0m \u001b[0m_InterpolateFunctionError\u001b[0m\u001b[1;33m(\u001b[0m\u001b[0mself\u001b[0m\u001b[1;33m)\u001b[0m\u001b[1;33m:\u001b[0m\u001b[1;33m\u001b[0m\u001b[1;33m\u001b[0m\u001b[0m\n\u001b[0;32m    498\u001b[0m         \u001b[1;32mif\u001b[0m \u001b[0mcancellation_manager\u001b[0m \u001b[1;32mis\u001b[0m \u001b[1;32mNone\u001b[0m\u001b[1;33m:\u001b[0m\u001b[1;33m\u001b[0m\u001b[1;33m\u001b[0m\u001b[0m\n\u001b[1;32m--> 499\u001b[1;33m           outputs = execute.execute(\n\u001b[0m\u001b[0;32m    500\u001b[0m               \u001b[0mstr\u001b[0m\u001b[1;33m(\u001b[0m\u001b[0mself\u001b[0m\u001b[1;33m.\u001b[0m\u001b[0msignature\u001b[0m\u001b[1;33m.\u001b[0m\u001b[0mname\u001b[0m\u001b[1;33m)\u001b[0m\u001b[1;33m,\u001b[0m\u001b[1;33m\u001b[0m\u001b[1;33m\u001b[0m\u001b[0m\n\u001b[0;32m    501\u001b[0m               \u001b[0mnum_outputs\u001b[0m\u001b[1;33m=\u001b[0m\u001b[0mself\u001b[0m\u001b[1;33m.\u001b[0m\u001b[0m_num_outputs\u001b[0m\u001b[1;33m,\u001b[0m\u001b[1;33m\u001b[0m\u001b[1;33m\u001b[0m\u001b[0m\n",
      "\u001b[1;32m~\\anaconda3\\lib\\site-packages\\tensorflow\\python\\eager\\execute.py\u001b[0m in \u001b[0;36mquick_execute\u001b[1;34m(op_name, num_outputs, inputs, attrs, ctx, name)\u001b[0m\n\u001b[0;32m     52\u001b[0m   \u001b[1;32mtry\u001b[0m\u001b[1;33m:\u001b[0m\u001b[1;33m\u001b[0m\u001b[1;33m\u001b[0m\u001b[0m\n\u001b[0;32m     53\u001b[0m     \u001b[0mctx\u001b[0m\u001b[1;33m.\u001b[0m\u001b[0mensure_initialized\u001b[0m\u001b[1;33m(\u001b[0m\u001b[1;33m)\u001b[0m\u001b[1;33m\u001b[0m\u001b[1;33m\u001b[0m\u001b[0m\n\u001b[1;32m---> 54\u001b[1;33m     tensors = pywrap_tfe.TFE_Py_Execute(ctx._handle, device_name, op_name,\n\u001b[0m\u001b[0;32m     55\u001b[0m                                         inputs, attrs, num_outputs)\n\u001b[0;32m     56\u001b[0m   \u001b[1;32mexcept\u001b[0m \u001b[0mcore\u001b[0m\u001b[1;33m.\u001b[0m\u001b[0m_NotOkStatusException\u001b[0m \u001b[1;32mas\u001b[0m \u001b[0me\u001b[0m\u001b[1;33m:\u001b[0m\u001b[1;33m\u001b[0m\u001b[1;33m\u001b[0m\u001b[0m\n",
      "\u001b[1;31mKeyboardInterrupt\u001b[0m: "
     ]
    }
   ],
   "source": [
    "print(\"Train model\")\n",
    "#model.fit(X_train, y_train, epochs=1)\n",
    "history_model = model.fit(X_train, y_train, batch_size=128, epochs=200, validation_data=(X_test, y_test), verbose=1);\n",
    "print(history_model.params)\n",
    "print(history_model.history)\n",
    "pd.DataFrame(history_model.history).to_csv('performance/nn_relu50_relu50.csv', index=None) # Save training performance"
   ]
  },
  {
   "cell_type": "code",
   "execution_count": 455,
   "metadata": {},
   "outputs": [
    {
     "name": "stdout",
     "output_type": "stream",
     "text": [
      "Save model: cnn.e200.h5\n"
     ]
    }
   ],
   "source": [
    "print(\"Save model:\", model_fn)\n",
    "model.save(model_fn)"
   ]
  },
  {
   "cell_type": "markdown",
   "metadata": {},
   "source": [
    "### 3.4. Evaluate the model\n",
    "We have 10,000 images in our dataset which will be used to evaluate how good our model works. The testing data was not involved in the training of the data therefore, it is new data for our model. The MNIST dataset is well balanced so we can get around 99% accuracy."
   ]
  },
  {
   "cell_type": "code",
   "execution_count": 8,
   "metadata": {},
   "outputs": [
    {
     "data": {
      "text/html": [
       "<div>\n",
       "<style scoped>\n",
       "    .dataframe tbody tr th:only-of-type {\n",
       "        vertical-align: middle;\n",
       "    }\n",
       "\n",
       "    .dataframe tbody tr th {\n",
       "        vertical-align: top;\n",
       "    }\n",
       "\n",
       "    .dataframe thead th {\n",
       "        text-align: right;\n",
       "    }\n",
       "</style>\n",
       "<table border=\"1\" class=\"dataframe\">\n",
       "  <thead>\n",
       "    <tr style=\"text-align: right;\">\n",
       "      <th></th>\n",
       "      <th>loss</th>\n",
       "      <th>accuracy</th>\n",
       "      <th>auc</th>\n",
       "      <th>val_loss</th>\n",
       "      <th>val_accuracy</th>\n",
       "      <th>val_auc</th>\n",
       "    </tr>\n",
       "  </thead>\n",
       "  <tbody>\n",
       "    <tr>\n",
       "      <th>0</th>\n",
       "      <td>0.172785</td>\n",
       "      <td>0.949300</td>\n",
       "      <td>0.996970</td>\n",
       "      <td>0.147412</td>\n",
       "      <td>0.9533</td>\n",
       "      <td>0.997827</td>\n",
       "    </tr>\n",
       "    <tr>\n",
       "      <th>1</th>\n",
       "      <td>0.130231</td>\n",
       "      <td>0.961433</td>\n",
       "      <td>0.998029</td>\n",
       "      <td>0.129135</td>\n",
       "      <td>0.9614</td>\n",
       "      <td>0.997835</td>\n",
       "    </tr>\n",
       "  </tbody>\n",
       "</table>\n",
       "</div>"
      ],
      "text/plain": [
       "       loss  accuracy       auc  val_loss  val_accuracy   val_auc\n",
       "0  0.172785  0.949300  0.996970  0.147412        0.9533  0.997827\n",
       "1  0.130231  0.961433  0.998029  0.129135        0.9614  0.997835"
      ]
     },
     "execution_count": 8,
     "metadata": {},
     "output_type": "execute_result"
    }
   ],
   "source": [
    "# NN model training history\n",
    "try: history_model.head(1)\n",
    "except NameError:\n",
    "    history_model = pd.read_csv('performance/nn_relu50_relu50.csv', header='infer')\n",
    "history_model.head(2)"
   ]
  },
  {
   "cell_type": "code",
   "execution_count": 9,
   "metadata": {},
   "outputs": [
    {
     "data": {
      "image/png": "[encoded data removed]",
      "text/plain": [
       "<Figure size 432x288 with 1 Axes>"
      ]
     },
     "metadata": {
      "needs_background": "light"
     },
     "output_type": "display_data"
    }
   ],
   "source": [
    "# Plot training performance\n",
    "plt.plot(history_model['auc'])\n",
    "plt.plot(history_model['val_auc'])\n",
    "plt.plot(history_model['accuracy'])\n",
    "plt.plot(history_model['val_accuracy'])\n",
    "plt.legend(['AUC train', 'AUC test', 'Accuracy train', 'Accuracy test']);\n",
    "plt.xlabel('epoch');\n",
    "plt.ylabel('performance');"
   ]
  },
  {
   "cell_type": "code",
   "execution_count": 10,
   "metadata": {},
   "outputs": [
    {
     "name": "stdout",
     "output_type": "stream",
     "text": [
      "Test loss: 0.24559350311756134\n",
      "Test accuracy: 0.9758999943733215\n"
     ]
    }
   ],
   "source": [
    "score = model.evaluate(X_test, y_test, verbose=0)\n",
    "print('Test loss:', score[0])\n",
    "print('Test accuracy:', score[1]) # nn.e200.h5"
   ]
  },
  {
   "cell_type": "code",
   "execution_count": 544,
   "metadata": {},
   "outputs": [
    {
     "name": "stdout",
     "output_type": "stream",
     "text": [
      "Test loss: 0.11838948726654053\n",
      "Test accuracy: 0.9645000100135803\n"
     ]
    }
   ],
   "source": [
    "# mx==True\n",
    "score = model.evaluate(X_test, y_test, verbose=0)\n",
    "print('Test loss:', score[0])\n",
    "print('Test accuracy:', score[1]) # cnn.e200.h5"
   ]
  },
  {
   "cell_type": "markdown",
   "metadata": {},
   "source": [
    "### 3.5. Enhancements to CNNs\n",
    "* <b>Image augmentation</b>: Taking images in training set and manipulating them to create many altered versions of the same image. There are more images for our model to train on.\n",
    "Image manipulations make our model more robust. The distortions are random combinations of shifts, scaling, skewing, and compression."
   ]
  },
  {
   "cell_type": "code",
   "execution_count": 12,
   "metadata": {},
   "outputs": [],
   "source": [
    "train_datagen = ImageDataGenerator(\n",
    "    preprocessing_function=preprocess_input,\n",
    "    width_shift_range=0.2,\n",
    "    height_shift_range=0.2,\n",
    "    shear_range=0.2,\n",
    "    zoom_range=0.2,\n",
    "    horizontal_flip=False) #True\n",
    "\n",
    "test_datagen = ImageDataGenerator(\n",
    "    preprocessing_function=preprocess_input,\n",
    "    width_shift_range=0.2,\n",
    "    height_shift_range=0.2,\n",
    "    shear_range=0.2,\n",
    "    zoom_range=0.2,\n",
    "    horizontal_flip=False) #True\n",
    "\n",
    "jf_datagen = ImageDataGenerator(\n",
    "    preprocessing_function=preprocess_input,\n",
    "    horizontal_flip=False) #True"
   ]
  },
  {
   "cell_type": "code",
   "execution_count": 815,
   "metadata": {},
   "outputs": [
    {
     "name": "stdout",
     "output_type": "stream",
     "text": [
      "No manually added data\n"
     ]
    }
   ],
   "source": [
    "# Manually labaled images convert to matrix\n",
    "try:\n",
    "    X_labeled.head(1)\n",
    "    X_labeled_mx = np.array(X_labeled).reshape(-1,28,28)\n",
    "    X_labeled_mx.shape\n",
    "    n=0 # image number\n",
    "    print(y_labeled.iloc[n][0]) # correct label\n",
    "    plt.imshow(X_labeled_mx[n], cmap='gray'); # visual verification\n",
    "    try: y_labeled.shape\n",
    "    except NameError:\n",
    "        if os.path.exists(saved_labels):\n",
    "            print(\"Reading saved correct labels:\",saved_labels)\n",
    "            y_labeled = pd.read_csv(saved_labels, header=None)\n",
    "            # Save images\n",
    "            for n in range(X_labeled_mx.shape[0]):\n",
    "                # Convert numeric array to image\n",
    "                im = Image.fromarray((X_labeled_mx[n]).astype(np.uint8))\n",
    "                # Save image: subfolders are integer labels, create in advance!\n",
    "                im.save('images_train/'+str(int(y_labeled.iloc[n][0]))+'/'+str(n)+'.png')\n",
    "        else:\n",
    "            print(f\"Error: {saved_labels} does not exist!\")\n",
    "            print(\"Initialize y_labeled with image labels in vector form.\")\n",
    "    else:\n",
    "        print(f\"y_labeled was initialize earlier\")\n",
    "except NameError:\n",
    "    print(\"No manually added data\")"
   ]
  },
  {
   "cell_type": "markdown",
   "metadata": {},
   "source": [
    "#### Check on a sample to see the image generators work as expected"
   ]
  },
  {
   "cell_type": "code",
   "execution_count": 816,
   "metadata": {},
   "outputs": [
    {
     "name": "stdout",
     "output_type": "stream",
     "text": [
      "Found 50 images belonging to 10 classes.\n"
     ]
    }
   ],
   "source": [
    "train_generator = train_datagen.flow_from_directory('images_train/', target_size=(150,150), save_to_dir='images_augm')"
   ]
  },
  {
   "cell_type": "markdown",
   "metadata": {},
   "source": [
    "#### Generate variations of the images"
   ]
  },
  {
   "cell_type": "code",
   "execution_count": 492,
   "metadata": {},
   "outputs": [
    {
     "name": "stdout",
     "output_type": "stream",
     "text": [
      "Found 50 images belonging to 10 classes.\n"
     ]
    }
   ],
   "source": [
    "i=0\n",
    "for batch in train_datagen.flow_from_directory('images_train/', target_size=(150,150), save_to_dir='images_augm'):\n",
    "    i += 1\n",
    "    if(i>10): break"
   ]
  },
  {
   "cell_type": "markdown",
   "metadata": {},
   "source": [
    "## 4. Create GUI to predict digits\n",
    "Here an interactive window (GUI) is created where one can draw a digit using mouse and get a prediction of what this digit is. The GUI is implemented using Tkinter library that comes in the Python standard library. The `App` class is responsible for building the GUI for our app. It has a canvas where one can draw by capturing the mouse event. Functions are triggered by pushing control buttons: button 'Clear' clears canvas and button 'Recognise' activates the function `predict_digit()` to recognize the digit. This function takes the image as input and then uses the trained model to predict the digit. The predicted label and its probability percentage are displayed.\n",
    "### 4.1 Basic GUI"
   ]
  },
  {
   "cell_type": "code",
   "execution_count": 14,
   "metadata": {},
   "outputs": [],
   "source": [
    "#https://docs.python.org/3/library/tkinter.html\n",
    "def predict_digit(img):\n",
    "    #resize image to 28x28 pixels\n",
    "    img = img.resize((28,28))\n",
    "    #convert rgb to grayscale\n",
    "    img = img.convert('L')\n",
    "    img = np.array(img)\n",
    "    #reshaping to support our model input and normalizing\n",
    "    if mx: img = img.reshape(1,28,28,1)\n",
    "    else: img = img.reshape(1,28*28,1)\n",
    "    img = 1 - img/255.0\n",
    "    #predicting the class\n",
    "    res = model.predict([img])[0]\n",
    "    return np.argmax(res), max(res)\n",
    "\n",
    "class App(tk.Tk):\n",
    "    def __init__(self):\n",
    "        tk.Tk.__init__(self)\n",
    "        self.x = self.y = 0\n",
    "        self.width = self.height = 60 # sizes of handwritten digit box\n",
    "        # Creating elements\n",
    "        #self.canvas = tk.Canvas(self, width=28, height=28, bg = \"white\", cursor=\"cross\")\n",
    "        self.canvas = tk.Canvas(self, width=self.width, height=self.height, bg = \"white\", cursor=\"cross\")\n",
    "        self.label = tk.Label(self, text=\"Thinking..\", font=(\"Helvetica\", 48))\n",
    "        self.button_classify = tk.Button(self, text = \"Recognise\", command =         self.classify_handwriting) \n",
    "        self.button_clear = tk.Button(self, text = \"Clear\", command = self.clear_all)\n",
    "        # Grid structure\n",
    "        self.canvas.grid(row=0, column=0, pady=2, sticky=W, )\n",
    "        self.label.grid(row=0, column=1,pady=2, padx=2)\n",
    "        self.button_classify.grid(row=1, column=1, pady=2, padx=2)\n",
    "        self.button_clear.grid(row=1, column=0, pady=2)\n",
    "        #self.canvas.bind(\"<Motion>\", self.start_pos)\n",
    "        self.canvas.bind(\"<B1-Motion>\", self.draw_lines)\n",
    "    def clear_all(self):\n",
    "        self.canvas.delete(\"all\")\n",
    "    def classify_handwriting(self):\n",
    "        HWND = self.canvas.winfo_id() # get the handle of the canvas\n",
    "        rect = win32gui.GetWindowRect(HWND) # get the coordinate of the canvas\n",
    "        im = ImageGrab.grab(rect)\n",
    "        digit, acc = predict_digit(im)\n",
    "        self.label.configure(text= str(digit)+', '+ str(int(acc*100))+'%')\n",
    "    def draw_lines(self, event):\n",
    "        self.x = event.x\n",
    "        self.y = event.y\n",
    "        r=self.width//28\n",
    "        self.canvas.create_oval(self.x-r, self.y-r, self.x + r, self.y + r, fill='black')\n",
    "\n",
    "#if mx: model = load_model('cnn.e200.h5')\n",
    "#else: model = load_model('nn.e200.h5')\n",
    "app = App()\n",
    "mainloop()"
   ]
  },
  {
   "cell_type": "markdown",
   "metadata": {},
   "source": [
    "### 4.2 GUI with added functionality\n",
    "<b>Instructions:<b><br>\n",
    "* If a handwritten digit is misclassified, press \"Fix\" button to add the image to train set, which will be concatenated with the MNIST data before next training cycle.\n",
    "* Type in correct label and press \"Get label\" button to add the label to train set.\n",
    "* Press \"Save corrections\" button to save manually labeled images and labels, and clean memory.\n",
    "\n",
    "Accuracy % is displayed on the bottom right."
   ]
  },
  {
   "cell_type": "code",
   "execution_count": 11,
   "metadata": {},
   "outputs": [
    {
     "name": "stderr",
     "output_type": "stream",
     "text": [
      "Exception in Tkinter callback\n",
      "Traceback (most recent call last):\n",
      "  File \"C:\\Users\\Admin\\anaconda3\\lib\\tkinter\\__init__.py\", line 1892, in __call__\n",
      "    return self.func(*args)\n",
      "  File \"C:\\Users\\Admin\\AppData\\Local\\Temp/ipykernel_18820/3602344524.py\", line 57, in clear_all\n",
      "    self.acc_running = self.n_ca/self.n_aa\n",
      "ZeroDivisionError: division by zero\n"
     ]
    },
    {
     "name": "stdout",
     "output_type": "stream",
     "text": [
      "0 [0.]\n",
      "1 [0. 1.]\n",
      "2 [0. 1. 8.]\n",
      "3 [0. 1. 8. 9.]\n"
     ]
    },
    {
     "data": {
      "image/png": "[encoded data removed]",
      "text/plain": [
       "<Figure size 432x288 with 1 Axes>"
      ]
     },
     "metadata": {
      "needs_background": "light"
     },
     "output_type": "display_data"
    }
   ],
   "source": [
    "#https://docs.python.org/3/library/tkinter.html\n",
    "#https://datatofish.com/entry-box-tkinter/\n",
    "\n",
    "#model = load_model('nn.e200.h5')\n",
    "def predict_digit(img):\n",
    "    #resize image to 28x28 pixels\n",
    "    img = img.resize((28,28))\n",
    "    #convert rgb to grayscale\n",
    "    img = img.convert('L')\n",
    "    img = np.array(img)\n",
    "    #reshaping to support our model input and normalizing\n",
    "    if mx: img = img.reshape(1,28,28,1)\n",
    "    else: img = img.reshape(1,28*28,1)\n",
    "    img = img/255.0 # make pixels 0 to 1\n",
    "    img = 1 - img # negate: black background, white digit (as in training data)\n",
    "    #plt.imshow(img, cmap='gray');\n",
    "    #predicting the class\n",
    "    res = model.predict([img])[0]\n",
    "    return np.argmax(res), max(res)\n",
    "class App(tk.Tk):\n",
    "    def __init__(self):\n",
    "        tk.Tk.__init__(self)\n",
    "        # Parameters\n",
    "        self.x = self.y = 0\n",
    "        self.width = self.height = 60 # sizes of handwritten digit box\n",
    "        self.i = 0 # counter of fixed labels\n",
    "        self.cl = np.array([], dtype='float32') # corrected labels\n",
    "        self.images_misclass = pd.DataFrame([], dtype='int') # incorrectly classified images\n",
    "        self.n_ca = 0 # counter of correct answers\n",
    "        self.n_aa = 0 # counter of all answers\n",
    "        self.acc_running = 0 # running accuracy\n",
    "        # Creating elements\n",
    "        self.canvas = tk.Canvas(self, width=self.width, height=self.height, bg = \"white\", cursor=\"cross\")\n",
    "        self.label = tk.Label(self, text=\"Draw digit\", font=(\"Helvetica\", 48))\n",
    "        self.button_classify = tk.Button(self, text = \"Recognise\", command =         self.classify_handwriting) \n",
    "        self.button_clear = tk.Button(self, text = \"Clear\", command = self.clear_all)\n",
    "        self.button_fix = tk.Button(self, text = \"Fix\", command = self.fix)\n",
    "        self.entry1 = tk.Entry(self)\n",
    "        self.canvas.create_window((self.width+2,self.height+2), window=self.entry1)\n",
    "        self.button_getlabel = tk.Button(self, text='Get label', command=self.get_label)\n",
    "        self.button_save = tk.Button(self, text='Save corrections', command=self.save)\n",
    "        self.accuracy = tk.Label(self, text=\"Accuracy\", font=(\"Helvetica\", 28)) # running accuracy\n",
    "        # Grid structure\n",
    "        self.canvas.grid(row=0, column=0, pady=2, sticky=W, )\n",
    "        self.label.grid(row=0, column=1,pady=2, padx=2)\n",
    "        self.button_classify.grid(row=1, column=1, pady=2, padx=2)\n",
    "        self.button_clear.grid(row=1, column=0, pady=2)\n",
    "        self.canvas.bind(\"<B1-Motion>\", self.draw_lines)\n",
    "        self.button_fix.grid(row=2, column=0, pady=2, padx=2)\n",
    "        self.entry1.grid(row=2, column=1, pady=2, padx=2)\n",
    "        self.button_getlabel.grid(row=2, column=2, pady=2, padx=2)\n",
    "        self.button_save.grid(row=3, column=1, pady=2, padx=2)\n",
    "        self.accuracy.grid(row=3, column=2, pady=2, padx=2)\n",
    "        \n",
    "    def clear_all(self):\n",
    "        self.canvas.delete(\"all\")\n",
    "        self.acc_running = self.n_ca/self.n_aa\n",
    "        self.accuracy.configure(text= str(int(self.acc_running*100))+'%')\n",
    "    def classify_handwriting(self):\n",
    "        HWND = self.canvas.winfo_id() # get the handle of the canvas\n",
    "        rect = win32gui.GetWindowRect(HWND) # get the coordinate of the canvas\n",
    "        im = ImageGrab.grab(rect)\n",
    "        digit, acc = predict_digit(im)\n",
    "        self.label.configure(text= str(digit)+', '+ str(int(acc*100))+'%')\n",
    "        self.n_ca += 1\n",
    "        self.n_aa += 1\n",
    "    def draw_lines(self, event):\n",
    "        self.x = event.x\n",
    "        self.y = event.y\n",
    "        r=self.width//28\n",
    "        self.canvas.create_oval(self.x-r, self.y-r, self.x + r, self.y + r, fill='black')\n",
    "    def get_label(self):\n",
    "        '''Get and append correct label.'''\n",
    "        y_label = int(self.entry1.get()) # text box gives a string\n",
    "        self.cl = np.append(self.cl, y_label) # append corrected label\n",
    "        print(self.i, self.cl)\n",
    "        self.i = self.i + 1 # update counter of corrected labels\n",
    "        self.canvas.delete(\"all\") # clear canvas\n",
    "        self.label.configure(text= 'Next image')\n",
    "        self.n_ca -= 1\n",
    "        self.acc_running = self.n_ca/self.n_aa\n",
    "        self.accuracy.configure(text= str(int(self.acc_running*100))+'%')\n",
    "    def fix(self):\n",
    "        '''Get handwritten image for subsequent saving. Type instructions. Get and append correct label.'''\n",
    "        global im # misclassified image\n",
    "        # Grab misclassified image from canvas\n",
    "        HWND = self.canvas.winfo_id() # get the handle of the canvas\n",
    "        rect = win32gui.GetWindowRect(HWND) # get the coordinate of the canvas\n",
    "        im = ImageGrab.grab(rect)\n",
    "        # Crop image padding\n",
    "        left = 2 # pixels to crop on the left\n",
    "        top = 2 # pixels to crop on top\n",
    "        right = self.width + left\n",
    "        bottom = self.height + top\n",
    "        im = im.crop((left, top, right, bottom))\n",
    "        # Grayscale, reshape, negate\n",
    "        im = im.convert('L') # Convert rgb to grayscale\n",
    "        im = im.resize((28,28)) # Reshape to support our training model input (MNIST) and normalizing\n",
    "        im = np.array(im) # convert to numeric array\n",
    "        im = 255 - im # negate: black background, white digit (as in training data)\n",
    "        # Append misclassified image\n",
    "        self.images_misclass = self.images_misclass.append(pd.DataFrame(im.reshape(1,28*28)), ignore_index=True)\n",
    "        plt.imshow(im, cmap='gray')\n",
    "        # Type instructions\n",
    "        self.label.configure(text=\"Enter label\\nHit Get label\", font=(\"Helvetica\", 48))\n",
    "    def save(self):\n",
    "        saved_images = 'images.csv'\n",
    "        saved_labels = 'labels.csv'\n",
    "        #print(\"Saving misclassified images:\", saved_images)\n",
    "        pd.DataFrame(self.images_misclass).to_csv(saved_images, index=False, header=None, mode='a') # append images to file\n",
    "        #print(\"Saving correct labels:\", saved_labels)\n",
    "        pd.DataFrame(self.cl).to_csv(saved_labels, index=False, header=None, mode='a') # append labels to file\n",
    "        self.images_misclass = pd.DataFrame([], dtype='int') # after saving, clear the memory\n",
    "        self.cl = np.array([], dtype='float32')\n",
    "        self.canvas.delete(\"all\") # clear canvas\n",
    "        self.label.configure(text= 'Next image')\n",
    "\n",
    "#if mx: model = load_model('cnn.e200.h5')\n",
    "#else: model = load_model('nn.e200.h5')\n",
    "app = App()\n",
    "mainloop();"
   ]
  },
  {
   "cell_type": "code",
   "execution_count": 12,
   "metadata": {},
   "outputs": [
    {
     "name": "stdout",
     "output_type": "stream",
     "text": [
      "Performance of digit classification, NN, 0 manual labels\n",
      "Sample size: 140\n",
      "Accuracy= 0.7071428571428572\n"
     ]
    },
    {
     "data": {
      "image/png": "[encoded data removed]",
      "text/plain": [
       "<Figure size 432x288 with 1 Axes>"
      ]
     },
     "metadata": {
      "needs_background": "light"
     },
     "output_type": "display_data"
    }
   ],
   "source": [
    "print(\"Performance of digit classification, NN, 0 manual labels\")\n",
    "# Observations update!\n",
    "perf = {'actual':np.array([0,1,2,3,4,5,6,7,8,9,0,1,2,3,4,5,6,7,8,9,0,1,2,3,4,5,6,7,8,9,0,1,2,3,4,5,6,7,8,9,0,1,2,3,4,5,6,7,8,9,0,\\\n",
    "            1,2,3,4,5,6,7,8,9,0,1,2,3,4,5,6,7,8,9,0,1,2,3,4,5,6,7,8,9,0,1,2,3,4,5,6,7,8,9,0,1,2,3,4,5,6,7,8,9,0,1,2,3,4,5,6,7,8,9,0,\\\n",
    "            1,2,3,4,5,6,7,8,9,0,1,2,3,4,5,6,7,8,9,0,1,2,3,4,5,6,7,8,9]),\n",
    "        'prediction':np.array([0,1,2,3,4,0,3,7,2,9,0,1,2,3,4,5,6,7,3,9,0,1,2,3,4,5,6,3,8,9,6,1,2,3,6,5,5,2,8,3,0,8,2,3,4,5,5,7,3,5,0,\\\n",
    "            2,2,3,4,0,6,2,5,9,0,1,2,2,4,1,6,3,6,3,0,1,2,3,4,5,6,8,8,3,0,1,2,3,4,5,6,1,8,9,0,1,2,3,4,5,6,7,8,1,5,1,2,3,9,7,6,2,8,7,0,\\\n",
    "            1,2,3,4,5,6,2,8,7,6,1,2,3,4,5,6,1,8,5,7,3,2,3,4,5,6,7,5,6])}\n",
    "contingency_matrix = pd.crosstab(perf['prediction'], perf['actual'], rownames=['Predicted'], colnames=['Actual'])\n",
    "#print(contingency_matrix)\n",
    "print(\"Sample size:\",len(perf['actual']))\n",
    "print(\"Accuracy=\",np.sum([contingency_matrix[i][i] for i in range(10)]) / np.sum(np.sum(contingency_matrix)))\n",
    "# Plot contingency matrix\n",
    "import matplotlib.pyplot as plt\n",
    "import seaborn as sn\n",
    "\n",
    "plt.clf()\n",
    "res = sn.heatmap(contingency_matrix.T, annot=True, fmt='d', cmap=\"YlGnBu\", cbar=False)\n",
    "plt.savefig(\"crosstab_pandas.png\", bbox_inches='tight', dpi=100)\n",
    "plt.show();\n",
    "\n",
    "# Confusion matrix calculated manually\n",
    "def cm(digits,classf):\n",
    "    CM = np.array([[0]*10]*10)\n",
    "    for i in range(len(digits)):\n",
    "        CM[digits[i]][classf[i]] = CM[digits[i]][classf[i]] + 1\n",
    "    return CM\n",
    "#CM = cm(digits,classf)\n",
    "#print(\"Confusion matrix =\\n\",CM)\n",
    "#Difficulty recognizing 7, 8.     "
   ]
  },
  {
   "cell_type": "markdown",
   "metadata": {},
   "source": [
    "## 6. To Do\n",
    "* Try to make Enter work to finish entering correct label, reduce to one button 'Fix'\n",
    "\n",
    "* Display chart with running accuracy rate.\n",
    "* New class, int->str\n",
    "\n",
    "* Test different hidden layers\n",
    "* Insert dropoff after layers\n",
    "* metrics = ['accuracy','auc'] in test -> .compile\n",
    "\n",
    "A TensorFlow graph consists of the following parts which will be detailed below:\n",
    "\n",
    "* Placeholder variables used for inputting data to the graph.\n",
    "* Variables that are going to be optimized so as to make the convolutional network perform better.\n",
    "* The mathematical formulas for the convolutional network.\n",
    "* A cost measure that can be used to guide the optimization of the variables.\n",
    "* An optimization method which updates the variables.\n",
    "\n",
    "Analysis:\n",
    "* Is it worth saving correctly classified images for training?\n",
    "\n",
    "In addition, the TensorFlow graph may also contain various debugging statements e.g. for logging data to be displayed using TensorBoard, which is not covered in this tutorial."
   ]
  },
  {
   "cell_type": "markdown",
   "metadata": {},
   "source": [
    "A TensorFlow graph consists of the following parts which will be detailed below:\n",
    "\n",
    "* Placeholder variables used for inputting data to the graph.\n",
    "* Variables that are going to be optimized so as to make the convolutional network perform better.\n",
    "* The mathematical formulas for the convolutional network.\n",
    "* A cost measure that can be used to guide the optimization of the variables.\n",
    "* An optimization method which updates the variables.\n",
    "\n",
    "In addition, the TensorFlow graph may also contain various debugging statements e.g. for logging data to be displayed using TensorBoard, which is not covered in this tutorial."
   ]
  },
  {
   "cell_type": "code",
   "execution_count": null,
   "metadata": {},
   "outputs": [],
   "source": []
  }
 ],
 "metadata": {
  "kernelspec": {
   "display_name": "Python 3 (ipykernel)",
   "language": "python",
   "name": "python3"
  },
  "language_info": {
   "codemirror_mode": {
    "name": "ipython",
    "version": 3
   },
   "file_extension": ".py",
   "mimetype": "text/x-python",
   "name": "python",
   "nbconvert_exporter": "python",
   "pygments_lexer": "ipython3",
   "version": "3.9.7"
  }
 },
 "nbformat": 4,
 "nbformat_minor": 4
}
