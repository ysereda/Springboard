{
 "cells": [
  {
   "cell_type": "markdown",
   "metadata": {},
   "source": [
    "# Logistic Regression\n",
    "https://realpython.com/logistic-regression-python/"
   ]
  },
  {
   "cell_type": "markdown",
   "metadata": {},
   "source": [
    "Logistic regression model is based on a sigmoid function that has values very close to either 0 or 1 across most of its domain.\n",
    "$$\\sigma(x) = \\frac{1}{1+exp(-x)}$$\n",
    "The interpretation is that the probability that the output for a given 𝐱 is equal to 1 is\n",
    "$$p(x) = \\sigma(f(x)),$$\n",
    "where $f(x)$ is a linear function logit\n",
    "$$f(x) = b_{0}+b_{1}x_{1}+...+b_{r}x_{r}$$\n",
    "and $b_{i}$ are the estimators of the regression coefficients, which are also called the predicted weights or just coefficients. For each observation 𝑖 = 1, …, 𝑛, the predicted output is 1 if 𝑝(𝐱ᵢ) > 0.5 and 0 otherwise. The threshold doesn’t have to be 0.5, but it usually is.\n",
    "$$ln(\\frac{p(𝐱)}{1-p(𝐱)})=f(𝐱)$$\n",
    "It implies that 𝑝(𝐱) = 0.5 when 𝑓(𝐱) = 0 and that the predicted output is 1 if 𝑓(𝐱) > 0 and 0 otherwise."
   ]
  },
  {
   "cell_type": "code",
   "execution_count": 62,
   "metadata": {},
   "outputs": [],
   "source": [
    "import os\n",
    "os.chdir('C:/Sereda/Lectures/Springboard/Capstone2_CustomerChurn/')\n",
    "import pandas as pd\n",
    "import numpy as np\n",
    "from sklearn.linear_model import LogisticRegression\n",
    "from sklearn.model_selection import train_test_split, cross_val_score\n",
    "from sklearn.metrics import  accuracy_score, recall_score, precision_score, f1_score, confusion_matrix, classification_report, roc_curve, roc_auc_score\n",
    "import matplotlib.pyplot as plt\n",
    "plt.style.use('fivethirtyeight')\n",
    "pd.set_option('display.max_rows', 600)"
   ]
  },
  {
   "cell_type": "markdown",
   "metadata": {},
   "source": [
    "#### Import `df`"
   ]
  },
  {
   "cell_type": "code",
   "execution_count": 63,
   "metadata": {},
   "outputs": [
    {
     "data": {
      "text/html": [
       "<div>\n",
       "<style scoped>\n",
       "    .dataframe tbody tr th:only-of-type {\n",
       "        vertical-align: middle;\n",
       "    }\n",
       "\n",
       "    .dataframe tbody tr th {\n",
       "        vertical-align: top;\n",
       "    }\n",
       "\n",
       "    .dataframe thead th {\n",
       "        text-align: right;\n",
       "    }\n",
       "</style>\n",
       "<table border=\"1\" class=\"dataframe\">\n",
       "  <thead>\n",
       "    <tr style=\"text-align: right;\">\n",
       "      <th></th>\n",
       "      <th>is_churn</th>\n",
       "      <th>city_0</th>\n",
       "      <th>city_1</th>\n",
       "      <th>city_3</th>\n",
       "      <th>city_4</th>\n",
       "      <th>city_5</th>\n",
       "      <th>city_6</th>\n",
       "      <th>city_7</th>\n",
       "      <th>city_8</th>\n",
       "      <th>city_9</th>\n",
       "      <th>...</th>\n",
       "      <th>discount1_-894.0</th>\n",
       "      <th>discount1_-799.0</th>\n",
       "      <th>discount1_-150.0</th>\n",
       "      <th>discount1_-149.0</th>\n",
       "      <th>discount1_-129.0</th>\n",
       "      <th>discount1_-50.0</th>\n",
       "      <th>discount1_0.0</th>\n",
       "      <th>discount1_20.0</th>\n",
       "      <th>discount1_30.0</th>\n",
       "      <th>discount1_149.0</th>\n",
       "    </tr>\n",
       "  </thead>\n",
       "  <tbody>\n",
       "    <tr>\n",
       "      <th>0</th>\n",
       "      <td>0</td>\n",
       "      <td>0</td>\n",
       "      <td>0</td>\n",
       "      <td>0</td>\n",
       "      <td>0</td>\n",
       "      <td>0</td>\n",
       "      <td>0</td>\n",
       "      <td>0</td>\n",
       "      <td>0</td>\n",
       "      <td>0</td>\n",
       "      <td>...</td>\n",
       "      <td>0</td>\n",
       "      <td>0</td>\n",
       "      <td>0</td>\n",
       "      <td>0</td>\n",
       "      <td>0</td>\n",
       "      <td>0</td>\n",
       "      <td>1</td>\n",
       "      <td>0</td>\n",
       "      <td>0</td>\n",
       "      <td>0</td>\n",
       "    </tr>\n",
       "    <tr>\n",
       "      <th>1</th>\n",
       "      <td>1</td>\n",
       "      <td>0</td>\n",
       "      <td>0</td>\n",
       "      <td>0</td>\n",
       "      <td>0</td>\n",
       "      <td>0</td>\n",
       "      <td>0</td>\n",
       "      <td>0</td>\n",
       "      <td>0</td>\n",
       "      <td>0</td>\n",
       "      <td>...</td>\n",
       "      <td>0</td>\n",
       "      <td>0</td>\n",
       "      <td>0</td>\n",
       "      <td>1</td>\n",
       "      <td>0</td>\n",
       "      <td>0</td>\n",
       "      <td>0</td>\n",
       "      <td>0</td>\n",
       "      <td>0</td>\n",
       "      <td>0</td>\n",
       "    </tr>\n",
       "    <tr>\n",
       "      <th>2</th>\n",
       "      <td>0</td>\n",
       "      <td>0</td>\n",
       "      <td>0</td>\n",
       "      <td>0</td>\n",
       "      <td>0</td>\n",
       "      <td>0</td>\n",
       "      <td>0</td>\n",
       "      <td>0</td>\n",
       "      <td>0</td>\n",
       "      <td>0</td>\n",
       "      <td>...</td>\n",
       "      <td>0</td>\n",
       "      <td>0</td>\n",
       "      <td>0</td>\n",
       "      <td>0</td>\n",
       "      <td>0</td>\n",
       "      <td>0</td>\n",
       "      <td>1</td>\n",
       "      <td>0</td>\n",
       "      <td>0</td>\n",
       "      <td>0</td>\n",
       "    </tr>\n",
       "    <tr>\n",
       "      <th>3</th>\n",
       "      <td>1</td>\n",
       "      <td>0</td>\n",
       "      <td>0</td>\n",
       "      <td>0</td>\n",
       "      <td>0</td>\n",
       "      <td>0</td>\n",
       "      <td>0</td>\n",
       "      <td>0</td>\n",
       "      <td>0</td>\n",
       "      <td>0</td>\n",
       "      <td>...</td>\n",
       "      <td>0</td>\n",
       "      <td>0</td>\n",
       "      <td>0</td>\n",
       "      <td>1</td>\n",
       "      <td>0</td>\n",
       "      <td>0</td>\n",
       "      <td>0</td>\n",
       "      <td>0</td>\n",
       "      <td>0</td>\n",
       "      <td>0</td>\n",
       "    </tr>\n",
       "    <tr>\n",
       "      <th>4</th>\n",
       "      <td>0</td>\n",
       "      <td>0</td>\n",
       "      <td>0</td>\n",
       "      <td>0</td>\n",
       "      <td>1</td>\n",
       "      <td>0</td>\n",
       "      <td>0</td>\n",
       "      <td>0</td>\n",
       "      <td>0</td>\n",
       "      <td>0</td>\n",
       "      <td>...</td>\n",
       "      <td>0</td>\n",
       "      <td>0</td>\n",
       "      <td>0</td>\n",
       "      <td>0</td>\n",
       "      <td>0</td>\n",
       "      <td>0</td>\n",
       "      <td>1</td>\n",
       "      <td>0</td>\n",
       "      <td>0</td>\n",
       "      <td>0</td>\n",
       "    </tr>\n",
       "  </tbody>\n",
       "</table>\n",
       "<p>5 rows × 163 columns</p>\n",
       "</div>"
      ],
      "text/plain": [
       "   is_churn  city_0  city_1  city_3  city_4  city_5  city_6  city_7  city_8  \\\n",
       "0         0       0       0       0       0       0       0       0       0   \n",
       "1         1       0       0       0       0       0       0       0       0   \n",
       "2         0       0       0       0       0       0       0       0       0   \n",
       "3         1       0       0       0       0       0       0       0       0   \n",
       "4         0       0       0       0       1       0       0       0       0   \n",
       "\n",
       "   city_9  ...  discount1_-894.0  discount1_-799.0  discount1_-150.0  \\\n",
       "0       0  ...                 0                 0                 0   \n",
       "1       0  ...                 0                 0                 0   \n",
       "2       0  ...                 0                 0                 0   \n",
       "3       0  ...                 0                 0                 0   \n",
       "4       0  ...                 0                 0                 0   \n",
       "\n",
       "   discount1_-149.0  discount1_-129.0  discount1_-50.0  discount1_0.0  \\\n",
       "0                 0                 0                0              1   \n",
       "1                 1                 0                0              0   \n",
       "2                 0                 0                0              1   \n",
       "3                 1                 0                0              0   \n",
       "4                 0                 0                0              1   \n",
       "\n",
       "   discount1_20.0  discount1_30.0  discount1_149.0  \n",
       "0               0               0                0  \n",
       "1               0               0                0  \n",
       "2               0               0                0  \n",
       "3               0               0                0  \n",
       "4               0               0                0  \n",
       "\n",
       "[5 rows x 163 columns]"
      ]
     },
     "execution_count": 63,
     "metadata": {},
     "output_type": "execute_result"
    }
   ],
   "source": [
    "df = pd.read_csv('data/df.csv')\n",
    "df.head()"
   ]
  },
  {
   "cell_type": "markdown",
   "metadata": {},
   "source": [
    "#### Explanatory and response variables"
   ]
  },
  {
   "cell_type": "code",
   "execution_count": 64,
   "metadata": {},
   "outputs": [
    {
     "data": {
      "text/plain": [
       "array([0, 1, 0, 1, 0], dtype=int64)"
      ]
     },
     "execution_count": 64,
     "metadata": {},
     "output_type": "execute_result"
    }
   ],
   "source": [
    "X = df.drop('is_churn', axis=1) # drop unknown churn\n",
    "y = df[['is_churn']]\n",
    "y = np.ravel(y)\n",
    "y[:5]"
   ]
  },
  {
   "cell_type": "markdown",
   "metadata": {},
   "source": [
    "#### Quality Metrics"
   ]
  },
  {
   "cell_type": "code",
   "execution_count": 143,
   "metadata": {},
   "outputs": [],
   "source": [
    "def confusion_matrix_plot(y_actual, y_predicted):\n",
    "    '''Plot Binary Confusion Matrix for actual and predicted labels'''\n",
    "    #from sklearn.metrics import confusion_matrix\n",
    "    cm = confusion_matrix(y_actual, y_predicted)\n",
    "    tn = cm[0,0] # true negative count\n",
    "    fp = cm[0,1] # false positive count\n",
    "    fn = cm[1,0] # false negative count\n",
    "    tp = cm[1,1] # true positive count\n",
    "    print(\"[[TN, FP], [FN, TP]] =\\n\",cm) # print confusion matrix\n",
    "    fig, ax = plt.subplots(figsize=(4, 4))\n",
    "    ax.imshow(cm)\n",
    "    ax.grid(False)\n",
    "    ax.xaxis.set(ticks=(0, 1), ticklabels=('Predicted 0s', 'Predicted 1s'))\n",
    "    ax.yaxis.set(ticks=(0, 1), ticklabels=('Actual 0s', 'Actual 1s'))\n",
    "    ax.set_ylim(1.5, -0.5)\n",
    "    for i in range(2):\n",
    "        for j in range(2):\n",
    "            ax.text(j, i, cm[i, j], ha='center', va='center', color='red') # counts\n",
    "    plt.show();\n",
    "    return tn,fp,fn,tp\n",
    "\n",
    "def metrics(y_actual, y_predicted, tn,fp,fn,tp):\n",
    "    '''Quality Metrics'''\n",
    "    tnr = tn/(tn + fp) # tnr = 1-fpr\n",
    "    print(f\"TNR = {round(tnr,4)} Specificity, proportion of the negative class 0 got correctly classified.\")\n",
    "    fpr = fp/(tn + fp)\n",
    "    fnr = fn/(tp + fn)\n",
    "    print(f\"FNR = {round(fnr,4)} or Type II Error: Proportion of the positive class 1 got incorrectly classified.\")\n",
    "    tpr = tp/(tp + fn)\n",
    "    accuracy = accuracy_score(y_actual, y_predicted)\n",
    "    print(f\"Accuracy = {round(accuracy,4)}: Percentage of total items classified correctly\")\n",
    "    # accuracy_nosplit = log_reg_nosplit.score(X, y)\n",
    "    print(f\"FPR = {round(fpr,4)} Specificity, or Type I Error: proportion of the negative class 0 got incorrectly classified.\")  \n",
    "    print(f\"TPR = {round(tpr,4)} Recall, sensitivity, proportion of the positive class 1 got correctly classified.\")\n",
    "    #print('Recall =', recall_score(y_actual, y_predicted))\n",
    "    print(f\"Precision = {round(precision_score(y_actual, y_predicted),4)}\")\n",
    "    print(f\"F1 score = {round(f1_score(y_actual, y_predicted),4)}: harmonic mean of precision and recall.\")\n",
    "    MCC = (tp*tn-fp*fn)/np.sqrt((tp+fp)*(tp+fn)*(tn+fp)*(tn+fn))\n",
    "    print(f\"MCC = {round(MCC,4)} Matthews correlation coefficient: accounts for all 4 confusion matrix categories.\")"
   ]
  },
  {
   "cell_type": "markdown",
   "metadata": {},
   "source": [
    "#### Training without splitting"
   ]
  },
  {
   "cell_type": "code",
   "execution_count": 144,
   "metadata": {},
   "outputs": [],
   "source": [
    "# Create and train the Logistic Regression model\n",
    "model_nosplit = LogisticRegression(random_state=0, solver='lbfgs').fit(X,y)\n",
    "#solver : {'newton-cg', 'lbfgs', 'liblinear', 'sag', 'saga'}"
   ]
  },
  {
   "cell_type": "code",
   "execution_count": 147,
   "metadata": {},
   "outputs": [
    {
     "name": "stdout",
     "output_type": "stream",
     "text": [
      "[[TN, FP], [FN, TP]] =\n",
      " [[1565   29]\n",
      " [ 115  203]]\n"
     ]
    },
    {
     "data": {
      "image/png": "[encoded data removed]",
      "text/plain": [
       "<Figure size 288x288 with 1 Axes>"
      ]
     },
     "metadata": {},
     "output_type": "display_data"
    },
    {
     "name": "stdout",
     "output_type": "stream",
     "text": [
      "TNR = 0.9818 Specificity, proportion of the negative class 0 got correctly classified.\n",
      "FNR = 0.3616 or Type II Error: Proportion of the positive class 1 got incorrectly classified.\n",
      "Accuracy = 0.9247: Percentage of total items classified correctly\n",
      "FPR = 0.0182 Specificity, or Type I Error: proportion of the negative class 0 got incorrectly classified.\n",
      "TPR = 0.6384 Recall, sensitivity, proportion of the positive class 1 got correctly classified.\n",
      "Precision = 0.875\n",
      "F1 score = 0.7382: harmonic mean of precision and recall.\n",
      "MCC = 0.7072 Matthews correlation coefficient: accounts for all 4 confusion matrix categories.\n",
      "              precision    recall  f1-score   support\n",
      "\n",
      "           0       0.93      0.98      0.96      1594\n",
      "           1       0.88      0.64      0.74       318\n",
      "\n",
      "    accuracy                           0.92      1912\n",
      "   macro avg       0.90      0.81      0.85      1912\n",
      "weighted avg       0.92      0.92      0.92      1912\n",
      "\n"
     ]
    }
   ],
   "source": [
    "y_predicted = model_nosplit.predict(X) # Predicted labels\n",
    "# Evaluate the Model\n",
    "tn,fp,fn,tp = confusion_matrix_plot(y, y_predicted)\n",
    "metrics(y, y_predicted, tn,fp,fn,tp)\n",
    "accuracy_nosplit = accuracy_score(y, y_predicted)\n",
    "print(classification_report(y, y_predicted))"
   ]
  },
  {
   "cell_type": "code",
   "execution_count": 135,
   "metadata": {
    "collapsed": true
   },
   "outputs": [
    {
     "name": "stdout",
     "output_type": "stream",
     "text": [
      "Distinct values that y takes: [0 1]\n",
      "Prediction Probabilities (top):\n",
      " [[0.90980211 0.09019789]\n",
      " [0.02648739 0.97351261]\n",
      " [0.99816207 0.00183793]]\n",
      "Regression Coefficients:\n",
      "\n",
      "Intercept b0 = 0.36667415078342114\n",
      "Coefficients b = [[ 2.15377001e-01 -1.11674448e-01 -8.57438214e-02 -8.42375271e-02\n",
      "   4.64769065e-01  5.59051481e-02 -4.27450553e-01  1.55579041e-01\n",
      "   2.75652053e-01 -6.50513218e-03 -1.43363528e-01  1.35475691e-01\n",
      "  -1.87607600e-01  1.12207726e-01  4.26498727e-01  7.60932714e-02\n",
      "  -1.26886798e-01  9.66553524e-02  4.72198710e-02 -8.88029389e-01\n",
      "   4.18984720e-01  8.54246569e-02  3.59332515e-01 -2.86796893e-01\n",
      "  -2.64524718e-01 -1.25432871e+00  4.28689118e-01 -1.04622963e-01\n",
      "   2.21990652e-01 -4.37947287e-01 -9.31447935e-01 -2.62668196e-01\n",
      "   7.07313575e-02  4.53934885e-01 -8.76473768e-01 -1.02887960e+00\n",
      "  -1.81295154e-02 -4.03776028e-01  2.63410611e-01  2.02765977e-01\n",
      "  -2.65061330e-01 -7.31297219e-02  3.13572832e-01  4.20004459e-01\n",
      "  -3.73895062e-01  1.16425321e+00 -5.30218115e-01  3.14351367e-01\n",
      "   8.39264832e-02 -1.96475966e-02  1.16702629e-01  5.55366278e-01\n",
      "   1.13531233e+00  2.76895342e-01 -2.19587308e-01 -3.77172118e-01\n",
      "   1.94188452e-03  1.29436009e-01 -4.60593366e-02 -2.76883920e-03\n",
      "   1.02500004e-01  6.08111534e-01 -7.72734844e-03  5.90930017e-02\n",
      "  -6.63362555e-02  7.06385384e-02 -1.88917219e-03  0.00000000e+00\n",
      "  -1.46688429e-03  0.00000000e+00 -2.88153460e-03  7.54519493e-02\n",
      "   7.83540174e-02 -1.53871816e-01  2.15377001e-01  1.63732165e-01\n",
      "  -1.12927889e-01  1.60164832e-01 -2.17436633e-01 -2.08975327e-01\n",
      "  -3.00822841e-01  3.96088278e-01 -4.02404244e-01 -1.30492392e-01\n",
      "   3.95984847e-01 -4.34424325e-01 -3.45410416e-02  2.50899666e-01\n",
      "  -7.63817764e-02 -2.52949993e-01 -4.65343488e-01 -6.28176953e-02\n",
      "  -2.22567150e-01  3.74900972e-01 -3.41392115e-01  1.62819140e+00\n",
      "  -3.20335304e-01  1.56727285e+00  2.32357355e+00  1.80534000e+00\n",
      "  -1.18528854e-01 -7.70843630e-01  2.58507619e-02 -1.50837600e-01\n",
      "  -1.91083859e+00 -2.77264713e+00  5.25991135e-01  0.00000000e+00\n",
      "   2.62888413e-01  6.38530318e-01  1.44308268e+00 -2.42817942e-01\n",
      "  -2.77021101e+00 -3.30262905e-02 -7.39693730e-02 -3.00553912e-01\n",
      "  -1.78907763e-01 -2.08851975e-01 -1.33870413e-01  6.26905891e-01\n",
      "   2.69783330e-01 -6.66043662e-02  4.97802121e-01 -2.56236696e-01\n",
      "   1.07559434e+00  0.00000000e+00 -2.85890188e-01 -9.42181598e-02\n",
      "   6.93306904e-01 -1.15873220e-01 -2.81115594e-01  1.70764764e-02\n",
      "  -3.65437692e-02  8.15909967e-02 -1.80456623e-01 -5.33340233e-01\n",
      "  -5.94486808e-01 -3.30262905e-02  5.20517435e-01 -3.00553912e-01\n",
      "  -5.78254740e-01 -1.62501500e-01  1.41815168e-01 -1.33870413e-01\n",
      "   6.26905891e-01  2.03178964e-01 -2.99205729e-02  1.46436407e-01\n",
      "  -1.46502257e-01 -1.93824845e+00  1.93818260e+00 -2.71485997e-01\n",
      "   3.50667144e-01 -1.62501500e-01 -1.62607578e-01  1.68766403e+00\n",
      "  -1.49527801e-02 -9.42181598e-02  1.72436575e-01 -7.63817764e-02\n",
      "  -2.81115594e-01 -1.14757022e+00]]\n"
     ]
    }
   ],
   "source": [
    "print(\"Distinct values that y takes:\",log_reg_nosplit.classes_)\n",
    "# probability of y=0 (1st column) and y=1 (2nd column)\n",
    "print(\"Prediction Probabilities (top):\\n\", log_reg_nosplit.predict_proba(X)[:3])\n",
    "print(\"Regression Coefficients:\\n\")\n",
    "b0_nosplit = log_reg_nosplit.intercept_[0]\n",
    "print(\"Intercept b0 =\", b0_nosplit)\n",
    "b_nosplit = log_reg_nosplit.coef_\n",
    "print(\"Coefficients b =\", b_nosplit)"
   ]
  },
  {
   "cell_type": "markdown",
   "metadata": {},
   "source": [
    "#### 3.2.2 Training with splitting\n",
    "Taking 70% for training set and 30% for test set."
   ]
  },
  {
   "cell_type": "code",
   "execution_count": 136,
   "metadata": {},
   "outputs": [
    {
     "name": "stdout",
     "output_type": "stream",
     "text": [
      "Train samples: 1338\n",
      "Test samples: 574\n"
     ]
    }
   ],
   "source": [
    "X_train, X_test, y_train, y_test = train_test_split(X, y, test_size=0.3, random_state=0)\n",
    "print(\"Train samples:\",y_train.shape[0])\n",
    "print(\"Test samples:\",y_test.shape[0])"
   ]
  },
  {
   "cell_type": "code",
   "execution_count": 137,
   "metadata": {},
   "outputs": [],
   "source": [
    "# Create and train the Logistic Regression model\n",
    "#solver : {'newton-cg', 'lbfgs', 'liblinear', 'sag', 'saga'}\n",
    "log_reg_split = LogisticRegression(solver='saga', random_state=0); # Create a model\n",
    "log_reg_split.fit(X_train, y_train); # Train model using training set"
   ]
  },
  {
   "cell_type": "code",
   "execution_count": 139,
   "metadata": {},
   "outputs": [
    {
     "name": "stdout",
     "output_type": "stream",
     "text": [
      "[[TN, FP], [FN, TP]] =\n",
      " [[466  12]\n",
      " [ 40  56]]\n"
     ]
    },
    {
     "data": {
      "image/png": "[encoded data removed]",
      "text/plain": [
       "<Figure size 288x288 with 1 Axes>"
      ]
     },
     "metadata": {},
     "output_type": "display_data"
    },
    {
     "name": "stdout",
     "output_type": "stream",
     "text": [
      "TNR = 0.9749 Specificity, proportion of the negative class 0 got correctly classified.\n",
      "FNR = 0.4167 or Type II Error: Proportion of the positive class 1 got incorrectly classified.\n",
      "Accuracy = 0.9094: Percentage of total items classified correctly.\n",
      "FPR = 0.0251 Specificity, or Type I Error: proportion of the negative class 0 got incorrectly classified.\n",
      "TPR = 0.5833 Recall, sensitivity, proportion of the positive class 1 got correctly classified.\n",
      "Precision = 0.8235\n",
      "F1 score = 0.6829: harmonic mean of precision and recall.\n",
      "MCC = 0.6447 Matthews correlation coefficient: accounts for all 4 confusion matrix categories.\n",
      "              precision    recall  f1-score   support\n",
      "\n",
      "           0       0.92      0.97      0.95       478\n",
      "           1       0.82      0.58      0.68        96\n",
      "\n",
      "    accuracy                           0.91       574\n",
      "   macro avg       0.87      0.78      0.82       574\n",
      "weighted avg       0.90      0.91      0.90       574\n",
      "\n"
     ]
    }
   ],
   "source": [
    "y_pred_split = log_reg_split.predict(X_test) # predicted values\n",
    "tn,fp,fn,tp = confusion_matrix_plot(y_test, y_pred_split)\n",
    "metrics(y_test, y_pred_split, tn,fp,fn,tp)\n",
    "print(classification_report(y_test, y_pred_split))"
   ]
  },
  {
   "cell_type": "code",
   "execution_count": 140,
   "metadata": {
    "collapsed": true
   },
   "outputs": [
    {
     "name": "stdout",
     "output_type": "stream",
     "text": [
      "Distinct values that y takes: [0 1]\n",
      "Prediction Probabilities (top):\n",
      " [[0.63119671 0.36880329]\n",
      " [0.91136894 0.08863106]\n",
      " [0.98144419 0.01855581]]\n",
      "Regression Coefficients:\n",
      "\n",
      "Intercept b0 = 0.24066827598220575\n",
      "Coefficients b = [[ 3.05597263e-01  2.61856828e-02 -9.63709755e-02 -3.64636457e-01\n",
      "   5.80811634e-01 -1.21297472e-01 -5.37201573e-01 -8.25891255e-02\n",
      "  -3.70422425e-01 -1.70149551e-01 -1.16450388e-01  1.99905228e-01\n",
      "   6.62278389e-02  2.40990775e-01  4.59984639e-01  0.00000000e+00\n",
      "   4.94747471e-01 -2.19444927e-02  1.92416848e-01 -6.74603032e-01\n",
      "   1.62820710e-02  0.00000000e+00  3.25334065e-01 -1.80735487e-01\n",
      "  -2.80942785e-01 -1.17838088e+00  5.36416023e-01  1.46169080e-01\n",
      "   3.22162822e-01 -2.47719975e-01 -9.38695154e-01  1.92476781e-01\n",
      "  -1.69992979e-01  3.86369479e-01 -5.23299515e-01 -6.33645718e-01\n",
      "  -2.38139415e-01 -2.00020301e-01 -2.52819807e-01  2.16277886e-01\n",
      "   3.38118253e-02  7.53425895e-02  4.23014070e-01 -1.11612712e-01\n",
      "  -4.02511329e-01  5.14352180e-01 -1.73302080e-01  2.38735911e-01\n",
      "   1.64308345e-01 -1.25965443e-01  3.56740693e-01  5.87899443e-01\n",
      "   1.12365088e+00  2.45819012e-01 -1.78897567e-01 -4.16893968e-01\n",
      "  -1.02545946e-01  1.40975566e-01  4.14028194e-02 -5.32215253e-03\n",
      "   1.06983493e-01 -2.37286993e-03 -6.00007260e-03  1.11438013e-01\n",
      "  -2.64267989e-03  8.67008538e-02 -2.99023624e-03  0.00000000e+00\n",
      "   0.00000000e+00  0.00000000e+00 -6.01294308e-03  1.42647571e-02\n",
      "   1.28843411e-02 -1.59472107e-02  3.05597263e-01  1.48476458e-01\n",
      "   1.40600707e-01 -7.87450086e-02 -2.80109772e-01 -2.24617760e-01\n",
      "   0.00000000e+00  2.93233608e-01 -3.71802488e-01 -1.30481488e-01\n",
      "   3.05054105e-01 -4.42190927e-01 -1.24316968e-02  3.57157084e-01\n",
      "   0.00000000e+00 -2.84400728e-01 -3.17713520e-01  0.00000000e+00\n",
      "  -6.06670572e-01  5.31522933e-01 -2.31420288e-01  1.49999477e+00\n",
      "  -1.05599702e-01  1.45644745e+00  1.84256136e+00  1.60741317e+00\n",
      "  -3.24007995e-01 -5.60875296e-01 -1.45690577e-01 -7.88730650e-02\n",
      "  -1.57437539e+00 -2.69564886e+00  5.34557616e-01  0.00000000e+00\n",
      "   5.90665517e-01  6.69058367e-01  1.41612096e+00 -2.81220422e-01\n",
      "  -2.61334718e+00 -5.07789864e-02 -9.09097436e-02 -3.49203440e-01\n",
      "  -3.79078540e-01 -3.02846709e-01 -9.29874873e-02  6.59834518e-01\n",
      "   2.61161146e-01  0.00000000e+00  2.55051538e-01 -2.14875270e-01\n",
      "   1.10098640e+00  0.00000000e+00  0.00000000e+00 -1.18429973e-01\n",
      "   5.40444227e-01 -1.01576982e-01 -2.08065148e-01 -6.16862871e-02\n",
      "  -1.23028888e-02  2.48560838e-01 -2.33883102e-01 -6.35773265e-01\n",
      "  -6.41654444e-01 -5.07789864e-02  5.50744700e-01 -3.49203440e-01\n",
      "  -3.79078540e-01 -1.98089439e-01  1.03082766e-02 -9.29874873e-02\n",
      "   6.59834518e-01  2.61161146e-01 -2.77328235e-01  1.80902310e-01\n",
      "  -1.69700422e-01 -1.62924779e+00  1.64044968e+00 -3.17504502e-01\n",
      "   3.13154985e-01 -1.98089439e-01 -5.72888870e-02  1.50315570e+00\n",
      "   0.00000000e+00 -1.18429973e-01  7.86873236e-02  0.00000000e+00\n",
      "  -2.08065148e-01 -9.84418176e-01]]\n"
     ]
    }
   ],
   "source": [
    "print(\"Distinct values that y takes:\",log_reg_split.classes_)\n",
    "# probability of y=0 (1st column) and y=1 (2nd column)\n",
    "print(\"Prediction Probabilities (top):\\n\", log_reg_split.predict_proba(X_test)[:3])\n",
    "print(\"Regression Coefficients:\\n\")\n",
    "b0_split = log_reg_split.intercept_[0]\n",
    "print(\"Intercept b0 =\", b0_split)\n",
    "b_split = log_reg_split.coef_\n",
    "print(\"Coefficients b =\", b_split)"
   ]
  },
  {
   "cell_type": "markdown",
   "metadata": {},
   "source": [
    "#### Comparison to no split\n",
    "Quality of the model does not depend on the solver in both cases of no split and 30% test set. Compared to no splitting, many of the model coefficients differ by more than 20%,"
   ]
  },
  {
   "cell_type": "code",
   "execution_count": 148,
   "metadata": {
    "collapsed": true
   },
   "outputs": [
    {
     "name": "stdout",
     "output_type": "stream",
     "text": [
      "Intercept relative error: -0.3436453715976333\n",
      "Coefficient relative error: [[ 4.18894597e-01 -1.23448231e+00  1.23940757e-01  3.32867001e+00\n",
      "   2.49677912e-01 -3.16970130e+00  2.56757229e-01 -1.53084995e+00\n",
      "  -2.34380434e+00  2.51562020e+01 -1.87726548e-01  4.75580060e-01\n",
      "  -1.35301256e+00  1.14771998e+00  7.85135081e-02 -1.00000000e+00\n",
      "  -4.89912487e+00 -1.22703857e+00  3.07491260e+00 -2.40337042e-01\n",
      "  -9.61139225e-01 -1.00000000e+00 -9.46155669e-02 -3.69813653e-01\n",
      "   6.20662851e-02 -6.05485849e-02  2.51293770e-01 -2.39710324e+00\n",
      "   4.51244992e-01 -4.34361207e-01  7.78059499e-03 -1.73277536e+00\n",
      "  -3.40336091e+00 -1.48843829e-01 -4.02949028e-01 -3.84140072e-01\n",
      "   1.21354540e+01 -5.04625616e-01 -1.95979356e+00  6.66379476e-02\n",
      "  -1.12756227e+00 -2.03025948e+00  3.49013776e-01 -1.26574173e+00\n",
      "   7.65355586e-02 -5.58212787e-01 -6.73149455e-01 -2.40544386e-01\n",
      "   9.57765156e-01  5.41123928e+00  2.05683510e+00  5.85796553e-02\n",
      "  -1.02715717e-02 -1.12231321e-01 -1.85300971e-01  1.05314916e-01\n",
      "  -5.38074376e+01  8.91526016e-02 -1.89890178e+00  9.22160203e-01\n",
      "   4.37413523e-02 -1.00390203e+00 -2.23527624e-01  8.85807281e-01\n",
      "  -9.60162360e-01  2.27387426e-01  5.82828848e-01             nan\n",
      "  -1.00000000e+00             nan  1.08671556e+00 -8.10942498e-01\n",
      "  -8.35562470e-01 -8.96360418e-01  4.18894597e-01 -9.31747720e-02\n",
      "  -2.24504858e+00 -1.49164981e+00  2.88236341e-01  7.48530169e-02\n",
      "  -1.00000000e+00 -2.59676127e-01 -7.60472998e-02 -8.35622324e-05\n",
      "  -2.29631871e-01  1.78779169e-02 -6.40089116e-01  4.23505616e-01\n",
      "  -1.00000000e+00  1.24335779e-01 -3.17249456e-01 -1.00000000e+00\n",
      "   1.72578668e+00  4.17768885e-01 -3.22127613e-01 -7.87356017e-02\n",
      "  -6.70346350e-01 -7.07122551e-02 -2.07013971e-01 -1.09634103e-01\n",
      "   1.73357906e+00 -2.72387713e-01 -6.63583303e+00 -4.77099445e-01\n",
      "  -1.76081433e-01 -2.77706711e-02  1.62863599e-02             nan\n",
      "   1.24682978e+00  4.78098661e-02 -1.86834212e-02  1.58153387e-01\n",
      "  -5.66252285e-02  5.37532242e-01  2.29018713e-01  1.61866226e-01\n",
      "   1.11884902e+00  4.50054320e-01 -3.05391794e-01  5.25256299e-02\n",
      "  -3.19596624e-02 -1.00000000e+00 -4.87644735e-01 -1.61418825e-01\n",
      "   2.36074701e-02             nan -1.00000000e+00  2.56976084e-01\n",
      "  -2.20483421e-01 -1.23378279e-01 -2.59859103e-01 -4.61235454e+00\n",
      "  -6.63338262e-01  2.04642483e+00  2.96062721e-01  1.92059451e-01\n",
      "   7.93417704e-02  5.37532242e-01  5.80715710e-02  1.61866226e-01\n",
      "  -3.44443696e-01  2.19000679e-01 -9.27311890e-01 -3.05391794e-01\n",
      "   5.25256299e-02  2.85374928e-01  8.26881432e+00  2.35364300e-01\n",
      "   1.58346812e-01 -1.59422625e-01 -1.53614484e-01  1.69505998e-01\n",
      "  -1.06973689e-01  2.19000679e-01 -6.47686241e-01 -1.09327642e-01\n",
      "  -1.00000000e+00  2.56976084e-01 -5.43673819e-01 -1.00000000e+00\n",
      "  -2.59859103e-01 -1.42171727e-01]]\n"
     ]
    },
    {
     "name": "stderr",
     "output_type": "stream",
     "text": [
      "<ipython-input-148-69d93c4e9c82>:2: RuntimeWarning: invalid value encountered in true_divide\n",
      "  print(\"Coefficient relative error:\",b_split/b_nosplit-1)\n"
     ]
    }
   ],
   "source": [
    "print(\"Intercept relative error:\",b0_split/b0_nosplit-1)\n",
    "print(\"Coefficient relative error:\",b_split/b_nosplit-1)"
   ]
  },
  {
   "cell_type": "markdown",
   "metadata": {},
   "source": [
    "and all quality metrics are considerably worse than for no split (Accuracy is 1.65% lower, FPR is 37.9% higher, TPR is 8.69% lower, Precision is 5.89% lower, F1 score is 7.49% lower, and MCC is 8.84% lower)."
   ]
  },
  {
   "cell_type": "code",
   "execution_count": 149,
   "metadata": {},
   "outputs": [
    {
     "name": "stdout",
     "output_type": "stream",
     "text": [
      "Relative difference in accuracy = -0.01652293187443843\n"
     ]
    }
   ],
   "source": [
    "print(\"Relative difference in accuracy =\", accuracy_split/accuracy_nosplit-1)"
   ]
  },
  {
   "cell_type": "markdown",
   "metadata": {},
   "source": [
    "The change in the proportion of positive values 1 of the label `is_churn` in the test dataset compared to the full dataset is only 0.56%,"
   ]
  },
  {
   "cell_type": "code",
   "execution_count": 150,
   "metadata": {},
   "outputs": [
    {
     "name": "stdout",
     "output_type": "stream",
     "text": [
      "Proportion of `is_churn==1` in the full set: 0.16631799163179917\n"
     ]
    }
   ],
   "source": [
    "print(\"Proportion of `is_churn==1` in the full set:\", np.sum(y)/len(y))"
   ]
  },
  {
   "cell_type": "code",
   "execution_count": 151,
   "metadata": {},
   "outputs": [
    {
     "name": "stdout",
     "output_type": "stream",
     "text": [
      "Proportion of `is_churn==1` in the test set: 0.1672473867595819\n"
     ]
    }
   ],
   "source": [
    "print(\"Proportion of `is_churn==1` in the test set:\", np.sum(y_test)/len(y_test))"
   ]
  },
  {
   "cell_type": "markdown",
   "metadata": {},
   "source": [
    "so this is not the reason for the large reduction in model quality."
   ]
  },
  {
   "cell_type": "markdown",
   "metadata": {},
   "source": [
    "#### 3.2.3 Optimization of the regularization parameter C\n",
    "Let's try to adjust the regularization strength C."
   ]
  },
  {
   "cell_type": "code",
   "execution_count": 152,
   "metadata": {},
   "outputs": [],
   "source": [
    "def opt_C(Cmin,Cmax,Cstep):\n",
    "    '''Optimize regularization parameter C by maximizing accuracy in Logistic Regression for Train-Test split.'''\n",
    "    accuracy = pd.DataFrame({'C':[],'Accuracy':[]})\n",
    "    acc_opt = 0\n",
    "    for C in np.arange(Cmin, Cmax+Cstep, Cstep):\n",
    "        log_reg_C = LogisticRegression(C=C, random_state=0, max_iter=3000)\n",
    "        log_reg_C.fit(X_train, y_train)\n",
    "        pred = log_reg_C.predict(X_test) # predicted values\n",
    "        acc = log_reg_C.score(X_test, y_test) # proportion of correct predictions\n",
    "        accuracy = accuracy.append({'C':C,'Accuracy':acc}, ignore_index=True)\n",
    "        if acc_opt < acc:\n",
    "            acc_opt = acc\n",
    "            C_opt = C\n",
    "    print('Optimal C =',C_opt)\n",
    "    print('Highest accuracy =',acc_opt)\n",
    "    fig, axs = plt.subplots(figsize = (16,8))\n",
    "    plt.scatter(accuracy['C'],accuracy['Accuracy']);\n",
    "    plt.xlabel('C');\n",
    "    plt.ylabel('Accuracy');"
   ]
  },
  {
   "cell_type": "code",
   "execution_count": 153,
   "metadata": {
    "collapsed": true
   },
   "outputs": [
    {
     "name": "stdout",
     "output_type": "stream",
     "text": [
      "Optimal C = 0.4\n",
      "Highest accuracy = 0.9094076655052264\n"
     ]
    },
    {
     "data": {
      "image/png": "[encoded data removed]",
      "text/plain": [
       "<Figure size 1152x576 with 1 Axes>"
      ]
     },
     "metadata": {},
     "output_type": "display_data"
    }
   ],
   "source": [
    "opt_C(0.1,100,0.1)"
   ]
  },
  {
   "cell_type": "code",
   "execution_count": 154,
   "metadata": {
    "collapsed": true
   },
   "outputs": [
    {
     "name": "stdout",
     "output_type": "stream",
     "text": [
      "Optimal C = 0.4\n",
      "Highest accuracy = 0.9094076655052264\n"
     ]
    },
    {
     "data": {
      "image/png": "[encoded data removed]",
      "text/plain": [
       "<Figure size 1152x576 with 1 Axes>"
      ]
     },
     "metadata": {},
     "output_type": "display_data"
    }
   ],
   "source": [
    "opt_C(0.01,2,0.01)"
   ]
  },
  {
   "cell_type": "code",
   "execution_count": 155,
   "metadata": {},
   "outputs": [
    {
     "name": "stdout",
     "output_type": "stream",
     "text": [
      "Optimized C in Logistic Regression with 30% test split:\n",
      "Accuracy = 0.9094076655052264\n",
      "[[TN, FP], [FN, TP]] =\n",
      " [[466  12]\n",
      " [ 40  56]]\n"
     ]
    },
    {
     "data": {
      "image/png": "[encoded data removed]",
      "text/plain": [
       "<Figure size 288x288 with 1 Axes>"
      ]
     },
     "metadata": {},
     "output_type": "display_data"
    },
    {
     "name": "stdout",
     "output_type": "stream",
     "text": [
      "TNR = 0.9749 Specificity, proportion of the negative class 0 got correctly classified.\n",
      "FNR = 0.4167 or Type II Error: Proportion of the positive class 1 got incorrectly classified.\n",
      "Accuracy = 0.9094: Percentage of total items classified correctly\n",
      "FPR = 0.0251 Specificity, or Type I Error: proportion of the negative class 0 got incorrectly classified.\n",
      "TPR = 0.5833 Recall, sensitivity, proportion of the positive class 1 got correctly classified.\n",
      "Precision = 0.8235\n",
      "F1 score = 0.6829: harmonic mean of precision and recall.\n",
      "MCC = 0.6447 Matthews correlation coefficient: accounts for all 4 confusion matrix categories.\n",
      "              precision    recall  f1-score   support\n",
      "\n",
      "           0       0.93      0.98      0.96      1594\n",
      "           1       0.88      0.64      0.74       318\n",
      "\n",
      "    accuracy                           0.92      1912\n",
      "   macro avg       0.90      0.81      0.85      1912\n",
      "weighted avg       0.92      0.92      0.92      1912\n",
      "\n"
     ]
    }
   ],
   "source": [
    "print('Optimized C in Logistic Regression with 30% test split:')\n",
    "C_opt = 1.0\n",
    "log_reg_C = LogisticRegression(C=C_opt, random_state=0).fit(X_train, y_train) # Create and train model using training set\n",
    "pred_C = log_reg_C.predict(X_test) # predicted values\n",
    "print(\"Accuracy =\",log_reg_C.score(X_test, y_test)) # proportion of correct predictions\n",
    "tn,fp,fn,tp = confusion_matrix_plot(y_test, pred_C)\n",
    "metrics(y_test, pred_C, tn,fp,fn,tp)\n",
    "print(classification_report(y, y_predicted))"
   ]
  },
  {
   "cell_type": "markdown",
   "metadata": {},
   "source": [
    "Optimization of the regularization parameter 'C' did not lead to an improvement in accuracy, since the accuracy and other performance metrics stay same for $C \\in [0.392, 1.756]$. A way to increase recall is to adjust the threshold probability, which will be done below when considering ROC and Precision-Recall curves."
   ]
  },
  {
   "cell_type": "markdown",
   "metadata": {},
   "source": [
    "#### Cross-Validation\n",
    "A more reliable way of validating the model and optimizing its parameters is by cross-validation."
   ]
  },
  {
   "cell_type": "code",
   "execution_count": 156,
   "metadata": {},
   "outputs": [
    {
     "name": "stdout",
     "output_type": "stream",
     "text": [
      "Example of cross-validation:\n",
      "Cross-Validation Accuracy Scores [0.96354167 0.921875   0.91099476 0.91623037 0.89005236 0.88481675\n",
      " 0.93193717 0.87434555 0.90052356 0.91623037]\n"
     ]
    },
    {
     "data": {
      "text/plain": [
       "(0.8743455497382199, 0.9110547556719023, 0.9635416666666666)"
      ]
     },
     "execution_count": 156,
     "metadata": {},
     "output_type": "execute_result"
    }
   ],
   "source": [
    "from sklearn.model_selection import cross_val_score\n",
    "print(\"Example of cross-validation:\")\n",
    "log_reg_cv = LogisticRegression(random_state=0) #solver='liblinear'\n",
    "scores = cross_val_score(log_reg_cv, X, y, cv=10) #X_train, y_train\n",
    "print('Cross-Validation Accuracy Scores', scores)\n",
    "scores.min(), scores.mean(), scores.max()"
   ]
  },
  {
   "cell_type": "code",
   "execution_count": null,
   "metadata": {},
   "outputs": [],
   "source": [
    "?LogisticRegression"
   ]
  },
  {
   "cell_type": "code",
   "execution_count": 157,
   "metadata": {},
   "outputs": [],
   "source": [
    "def optCV_C(Cmin,Cmax,Cstep):\n",
    "    '''Optimize regularization parameter C in Logistic Regression with 10-fold Cross-Validation'''\n",
    "    accuracy = pd.DataFrame({'C':[],'Accuracy':[]})\n",
    "    acc_opt = 0\n",
    "    for C in np.arange(Cmin, Cmax+Cstep, Cstep):\n",
    "        log_reg_cv = LogisticRegression(solver='lbfgs', C=C, max_iter=3000, random_state=0) #liblinear\n",
    "        scores = cross_val_score(log_reg_cv, X, y, cv=10) # accuracies of cv cross-validations\n",
    "        acc = scores.mean()\n",
    "        accuracy = accuracy.append({'C':C,'Accuracy':acc}, ignore_index=True)\n",
    "        if acc_opt < acc:\n",
    "            acc_opt = acc\n",
    "            C_opt = C\n",
    "    print('Optimal C =',C_opt)\n",
    "    print('Highest accuracy =',acc_opt)\n",
    "    fig, axs = plt.subplots(figsize = (16,8))\n",
    "    plt.scatter(accuracy['C'],accuracy['Accuracy']);\n",
    "    plt.xlabel('C');\n",
    "    plt.ylabel('Accuracy');"
   ]
  },
  {
   "cell_type": "code",
   "execution_count": null,
   "metadata": {},
   "outputs": [],
   "source": [
    "INSERT FROM 2nd FILE"
   ]
  },
  {
   "cell_type": "code",
   "execution_count": null,
   "metadata": {},
   "outputs": [],
   "source": []
  },
  {
   "cell_type": "code",
   "execution_count": 41,
   "metadata": {},
   "outputs": [
    {
     "name": "stdout",
     "output_type": "stream",
     "text": [
      "Optimize regularization parameter C using cross-validation\n",
      "Optimal C = 0.04\n",
      "Highest accuracy = 0.9126553944058013\n"
     ]
    },
    {
     "data": {
      "image/png": "[encoded data removed]",
      "text/plain": [
       "<Figure size 1152x576 with 1 Axes>"
      ]
     },
     "metadata": {
      "needs_background": "light"
     },
     "output_type": "display_data"
    }
   ],
   "source": [
    "print('Detailed optimization')\n",
    "accuracy = pd.DataFrame({'C':[],'Accuracy':[]})\n",
    "acc_opt = 0\n",
    "for C in np.arange(0.01, 0.51, 0.01):\n",
    "    C = round(C,2)\n",
    "    log_reg = LogisticRegression(solver='liblinear', C=C, random_state=0)\n",
    "    scores = cross_val_score(log_reg, X_train, y_train, cv=10) # accuracies of cv cross-validations\n",
    "    acc = scores.mean()\n",
    "    accuracy = accuracy.append({'C':C,'Accuracy':acc}, ignore_index=True)\n",
    "    if acc_opt < acc:\n",
    "        acc_opt = acc\n",
    "        C_opt = C\n",
    "print('Optimal C =',C_opt)\n",
    "print('Highest accuracy =',acc_opt)\n",
    "fig, axs = plt.subplots(figsize = (16,8))\n",
    "plt.scatter(accuracy['C'],accuracy['Accuracy']);\n",
    "plt.xlabel('C');\n",
    "plt.ylabel('Accuracy');"
   ]
  },
  {
   "cell_type": "code",
   "execution_count": 43,
   "metadata": {},
   "outputs": [
    {
     "name": "stdout",
     "output_type": "stream",
     "text": [
      "Optimize regularization parameter C using cross-validation\n",
      "Optimal C = 0.044\n",
      "Highest accuracy = 0.9130845789551577\n"
     ]
    },
    {
     "data": {
      "image/png": "[encoded data removed]",
      "text/plain": [
       "<Figure size 1152x576 with 1 Axes>"
      ]
     },
     "metadata": {
      "needs_background": "light"
     },
     "output_type": "display_data"
    }
   ],
   "source": [
    "print('Detailed optimization')\n",
    "accuracy = pd.DataFrame({'C':[],'Accuracy':[]})\n",
    "acc_opt = 0\n",
    "for C in np.arange(0.001, 0.061, 0.001):\n",
    "    C = round(C,3)\n",
    "    log_reg = LogisticRegression(solver='liblinear', C=C, random_state=0)\n",
    "    scores = cross_val_score(log_reg, X_train, y_train, cv=10) # accuracies of cv cross-validations\n",
    "    acc = scores.mean()\n",
    "    accuracy = accuracy.append({'C':C,'Accuracy':acc}, ignore_index=True)\n",
    "    if acc_opt < acc:\n",
    "        acc_opt = acc\n",
    "        C_opt = C\n",
    "print('Optimal C =',C_opt)\n",
    "print('Highest accuracy =',acc_opt)\n",
    "fig, axs = plt.subplots(figsize = (16,8))\n",
    "plt.scatter(accuracy['C'],accuracy['Accuracy']);\n",
    "plt.xlabel('C');\n",
    "plt.ylabel('Accuracy');"
   ]
  },
  {
   "cell_type": "markdown",
   "metadata": {},
   "source": [
    "### Quality metrics"
   ]
  },
  {
   "cell_type": "code",
   "execution_count": 49,
   "metadata": {
    "scrolled": true
   },
   "outputs": [
    {
     "name": "stdout",
     "output_type": "stream",
     "text": [
      "Optimized C in Logistic Regression with 10-fold Cross-Validation:\n",
      "Accuracy = 0.9146586345381527\n",
      "[[TN, FP], [FN, TP]] =\n",
      " [[844   9]\n",
      " [ 76  67]]\n"
     ]
    },
    {
     "data": {
      "image/png": "[encoded data removed]",
      "text/plain": [
       "<Figure size 288x288 with 1 Axes>"
      ]
     },
     "metadata": {},
     "output_type": "display_data"
    }
   ],
   "source": [
    "C_opt=0.044\n",
    "print('Optimized C in Logistic Regression with 10-fold Cross-Validation:')\n",
    "log_reg = LogisticRegression(solver='liblinear', C=C_opt, random_state=0) # Create a model\n",
    "log_reg.fit(X_train, y_train) # Train model using training set\n",
    "y_pred = log_reg.predict(X_test) # predicted values\n",
    "print(\"Accuracy =\",log_reg.score(X_test, y_test)) # proportion of correct predictions\n",
    "tn,fp,fn,tp = confusion_matrix_plot(y_test, y_pred)"
   ]
  },
  {
   "cell_type": "code",
   "execution_count": 32,
   "metadata": {},
   "outputs": [
    {
     "name": "stdout",
     "output_type": "stream",
     "text": [
      "              precision    recall  f1-score   support\n",
      "\n",
      "         0.0       0.92      0.99      0.95       853\n",
      "         1.0       0.88      0.47      0.61       143\n",
      "\n",
      "    accuracy                           0.91       996\n",
      "   macro avg       0.90      0.73      0.78       996\n",
      "weighted avg       0.91      0.91      0.90       996\n",
      "\n"
     ]
    }
   ],
   "source": [
    "print(classification_report(y_test, y_pred))"
   ]
  },
  {
   "cell_type": "code",
   "execution_count": 52,
   "metadata": {},
   "outputs": [
    {
     "name": "stdout",
     "output_type": "stream",
     "text": [
      "Recall = 0.46853146853146854\n",
      "Precision = 0.881578947368421\n",
      "F1 score = 0.6118721461187215\n",
      "FNR = 0.5315 Proportion of the positive class 1 got incorrectly classified.\n",
      "TNR = 0.9894 Specificity, proportion of the negative class 0 got correctly classified.\n",
      "FPR = 0.0106 Specificity, proportion of the negative class 0 got incorrectly classified.\n",
      "MCC = 0.6049 Matthews correlation coefficient: accounts for all 4 confusion matrix categories.\n"
     ]
    }
   ],
   "source": [
    "from sklearn.metrics import accuracy_score, recall_score, precision_score, f1_score\n",
    "print('Recall =', recall_score(y_test, pred_cv))\n",
    "# tpr = tp/(tp + fn) Recall, sensitivity, proportion of the positive class 1 got correctly classified.\n",
    "print('Precision =', precision_score(y_test, pred_cv))\n",
    "print('F1 score =', f1_score(y_test, pred_cv))\n",
    "fnr = fn/(tp + fn)\n",
    "print(f\"FNR = {round(fnr,4)} Proportion of the positive class 1 got incorrectly classified.\")\n",
    "tnr = tn/(tn + fp)\n",
    "print(f\"TNR = {round(tnr,4)} Specificity, proportion of the negative class 0 got correctly classified.\")\n",
    "fpr = fp/(tn + fp)\n",
    "print(f\"FPR = {round(fpr,4)} Specificity, proportion of the negative class 0 got incorrectly classified.\")\n",
    "MCC = (tp*tn-fp*fn)/np.sqrt((tp+fp)*(tp+fn)*(tn+fp)*(tn+fn))\n",
    "print(f\"MCC = {round(MCC,4)} Matthews correlation coefficient: accounts for all 4 confusion matrix categories.\")"
   ]
  },
  {
   "cell_type": "markdown",
   "metadata": {},
   "source": [
    "### ROC - AUC, Optimization of classification threshold\n",
    "Area Under the Curve (AUC) of Receiver Characteristic Operator (ROC) helps us visualize how well our machine learning classifier is performing and choose the optimal classification threshold probability.\n",
    "\n",
    "https://www.analyticsvidhya.com/blog/2020/06/auc-roc-curve-machine-learning/\n",
    "\n",
    "https://machinelearningmastery.com/threshold-moving-for-imbalanced-classification/"
   ]
  },
  {
   "cell_type": "code",
   "execution_count": 47,
   "metadata": {},
   "outputs": [
    {
     "data": {
      "image/png": "[encoded data removed]",
      "text/plain": [
       "<Figure size 432x288 with 1 Axes>"
      ]
     },
     "metadata": {},
     "output_type": "display_data"
    },
    {
     "name": "stdout",
     "output_type": "stream",
     "text": [
      "AUC: 0.910\n"
     ]
    }
   ],
   "source": [
    "prob_y = log_reg_cv.predict_proba(X_test)[:,1]\n",
    "fpr, tpr, thresh = roc_curve(y_test, prob_y, pos_label=1, drop_intermediate=False)\n",
    "plt.plot(fpr, tpr, linestyle='-', label='Logistic')\n",
    "plt.title('Logistic Regression, 10-fold cross-validation')\n",
    "# axis labels\n",
    "plt.xlabel('False Positive Rate')\n",
    "plt.ylabel('True Positive Rate')\n",
    "#plt.legend() # show the legend\n",
    "plt.show()\n",
    "print('AUC: %.3f' % roc_auc_score(y_test, prob_y))"
   ]
  },
  {
   "cell_type": "markdown",
   "metadata": {},
   "source": [
    "Manual ROC curve with controllable no. of threshold probabilities."
   ]
  },
  {
   "cell_type": "code",
   "execution_count": 45,
   "metadata": {},
   "outputs": [
    {
     "name": "stdout",
     "output_type": "stream",
     "text": [
      "FPR = [1.         1.         1.         0.9144197  0.57327081 0.41031653\n",
      " 0.38569754 0.36694021 0.35756155 0.35756155 0.35287222 0.34818288\n",
      " 0.33177022 0.30715123 0.28956624 0.23446659 0.1852286  0.16178195\n",
      " 0.13716295 0.11957796 0.10433763 0.09378664 0.08675264 0.07737397\n",
      " 0.07620164 0.07385698 0.07385698 0.07385698 0.07268464 0.06799531\n",
      " 0.06565064 0.06447831 0.06213365 0.06096131 0.05275498 0.04454865\n",
      " 0.03634232 0.03282532 0.02813599 0.02344666 0.01875733 0.01641266\n",
      " 0.01289566 0.01289566 0.01289566 0.01172333 0.01172333 0.01172333\n",
      " 0.010551   0.010551   0.010551   0.00937866 0.00937866 0.00937866\n",
      " 0.00937866 0.00937866 0.00937866 0.00937866 0.00820633 0.00820633\n",
      " 0.00820633 0.00820633 0.00820633 0.00820633 0.00820633 0.00820633\n",
      " 0.00820633 0.007034   0.007034   0.007034   0.007034   0.007034\n",
      " 0.007034   0.00468933 0.00468933 0.00468933 0.00468933 0.00234467\n",
      " 0.         0.         0.         0.         0.         0.\n",
      " 0.         0.         0.         0.         0.         0.\n",
      " 0.         0.         0.         0.         0.         0.\n",
      " 0.         0.         0.         0.         0.        ]\n",
      "TPR = [1.         1.         1.         0.9144197  0.57327081 0.41031653\n",
      " 0.38569754 0.36694021 0.35756155 0.35756155 0.35287222 0.34818288\n",
      " 0.33177022 0.30715123 0.28956624 0.23446659 0.1852286  0.16178195\n",
      " 0.13716295 0.11957796 0.10433763 0.09378664 0.08675264 0.07737397\n",
      " 0.07620164 0.07385698 0.07385698 0.07385698 0.07268464 0.06799531\n",
      " 0.06565064 0.06447831 0.06213365 0.06096131 0.05275498 0.04454865\n",
      " 0.03634232 0.03282532 0.02813599 0.02344666 0.01875733 0.01641266\n",
      " 0.01289566 0.01289566 0.01289566 0.01172333 0.01172333 0.01172333\n",
      " 0.010551   0.010551   0.010551   0.00937866 0.00937866 0.00937866\n",
      " 0.00937866 0.00937866 0.00937866 0.00937866 0.00820633 0.00820633\n",
      " 0.00820633 0.00820633 0.00820633 0.00820633 0.00820633 0.00820633\n",
      " 0.00820633 0.007034   0.007034   0.007034   0.007034   0.007034\n",
      " 0.007034   0.00468933 0.00468933 0.00468933 0.00468933 0.00234467\n",
      " 0.         0.         0.         0.         0.         0.\n",
      " 0.         0.         0.         0.         0.         0.\n",
      " 0.         0.         0.         0.         0.         0.\n",
      " 0.         0.         0.         0.         0.        ]\n"
     ]
    },
    {
     "data": {
      "image/png": "[encoded data removed]",
      "text/plain": [
       "<Figure size 432x288 with 1 Axes>"
      ]
     },
     "metadata": {},
     "output_type": "display_data"
    },
    {
     "name": "stdout",
     "output_type": "stream",
     "text": [
      "AUC: 0.910\n"
     ]
    }
   ],
   "source": [
    "pred_prob = log_reg.predict_proba(X_test) # probability of y=0 (1st column) and y=1 (2nd column)\n",
    "prob_step = 0.01\n",
    "fpr = np.empty(int(1+1/prob_step))\n",
    "tpr = np.empty(int(1+1/prob_step))\n",
    "j = 0 # counter of points\n",
    "thresholds = np.arange(0, 1+prob_step, prob_step)\n",
    "for prob_thresh in thresholds:\n",
    "    tn = 0; fn = 0; tp = 0; fp = 0;\n",
    "    for i in range(pred_prob.shape[0]): # each test case\n",
    "        if pred_prob[i,1] >= prob_thresh: # classify as 1\n",
    "            if y_test[i] == 0: # actual 0\n",
    "                fp = fp+1\n",
    "            else: # actual 1\n",
    "                tp = tp+1\n",
    "        else: # classify as 0\n",
    "            if y_test[i] == 0: # actual 0\n",
    "                tn = tn+1\n",
    "            else: # actual 1\n",
    "                fn = fn+1\n",
    "    fpr[j] = fp/(tn + fp) # specificity\n",
    "    tpr[j] = tp/(tp + fn) # sensitivity\n",
    "    j = j+1\n",
    "print(\"FPR =\",fpr)\n",
    "print(\"TPR =\",fpr)\n",
    "# ROC curve\n",
    "plt.plot(fpr, tpr, linestyle='-', label='Logistic')\n",
    "plt.title('Logistic Regression, 10-fold cross-validation')\n",
    "plt.xlabel('False Positive Rate')\n",
    "plt.ylabel('True Positive Rate')\n",
    "plt.legend() # show the legend\n",
    "plt.show()\n",
    "print('AUC: %.3f' % roc_auc_score(y_test, pred_prob[:,1]))"
   ]
  },
  {
   "cell_type": "code",
   "execution_count": 39,
   "metadata": {},
   "outputs": [
    {
     "data": {
      "text/html": [
       "<div>\n",
       "<style scoped>\n",
       "    .dataframe tbody tr th:only-of-type {\n",
       "        vertical-align: middle;\n",
       "    }\n",
       "\n",
       "    .dataframe tbody tr th {\n",
       "        vertical-align: top;\n",
       "    }\n",
       "\n",
       "    .dataframe thead th {\n",
       "        text-align: right;\n",
       "    }\n",
       "</style>\n",
       "<table border=\"1\" class=\"dataframe\">\n",
       "  <thead>\n",
       "    <tr style=\"text-align: right;\">\n",
       "      <th></th>\n",
       "      <th>0</th>\n",
       "    </tr>\n",
       "  </thead>\n",
       "  <tbody>\n",
       "    <tr>\n",
       "      <th>accuracy</th>\n",
       "      <td>0.914659</td>\n",
       "    </tr>\n",
       "    <tr>\n",
       "      <th>recall</th>\n",
       "      <td>0.468531</td>\n",
       "    </tr>\n",
       "    <tr>\n",
       "      <th>precision</th>\n",
       "      <td>0.881579</td>\n",
       "    </tr>\n",
       "    <tr>\n",
       "      <th>roc_auc_score</th>\n",
       "      <td>0.728990</td>\n",
       "    </tr>\n",
       "  </tbody>\n",
       "</table>\n",
       "</div>"
      ],
      "text/plain": [
       "                      0\n",
       "accuracy       0.914659\n",
       "recall         0.468531\n",
       "precision      0.881579\n",
       "roc_auc_score  0.728990"
      ]
     },
     "execution_count": 39,
     "metadata": {},
     "output_type": "execute_result"
    }
   ],
   "source": [
    "from sklearn.metrics import accuracy_score, recall_score, precision_score\n",
    "THRESHOLD = 0.5\n",
    "preds = np.where(log_reg_cv.predict_proba(X_test)[:,1] > THRESHOLD, 1, 0)\n",
    "pd.DataFrame(data=[accuracy_score(y_test, preds), recall_score(y_test, preds),\n",
    "                   precision_score(y_test, preds), roc_auc_score(y_test, preds)], \n",
    "             index=[\"accuracy\", \"recall\", \"precision\", \"roc_auc_score\"])"
   ]
  },
  {
   "cell_type": "markdown",
   "metadata": {},
   "source": [
    "### Optimize decision threshold"
   ]
  },
  {
   "cell_type": "code",
   "execution_count": 41,
   "metadata": {},
   "outputs": [
    {
     "name": "stdout",
     "output_type": "stream",
     "text": [
      "Best Threshold=0.7155, G-Mean_sq=0.7241\n",
      "FPR=0.1372, TPR=0.8392\n"
     ]
    },
    {
     "data": {
      "text/html": [
       "<div>\n",
       "<style scoped>\n",
       "    .dataframe tbody tr th:only-of-type {\n",
       "        vertical-align: middle;\n",
       "    }\n",
       "\n",
       "    .dataframe tbody tr th {\n",
       "        vertical-align: top;\n",
       "    }\n",
       "\n",
       "    .dataframe thead th {\n",
       "        text-align: right;\n",
       "    }\n",
       "</style>\n",
       "<table border=\"1\" class=\"dataframe\">\n",
       "  <thead>\n",
       "    <tr style=\"text-align: right;\">\n",
       "      <th></th>\n",
       "      <th>0</th>\n",
       "    </tr>\n",
       "  </thead>\n",
       "  <tbody>\n",
       "    <tr>\n",
       "      <th>accuracy</th>\n",
       "      <td>0.909639</td>\n",
       "    </tr>\n",
       "    <tr>\n",
       "      <th>recall</th>\n",
       "      <td>0.412587</td>\n",
       "    </tr>\n",
       "    <tr>\n",
       "      <th>precision</th>\n",
       "      <td>0.907692</td>\n",
       "    </tr>\n",
       "    <tr>\n",
       "      <th>roc_auc_score</th>\n",
       "      <td>0.702777</td>\n",
       "    </tr>\n",
       "  </tbody>\n",
       "</table>\n",
       "</div>"
      ],
      "text/plain": [
       "                      0\n",
       "accuracy       0.909639\n",
       "recall         0.412587\n",
       "precision      0.907692\n",
       "roc_auc_score  0.702777"
      ]
     },
     "execution_count": 41,
     "metadata": {},
     "output_type": "execute_result"
    }
   ],
   "source": [
    "# calculate the squared g-mean for each threshold\n",
    "gmeans_sq = tpr*(1-fpr)\n",
    "# locate the index of the largest g-mean\n",
    "ix = np.argmax(gmeans_sq)\n",
    "print('Best Threshold=%.4f, G-Mean_sq=%.4f' % (thresh[ix], gmeans_sq[ix]))\n",
    "print('FPR=%.4f, TPR=%.4f' % (fpr[ix], tpr[ix]))\n",
    "\n",
    "from sklearn.metrics import accuracy_score, recall_score, precision_score\n",
    "THRESHOLD = thresh[ix]\n",
    "preds = np.where(log_reg.predict_proba(X_test)[:,1] > THRESHOLD, 1, 0)\n",
    "pd.DataFrame(data=[accuracy_score(y_test, preds), recall_score(y_test, preds),\n",
    "                   precision_score(y_test, preds), roc_auc_score(y_test, preds)], \n",
    "             index=[\"accuracy\", \"recall\", \"precision\", \"roc_auc_score\"])"
   ]
  },
  {
   "cell_type": "markdown",
   "metadata": {},
   "source": [
    "### Optimize solver"
   ]
  },
  {
   "cell_type": "code",
   "execution_count": 42,
   "metadata": {},
   "outputs": [
    {
     "name": "stdout",
     "output_type": "stream",
     "text": [
      "Optimize C using 10-fold cross-validation, lbfgs solver\n",
      "Optimal C = 0.1\n",
      "Highest accuracy = 0.9087760840609738\n"
     ]
    },
    {
     "data": {
      "image/png": "[encoded data removed]",
      "text/plain": [
       "<Figure size 432x288 with 1 Axes>"
      ]
     },
     "metadata": {},
     "output_type": "display_data"
    }
   ],
   "source": [
    "print('Optimize C using 10-fold cross-validation, lbfgs solver')\n",
    "log_reg_lbfgs = LogisticRegression(solver='lbfgs')\n",
    "accuracy = pd.DataFrame({'C':[],'Accuracy':[]})\n",
    "acc_opt = 0\n",
    "for C in np.arange(0.1, 100.0, 0.1):\n",
    "    C = round(C,1)\n",
    "    log_reg_cv_lbfgs = LogisticRegression(solver='lbfgs', C=C, random_state=0, max_iter=3000)\n",
    "    scores = cross_val_score(log_reg_cv_lbfgs, X_train, y_train, cv=10) # accuracies of cv cross-validations\n",
    "    acc = scores.mean()\n",
    "    accuracy = accuracy.append({'C':C,'Accuracy':acc}, ignore_index=True)\n",
    "    if acc_opt < acc:\n",
    "        acc_opt = acc\n",
    "        C_opt = C\n",
    "    #if C % 10 == 0: print(\"C =\",C)\n",
    "print('Optimal C =',C_opt)\n",
    "print('Highest accuracy =',acc_opt)\n",
    "plt.scatter(accuracy['C'],accuracy['Accuracy']);\n",
    "plt.xlabel('C');\n",
    "plt.ylabel('Accuracy');"
   ]
  },
  {
   "cell_type": "code",
   "execution_count": null,
   "metadata": {},
   "outputs": [
    {
     "name": "stdout",
     "output_type": "stream",
     "text": [
      "Optimize C using 10-fold cross-validation, lbfgs solver\n"
     ]
    }
   ],
   "source": [
    "print('Optimize C using 10-fold cross-validation, lbfgs solver')\n",
    "log_reg_lbfgs = LogisticRegression(solver='lbfgs')\n",
    "accuracy = pd.DataFrame({'C':[],'Accuracy':[]})\n",
    "acc_opt = 0\n",
    "for C in np.arange(0.01, 10.01, 0.01):\n",
    "    #C = round(C,1)\n",
    "    log_reg_cv_lbfgs = LogisticRegression(solver='lbfgs', C=C, random_state=0, max_iter=3000)\n",
    "    scores = cross_val_score(log_reg_cv_lbfgs, X_train, y_train, cv=10) # accuracies of cv cross-validations\n",
    "    acc = scores.mean()\n",
    "    accuracy = accuracy.append({'C':C,'Accuracy':acc}, ignore_index=True)\n",
    "    if acc_opt < acc:\n",
    "        acc_opt = acc\n",
    "        C_opt = C\n",
    "    #if C % 10 == 0: print(\"C =\",C)\n",
    "print('Optimal C =',C_opt)\n",
    "print('Highest accuracy =',acc_opt)\n",
    "plt.scatter(accuracy['C'],accuracy['Accuracy']);\n",
    "plt.xlabel('C');\n",
    "plt.ylabel('Accuracy');"
   ]
  },
  {
   "cell_type": "code",
   "execution_count": 120,
   "metadata": {},
   "outputs": [
    {
     "name": "stdout",
     "output_type": "stream",
     "text": [
      "Accuracy = 0.9126553944058013\n"
     ]
    }
   ],
   "source": [
    "C_opt=0.04\n",
    "log_reg_cv_lbfgs = LogisticRegression(solver='lbfgs', C=C_opt, random_state=0, max_iter=3000)\n",
    "log_reg_cv_lbfgs.fit(X_test, y_test)\n",
    "scores = cross_val_score(log_reg_cv_lbfgs, X_train, y_train, cv=10) # accuracies of cv cross-validations\n",
    "acc = scores.mean()\n",
    "print(\"Accuracy =\",acc)\n",
    "prob_cv_lbfgs = log_reg_cv_lbfgs.predict_proba(X_test)[:,1]\n",
    "fpr, tpr, thresh = roc_curve(y_test, prob_cv_lbfgs, pos_label=1, drop_intermediate=False)"
   ]
  },
  {
   "cell_type": "code",
   "execution_count": 121,
   "metadata": {},
   "outputs": [
    {
     "name": "stdout",
     "output_type": "stream",
     "text": [
      "Best Threshold=0.1697, G-Mean_sq=0.6975\n",
      "FPR=0.1688, TPR=0.8392\n"
     ]
    },
    {
     "data": {
      "text/html": [
       "<div>\n",
       "<style scoped>\n",
       "    .dataframe tbody tr th:only-of-type {\n",
       "        vertical-align: middle;\n",
       "    }\n",
       "\n",
       "    .dataframe tbody tr th {\n",
       "        vertical-align: top;\n",
       "    }\n",
       "\n",
       "    .dataframe thead th {\n",
       "        text-align: right;\n",
       "    }\n",
       "</style>\n",
       "<table border=\"1\" class=\"dataframe\">\n",
       "  <thead>\n",
       "    <tr style=\"text-align: right;\">\n",
       "      <th></th>\n",
       "      <th>0</th>\n",
       "    </tr>\n",
       "  </thead>\n",
       "  <tbody>\n",
       "    <tr>\n",
       "      <th>accuracy</th>\n",
       "      <td>0.838353</td>\n",
       "    </tr>\n",
       "    <tr>\n",
       "      <th>recall</th>\n",
       "      <td>0.853147</td>\n",
       "    </tr>\n",
       "    <tr>\n",
       "      <th>precision</th>\n",
       "      <td>0.465649</td>\n",
       "    </tr>\n",
       "    <tr>\n",
       "      <th>roc_auc_score</th>\n",
       "      <td>0.844510</td>\n",
       "    </tr>\n",
       "  </tbody>\n",
       "</table>\n",
       "</div>"
      ],
      "text/plain": [
       "                      0\n",
       "accuracy       0.838353\n",
       "recall         0.853147\n",
       "precision      0.465649\n",
       "roc_auc_score  0.844510"
      ]
     },
     "execution_count": 121,
     "metadata": {},
     "output_type": "execute_result"
    }
   ],
   "source": [
    "### Optimize decision threshold\n",
    "# calculate the squared g-mean for each threshold\n",
    "gmeans_sq = tpr*(1-fpr)\n",
    "# locate the index of the largest g-mean\n",
    "ix = np.argmax(gmeans_sq)\n",
    "print('Best Threshold=%.4f, G-Mean_sq=%.4f' % (thresh[ix], gmeans_sq[ix]))\n",
    "print('FPR=%.4f, TPR=%.4f' % (fpr[ix], tpr[ix]))\n",
    "\n",
    "from sklearn.metrics import accuracy_score, recall_score, precision_score\n",
    "THRESHOLD = thresh[ix]\n",
    "preds = np.where(log_reg_cv.predict_proba(X_test)[:,1] > THRESHOLD, 1, 0)\n",
    "pd.DataFrame(data=[accuracy_score(y_test, preds), recall_score(y_test, preds),\n",
    "                   precision_score(y_test, preds), roc_auc_score(y_test, preds)], \n",
    "             index=[\"accuracy\", \"recall\", \"precision\", \"roc_auc_score\"])"
   ]
  },
  {
   "cell_type": "code",
   "execution_count": null,
   "metadata": {},
   "outputs": [],
   "source": []
  }
 ],
 "metadata": {
  "kernelspec": {
   "display_name": "Python 3",
   "language": "python",
   "name": "python3"
  },
  "language_info": {
   "codemirror_mode": {
    "name": "ipython",
    "version": 3
   },
   "file_extension": ".py",
   "mimetype": "text/x-python",
   "name": "python",
   "nbconvert_exporter": "python",
   "pygments_lexer": "ipython3",
   "version": "3.8.5"
  }
 },
 "nbformat": 4,
 "nbformat_minor": 4
}
