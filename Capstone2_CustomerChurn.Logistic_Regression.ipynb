{
 "cells": [
  {
   "cell_type": "markdown",
   "metadata": {},
   "source": [
    "# Logistic Regression"
   ]
  },
  {
   "cell_type": "code",
   "execution_count": 12,
   "metadata": {},
   "outputs": [],
   "source": [
    "import os\n",
    "os.chdir('C:/Sereda/Lectures/Springboard/Capstone2_CustomerChurn/')\n",
    "import pandas as pd\n",
    "import numpy as np\n",
    "from sklearn.linear_model import LogisticRegression\n",
    "from sklearn.model_selection import train_test_split, cross_val_score\n",
    "from sklearn.metrics import confusion_matrix, classification_report, roc_curve, roc_auc_score\n",
    "import matplotlib.pyplot as plt\n",
    "plt.style.use('fivethirtyeight')\n",
    "pd.set_option('display.max_rows', 600)"
   ]
  },
  {
   "cell_type": "markdown",
   "metadata": {},
   "source": [
    "#### Import `df`"
   ]
  },
  {
   "cell_type": "code",
   "execution_count": 13,
   "metadata": {},
   "outputs": [
    {
     "data": {
      "text/html": [
       "<div>\n",
       "<style scoped>\n",
       "    .dataframe tbody tr th:only-of-type {\n",
       "        vertical-align: middle;\n",
       "    }\n",
       "\n",
       "    .dataframe tbody tr th {\n",
       "        vertical-align: top;\n",
       "    }\n",
       "\n",
       "    .dataframe thead th {\n",
       "        text-align: right;\n",
       "    }\n",
       "</style>\n",
       "<table border=\"1\" class=\"dataframe\">\n",
       "  <thead>\n",
       "    <tr style=\"text-align: right;\">\n",
       "      <th></th>\n",
       "      <th>is_churn</th>\n",
       "      <th>city_0.0</th>\n",
       "      <th>city_1.0</th>\n",
       "      <th>city_3.0</th>\n",
       "      <th>city_4.0</th>\n",
       "      <th>city_5.0</th>\n",
       "      <th>city_6.0</th>\n",
       "      <th>city_7.0</th>\n",
       "      <th>city_8.0</th>\n",
       "      <th>city_9.0</th>\n",
       "      <th>...</th>\n",
       "      <th>discount_30.0</th>\n",
       "      <th>discount_120.0</th>\n",
       "      <th>discount_149.0</th>\n",
       "      <th>registration_weekday_0.0</th>\n",
       "      <th>registration_weekday_1.0</th>\n",
       "      <th>registration_weekday_2.0</th>\n",
       "      <th>registration_weekday_3.0</th>\n",
       "      <th>registration_weekday_4.0</th>\n",
       "      <th>registration_weekday_5.0</th>\n",
       "      <th>registration_weekday_6.0</th>\n",
       "    </tr>\n",
       "  </thead>\n",
       "  <tbody>\n",
       "    <tr>\n",
       "      <th>0</th>\n",
       "      <td>0.0</td>\n",
       "      <td>0</td>\n",
       "      <td>0</td>\n",
       "      <td>0</td>\n",
       "      <td>0</td>\n",
       "      <td>0</td>\n",
       "      <td>0</td>\n",
       "      <td>0</td>\n",
       "      <td>0</td>\n",
       "      <td>0</td>\n",
       "      <td>...</td>\n",
       "      <td>0</td>\n",
       "      <td>0</td>\n",
       "      <td>0</td>\n",
       "      <td>0</td>\n",
       "      <td>0</td>\n",
       "      <td>0</td>\n",
       "      <td>0</td>\n",
       "      <td>0</td>\n",
       "      <td>1</td>\n",
       "      <td>0</td>\n",
       "    </tr>\n",
       "    <tr>\n",
       "      <th>1</th>\n",
       "      <td>0.0</td>\n",
       "      <td>0</td>\n",
       "      <td>0</td>\n",
       "      <td>0</td>\n",
       "      <td>0</td>\n",
       "      <td>0</td>\n",
       "      <td>0</td>\n",
       "      <td>0</td>\n",
       "      <td>0</td>\n",
       "      <td>0</td>\n",
       "      <td>...</td>\n",
       "      <td>0</td>\n",
       "      <td>0</td>\n",
       "      <td>0</td>\n",
       "      <td>0</td>\n",
       "      <td>0</td>\n",
       "      <td>0</td>\n",
       "      <td>0</td>\n",
       "      <td>0</td>\n",
       "      <td>1</td>\n",
       "      <td>0</td>\n",
       "    </tr>\n",
       "    <tr>\n",
       "      <th>2</th>\n",
       "      <td>1.0</td>\n",
       "      <td>0</td>\n",
       "      <td>0</td>\n",
       "      <td>0</td>\n",
       "      <td>0</td>\n",
       "      <td>0</td>\n",
       "      <td>0</td>\n",
       "      <td>0</td>\n",
       "      <td>0</td>\n",
       "      <td>0</td>\n",
       "      <td>...</td>\n",
       "      <td>0</td>\n",
       "      <td>0</td>\n",
       "      <td>0</td>\n",
       "      <td>0</td>\n",
       "      <td>0</td>\n",
       "      <td>0</td>\n",
       "      <td>0</td>\n",
       "      <td>0</td>\n",
       "      <td>1</td>\n",
       "      <td>0</td>\n",
       "    </tr>\n",
       "    <tr>\n",
       "      <th>3</th>\n",
       "      <td>0.0</td>\n",
       "      <td>0</td>\n",
       "      <td>0</td>\n",
       "      <td>0</td>\n",
       "      <td>0</td>\n",
       "      <td>0</td>\n",
       "      <td>0</td>\n",
       "      <td>0</td>\n",
       "      <td>0</td>\n",
       "      <td>0</td>\n",
       "      <td>...</td>\n",
       "      <td>0</td>\n",
       "      <td>0</td>\n",
       "      <td>0</td>\n",
       "      <td>0</td>\n",
       "      <td>0</td>\n",
       "      <td>0</td>\n",
       "      <td>0</td>\n",
       "      <td>0</td>\n",
       "      <td>1</td>\n",
       "      <td>0</td>\n",
       "    </tr>\n",
       "    <tr>\n",
       "      <th>4</th>\n",
       "      <td>0.0</td>\n",
       "      <td>0</td>\n",
       "      <td>0</td>\n",
       "      <td>0</td>\n",
       "      <td>0</td>\n",
       "      <td>0</td>\n",
       "      <td>0</td>\n",
       "      <td>0</td>\n",
       "      <td>0</td>\n",
       "      <td>0</td>\n",
       "      <td>...</td>\n",
       "      <td>0</td>\n",
       "      <td>0</td>\n",
       "      <td>0</td>\n",
       "      <td>0</td>\n",
       "      <td>0</td>\n",
       "      <td>0</td>\n",
       "      <td>0</td>\n",
       "      <td>0</td>\n",
       "      <td>1</td>\n",
       "      <td>0</td>\n",
       "    </tr>\n",
       "  </tbody>\n",
       "</table>\n",
       "<p>5 rows × 168 columns</p>\n",
       "</div>"
      ],
      "text/plain": [
       "   is_churn  city_0.0  city_1.0  city_3.0  city_4.0  city_5.0  city_6.0  \\\n",
       "0       0.0         0         0         0         0         0         0   \n",
       "1       0.0         0         0         0         0         0         0   \n",
       "2       1.0         0         0         0         0         0         0   \n",
       "3       0.0         0         0         0         0         0         0   \n",
       "4       0.0         0         0         0         0         0         0   \n",
       "\n",
       "   city_7.0  city_8.0  city_9.0  ...  discount_30.0  discount_120.0  \\\n",
       "0         0         0         0  ...              0               0   \n",
       "1         0         0         0  ...              0               0   \n",
       "2         0         0         0  ...              0               0   \n",
       "3         0         0         0  ...              0               0   \n",
       "4         0         0         0  ...              0               0   \n",
       "\n",
       "   discount_149.0  registration_weekday_0.0  registration_weekday_1.0  \\\n",
       "0               0                         0                         0   \n",
       "1               0                         0                         0   \n",
       "2               0                         0                         0   \n",
       "3               0                         0                         0   \n",
       "4               0                         0                         0   \n",
       "\n",
       "   registration_weekday_2.0  registration_weekday_3.0  \\\n",
       "0                         0                         0   \n",
       "1                         0                         0   \n",
       "2                         0                         0   \n",
       "3                         0                         0   \n",
       "4                         0                         0   \n",
       "\n",
       "   registration_weekday_4.0  registration_weekday_5.0  \\\n",
       "0                         0                         1   \n",
       "1                         0                         1   \n",
       "2                         0                         1   \n",
       "3                         0                         1   \n",
       "4                         0                         1   \n",
       "\n",
       "   registration_weekday_6.0  \n",
       "0                         0  \n",
       "1                         0  \n",
       "2                         0  \n",
       "3                         0  \n",
       "4                         0  \n",
       "\n",
       "[5 rows x 168 columns]"
      ]
     },
     "execution_count": 13,
     "metadata": {},
     "output_type": "execute_result"
    }
   ],
   "source": [
    "df = pd.read_csv('data/df.csv')\n",
    "df.head()"
   ]
  },
  {
   "cell_type": "markdown",
   "metadata": {},
   "source": [
    "#### Explanatory and response variables"
   ]
  },
  {
   "cell_type": "code",
   "execution_count": 14,
   "metadata": {},
   "outputs": [
    {
     "data": {
      "text/plain": [
       "array([0., 0., 1., 0., 0.])"
      ]
     },
     "execution_count": 14,
     "metadata": {},
     "output_type": "execute_result"
    }
   ],
   "source": [
    "X = df.drop('is_churn', axis=1) # drop unknown churn\n",
    "y = df[['is_churn']]\n",
    "y = np.ravel(y)\n",
    "y[:5]"
   ]
  },
  {
   "cell_type": "markdown",
   "metadata": {},
   "source": [
    "#### Train-Test split\n",
    "Taking 70% for training set and 30% for test set."
   ]
  },
  {
   "cell_type": "code",
   "execution_count": 15,
   "metadata": {},
   "outputs": [
    {
     "name": "stdout",
     "output_type": "stream",
     "text": [
      "Train samples: 2324\n",
      "Test samples: 996\n"
     ]
    }
   ],
   "source": [
    "X_train, X_test, y_train, y_test = train_test_split(X, y, test_size=0.3, random_state=0)\n",
    "print(\"Train samples:\",y_train.shape[0])\n",
    "print(\"Test samples:\",y_test.shape[0])"
   ]
  },
  {
   "cell_type": "markdown",
   "metadata": {},
   "source": [
    "#### Trial run with Cross-Validation\n",
    "A more reliable way of validating the model and optimizing its parameters is by cross-validation."
   ]
  },
  {
   "cell_type": "code",
   "execution_count": 16,
   "metadata": {},
   "outputs": [
    {
     "name": "stdout",
     "output_type": "stream",
     "text": [
      "Example of cross-validation:\n",
      "Cross-Validation Accuracy Scores [0.91416309 0.88412017 0.90128755 0.90128755 0.89655172 0.88793103\n",
      " 0.90517241 0.90086207 0.94396552 0.88793103]\n"
     ]
    },
    {
     "data": {
      "text/plain": [
       "(0.8841201716738197, 0.9023272162202159, 0.9439655172413793)"
      ]
     },
     "execution_count": 16,
     "metadata": {},
     "output_type": "execute_result"
    }
   ],
   "source": [
    "print(\"Example of cross-validation:\")\n",
    "log_reg_cv = LogisticRegression(solver='liblinear', C=1.0, random_state=0)\n",
    "scores = cross_val_score(log_reg_cv, X_train, y_train, cv=10)\n",
    "print('Cross-Validation Accuracy Scores', scores)\n",
    "scores.min(), scores.mean(), scores.max()"
   ]
  },
  {
   "cell_type": "markdown",
   "metadata": {},
   "source": [
    "### Optimization of C"
   ]
  },
  {
   "cell_type": "code",
   "execution_count": 10,
   "metadata": {},
   "outputs": [
    {
     "name": "stdout",
     "output_type": "stream",
     "text": [
      "Optimize regularization parameter C using cross-validation\n",
      "Optimal C = 0.1\n",
      "Highest accuracy = 0.909638153026491\n"
     ]
    },
    {
     "data": {
      "image/png": "[encoded data removed]",
      "text/plain": [
       "<Figure size 1152x576 with 1 Axes>"
      ]
     },
     "metadata": {},
     "output_type": "display_data"
    }
   ],
   "source": [
    "print('Optimize regularization parameter C using cross-validation')\n",
    "accuracy = pd.DataFrame({'C':[],'Accuracy':[]})\n",
    "acc_opt = 0\n",
    "for C in np.arange(0.1, 100.0, 0.1):\n",
    "    C = round(C,1)\n",
    "    log_reg = LogisticRegression(solver='liblinear', C=C, random_state=0)\n",
    "    scores = cross_val_score(log_reg, X_train, y_train, cv=10) # accuracies of cv cross-validations\n",
    "    acc = scores.mean()\n",
    "    accuracy = accuracy.append({'C':C,'Accuracy':acc}, ignore_index=True)\n",
    "    if acc_opt < acc:\n",
    "        acc_opt = acc\n",
    "        C_opt = C\n",
    "print('Optimal C =',C_opt)\n",
    "print('Highest accuracy =',acc_opt)\n",
    "fig, axs = plt.subplots(figsize = (16,8))\n",
    "plt.scatter(accuracy['C'],accuracy['Accuracy']);\n",
    "plt.xlabel('C');\n",
    "plt.ylabel('Accuracy');"
   ]
  },
  {
   "cell_type": "code",
   "execution_count": 41,
   "metadata": {},
   "outputs": [
    {
     "name": "stdout",
     "output_type": "stream",
     "text": [
      "Optimize regularization parameter C using cross-validation\n",
      "Optimal C = 0.04\n",
      "Highest accuracy = 0.9126553944058013\n"
     ]
    },
    {
     "data": {
      "image/png": "[encoded data removed]",
      "text/plain": [
       "<Figure size 1152x576 with 1 Axes>"
      ]
     },
     "metadata": {
      "needs_background": "light"
     },
     "output_type": "display_data"
    }
   ],
   "source": [
    "print('Detailed optimization')\n",
    "accuracy = pd.DataFrame({'C':[],'Accuracy':[]})\n",
    "acc_opt = 0\n",
    "for C in np.arange(0.01, 0.51, 0.01):\n",
    "    C = round(C,2)\n",
    "    log_reg = LogisticRegression(solver='liblinear', C=C, random_state=0)\n",
    "    scores = cross_val_score(log_reg, X_train, y_train, cv=10) # accuracies of cv cross-validations\n",
    "    acc = scores.mean()\n",
    "    accuracy = accuracy.append({'C':C,'Accuracy':acc}, ignore_index=True)\n",
    "    if acc_opt < acc:\n",
    "        acc_opt = acc\n",
    "        C_opt = C\n",
    "print('Optimal C =',C_opt)\n",
    "print('Highest accuracy =',acc_opt)\n",
    "fig, axs = plt.subplots(figsize = (16,8))\n",
    "plt.scatter(accuracy['C'],accuracy['Accuracy']);\n",
    "plt.xlabel('C');\n",
    "plt.ylabel('Accuracy');"
   ]
  },
  {
   "cell_type": "code",
   "execution_count": 43,
   "metadata": {},
   "outputs": [
    {
     "name": "stdout",
     "output_type": "stream",
     "text": [
      "Optimize regularization parameter C using cross-validation\n",
      "Optimal C = 0.044\n",
      "Highest accuracy = 0.9130845789551577\n"
     ]
    },
    {
     "data": {
      "image/png": "[encoded data removed]",
      "text/plain": [
       "<Figure size 1152x576 with 1 Axes>"
      ]
     },
     "metadata": {
      "needs_background": "light"
     },
     "output_type": "display_data"
    }
   ],
   "source": [
    "print('Detailed optimization')\n",
    "accuracy = pd.DataFrame({'C':[],'Accuracy':[]})\n",
    "acc_opt = 0\n",
    "for C in np.arange(0.001, 0.061, 0.001):\n",
    "    C = round(C,3)\n",
    "    log_reg = LogisticRegression(solver='liblinear', C=C, random_state=0)\n",
    "    scores = cross_val_score(log_reg, X_train, y_train, cv=10) # accuracies of cv cross-validations\n",
    "    acc = scores.mean()\n",
    "    accuracy = accuracy.append({'C':C,'Accuracy':acc}, ignore_index=True)\n",
    "    if acc_opt < acc:\n",
    "        acc_opt = acc\n",
    "        C_opt = C\n",
    "print('Optimal C =',C_opt)\n",
    "print('Highest accuracy =',acc_opt)\n",
    "fig, axs = plt.subplots(figsize = (16,8))\n",
    "plt.scatter(accuracy['C'],accuracy['Accuracy']);\n",
    "plt.xlabel('C');\n",
    "plt.ylabel('Accuracy');"
   ]
  },
  {
   "cell_type": "markdown",
   "metadata": {},
   "source": [
    "### Quality metrics"
   ]
  },
  {
   "cell_type": "code",
   "execution_count": 22,
   "metadata": {},
   "outputs": [],
   "source": [
    "def confusion_matrix_plot(y_actual, y_predicted):\n",
    "    '''Plot Binary Confusion Matrix for actual and predicted labels'''\n",
    "    #from sklearn.metrics import confusion_matrix\n",
    "    cm = confusion_matrix(y_actual, y_predicted)\n",
    "    tn = cm[0,0] # true negative count\n",
    "    fp = cm[0,1] # false positive count\n",
    "    fn = cm[1,0] # false negative count\n",
    "    tp = cm[1,1] # true positive count\n",
    "    print(\"[[TN, FP], [FN, TP]] =\\n\",cm) # print confusion matrix\n",
    "    fig, ax = plt.subplots(figsize=(4, 4))\n",
    "    ax.imshow(cm)\n",
    "    ax.grid(False)\n",
    "    ax.xaxis.set(ticks=(0, 1), ticklabels=('Predicted 0s', 'Predicted 1s'))\n",
    "    ax.yaxis.set(ticks=(0, 1), ticklabels=('Actual 0s', 'Actual 1s'))\n",
    "    ax.set_ylim(1.5, -0.5)\n",
    "    for i in range(2):\n",
    "        for j in range(2):\n",
    "            ax.text(j, i, cm[i, j], ha='center', va='center', color='red') # counts\n",
    "    plt.show();\n",
    "    return tn,fp,fn,tp"
   ]
  },
  {
   "cell_type": "code",
   "execution_count": 49,
   "metadata": {
    "scrolled": true
   },
   "outputs": [
    {
     "name": "stdout",
     "output_type": "stream",
     "text": [
      "Optimized C in Logistic Regression with 10-fold Cross-Validation:\n",
      "Accuracy = 0.9146586345381527\n",
      "[[TN, FP], [FN, TP]] =\n",
      " [[844   9]\n",
      " [ 76  67]]\n"
     ]
    },
    {
     "data": {
      "image/png": "[encoded data removed]",
      "text/plain": [
       "<Figure size 288x288 with 1 Axes>"
      ]
     },
     "metadata": {},
     "output_type": "display_data"
    }
   ],
   "source": [
    "C_opt=0.044\n",
    "print('Optimized C in Logistic Regression with 10-fold Cross-Validation:')\n",
    "log_reg = LogisticRegression(solver='liblinear', C=C_opt, random_state=0) # Create a model\n",
    "log_reg.fit(X_train, y_train) # Train model using training set\n",
    "y_pred = log_reg.predict(X_test) # predicted values\n",
    "print(\"Accuracy =\",log_reg.score(X_test, y_test)) # proportion of correct predictions\n",
    "tn,fp,fn,tp = confusion_matrix_plot(y_test, y_pred)"
   ]
  },
  {
   "cell_type": "code",
   "execution_count": 32,
   "metadata": {},
   "outputs": [
    {
     "name": "stdout",
     "output_type": "stream",
     "text": [
      "              precision    recall  f1-score   support\n",
      "\n",
      "         0.0       0.92      0.99      0.95       853\n",
      "         1.0       0.88      0.47      0.61       143\n",
      "\n",
      "    accuracy                           0.91       996\n",
      "   macro avg       0.90      0.73      0.78       996\n",
      "weighted avg       0.91      0.91      0.90       996\n",
      "\n"
     ]
    }
   ],
   "source": [
    "print(classification_report(y_test, y_pred))"
   ]
  },
  {
   "cell_type": "code",
   "execution_count": 52,
   "metadata": {},
   "outputs": [
    {
     "name": "stdout",
     "output_type": "stream",
     "text": [
      "Recall = 0.46853146853146854\n",
      "Precision = 0.881578947368421\n",
      "F1 score = 0.6118721461187215\n",
      "FNR = 0.5315 Proportion of the positive class 1 got incorrectly classified.\n",
      "TNR = 0.9894 Specificity, proportion of the negative class 0 got correctly classified.\n",
      "FPR = 0.0106 Specificity, proportion of the negative class 0 got incorrectly classified.\n",
      "MCC = 0.6049 Matthews correlation coefficient: accounts for all 4 confusion matrix categories.\n"
     ]
    }
   ],
   "source": [
    "from sklearn.metrics import accuracy_score, recall_score, precision_score, f1_score\n",
    "print('Recall =', recall_score(y_test, pred_cv))\n",
    "# tpr = tp/(tp + fn) Recall, sensitivity, proportion of the positive class 1 got correctly classified.\n",
    "print('Precision =', precision_score(y_test, pred_cv))\n",
    "print('F1 score =', f1_score(y_test, pred_cv))\n",
    "fnr = fn/(tp + fn)\n",
    "print(f\"FNR = {round(fnr,4)} Proportion of the positive class 1 got incorrectly classified.\")\n",
    "tnr = tn/(tn + fp)\n",
    "print(f\"TNR = {round(tnr,4)} Specificity, proportion of the negative class 0 got correctly classified.\")\n",
    "fpr = fp/(tn + fp)\n",
    "print(f\"FPR = {round(fpr,4)} Specificity, proportion of the negative class 0 got incorrectly classified.\")\n",
    "MCC = (tp*tn-fp*fn)/np.sqrt((tp+fp)*(tp+fn)*(tn+fp)*(tn+fn))\n",
    "print(f\"MCC = {round(MCC,4)} Matthews correlation coefficient: accounts for all 4 confusion matrix categories.\")"
   ]
  },
  {
   "cell_type": "markdown",
   "metadata": {},
   "source": [
    "### ROC - AUC, Optimization of classification threshold\n",
    "Area Under the Curve (AUC) of Receiver Characteristic Operator (ROC) helps us visualize how well our machine learning classifier is performing and choose the optimal classification threshold probability.\n",
    "\n",
    "https://www.analyticsvidhya.com/blog/2020/06/auc-roc-curve-machine-learning/\n",
    "\n",
    "https://machinelearningmastery.com/threshold-moving-for-imbalanced-classification/"
   ]
  },
  {
   "cell_type": "code",
   "execution_count": 47,
   "metadata": {},
   "outputs": [
    {
     "data": {
      "image/png": "[encoded data removed]",
      "text/plain": [
       "<Figure size 432x288 with 1 Axes>"
      ]
     },
     "metadata": {},
     "output_type": "display_data"
    },
    {
     "name": "stdout",
     "output_type": "stream",
     "text": [
      "AUC: 0.910\n"
     ]
    }
   ],
   "source": [
    "prob_y = log_reg_cv.predict_proba(X_test)[:,1]\n",
    "fpr, tpr, thresh = roc_curve(y_test, prob_y, pos_label=1, drop_intermediate=False)\n",
    "plt.plot(fpr, tpr, linestyle='-', label='Logistic')\n",
    "plt.title('Logistic Regression, 10-fold cross-validation')\n",
    "# axis labels\n",
    "plt.xlabel('False Positive Rate')\n",
    "plt.ylabel('True Positive Rate')\n",
    "#plt.legend() # show the legend\n",
    "plt.show()\n",
    "print('AUC: %.3f' % roc_auc_score(y_test, prob_y))"
   ]
  },
  {
   "cell_type": "markdown",
   "metadata": {},
   "source": [
    "Manual ROC curve with controllable no. of threshold probabilities."
   ]
  },
  {
   "cell_type": "code",
   "execution_count": 45,
   "metadata": {},
   "outputs": [
    {
     "name": "stdout",
     "output_type": "stream",
     "text": [
      "FPR = [1.         1.         1.         0.9144197  0.57327081 0.41031653\n",
      " 0.38569754 0.36694021 0.35756155 0.35756155 0.35287222 0.34818288\n",
      " 0.33177022 0.30715123 0.28956624 0.23446659 0.1852286  0.16178195\n",
      " 0.13716295 0.11957796 0.10433763 0.09378664 0.08675264 0.07737397\n",
      " 0.07620164 0.07385698 0.07385698 0.07385698 0.07268464 0.06799531\n",
      " 0.06565064 0.06447831 0.06213365 0.06096131 0.05275498 0.04454865\n",
      " 0.03634232 0.03282532 0.02813599 0.02344666 0.01875733 0.01641266\n",
      " 0.01289566 0.01289566 0.01289566 0.01172333 0.01172333 0.01172333\n",
      " 0.010551   0.010551   0.010551   0.00937866 0.00937866 0.00937866\n",
      " 0.00937866 0.00937866 0.00937866 0.00937866 0.00820633 0.00820633\n",
      " 0.00820633 0.00820633 0.00820633 0.00820633 0.00820633 0.00820633\n",
      " 0.00820633 0.007034   0.007034   0.007034   0.007034   0.007034\n",
      " 0.007034   0.00468933 0.00468933 0.00468933 0.00468933 0.00234467\n",
      " 0.         0.         0.         0.         0.         0.\n",
      " 0.         0.         0.         0.         0.         0.\n",
      " 0.         0.         0.         0.         0.         0.\n",
      " 0.         0.         0.         0.         0.        ]\n",
      "TPR = [1.         1.         1.         0.9144197  0.57327081 0.41031653\n",
      " 0.38569754 0.36694021 0.35756155 0.35756155 0.35287222 0.34818288\n",
      " 0.33177022 0.30715123 0.28956624 0.23446659 0.1852286  0.16178195\n",
      " 0.13716295 0.11957796 0.10433763 0.09378664 0.08675264 0.07737397\n",
      " 0.07620164 0.07385698 0.07385698 0.07385698 0.07268464 0.06799531\n",
      " 0.06565064 0.06447831 0.06213365 0.06096131 0.05275498 0.04454865\n",
      " 0.03634232 0.03282532 0.02813599 0.02344666 0.01875733 0.01641266\n",
      " 0.01289566 0.01289566 0.01289566 0.01172333 0.01172333 0.01172333\n",
      " 0.010551   0.010551   0.010551   0.00937866 0.00937866 0.00937866\n",
      " 0.00937866 0.00937866 0.00937866 0.00937866 0.00820633 0.00820633\n",
      " 0.00820633 0.00820633 0.00820633 0.00820633 0.00820633 0.00820633\n",
      " 0.00820633 0.007034   0.007034   0.007034   0.007034   0.007034\n",
      " 0.007034   0.00468933 0.00468933 0.00468933 0.00468933 0.00234467\n",
      " 0.         0.         0.         0.         0.         0.\n",
      " 0.         0.         0.         0.         0.         0.\n",
      " 0.         0.         0.         0.         0.         0.\n",
      " 0.         0.         0.         0.         0.        ]\n"
     ]
    },
    {
     "data": {
      "image/png": "[encoded data removed]",
      "text/plain": [
       "<Figure size 432x288 with 1 Axes>"
      ]
     },
     "metadata": {},
     "output_type": "display_data"
    },
    {
     "name": "stdout",
     "output_type": "stream",
     "text": [
      "AUC: 0.910\n"
     ]
    }
   ],
   "source": [
    "pred_prob = log_reg.predict_proba(X_test) # probability of y=0 (1st column) and y=1 (2nd column)\n",
    "prob_step = 0.01\n",
    "fpr = np.empty(int(1+1/prob_step))\n",
    "tpr = np.empty(int(1+1/prob_step))\n",
    "j = 0 # counter of points\n",
    "thresholds = np.arange(0, 1+prob_step, prob_step)\n",
    "for prob_thresh in thresholds:\n",
    "    tn = 0; fn = 0; tp = 0; fp = 0;\n",
    "    for i in range(pred_prob.shape[0]): # each test case\n",
    "        if pred_prob[i,1] >= prob_thresh: # classify as 1\n",
    "            if y_test[i] == 0: # actual 0\n",
    "                fp = fp+1\n",
    "            else: # actual 1\n",
    "                tp = tp+1\n",
    "        else: # classify as 0\n",
    "            if y_test[i] == 0: # actual 0\n",
    "                tn = tn+1\n",
    "            else: # actual 1\n",
    "                fn = fn+1\n",
    "    fpr[j] = fp/(tn + fp) # specificity\n",
    "    tpr[j] = tp/(tp + fn) # sensitivity\n",
    "    j = j+1\n",
    "print(\"FPR =\",fpr)\n",
    "print(\"TPR =\",fpr)\n",
    "# ROC curve\n",
    "plt.plot(fpr, tpr, linestyle='-', label='Logistic')\n",
    "plt.title('Logistic Regression, 10-fold cross-validation')\n",
    "plt.xlabel('False Positive Rate')\n",
    "plt.ylabel('True Positive Rate')\n",
    "plt.legend() # show the legend\n",
    "plt.show()\n",
    "print('AUC: %.3f' % roc_auc_score(y_test, pred_prob[:,1]))"
   ]
  },
  {
   "cell_type": "code",
   "execution_count": 39,
   "metadata": {},
   "outputs": [
    {
     "data": {
      "text/html": [
       "<div>\n",
       "<style scoped>\n",
       "    .dataframe tbody tr th:only-of-type {\n",
       "        vertical-align: middle;\n",
       "    }\n",
       "\n",
       "    .dataframe tbody tr th {\n",
       "        vertical-align: top;\n",
       "    }\n",
       "\n",
       "    .dataframe thead th {\n",
       "        text-align: right;\n",
       "    }\n",
       "</style>\n",
       "<table border=\"1\" class=\"dataframe\">\n",
       "  <thead>\n",
       "    <tr style=\"text-align: right;\">\n",
       "      <th></th>\n",
       "      <th>0</th>\n",
       "    </tr>\n",
       "  </thead>\n",
       "  <tbody>\n",
       "    <tr>\n",
       "      <th>accuracy</th>\n",
       "      <td>0.914659</td>\n",
       "    </tr>\n",
       "    <tr>\n",
       "      <th>recall</th>\n",
       "      <td>0.468531</td>\n",
       "    </tr>\n",
       "    <tr>\n",
       "      <th>precision</th>\n",
       "      <td>0.881579</td>\n",
       "    </tr>\n",
       "    <tr>\n",
       "      <th>roc_auc_score</th>\n",
       "      <td>0.728990</td>\n",
       "    </tr>\n",
       "  </tbody>\n",
       "</table>\n",
       "</div>"
      ],
      "text/plain": [
       "                      0\n",
       "accuracy       0.914659\n",
       "recall         0.468531\n",
       "precision      0.881579\n",
       "roc_auc_score  0.728990"
      ]
     },
     "execution_count": 39,
     "metadata": {},
     "output_type": "execute_result"
    }
   ],
   "source": [
    "from sklearn.metrics import accuracy_score, recall_score, precision_score\n",
    "THRESHOLD = 0.5\n",
    "preds = np.where(log_reg_cv.predict_proba(X_test)[:,1] > THRESHOLD, 1, 0)\n",
    "pd.DataFrame(data=[accuracy_score(y_test, preds), recall_score(y_test, preds),\n",
    "                   precision_score(y_test, preds), roc_auc_score(y_test, preds)], \n",
    "             index=[\"accuracy\", \"recall\", \"precision\", \"roc_auc_score\"])"
   ]
  },
  {
   "cell_type": "markdown",
   "metadata": {},
   "source": [
    "### Optimize decision threshold"
   ]
  },
  {
   "cell_type": "code",
   "execution_count": 41,
   "metadata": {},
   "outputs": [
    {
     "name": "stdout",
     "output_type": "stream",
     "text": [
      "Best Threshold=0.7155, G-Mean_sq=0.7241\n",
      "FPR=0.1372, TPR=0.8392\n"
     ]
    },
    {
     "data": {
      "text/html": [
       "<div>\n",
       "<style scoped>\n",
       "    .dataframe tbody tr th:only-of-type {\n",
       "        vertical-align: middle;\n",
       "    }\n",
       "\n",
       "    .dataframe tbody tr th {\n",
       "        vertical-align: top;\n",
       "    }\n",
       "\n",
       "    .dataframe thead th {\n",
       "        text-align: right;\n",
       "    }\n",
       "</style>\n",
       "<table border=\"1\" class=\"dataframe\">\n",
       "  <thead>\n",
       "    <tr style=\"text-align: right;\">\n",
       "      <th></th>\n",
       "      <th>0</th>\n",
       "    </tr>\n",
       "  </thead>\n",
       "  <tbody>\n",
       "    <tr>\n",
       "      <th>accuracy</th>\n",
       "      <td>0.909639</td>\n",
       "    </tr>\n",
       "    <tr>\n",
       "      <th>recall</th>\n",
       "      <td>0.412587</td>\n",
       "    </tr>\n",
       "    <tr>\n",
       "      <th>precision</th>\n",
       "      <td>0.907692</td>\n",
       "    </tr>\n",
       "    <tr>\n",
       "      <th>roc_auc_score</th>\n",
       "      <td>0.702777</td>\n",
       "    </tr>\n",
       "  </tbody>\n",
       "</table>\n",
       "</div>"
      ],
      "text/plain": [
       "                      0\n",
       "accuracy       0.909639\n",
       "recall         0.412587\n",
       "precision      0.907692\n",
       "roc_auc_score  0.702777"
      ]
     },
     "execution_count": 41,
     "metadata": {},
     "output_type": "execute_result"
    }
   ],
   "source": [
    "# calculate the squared g-mean for each threshold\n",
    "gmeans_sq = tpr*(1-fpr)\n",
    "# locate the index of the largest g-mean\n",
    "ix = np.argmax(gmeans_sq)\n",
    "print('Best Threshold=%.4f, G-Mean_sq=%.4f' % (thresh[ix], gmeans_sq[ix]))\n",
    "print('FPR=%.4f, TPR=%.4f' % (fpr[ix], tpr[ix]))\n",
    "\n",
    "from sklearn.metrics import accuracy_score, recall_score, precision_score\n",
    "THRESHOLD = thresh[ix]\n",
    "preds = np.where(log_reg.predict_proba(X_test)[:,1] > THRESHOLD, 1, 0)\n",
    "pd.DataFrame(data=[accuracy_score(y_test, preds), recall_score(y_test, preds),\n",
    "                   precision_score(y_test, preds), roc_auc_score(y_test, preds)], \n",
    "             index=[\"accuracy\", \"recall\", \"precision\", \"roc_auc_score\"])"
   ]
  },
  {
   "cell_type": "markdown",
   "metadata": {},
   "source": [
    "### Optimize solver"
   ]
  },
  {
   "cell_type": "code",
   "execution_count": 42,
   "metadata": {},
   "outputs": [
    {
     "name": "stdout",
     "output_type": "stream",
     "text": [
      "Optimize C using 10-fold cross-validation, lbfgs solver\n",
      "Optimal C = 0.1\n",
      "Highest accuracy = 0.9087760840609738\n"
     ]
    },
    {
     "data": {
      "image/png": "[encoded data removed]",
      "text/plain": [
       "<Figure size 432x288 with 1 Axes>"
      ]
     },
     "metadata": {},
     "output_type": "display_data"
    }
   ],
   "source": [
    "print('Optimize C using 10-fold cross-validation, lbfgs solver')\n",
    "log_reg_lbfgs = LogisticRegression(solver='lbfgs')\n",
    "accuracy = pd.DataFrame({'C':[],'Accuracy':[]})\n",
    "acc_opt = 0\n",
    "for C in np.arange(0.1, 100.0, 0.1):\n",
    "    C = round(C,1)\n",
    "    log_reg_cv_lbfgs = LogisticRegression(solver='lbfgs', C=C, random_state=0, max_iter=3000)\n",
    "    scores = cross_val_score(log_reg_cv_lbfgs, X_train, y_train, cv=10) # accuracies of cv cross-validations\n",
    "    acc = scores.mean()\n",
    "    accuracy = accuracy.append({'C':C,'Accuracy':acc}, ignore_index=True)\n",
    "    if acc_opt < acc:\n",
    "        acc_opt = acc\n",
    "        C_opt = C\n",
    "    #if C % 10 == 0: print(\"C =\",C)\n",
    "print('Optimal C =',C_opt)\n",
    "print('Highest accuracy =',acc_opt)\n",
    "plt.scatter(accuracy['C'],accuracy['Accuracy']);\n",
    "plt.xlabel('C');\n",
    "plt.ylabel('Accuracy');"
   ]
  },
  {
   "cell_type": "code",
   "execution_count": null,
   "metadata": {},
   "outputs": [
    {
     "name": "stdout",
     "output_type": "stream",
     "text": [
      "Optimize C using 10-fold cross-validation, lbfgs solver\n"
     ]
    }
   ],
   "source": [
    "print('Optimize C using 10-fold cross-validation, lbfgs solver')\n",
    "log_reg_lbfgs = LogisticRegression(solver='lbfgs')\n",
    "accuracy = pd.DataFrame({'C':[],'Accuracy':[]})\n",
    "acc_opt = 0\n",
    "for C in np.arange(0.01, 10.01, 0.01):\n",
    "    #C = round(C,1)\n",
    "    log_reg_cv_lbfgs = LogisticRegression(solver='lbfgs', C=C, random_state=0, max_iter=3000)\n",
    "    scores = cross_val_score(log_reg_cv_lbfgs, X_train, y_train, cv=10) # accuracies of cv cross-validations\n",
    "    acc = scores.mean()\n",
    "    accuracy = accuracy.append({'C':C,'Accuracy':acc}, ignore_index=True)\n",
    "    if acc_opt < acc:\n",
    "        acc_opt = acc\n",
    "        C_opt = C\n",
    "    #if C % 10 == 0: print(\"C =\",C)\n",
    "print('Optimal C =',C_opt)\n",
    "print('Highest accuracy =',acc_opt)\n",
    "plt.scatter(accuracy['C'],accuracy['Accuracy']);\n",
    "plt.xlabel('C');\n",
    "plt.ylabel('Accuracy');"
   ]
  },
  {
   "cell_type": "code",
   "execution_count": 120,
   "metadata": {},
   "outputs": [
    {
     "name": "stdout",
     "output_type": "stream",
     "text": [
      "Accuracy = 0.9126553944058013\n"
     ]
    }
   ],
   "source": [
    "C_opt=0.04\n",
    "log_reg_cv_lbfgs = LogisticRegression(solver='lbfgs', C=C_opt, random_state=0, max_iter=3000)\n",
    "log_reg_cv_lbfgs.fit(X_test, y_test)\n",
    "scores = cross_val_score(log_reg_cv_lbfgs, X_train, y_train, cv=10) # accuracies of cv cross-validations\n",
    "acc = scores.mean()\n",
    "print(\"Accuracy =\",acc)\n",
    "prob_cv_lbfgs = log_reg_cv_lbfgs.predict_proba(X_test)[:,1]\n",
    "fpr, tpr, thresh = roc_curve(y_test, prob_cv_lbfgs, pos_label=1, drop_intermediate=False)"
   ]
  },
  {
   "cell_type": "code",
   "execution_count": 121,
   "metadata": {},
   "outputs": [
    {
     "name": "stdout",
     "output_type": "stream",
     "text": [
      "Best Threshold=0.1697, G-Mean_sq=0.6975\n",
      "FPR=0.1688, TPR=0.8392\n"
     ]
    },
    {
     "data": {
      "text/html": [
       "<div>\n",
       "<style scoped>\n",
       "    .dataframe tbody tr th:only-of-type {\n",
       "        vertical-align: middle;\n",
       "    }\n",
       "\n",
       "    .dataframe tbody tr th {\n",
       "        vertical-align: top;\n",
       "    }\n",
       "\n",
       "    .dataframe thead th {\n",
       "        text-align: right;\n",
       "    }\n",
       "</style>\n",
       "<table border=\"1\" class=\"dataframe\">\n",
       "  <thead>\n",
       "    <tr style=\"text-align: right;\">\n",
       "      <th></th>\n",
       "      <th>0</th>\n",
       "    </tr>\n",
       "  </thead>\n",
       "  <tbody>\n",
       "    <tr>\n",
       "      <th>accuracy</th>\n",
       "      <td>0.838353</td>\n",
       "    </tr>\n",
       "    <tr>\n",
       "      <th>recall</th>\n",
       "      <td>0.853147</td>\n",
       "    </tr>\n",
       "    <tr>\n",
       "      <th>precision</th>\n",
       "      <td>0.465649</td>\n",
       "    </tr>\n",
       "    <tr>\n",
       "      <th>roc_auc_score</th>\n",
       "      <td>0.844510</td>\n",
       "    </tr>\n",
       "  </tbody>\n",
       "</table>\n",
       "</div>"
      ],
      "text/plain": [
       "                      0\n",
       "accuracy       0.838353\n",
       "recall         0.853147\n",
       "precision      0.465649\n",
       "roc_auc_score  0.844510"
      ]
     },
     "execution_count": 121,
     "metadata": {},
     "output_type": "execute_result"
    }
   ],
   "source": [
    "### Optimize decision threshold\n",
    "# calculate the squared g-mean for each threshold\n",
    "gmeans_sq = tpr*(1-fpr)\n",
    "# locate the index of the largest g-mean\n",
    "ix = np.argmax(gmeans_sq)\n",
    "print('Best Threshold=%.4f, G-Mean_sq=%.4f' % (thresh[ix], gmeans_sq[ix]))\n",
    "print('FPR=%.4f, TPR=%.4f' % (fpr[ix], tpr[ix]))\n",
    "\n",
    "from sklearn.metrics import accuracy_score, recall_score, precision_score\n",
    "THRESHOLD = thresh[ix]\n",
    "preds = np.where(log_reg_cv.predict_proba(X_test)[:,1] > THRESHOLD, 1, 0)\n",
    "pd.DataFrame(data=[accuracy_score(y_test, preds), recall_score(y_test, preds),\n",
    "                   precision_score(y_test, preds), roc_auc_score(y_test, preds)], \n",
    "             index=[\"accuracy\", \"recall\", \"precision\", \"roc_auc_score\"])"
   ]
  },
  {
   "cell_type": "code",
   "execution_count": null,
   "metadata": {},
   "outputs": [],
   "source": []
  }
 ],
 "metadata": {
  "kernelspec": {
   "display_name": "Python 3",
   "language": "python",
   "name": "python3"
  },
  "language_info": {
   "codemirror_mode": {
    "name": "ipython",
    "version": 3
   },
   "file_extension": ".py",
   "mimetype": "text/x-python",
   "name": "python",
   "nbconvert_exporter": "python",
   "pygments_lexer": "ipython3",
   "version": "3.8.5"
  }
 },
 "nbformat": 4,
 "nbformat_minor": 4
}
