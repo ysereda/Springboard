{
 "cells": [
  {
   "cell_type": "markdown",
   "metadata": {},
   "source": [
    "# 20.3.2 Craft a Story from a Dataset Exercise\n",
    "# Apparel Retailer Transaction Data\n",
    "In this non-technical report we explore sales data from an apparel retailer and justify the choice of visualization types."
   ]
  },
  {
   "cell_type": "code",
   "execution_count": 1,
   "metadata": {},
   "outputs": [
    {
     "data": {
      "text/html": [
       "<div>\n",
       "<style scoped>\n",
       "    .dataframe tbody tr th:only-of-type {\n",
       "        vertical-align: middle;\n",
       "    }\n",
       "\n",
       "    .dataframe tbody tr th {\n",
       "        vertical-align: top;\n",
       "    }\n",
       "\n",
       "    .dataframe thead th {\n",
       "        text-align: right;\n",
       "    }\n",
       "</style>\n",
       "<table border=\"1\" class=\"dataframe\">\n",
       "  <thead>\n",
       "    <tr style=\"text-align: right;\">\n",
       "      <th></th>\n",
       "      <th>hh_id</th>\n",
       "      <th>ACQN_ENTRY_SYS_ID</th>\n",
       "      <th>NBR_CUSTOMERS</th>\n",
       "      <th>acqn_date</th>\n",
       "      <th>frst_buy_date</th>\n",
       "      <th>ORD_ID</th>\n",
       "      <th>ENTRY_SYS_ID</th>\n",
       "      <th>order_date</th>\n",
       "      <th>item_nbr</th>\n",
       "      <th>return</th>\n",
       "      <th>...</th>\n",
       "      <th>ON_SALE_FLG</th>\n",
       "      <th>ITEM_DESC</th>\n",
       "      <th>PRODUCT_CATEGORY_DESC</th>\n",
       "      <th>COLOR_DESC</th>\n",
       "      <th>COLOR_PATTERN_DESC</th>\n",
       "      <th>MERCHANDISE_SEASON</th>\n",
       "      <th>PRODUCT_GENDER</th>\n",
       "      <th>SIZE_DESC</th>\n",
       "      <th>SIZE_NUMBER</th>\n",
       "      <th>SIZE_PROPORTION_DESC</th>\n",
       "    </tr>\n",
       "  </thead>\n",
       "  <tbody>\n",
       "    <tr>\n",
       "      <th>0</th>\n",
       "      <td>65</td>\n",
       "      <td>M</td>\n",
       "      <td>1</td>\n",
       "      <td>1999-10-19</td>\n",
       "      <td>1999-10-19</td>\n",
       "      <td>3101431710</td>\n",
       "      <td>M</td>\n",
       "      <td>2003-10-14</td>\n",
       "      <td>4015</td>\n",
       "      <td>0</td>\n",
       "      <td>...</td>\n",
       "      <td>N</td>\n",
       "      <td>G'S UNSHRINKABLE NOTCH T</td>\n",
       "      <td>TOPS</td>\n",
       "      <td>SKY BLUE</td>\n",
       "      <td>Solid</td>\n",
       "      <td>Fall</td>\n",
       "      <td>GIRLS</td>\n",
       "      <td>XL 18</td>\n",
       "      <td>8</td>\n",
       "      <td>Girls</td>\n",
       "    </tr>\n",
       "    <tr>\n",
       "      <th>1</th>\n",
       "      <td>65</td>\n",
       "      <td>M</td>\n",
       "      <td>1</td>\n",
       "      <td>1999-10-19</td>\n",
       "      <td>1999-10-19</td>\n",
       "      <td>3101431710</td>\n",
       "      <td>M</td>\n",
       "      <td>2003-10-14</td>\n",
       "      <td>4015</td>\n",
       "      <td>0</td>\n",
       "      <td>...</td>\n",
       "      <td>N</td>\n",
       "      <td>G'S UNSHRINKABLE NOTCH T</td>\n",
       "      <td>TOPS</td>\n",
       "      <td>CITRUS GREEN</td>\n",
       "      <td>Solid</td>\n",
       "      <td>Fall</td>\n",
       "      <td>GIRLS</td>\n",
       "      <td>XL 18</td>\n",
       "      <td>8</td>\n",
       "      <td>Girls</td>\n",
       "    </tr>\n",
       "    <tr>\n",
       "      <th>2</th>\n",
       "      <td>298</td>\n",
       "      <td>M</td>\n",
       "      <td>2</td>\n",
       "      <td>1999-11-11</td>\n",
       "      <td>2000-01-05</td>\n",
       "      <td>112488803</td>\n",
       "      <td>M</td>\n",
       "      <td>2000-11-24</td>\n",
       "      <td>3804</td>\n",
       "      <td>0</td>\n",
       "      <td>...</td>\n",
       "      <td>N</td>\n",
       "      <td>B'S MOUNTAIN PILE FLC JACKET</td>\n",
       "      <td>OUTERWEAR TOPS</td>\n",
       "      <td>GREEN</td>\n",
       "      <td>Solid</td>\n",
       "      <td>Fall</td>\n",
       "      <td>BOYS</td>\n",
       "      <td>L</td>\n",
       "      <td>6</td>\n",
       "      <td>Boys</td>\n",
       "    </tr>\n",
       "    <tr>\n",
       "      <th>3</th>\n",
       "      <td>298</td>\n",
       "      <td>M</td>\n",
       "      <td>2</td>\n",
       "      <td>1999-11-11</td>\n",
       "      <td>2000-01-05</td>\n",
       "      <td>112488803</td>\n",
       "      <td>M</td>\n",
       "      <td>2000-11-24</td>\n",
       "      <td>3804</td>\n",
       "      <td>0</td>\n",
       "      <td>...</td>\n",
       "      <td>N</td>\n",
       "      <td>B'S MOUNTAIN PILE FLC JACKET</td>\n",
       "      <td>OUTERWEAR TOPS</td>\n",
       "      <td>GREEN</td>\n",
       "      <td>Solid</td>\n",
       "      <td>Fall</td>\n",
       "      <td>BOYS</td>\n",
       "      <td>XXS</td>\n",
       "      <td>11</td>\n",
       "      <td>Boys</td>\n",
       "    </tr>\n",
       "    <tr>\n",
       "      <th>4</th>\n",
       "      <td>327</td>\n",
       "      <td>M</td>\n",
       "      <td>1</td>\n",
       "      <td>1999-11-20</td>\n",
       "      <td>1999-11-20</td>\n",
       "      <td>22822857</td>\n",
       "      <td>M</td>\n",
       "      <td>2000-02-28</td>\n",
       "      <td>887</td>\n",
       "      <td>0</td>\n",
       "      <td>...</td>\n",
       "      <td>N</td>\n",
       "      <td>B'S TWILL CLIMBER PANTS</td>\n",
       "      <td>PANTS AND SHORTS</td>\n",
       "      <td>TIMBER</td>\n",
       "      <td>Solid</td>\n",
       "      <td>Year round</td>\n",
       "      <td>BOYS</td>\n",
       "      <td>M</td>\n",
       "      <td>4</td>\n",
       "      <td>Boys</td>\n",
       "    </tr>\n",
       "  </tbody>\n",
       "</table>\n",
       "<p>5 rows × 22 columns</p>\n",
       "</div>"
      ],
      "text/plain": [
       "   hh_id ACQN_ENTRY_SYS_ID NBR_CUSTOMERS  acqn_date frst_buy_date      ORD_ID  \\\n",
       "0     65                 M             1 1999-10-19    1999-10-19  3101431710   \n",
       "1     65                 M             1 1999-10-19    1999-10-19  3101431710   \n",
       "2    298                 M             2 1999-11-11    2000-01-05   112488803   \n",
       "3    298                 M             2 1999-11-11    2000-01-05   112488803   \n",
       "4    327                 M             1 1999-11-20    1999-11-20    22822857   \n",
       "\n",
       "  ENTRY_SYS_ID order_date  item_nbr  return  ...  ON_SALE_FLG  \\\n",
       "0            M 2003-10-14      4015       0  ...            N   \n",
       "1            M 2003-10-14      4015       0  ...            N   \n",
       "2            M 2000-11-24      3804       0  ...            N   \n",
       "3            M 2000-11-24      3804       0  ...            N   \n",
       "4            M 2000-02-28       887       0  ...            N   \n",
       "\n",
       "                      ITEM_DESC PRODUCT_CATEGORY_DESC    COLOR_DESC  \\\n",
       "0      G'S UNSHRINKABLE NOTCH T                  TOPS      SKY BLUE   \n",
       "1      G'S UNSHRINKABLE NOTCH T                  TOPS  CITRUS GREEN   \n",
       "2  B'S MOUNTAIN PILE FLC JACKET        OUTERWEAR TOPS         GREEN   \n",
       "3  B'S MOUNTAIN PILE FLC JACKET        OUTERWEAR TOPS         GREEN   \n",
       "4       B'S TWILL CLIMBER PANTS      PANTS AND SHORTS        TIMBER   \n",
       "\n",
       "  COLOR_PATTERN_DESC MERCHANDISE_SEASON PRODUCT_GENDER SIZE_DESC SIZE_NUMBER  \\\n",
       "0              Solid               Fall          GIRLS     XL 18           8   \n",
       "1              Solid               Fall          GIRLS     XL 18           8   \n",
       "2              Solid               Fall           BOYS         L           6   \n",
       "3              Solid               Fall           BOYS       XXS          11   \n",
       "4              Solid         Year round           BOYS         M           4   \n",
       "\n",
       "  SIZE_PROPORTION_DESC  \n",
       "0                Girls  \n",
       "1                Girls  \n",
       "2                 Boys  \n",
       "3                 Boys  \n",
       "4                 Boys  \n",
       "\n",
       "[5 rows x 22 columns]"
      ]
     },
     "execution_count": 1,
     "metadata": {},
     "output_type": "execute_result"
    }
   ],
   "source": [
    "import pandas as pd\n",
    "import numpy as np\n",
    "import matplotlib.pyplot as plt\n",
    "plt.style.use('fivethirtyeight')\n",
    "pd.set_option('display.max_rows', 600)\n",
    "from scipy import stats as st\n",
    "from statsmodels.stats.multicomp import pairwise_tukeyhsd # multiple test after 1-way ANOVA\n",
    "import statsmodels.api as sm # 2-way ANOVA\n",
    "from statsmodels.formula.api import ols # 2-way ANOVA\n",
    "import seaborn as sns\n",
    "import os\n",
    "os.chdir('C:/Sereda/Lectures/Springboard/20.Data_Storytelling/')\n",
    "df = pd.read_excel(\"apparel_retailer_transactions.xlsx\")\n",
    "df.head()"
   ]
  },
  {
   "cell_type": "markdown",
   "metadata": {},
   "source": [
    "### Features\n",
    "Data include household information, a channel through which a customer was acquired, a purchase channel, date, price, discount, return status, and item descriptions for each order.\n",
    "\n",
    "| Feature | Description | Detailed |\n",
    "| :- | :-: | :- |\n",
    "| hh_id | Household ID ||\n",
    "| ACQN_ENTRY_SYS_ID | Acquisition Channel | M=Mail, T=Phone, N=Intenet, S=Store |\n",
    "| NBR_CUSTOMERS | Household size ||\n",
    "| acqn_date | Acquisition Date ||\n",
    "| frst_buy_date | First Purchase Date ||\n",
    "| ORD_ID | Order ID ||\n",
    "| ENTRY_SYS_ID | Purchase Channel | M=Mail, T=Phone, N=Intenet, S=Store |\n",
    "| order_date | Order Date ||\n",
    "| item_nbr | Number of same items ||\n",
    "| return | Returned | returned=1, not returned=0 |\n",
    "| PROD_FULL_PRC | Product Full Price ||\n",
    "| PROD_SELL_PRC | Product Selling Price ||\n",
    "| ON_SALE_FLG | On Sale | sale item=Y, regular price item=N |\n",
    "| ITEM_DESC | Item Description ||\n",
    "| PRODUCT_CATEGORY_DESC | Product Category ||\n",
    "| COLOR_DESC | Color ||\n",
    "| COLOR_PATTERN_DESC | Color Pattern ||\n",
    "| MERCHANDISE_SEASON | Merchadise Season ||\n",
    "| PRODUCT_GENDER | Product Gender ||\n",
    "| SIZE_DESC | Size Description ||\n",
    "| SIZE_NUMBER | Size Number ||\n",
    "| SIZE_PROPORTION_DESC | Size Proportion Description ||"
   ]
  },
  {
   "cell_type": "markdown",
   "metadata": {},
   "source": [
    "## Questions"
   ]
  },
  {
   "cell_type": "markdown",
   "metadata": {},
   "source": [
    "1. Compare the <i>per order</i> sales by age group (children, adults).\n",
    "2. Compare the <i>per order</i> sales by gender group (males, females, unisex).\n",
    "3. Compare the <i>per order</i> returns by color patterns.\n",
    "4. Compare the <i>mean monthly</i> sales by product genders (Girls and Boys) and color patterns\n",
    "\n",
    "## Methods\n",
    "Our questions require the following methods.\n",
    "* Q1-3: one-way ANOVA;\n",
    "* Q4: two-way ANOVA;"
   ]
  },
  {
   "cell_type": "markdown",
   "metadata": {},
   "source": [
    "## Trends"
   ]
  },
  {
   "cell_type": "markdown",
   "metadata": {},
   "source": [
    "What are the product gender/age groups?"
   ]
  },
  {
   "cell_type": "code",
   "execution_count": 2,
   "metadata": {},
   "outputs": [
    {
     "name": "stdout",
     "output_type": "stream",
     "text": [
      "['GIRLS' 'BOYS' 'KIDS' 'TODDLERS' 'MENS' 'UNISEX' 'WOMENS']\n"
     ]
    }
   ],
   "source": [
    "print( df['PRODUCT_GENDER'].unique() )"
   ]
  },
  {
   "cell_type": "code",
   "execution_count": 3,
   "metadata": {},
   "outputs": [],
   "source": [
    "# Sales by gender\n",
    "df1 = df.groupby(['PRODUCT_GENDER','ORD_ID'])['PROD_SELL_PRC'].mean()\n",
    "\n",
    "# Age groups\n",
    "children = df1.loc[['GIRLS', 'BOYS', 'KIDS', 'TODDLERS']]\n",
    "adults = df1.loc[['MENS', 'UNISEX', 'WOMENS']]\n",
    "\n",
    "# Gender groups\n",
    "males = df1.loc[['BOYS', 'MENS']]\n",
    "females = df1.loc[['GIRLS', 'WOMENS']]\n",
    "unisex = df1.loc[['TODDLERS', 'KIDS', 'UNISEX']]\n",
    "\n",
    "# Gender/Age groups\n",
    "girls = df1.loc['GIRLS']\n",
    "boys = df1.loc['BOYS']\n",
    "kids = df1.loc['KIDS']\n",
    "toddlers = df1.loc['TODDLERS']\n",
    "mens = df1.loc['MENS']\n",
    "unisex_ga = df1.loc['UNISEX']\n",
    "womens = df1.loc['WOMENS']\n",
    "#df1.tail()"
   ]
  },
  {
   "cell_type": "markdown",
   "metadata": {},
   "source": [
    "## Q1. Sales by Age\n",
    "Let's compare per-order and total sales in the two age groups. Total sales can be visualized using a bar graph or pie chart."
   ]
  },
  {
   "cell_type": "code",
   "execution_count": 4,
   "metadata": {},
   "outputs": [
    {
     "name": "stdout",
     "output_type": "stream",
     "text": [
      "\t\tTotal sales\n",
      "children =\t$34924.07\n",
      "adults =\t$257111.66\n"
     ]
    }
   ],
   "source": [
    "print(\"\\t\\tTotal sales\")\n",
    "print(f\"children =\\t${round(children.sum(), 2)}\")\n",
    "print(f\"adults =\\t${round(adults.sum(), 2)}\")"
   ]
  },
  {
   "cell_type": "code",
   "execution_count": 5,
   "metadata": {},
   "outputs": [
    {
     "data": {
      "image/png": "[encoded data removed]",
      "text/plain": [
       "<Figure size 360x360 with 1 Axes>"
      ]
     },
     "metadata": {},
     "output_type": "display_data"
    }
   ],
   "source": [
    "df_age = pd.DataFrame({'sales': [children.sum(), adults.sum()]}, #https://pandas.pydata.org/docs/reference/api/pandas.DataFrame.plot.pie.html\n",
    "                  index=['children', 'adults'])\n",
    "plot = df_age.plot.pie(y='sales', colors=[\"green\",\"skyblue\"], autopct='%1.0f%%', figsize=(5, 5)) #labels=df_age.index"
   ]
  },
  {
   "cell_type": "markdown",
   "metadata": {},
   "source": [
    "Since we are going to perform statistical tests of the differences between the age and gender groups, it is more appropriate to use box plots."
   ]
  },
  {
   "cell_type": "code",
   "execution_count": 6,
   "metadata": {},
   "outputs": [
    {
     "data": {
      "image/png": "[encoded data removed]",
      "text/plain": [
       "<Figure size 432x288 with 1 Axes>"
      ]
     },
     "metadata": {},
     "output_type": "display_data"
    }
   ],
   "source": [
    "boxplot = plt.boxplot([children, adults], patch_artist=True);\n",
    "colors=[\"green\",\"skyblue\"]\n",
    "for patch, color in zip(boxplot['boxes'], colors):\n",
    "        patch.set_facecolor(color)\n",
    "plt.xticks([1,2], [\"Children\",\"Adults\"])\n",
    "plt.ylabel(\"Sale, $ / order\")\n",
    "plt.show() #https://matplotlib.org/stable/gallery/statistics/boxplot_color.html"
   ]
  },
  {
   "cell_type": "markdown",
   "metadata": {},
   "source": [
    "### Unpaired T-test\n",
    "To test if the mean values of two different groups are significantly different, use two-sample t-test. This test uses the sample means from two groups and derives the conclusion for the unknown population’s means from which two groups are drawn."
   ]
  },
  {
   "cell_type": "code",
   "execution_count": 7,
   "metadata": {},
   "outputs": [
    {
     "data": {
      "text/plain": [
       "Ttest_indResult(statistic=-5.432827006151113, pvalue=5.753429982438798e-08)"
      ]
     },
     "execution_count": 7,
     "metadata": {},
     "output_type": "execute_result"
    }
   ],
   "source": [
    "st.ttest_ind(a=kids, b=adults)"
   ]
  },
  {
   "cell_type": "markdown",
   "metadata": {},
   "source": [
    "Since the p-value is much less than the conventionally used significance threshold 0.05, we confidently conclude that the two means are significantly different."
   ]
  },
  {
   "cell_type": "markdown",
   "metadata": {},
   "source": [
    "## Q2. Sales by Gender "
   ]
  },
  {
   "cell_type": "code",
   "execution_count": 8,
   "metadata": {},
   "outputs": [
    {
     "name": "stdout",
     "output_type": "stream",
     "text": [
      "\t  Total sales\n",
      "females = $150534.43\n",
      "males =\t  $117890.27\n",
      "unisex =  $23611.03\n"
     ]
    }
   ],
   "source": [
    "print(\"\\t  Total sales\")\n",
    "print(f\"females = ${round(females.sum(), 2)}\")\n",
    "print(f\"males =\\t  ${round(males.sum(), 2)}\")\n",
    "print(f\"unisex =  ${round(unisex.sum(), 2)}\")"
   ]
  },
  {
   "cell_type": "code",
   "execution_count": 9,
   "metadata": {},
   "outputs": [
    {
     "data": {
      "image/png": "[encoded data removed]",
      "text/plain": [
       "<Figure size 360x360 with 1 Axes>"
      ]
     },
     "metadata": {},
     "output_type": "display_data"
    }
   ],
   "source": [
    "df_gender = pd.DataFrame({'sales': [females.sum(), males.sum(), unisex.sum()]}, #https://pandas.pydata.org/docs/reference/api/pandas.DataFrame.plot.pie.html\n",
    "                  index=['females', 'males', 'unisex'])\n",
    "plot = df_gender.plot.pie(y='sales', colors=[\"pink\",\"skyblue\",\"green\"], autopct='%1.1f%%', figsize=(5, 5)) #labels=df_age.index"
   ]
  },
  {
   "cell_type": "code",
   "execution_count": 10,
   "metadata": {},
   "outputs": [
    {
     "data": {
      "image/png": "[encoded data removed]",
      "text/plain": [
       "<Figure size 432x288 with 1 Axes>"
      ]
     },
     "metadata": {},
     "output_type": "display_data"
    }
   ],
   "source": [
    "boxplot = plt.boxplot([females, males, unisex], patch_artist=True);\n",
    "colors=[\"pink\",\"skyblue\",\"green\"]\n",
    "for patch, color in zip(boxplot['boxes'], colors):\n",
    "        patch.set_facecolor(color)\n",
    "plt.xticks([1,2,3], [\"Females\",\"Males\",\"Unisex\"])\n",
    "plt.ylabel(\"Sale, $ / order\")\n",
    "plt.show()"
   ]
  },
  {
   "cell_type": "markdown",
   "metadata": {},
   "source": [
    "### One-way ANOVA Test\n",
    "To test difference of means between three or more groups, use ANOVA test. When there is only one independent variable, one-way ANOVA is used. ANOVA tests non-specific null hypothesis - all group means are equal, which is further followed by post-hoc test to see individual group differences."
   ]
  },
  {
   "cell_type": "code",
   "execution_count": 11,
   "metadata": {},
   "outputs": [
    {
     "name": "stdout",
     "output_type": "stream",
     "text": [
      "F = 29.915772681680856, p = 1.15796254141502e-13\n"
     ]
    }
   ],
   "source": [
    "# stats.f_oneway functions takes the groups as input and returns ANOVA F and p value. https://www.reneshbedre.com/blog/anova.html\n",
    "fvalue, pvalue = st.f_oneway(females, males, unisex)\n",
    "print(f\"F = {fvalue}, p = {pvalue}\")"
   ]
  },
  {
   "cell_type": "markdown",
   "metadata": {},
   "source": [
    "Since the p-value is much less than 0.05, we confidently conclude that there is at least one pair of significantly different means. Which pairs are different can be determined by pairwise tests, such as Tukey test. "
   ]
  },
  {
   "cell_type": "code",
   "execution_count": 12,
   "metadata": {},
   "outputs": [
    {
     "name": "stdout",
     "output_type": "stream",
     "text": [
      "Multiple Comparison of Means - Tukey HSD, FWER=0.05 \n",
      "====================================================\n",
      "group1 group2 meandiff p-adj  lower    upper  reject\n",
      "----------------------------------------------------\n",
      "female   male     2.76 0.001   1.0337  4.4862   True\n",
      "female unisex  -6.7262 0.001  -9.5575 -3.8949   True\n",
      "  male unisex  -9.4861 0.001 -12.3968 -6.5755   True\n",
      "----------------------------------------------------\n"
     ]
    }
   ],
   "source": [
    "# perform multiple pairwise comparison (Tukey HSD)\n",
    "# Recode gender/age group into gender\n",
    "groups = np.array([])\n",
    "for i in df1.index[:]:\n",
    "    gender = i[0]\n",
    "    if (gender == 'BOYS') | (gender == 'MENS'):\n",
    "        gender = 'male'\n",
    "    elif (gender == 'GIRLS') | (gender == 'WOMENS'):\n",
    "        gender = 'female'\n",
    "    else:\n",
    "        gender = 'unisex'\n",
    "    groups = np.append(groups, gender)\n",
    "#m_comp = pairwise_tukeyhsd(endog=[females.mean(), males.mean(), unisex.mean()], groups=[females, males, unisex], alpha=0.05)\n",
    "m_comp = pairwise_tukeyhsd(endog=df1.values, groups=groups, alpha=0.05)\n",
    "print(m_comp)"
   ]
  },
  {
   "cell_type": "markdown",
   "metadata": {},
   "source": [
    "All three pairs of apparel genders have significantly different mean sale amounts."
   ]
  },
  {
   "cell_type": "markdown",
   "metadata": {},
   "source": [
    "## All gender/age categories"
   ]
  },
  {
   "cell_type": "code",
   "execution_count": 13,
   "metadata": {},
   "outputs": [
    {
     "name": "stdout",
     "output_type": "stream",
     "text": [
      "\t\tTotal sales\n",
      "womens =\t$142500.44\n",
      "mens =\t\t$114335.37\n",
      "kids =\t\t$16668.39\n",
      "girls =\t\t$8034.0\n",
      "toddlers =\t$6666.79\n",
      "boys =\t\t$3554.9\n",
      "unisex =\t$275.85\n"
     ]
    }
   ],
   "source": [
    "print(\"\\t\\tTotal sales\")\n",
    "print(f\"womens =\\t${round(womens.sum(), 2)}\")\n",
    "print(f\"mens =\\t\\t${round(mens.sum(), 2)}\")\n",
    "print(f\"kids =\\t\\t${round(kids.sum(), 2)}\")\n",
    "print(f\"girls =\\t\\t${round(girls.sum(), 2)}\")\n",
    "print(f\"toddlers =\\t${round(toddlers.sum(), 2)}\")\n",
    "print(f\"boys =\\t\\t${round(boys.sum(), 2)}\")\n",
    "print(f\"unisex =\\t${round(unisex_ga.sum(), 2)}\")"
   ]
  },
  {
   "cell_type": "markdown",
   "metadata": {},
   "source": [
    "For more than 5 categories, a bar chart is preferable. "
   ]
  },
  {
   "cell_type": "code",
   "execution_count": 14,
   "metadata": {},
   "outputs": [
    {
     "data": {
      "image/png": "[encoded data removed]",
      "text/plain": [
       "<Figure size 432x288 with 1 Axes>"
      ]
     },
     "metadata": {},
     "output_type": "display_data"
    }
   ],
   "source": [
    "plt.bar(x=np.arange(1,7+1), height=[womens.sum(),mens.sum(),kids.sum(),girls.sum(),toddlers.sum(),boys.sum(),unisex_ga.sum()],\n",
    "        color=[\"magenta\",\"skyblue\",\"olive\",\"red\",\"maroon\",\"blue\",\"green\"])\n",
    "plt.xticks(np.arange(1,7+1), [\"womens\",\"mens\",\"kids\",\"girls\",\"toddlers\",\"boys\",\"unisex\"])\n",
    "plt.ylabel(\"Net sales, $\")\n",
    "\n",
    "# Add %\n",
    "sales_net = np.sum(df1)\n",
    "spacing = 2500\n",
    "for i, category in enumerate([womens,mens,kids,girls,toddlers,boys,unisex_ga]): # manual sorting\n",
    "    pct = round(category.sum()/sales_net*100, 1)\n",
    "    plt.text(i+1, category.sum()+spacing, str(pct)+'%', horizontalalignment='center')\n",
    "plt.show()"
   ]
  },
  {
   "cell_type": "markdown",
   "metadata": {},
   "source": [
    "## Q3. Return by Color Patterns\n",
    "What color patterns are there?"
   ]
  },
  {
   "cell_type": "code",
   "execution_count": 15,
   "metadata": {
    "scrolled": false
   },
   "outputs": [
    {
     "name": "stdout",
     "output_type": "stream",
     "text": [
      "['Solid' 'Color Block' '0 Multi for Pricing' 'Print' 'Multi Color' 'Motif'\n",
      " 'Stripe' 'Two Tone' 'Plaid' 'Not Applicable' 'Camouflage' 'Floral'\n",
      " 'Polka Dot' 'Check' 'Pattern' 'Tattersall' 'Chest Stripe'\n",
      " 'Regimental Stripe' 'Multi Stripe' 'Windowpane' 'Awning Stripe'\n",
      " 'Herringbone']\n"
     ]
    }
   ],
   "source": [
    "print( df['COLOR_PATTERN_DESC'].unique() )"
   ]
  },
  {
   "cell_type": "markdown",
   "metadata": {},
   "source": [
    "What are the return proportions for different color patterns?"
   ]
  },
  {
   "cell_type": "code",
   "execution_count": 16,
   "metadata": {},
   "outputs": [
    {
     "data": {
      "text/plain": [
       "COLOR_PATTERN_DESC   ORD_ID      \n",
       "0 Multi for Pricing  11382833        0.0\n",
       "                     11840492        0.0\n",
       "                     12370807        0.8\n",
       "                     20791118        0.0\n",
       "                     20883417        0.0\n",
       "                                    ... \n",
       "Two Tone             900462000000    0.0\n",
       "                     956217000000    0.0\n",
       "Windowpane           10093841150     0.0\n",
       "                     421496000000    0.0\n",
       "                     807094000000    0.0\n",
       "Name: return, Length: 7147, dtype: float64"
      ]
     },
     "execution_count": 16,
     "metadata": {},
     "output_type": "execute_result"
    }
   ],
   "source": [
    "# Returns by color patterns\n",
    "df3 = df.groupby(['COLOR_PATTERN_DESC','ORD_ID'])['return'].mean()\n",
    "df3"
   ]
  },
  {
   "cell_type": "code",
   "execution_count": 17,
   "metadata": {},
   "outputs": [
    {
     "data": {
      "text/html": [
       "<div>\n",
       "<style scoped>\n",
       "    .dataframe tbody tr th:only-of-type {\n",
       "        vertical-align: middle;\n",
       "    }\n",
       "\n",
       "    .dataframe tbody tr th {\n",
       "        vertical-align: top;\n",
       "    }\n",
       "\n",
       "    .dataframe thead th {\n",
       "        text-align: right;\n",
       "    }\n",
       "</style>\n",
       "<table border=\"1\" class=\"dataframe\">\n",
       "  <thead>\n",
       "    <tr style=\"text-align: right;\">\n",
       "      <th></th>\n",
       "      <th>Mean return</th>\n",
       "    </tr>\n",
       "    <tr>\n",
       "      <th>Color pattern</th>\n",
       "      <th></th>\n",
       "    </tr>\n",
       "  </thead>\n",
       "  <tbody>\n",
       "    <tr>\n",
       "      <th>Regimental Stripe</th>\n",
       "      <td>0.333333</td>\n",
       "    </tr>\n",
       "    <tr>\n",
       "      <th>Chest Stripe</th>\n",
       "      <td>0.250000</td>\n",
       "    </tr>\n",
       "    <tr>\n",
       "      <th>Multi Color</th>\n",
       "      <td>0.163232</td>\n",
       "    </tr>\n",
       "    <tr>\n",
       "      <th>Color Block</th>\n",
       "      <td>0.150383</td>\n",
       "    </tr>\n",
       "    <tr>\n",
       "      <th>Floral</th>\n",
       "      <td>0.150000</td>\n",
       "    </tr>\n",
       "    <tr>\n",
       "      <th>Stripe</th>\n",
       "      <td>0.134529</td>\n",
       "    </tr>\n",
       "    <tr>\n",
       "      <th>Solid</th>\n",
       "      <td>0.128521</td>\n",
       "    </tr>\n",
       "    <tr>\n",
       "      <th>Two Tone</th>\n",
       "      <td>0.126866</td>\n",
       "    </tr>\n",
       "    <tr>\n",
       "      <th>Plaid</th>\n",
       "      <td>0.123596</td>\n",
       "    </tr>\n",
       "    <tr>\n",
       "      <th>0 Multi for Pricing</th>\n",
       "      <td>0.100053</td>\n",
       "    </tr>\n",
       "    <tr>\n",
       "      <th>Print</th>\n",
       "      <td>0.098765</td>\n",
       "    </tr>\n",
       "    <tr>\n",
       "      <th>Polka Dot</th>\n",
       "      <td>0.062500</td>\n",
       "    </tr>\n",
       "    <tr>\n",
       "      <th>Motif</th>\n",
       "      <td>0.052174</td>\n",
       "    </tr>\n",
       "    <tr>\n",
       "      <th>Not Applicable</th>\n",
       "      <td>0.047619</td>\n",
       "    </tr>\n",
       "    <tr>\n",
       "      <th>Check</th>\n",
       "      <td>0.031250</td>\n",
       "    </tr>\n",
       "    <tr>\n",
       "      <th>Tattersall</th>\n",
       "      <td>0.031250</td>\n",
       "    </tr>\n",
       "    <tr>\n",
       "      <th>Camouflage</th>\n",
       "      <td>0.000000</td>\n",
       "    </tr>\n",
       "    <tr>\n",
       "      <th>Pattern</th>\n",
       "      <td>0.000000</td>\n",
       "    </tr>\n",
       "    <tr>\n",
       "      <th>Multi Stripe</th>\n",
       "      <td>0.000000</td>\n",
       "    </tr>\n",
       "    <tr>\n",
       "      <th>Windowpane</th>\n",
       "      <td>0.000000</td>\n",
       "    </tr>\n",
       "    <tr>\n",
       "      <th>Awning Stripe</th>\n",
       "      <td>0.000000</td>\n",
       "    </tr>\n",
       "    <tr>\n",
       "      <th>Herringbone</th>\n",
       "      <td>0.000000</td>\n",
       "    </tr>\n",
       "  </tbody>\n",
       "</table>\n",
       "</div>"
      ],
      "text/plain": [
       "                     Mean return\n",
       "Color pattern                   \n",
       "Regimental Stripe       0.333333\n",
       "Chest Stripe            0.250000\n",
       "Multi Color             0.163232\n",
       "Color Block             0.150383\n",
       "Floral                  0.150000\n",
       "Stripe                  0.134529\n",
       "Solid                   0.128521\n",
       "Two Tone                0.126866\n",
       "Plaid                   0.123596\n",
       "0 Multi for Pricing     0.100053\n",
       "Print                   0.098765\n",
       "Polka Dot               0.062500\n",
       "Motif                   0.052174\n",
       "Not Applicable          0.047619\n",
       "Check                   0.031250\n",
       "Tattersall              0.031250\n",
       "Camouflage              0.000000\n",
       "Pattern                 0.000000\n",
       "Multi Stripe            0.000000\n",
       "Windowpane              0.000000\n",
       "Awning Stripe           0.000000\n",
       "Herringbone             0.000000"
      ]
     },
     "execution_count": 17,
     "metadata": {},
     "output_type": "execute_result"
    }
   ],
   "source": [
    "df_return = pd.DataFrame(columns=['Color pattern', 'Mean return'])\n",
    "for color_pattern in df['COLOR_PATTERN_DESC'].unique():\n",
    "    mr = np.mean(df3[color_pattern]) # return proportion\n",
    "    df_return = df_return.append({'Color pattern':color_pattern, 'Mean return':mr}, ignore_index=True)\n",
    "df_return.set_index('Color pattern', inplace=True)\n",
    "df_return.sort_values(by=['Mean return'], ascending=False, inplace=True) # sort by descending return proportion\n",
    "df_return"
   ]
  },
  {
   "cell_type": "code",
   "execution_count": 18,
   "metadata": {},
   "outputs": [
    {
     "data": {
      "image/png": "[encoded data removed]",
      "text/plain": [
       "<Figure size 432x288 with 1 Axes>"
      ]
     },
     "metadata": {},
     "output_type": "display_data"
    }
   ],
   "source": [
    "spacing = 0.01\n",
    "for i, color_pattern in enumerate(df_return.index):\n",
    "    h = df_return.iloc[i,0]\n",
    "    plt.bar(x=i, height=h)\n",
    "    plt.text(i, h+spacing, str(round(h*100,1))+'%', horizontalalignment='left', rotation=45)\n",
    "plt.xticks(np.arange(0,len(df_return)), list([df_return.index][0]), rotation=90)\n",
    "plt.ylabel(\"Return proportion\")\n",
    "plt.title(\"Return by Color Patterns\")\n",
    "plt.show()"
   ]
  },
  {
   "cell_type": "markdown",
   "metadata": {},
   "source": [
    "## Q4. Compare the mean monthly sales by product genders (girls and boys) and color patterns"
   ]
  },
  {
   "cell_type": "code",
   "execution_count": 19,
   "metadata": {},
   "outputs": [
    {
     "data": {
      "text/html": [
       "<div>\n",
       "<style scoped>\n",
       "    .dataframe tbody tr th:only-of-type {\n",
       "        vertical-align: middle;\n",
       "    }\n",
       "\n",
       "    .dataframe tbody tr th {\n",
       "        vertical-align: top;\n",
       "    }\n",
       "\n",
       "    .dataframe thead th {\n",
       "        text-align: right;\n",
       "    }\n",
       "</style>\n",
       "<table border=\"1\" class=\"dataframe\">\n",
       "  <thead>\n",
       "    <tr style=\"text-align: right;\">\n",
       "      <th></th>\n",
       "      <th>PRODUCT_GENDER</th>\n",
       "      <th>COLOR_PATTERN_DESC</th>\n",
       "      <th>month</th>\n",
       "      <th>PROD_SELL_PRC</th>\n",
       "    </tr>\n",
       "  </thead>\n",
       "  <tbody>\n",
       "    <tr>\n",
       "      <th>0</th>\n",
       "      <td>BOYS</td>\n",
       "      <td>0 Multi for Pricing</td>\n",
       "      <td>1</td>\n",
       "      <td>24.000000</td>\n",
       "    </tr>\n",
       "    <tr>\n",
       "      <th>1</th>\n",
       "      <td>BOYS</td>\n",
       "      <td>0 Multi for Pricing</td>\n",
       "      <td>5</td>\n",
       "      <td>16.250000</td>\n",
       "    </tr>\n",
       "    <tr>\n",
       "      <th>2</th>\n",
       "      <td>BOYS</td>\n",
       "      <td>0 Multi for Pricing</td>\n",
       "      <td>8</td>\n",
       "      <td>19.500000</td>\n",
       "    </tr>\n",
       "    <tr>\n",
       "      <th>3</th>\n",
       "      <td>BOYS</td>\n",
       "      <td>0 Multi for Pricing</td>\n",
       "      <td>9</td>\n",
       "      <td>18.833333</td>\n",
       "    </tr>\n",
       "    <tr>\n",
       "      <th>4</th>\n",
       "      <td>BOYS</td>\n",
       "      <td>0 Multi for Pricing</td>\n",
       "      <td>10</td>\n",
       "      <td>22.000000</td>\n",
       "    </tr>\n",
       "  </tbody>\n",
       "</table>\n",
       "</div>"
      ],
      "text/plain": [
       "  PRODUCT_GENDER   COLOR_PATTERN_DESC  month  PROD_SELL_PRC\n",
       "0           BOYS  0 Multi for Pricing      1      24.000000\n",
       "1           BOYS  0 Multi for Pricing      5      16.250000\n",
       "2           BOYS  0 Multi for Pricing      8      19.500000\n",
       "3           BOYS  0 Multi for Pricing      9      18.833333\n",
       "4           BOYS  0 Multi for Pricing     10      22.000000"
      ]
     },
     "metadata": {},
     "output_type": "display_data"
    },
    {
     "data": {
      "text/html": [
       "<div>\n",
       "<style scoped>\n",
       "    .dataframe tbody tr th:only-of-type {\n",
       "        vertical-align: middle;\n",
       "    }\n",
       "\n",
       "    .dataframe tbody tr th {\n",
       "        vertical-align: top;\n",
       "    }\n",
       "\n",
       "    .dataframe thead th {\n",
       "        text-align: right;\n",
       "    }\n",
       "</style>\n",
       "<table border=\"1\" class=\"dataframe\">\n",
       "  <thead>\n",
       "    <tr style=\"text-align: right;\">\n",
       "      <th></th>\n",
       "      <th>PRODUCT_GENDER</th>\n",
       "      <th>COLOR_PATTERN_DESC</th>\n",
       "      <th>month</th>\n",
       "      <th>PROD_SELL_PRC</th>\n",
       "    </tr>\n",
       "  </thead>\n",
       "  <tbody>\n",
       "    <tr>\n",
       "      <th>102</th>\n",
       "      <td>GIRLS</td>\n",
       "      <td>Stripe</td>\n",
       "      <td>9</td>\n",
       "      <td>24.25</td>\n",
       "    </tr>\n",
       "    <tr>\n",
       "      <th>103</th>\n",
       "      <td>GIRLS</td>\n",
       "      <td>Stripe</td>\n",
       "      <td>12</td>\n",
       "      <td>14.99</td>\n",
       "    </tr>\n",
       "    <tr>\n",
       "      <th>104</th>\n",
       "      <td>GIRLS</td>\n",
       "      <td>Two Tone</td>\n",
       "      <td>4</td>\n",
       "      <td>22.50</td>\n",
       "    </tr>\n",
       "    <tr>\n",
       "      <th>105</th>\n",
       "      <td>GIRLS</td>\n",
       "      <td>Two Tone</td>\n",
       "      <td>5</td>\n",
       "      <td>22.50</td>\n",
       "    </tr>\n",
       "    <tr>\n",
       "      <th>106</th>\n",
       "      <td>GIRLS</td>\n",
       "      <td>Two Tone</td>\n",
       "      <td>7</td>\n",
       "      <td>16.00</td>\n",
       "    </tr>\n",
       "  </tbody>\n",
       "</table>\n",
       "</div>"
      ],
      "text/plain": [
       "    PRODUCT_GENDER COLOR_PATTERN_DESC  month  PROD_SELL_PRC\n",
       "102          GIRLS             Stripe      9          24.25\n",
       "103          GIRLS             Stripe     12          14.99\n",
       "104          GIRLS           Two Tone      4          22.50\n",
       "105          GIRLS           Two Tone      5          22.50\n",
       "106          GIRLS           Two Tone      7          16.00"
      ]
     },
     "metadata": {},
     "output_type": "display_data"
    }
   ],
   "source": [
    "# Select boys and girls, and relevant columns\n",
    "df4 = df.loc[ (df['PRODUCT_GENDER'] == 'GIRLS') | (df['PRODUCT_GENDER'] == 'BOYS'), ['PRODUCT_GENDER','COLOR_PATTERN_DESC','order_date','PROD_SELL_PRC']]\n",
    "df4['month'] = df4.order_date.apply(lambda x: int(x.strftime('%Y-%m-%d')[5:6+1])) # month from timestamp\n",
    "df4.drop('order_date', axis=1, inplace=True)\n",
    "df4 = df4.groupby(by=['PRODUCT_GENDER','COLOR_PATTERN_DESC','month']).mean()\n",
    "df4 = df4.reset_index()\n",
    "display(df4.head()); display(df4.tail())"
   ]
  },
  {
   "cell_type": "code",
   "execution_count": 20,
   "metadata": {},
   "outputs": [
    {
     "name": "stderr",
     "output_type": "stream",
     "text": [
      "C:\\Programs\\anaconda3\\lib\\site-packages\\statsmodels\\base\\model.py:1832: ValueWarning: covariance of constraints does not have full rank. The number of constraints is 11, but rank is 8\n",
      "  warnings.warn('covariance of constraints does not have full '\n",
      "C:\\Programs\\anaconda3\\lib\\site-packages\\statsmodels\\base\\model.py:1832: ValueWarning: covariance of constraints does not have full rank. The number of constraints is 11, but rank is 10\n",
      "  warnings.warn('covariance of constraints does not have full '\n"
     ]
    },
    {
     "data": {
      "text/html": [
       "<div>\n",
       "<style scoped>\n",
       "    .dataframe tbody tr th:only-of-type {\n",
       "        vertical-align: middle;\n",
       "    }\n",
       "\n",
       "    .dataframe tbody tr th {\n",
       "        vertical-align: top;\n",
       "    }\n",
       "\n",
       "    .dataframe thead th {\n",
       "        text-align: right;\n",
       "    }\n",
       "</style>\n",
       "<table border=\"1\" class=\"dataframe\">\n",
       "  <thead>\n",
       "    <tr style=\"text-align: right;\">\n",
       "      <th></th>\n",
       "      <th>sum_sq</th>\n",
       "      <th>df</th>\n",
       "      <th>F</th>\n",
       "      <th>PR(&gt;F)</th>\n",
       "    </tr>\n",
       "  </thead>\n",
       "  <tbody>\n",
       "    <tr>\n",
       "      <th>C(PRODUCT_GENDER)</th>\n",
       "      <td>129.077045</td>\n",
       "      <td>1.0</td>\n",
       "      <td>1.923084</td>\n",
       "      <td>1.691013e-01</td>\n",
       "    </tr>\n",
       "    <tr>\n",
       "      <th>C(COLOR_PATTERN_DESC)</th>\n",
       "      <td>29476.178157</td>\n",
       "      <td>11.0</td>\n",
       "      <td>39.923414</td>\n",
       "      <td>8.387377e-26</td>\n",
       "    </tr>\n",
       "    <tr>\n",
       "      <th>C(PRODUCT_GENDER):C(COLOR_PATTERN_DESC)</th>\n",
       "      <td>1130.326163</td>\n",
       "      <td>11.0</td>\n",
       "      <td>1.530947</td>\n",
       "      <td>1.422702e-01</td>\n",
       "    </tr>\n",
       "    <tr>\n",
       "      <th>Residual</th>\n",
       "      <td>5772.304879</td>\n",
       "      <td>86.0</td>\n",
       "      <td>NaN</td>\n",
       "      <td>NaN</td>\n",
       "    </tr>\n",
       "  </tbody>\n",
       "</table>\n",
       "</div>"
      ],
      "text/plain": [
       "                                               sum_sq    df          F  \\\n",
       "C(PRODUCT_GENDER)                          129.077045   1.0   1.923084   \n",
       "C(COLOR_PATTERN_DESC)                    29476.178157  11.0  39.923414   \n",
       "C(PRODUCT_GENDER):C(COLOR_PATTERN_DESC)   1130.326163  11.0   1.530947   \n",
       "Residual                                  5772.304879  86.0        NaN   \n",
       "\n",
       "                                               PR(>F)  \n",
       "C(PRODUCT_GENDER)                        1.691013e-01  \n",
       "C(COLOR_PATTERN_DESC)                    8.387377e-26  \n",
       "C(PRODUCT_GENDER):C(COLOR_PATTERN_DESC)  1.422702e-01  \n",
       "Residual                                          NaN  "
      ]
     },
     "execution_count": 20,
     "metadata": {},
     "output_type": "execute_result"
    }
   ],
   "source": [
    "#perform two-way ANOVA\n",
    "model = ols('PROD_SELL_PRC ~ C(PRODUCT_GENDER) + C(COLOR_PATTERN_DESC) + C(PRODUCT_GENDER):C(COLOR_PATTERN_DESC)', data=df4).fit()\n",
    "sm.stats.anova_lm(model, typ=2)"
   ]
  },
  {
   "cell_type": "markdown",
   "metadata": {},
   "source": [
    "Among the p-values shown in the right column, only the one for 'COLOR_PATTERN_DESC' is below 0.05. Therefore, the mean monthly sales significantly differ by color patterns, but there is no significant dependence on the product gender (boys or girls) and no interaction effect between the color pattern and product gender."
   ]
  },
  {
   "cell_type": "markdown",
   "metadata": {},
   "source": [
    "### Visualization types and their use\n",
    "Reminder about types of plots and when to use them."
   ]
  },
  {
   "cell_type": "raw",
   "metadata": {},
   "source": [
    "Number Chart - gives an immediate overview of a specific value.\n",
    "Line Chart - shows trends and change of data over a period of time.\n",
    "Maps - visualizes data by geographical location.\n",
    "Waterfall Chart - demonstrates the static composition of data.\n",
    "+ Bar Graphs - used to compare data of many items.\n",
    "+ Pie Chart - indicates the proportional composition of a variable.\n",
    "Gauge Chart - used to display a single value within a quantitative context.\n",
    "Scatter Plot - applied to express relations and distribution of large sets of data.\n",
    "Spider Chart - comparative charts great for rankings, reviews, and appraisals.\n",
    "Tables - shows a large number of precise dimensions and measures.\n",
    "Area Chart - portrays a part-to-whole relationship over time.\n",
    "Bubble Plots - visualizes 2 or more variables with multiple dimensions.\n",
    "But in our hyper-connected digital age, there are many more types of data visualizations you can use to your advantage.\n",
    "+ Box plot"
   ]
  },
  {
   "cell_type": "markdown",
   "metadata": {},
   "source": [
    "## Summary of Key Findings\n",
    "\n",
    "* Comparison of sales by age\n",
    "\n",
    "This retailer is primarily an adult clothing retailer with 85% of transactions and 88% of dollars coming from adult sizes; Children's clothing appears to be a relative afterthought. As such, it appears that they are missing an opportunity in this space. As an industry norm, children's clothing is, at least, as expensive as adult clothing, while at this retailer they are priced 30-36% lower. If this retailer followed the industry norm, children's clothing would be priced approximately $10-15 higher than they are currently priced and this could potentially give a 2% increase in revenue.\n",
    "\n",
    "* Comparison of sales by gender and age\n",
    "\n",
    "Expectedly, majority of the net sales are from females' apparels (56%). The share of sales from girls' (2.8%) and boys' (1.2%) apparels is surprisingly small. Definitely, it would be good to increase these shares to make this retailer more attractive to parents, which would also drive up adult product sales.\n",
    "\n",
    "* Comparison of returns by color pattern\n",
    "\n",
    "Apparels with the following color patterns were never returned: 'Camouflage', 'Pattern', 'Multi Stripe', 'Windowpane', 'Awning Stripe', 'Herringbone'.\n",
    "\n",
    "## Remaining and Arising Questions\n",
    "5. Compare sale amount by purchase channel and high/low discount (discount higher than 6.5% is high and is low otherwise). Requires two-way ANOVA.\n",
    "6. Identify unusual and influential data. Requires outlier detection.\n",
    "- Is there another primary factor responsible for returns?\n",
    "- How soon customers make their first purchase, and how to make it faster?"
   ]
  }
 ],
 "metadata": {
  "kernelspec": {
   "display_name": "Python 3",
   "language": "python",
   "name": "python3"
  },
  "language_info": {
   "codemirror_mode": {
    "name": "ipython",
    "version": 3
   },
   "file_extension": ".py",
   "mimetype": "text/x-python",
   "name": "python",
   "nbconvert_exporter": "python",
   "pygments_lexer": "ipython3",
   "version": "3.8.5"
  }
 },
 "nbformat": 4,
 "nbformat_minor": 4
}
