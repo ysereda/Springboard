{
 "cells": [
  {
   "cell_type": "markdown",
   "id": "8530152b",
   "metadata": {},
   "source": [
    "# 27.2.2 Ultimate Technologies Inc. Take-Home Challenge\n",
    "Ultimate Technologies Inc. is a transportation network company that has disrupted the taxi and logistics industry and is considered a prestigious company to work for. This challenge has been adapted from an actual Ultimate Inc. data science challenge.\n",
    "\n",
    "## Part 1 ‐ Exploratory data analysis\n",
    "The attached `logins.json` file contains (simulated) timestamps of user logins in a particular\n",
    "geographic location. Aggregate these login counts based on 15-minute time intervals, and\n",
    "visualize and describe the resulting time series of login counts in ways that best characterize the\n",
    "underlying patterns of the demand. Please report/illustrate important features of the demand,\n",
    "such as daily cycles. If there are data quality issues, please report them."
   ]
  },
  {
   "cell_type": "code",
   "execution_count": 123,
   "id": "cc7193b4",
   "metadata": {},
   "outputs": [],
   "source": [
    "import json\n",
    "import pandas as pd\n",
    "import numpy as np\n",
    "import matplotlib.pyplot as plt\n",
    "import math\n",
    "import statsmodels.api as sm # linear regression\n",
    "import seaborn as sns # correlation matrix\n",
    "from sklearn import preprocessing\n",
    "from sklearn.preprocessing import OneHotEncoder\n",
    "from sklearn.preprocessing import LabelEncoder\n",
    "from sklearn.model_selection import train_test_split, KFold, GridSearchCV, RandomizedSearchCV, cross_val_score # train-test\n",
    "import os\n",
    "os.chdir('C:/Sereda/Lectures/Springboard/27.Effective_Interviewing_for_Data_Scientists/ultimate_challenge')"
   ]
  },
  {
   "cell_type": "code",
   "execution_count": 152,
   "id": "ee20d495",
   "metadata": {},
   "outputs": [
    {
     "name": "stdout",
     "output_type": "stream",
     "text": [
      "Earliest login:\t 1970-01-01 20:12:16\n",
      "Latest login:\t 1970-04-13 18:57:38\n"
     ]
    }
   ],
   "source": [
    "# Load *.json file\n",
    "with open('logins.json', 'r') as json_file:\n",
    "    ts = pd.DataFrame(json.load(json_file)) # Time series (column of timestamp strings)\n",
    "ts = pd.to_datetime(ts['login_time']) # convert strings to timestamps\n",
    "print(\"Earliest login:\\t\", min(ts))\n",
    "print(\"Latest login:\\t\", max(ts))"
   ]
  },
  {
   "cell_type": "markdown",
   "id": "c6e0193f",
   "metadata": {},
   "source": [
    "Timestamps are not sorted:"
   ]
  },
  {
   "cell_type": "code",
   "execution_count": 153,
   "id": "9789edce",
   "metadata": {},
   "outputs": [
    {
     "data": {
      "text/plain": [
       "Timestamp('1970-01-01 20:16:37')"
      ]
     },
     "execution_count": 153,
     "metadata": {},
     "output_type": "execute_result"
    }
   ],
   "source": [
    "ts[2]"
   ]
  },
  {
   "cell_type": "code",
   "execution_count": 154,
   "id": "4ecc7b7e",
   "metadata": {},
   "outputs": [
    {
     "data": {
      "text/plain": [
       "Timestamp('1970-01-01 20:16:36')"
      ]
     },
     "execution_count": 154,
     "metadata": {},
     "output_type": "execute_result"
    }
   ],
   "source": [
    "ts[3]"
   ]
  },
  {
   "cell_type": "code",
   "execution_count": 155,
   "id": "18fcf4fa",
   "metadata": {},
   "outputs": [
    {
     "data": {
      "text/html": [
       "<div>\n",
       "<style scoped>\n",
       "    .dataframe tbody tr th:only-of-type {\n",
       "        vertical-align: middle;\n",
       "    }\n",
       "\n",
       "    .dataframe tbody tr th {\n",
       "        vertical-align: top;\n",
       "    }\n",
       "\n",
       "    .dataframe thead th {\n",
       "        text-align: right;\n",
       "    }\n",
       "</style>\n",
       "<table border=\"1\" class=\"dataframe\">\n",
       "  <thead>\n",
       "    <tr style=\"text-align: right;\">\n",
       "      <th></th>\n",
       "      <th>count</th>\n",
       "    </tr>\n",
       "    <tr>\n",
       "      <th>login_time</th>\n",
       "      <th></th>\n",
       "    </tr>\n",
       "  </thead>\n",
       "  <tbody>\n",
       "    <tr>\n",
       "      <th>1970-01-01 20:00:00</th>\n",
       "      <td>2</td>\n",
       "    </tr>\n",
       "    <tr>\n",
       "      <th>1970-01-01 20:15:00</th>\n",
       "      <td>6</td>\n",
       "    </tr>\n",
       "    <tr>\n",
       "      <th>1970-01-01 20:30:00</th>\n",
       "      <td>9</td>\n",
       "    </tr>\n",
       "    <tr>\n",
       "      <th>1970-01-01 20:45:00</th>\n",
       "      <td>7</td>\n",
       "    </tr>\n",
       "    <tr>\n",
       "      <th>1970-01-01 21:00:00</th>\n",
       "      <td>1</td>\n",
       "    </tr>\n",
       "  </tbody>\n",
       "</table>\n",
       "</div>"
      ],
      "text/plain": [
       "                     count\n",
       "login_time                \n",
       "1970-01-01 20:00:00      2\n",
       "1970-01-01 20:15:00      6\n",
       "1970-01-01 20:30:00      9\n",
       "1970-01-01 20:45:00      7\n",
       "1970-01-01 21:00:00      1"
      ]
     },
     "execution_count": 155,
     "metadata": {},
     "output_type": "execute_result"
    }
   ],
   "source": [
    "# Resample using 15-min periods\n",
    "df = ts.to_frame()\n",
    "df.set_index('login_time', inplace = True)\n",
    "df['count'] = 1\n",
    "df = df.resample('15T').sum()\n",
    "df.head()"
   ]
  },
  {
   "cell_type": "code",
   "execution_count": 156,
   "id": "1125fe57",
   "metadata": {},
   "outputs": [
    {
     "data": {
      "text/plain": [
       "0   1970-01-01 20:13:18\n",
       "1   1970-01-01 20:16:10\n",
       "2   1970-01-01 20:16:37\n",
       "3   1970-01-01 20:16:36\n",
       "4   1970-01-01 20:26:21\n",
       "Name: login_time, dtype: datetime64[ns]"
      ]
     },
     "execution_count": 156,
     "metadata": {},
     "output_type": "execute_result"
    }
   ],
   "source": [
    "ts.head()"
   ]
  },
  {
   "cell_type": "code",
   "execution_count": 157,
   "id": "5349df08",
   "metadata": {
    "scrolled": true
   },
   "outputs": [
    {
     "data": {
      "text/plain": [
       "0   1970-01-01 20:13:18\n",
       "6   1970-01-01 20:12:16\n",
       "Name: login_time, dtype: datetime64[ns]"
      ]
     },
     "execution_count": 157,
     "metadata": {},
     "output_type": "execute_result"
    }
   ],
   "source": [
    "# Verification of resampling\n",
    "ts[ts < pd.Timestamp('1970-01-01 20:15:00')] # 1st period"
   ]
  },
  {
   "cell_type": "code",
   "execution_count": 158,
   "id": "4e2e6961",
   "metadata": {},
   "outputs": [
    {
     "data": {
      "text/plain": [
       "1    1970-01-01 20:16:10\n",
       "2    1970-01-01 20:16:37\n",
       "3    1970-01-01 20:16:36\n",
       "4    1970-01-01 20:26:21\n",
       "5    1970-01-01 20:21:41\n",
       "10   1970-01-01 20:26:05\n",
       "Name: login_time, dtype: datetime64[ns]"
      ]
     },
     "execution_count": 158,
     "metadata": {},
     "output_type": "execute_result"
    }
   ],
   "source": [
    "ts[(pd.Timestamp('1970-01-01 20:15:00') <= ts) & (ts < pd.Timestamp('1970-01-01 20:30:00'))] # 2nd period"
   ]
  },
  {
   "cell_type": "code",
   "execution_count": 181,
   "id": "9cdf942f",
   "metadata": {},
   "outputs": [
    {
     "data": {
      "text/plain": [
       "True"
      ]
     },
     "execution_count": 181,
     "metadata": {},
     "output_type": "execute_result"
    }
   ],
   "source": [
    "df.sum()[0] == len(ts) # sum of counts"
   ]
  },
  {
   "cell_type": "code",
   "execution_count": 182,
   "id": "a12c87f0",
   "metadata": {},
   "outputs": [
    {
     "data": {
      "text/html": [
       "<div>\n",
       "<style scoped>\n",
       "    .dataframe tbody tr th:only-of-type {\n",
       "        vertical-align: middle;\n",
       "    }\n",
       "\n",
       "    .dataframe tbody tr th {\n",
       "        vertical-align: top;\n",
       "    }\n",
       "\n",
       "    .dataframe thead th {\n",
       "        text-align: right;\n",
       "    }\n",
       "</style>\n",
       "<table border=\"1\" class=\"dataframe\">\n",
       "  <thead>\n",
       "    <tr style=\"text-align: right;\">\n",
       "      <th></th>\n",
       "      <th>count</th>\n",
       "    </tr>\n",
       "  </thead>\n",
       "  <tbody>\n",
       "    <tr>\n",
       "      <th>count</th>\n",
       "      <td>9788.000000</td>\n",
       "    </tr>\n",
       "    <tr>\n",
       "      <th>mean</th>\n",
       "      <td>9.515938</td>\n",
       "    </tr>\n",
       "    <tr>\n",
       "      <th>std</th>\n",
       "      <td>8.328818</td>\n",
       "    </tr>\n",
       "    <tr>\n",
       "      <th>min</th>\n",
       "      <td>0.000000</td>\n",
       "    </tr>\n",
       "    <tr>\n",
       "      <th>25%</th>\n",
       "      <td>3.000000</td>\n",
       "    </tr>\n",
       "    <tr>\n",
       "      <th>50%</th>\n",
       "      <td>7.000000</td>\n",
       "    </tr>\n",
       "    <tr>\n",
       "      <th>75%</th>\n",
       "      <td>13.000000</td>\n",
       "    </tr>\n",
       "    <tr>\n",
       "      <th>max</th>\n",
       "      <td>73.000000</td>\n",
       "    </tr>\n",
       "  </tbody>\n",
       "</table>\n",
       "</div>"
      ],
      "text/plain": [
       "             count\n",
       "count  9788.000000\n",
       "mean      9.515938\n",
       "std       8.328818\n",
       "min       0.000000\n",
       "25%       3.000000\n",
       "50%       7.000000\n",
       "75%      13.000000\n",
       "max      73.000000"
      ]
     },
     "execution_count": 182,
     "metadata": {},
     "output_type": "execute_result"
    }
   ],
   "source": [
    "# Descriptive statistics of login counts\n",
    "df.describe()"
   ]
  },
  {
   "cell_type": "code",
   "execution_count": 188,
   "id": "a00bcdb5",
   "metadata": {},
   "outputs": [
    {
     "data": {
      "text/plain": [
       "login_time\n",
       "1970-01-01 20:00:00    2\n",
       "1970-01-01 20:15:00    6\n",
       "1970-01-01 20:30:00    9\n",
       "1970-01-01 20:45:00    7\n",
       "1970-01-01 21:00:00    1\n",
       "                      ..\n",
       "1970-04-13 17:45:00    5\n",
       "1970-04-13 18:00:00    5\n",
       "1970-04-13 18:15:00    2\n",
       "1970-04-13 18:30:00    7\n",
       "1970-04-13 18:45:00    6\n",
       "Freq: 15T, Name: count, Length: 9788, dtype: int64"
      ]
     },
     "execution_count": 188,
     "metadata": {},
     "output_type": "execute_result"
    }
   ],
   "source": [
    "df['count']"
   ]
  },
  {
   "cell_type": "code",
   "execution_count": 198,
   "id": "d9ebfbb7",
   "metadata": {
    "scrolled": false
   },
   "outputs": [
    {
     "data": {
      "image/png": "[encoded data removed]",
      "text/plain": [
       "<Figure size 432x288 with 1 Axes>"
      ]
     },
     "metadata": {
      "needs_background": "light"
     },
     "output_type": "display_data"
    }
   ],
   "source": [
    "plt.title('No. of logins in 15-min intervals')\n",
    "plt.scatter(x=df.index, y=df['count'], s=5)\n",
    "plt.xticks(rotation = 90);"
   ]
  },
  {
   "cell_type": "code",
   "execution_count": 260,
   "id": "950bfe7e",
   "metadata": {},
   "outputs": [
    {
     "data": {
      "image/png": "[encoded data removed]",
      "text/plain": [
       "<Figure size 432x288 with 1 Axes>"
      ]
     },
     "metadata": {
      "needs_background": "light"
     },
     "output_type": "display_data"
    }
   ],
   "source": [
    "plt.title(\"Poisson distribution of the no. of logins\")\n",
    "Hist, x, _ = plt.hist(df, bins=df['count'].max())\n",
    "plt.xlabel('No. of logins in 15-min intervals')\n",
    "plt.ylabel('Count');"
   ]
  },
  {
   "cell_type": "markdown",
   "id": "fbd67d31",
   "metadata": {},
   "source": [
    "Let's find out the parameters of the distribution."
   ]
  },
  {
   "cell_type": "code",
   "execution_count": 299,
   "id": "664ea2ef",
   "metadata": {},
   "outputs": [],
   "source": [
    "def pois(l,x):\n",
    "    return math.exp(-l)*(l**x)/math.factorial(int(x))"
   ]
  },
  {
   "cell_type": "code",
   "execution_count": 328,
   "id": "947c054a",
   "metadata": {},
   "outputs": [
    {
     "name": "stdout",
     "output_type": "stream",
     "text": [
      "l_opt = 4.969999999999999\n",
      "A_opt = 4950\n",
      "SSE_min = 1422564.0232937234\n"
     ]
    }
   ],
   "source": [
    "SSE_min = 1e15\n",
    "for l in np.arange(4.9, 5.0, 0.01):\n",
    "    for A in np.arange(4940, 4960, 1):\n",
    "        SSE = 0\n",
    "        for i in range(len(x)-1):\n",
    "            SSE += (Hist[i] - A*pois(l,x[i]))**2\n",
    "        if SSE < SSE_min:\n",
    "            SSE_min = SSE\n",
    "            l_opt = l\n",
    "            A_opt = A\n",
    "print(\"l_opt =\",l_opt)\n",
    "print(\"A_opt =\",A_opt)\n",
    "print(\"SSE_min =\",SSE_min)"
   ]
  },
  {
   "cell_type": "code",
   "execution_count": 329,
   "id": "89d981bb",
   "metadata": {},
   "outputs": [
    {
     "data": {
      "image/png": "[encoded data removed]",
      "text/plain": [
       "<Figure size 432x288 with 1 Axes>"
      ]
     },
     "metadata": {
      "needs_background": "light"
     },
     "output_type": "display_data"
    }
   ],
   "source": [
    "plt.title(\"Poisson distribution of the no. of logins\")\n",
    "plt.hist(df, bins=df['count'].max())\n",
    "plt.plot([A_opt*pois(l_opt,X) for X in x])\n",
    "plt.xlabel('No. of logins in 15-min intervals')\n",
    "plt.ylabel('Count');"
   ]
  },
  {
   "cell_type": "markdown",
   "id": "fad5f48f",
   "metadata": {},
   "source": [
    "### Other distributions"
   ]
  },
  {
   "cell_type": "code",
   "execution_count": 217,
   "id": "68b52317",
   "metadata": {
    "collapsed": true
   },
   "outputs": [
    {
     "name": "stderr",
     "output_type": "stream",
     "text": [
      "C:\\Users\\Admin\\anaconda3\\lib\\site-packages\\pkg_resources\\__init__.py:122: PkgResourcesDeprecationWarning: 4.0.0-unsupported is an invalid version and will not be supported in a future release\n",
      "  warnings.warn(\n"
     ]
    }
   ],
   "source": [
    "#pip install fitter\n",
    "from fitter import Fitter #, get_common_distributions, get_distributions"
   ]
  },
  {
   "cell_type": "code",
   "execution_count": 262,
   "id": "ba0ff078",
   "metadata": {
    "scrolled": true
   },
   "outputs": [
    {
     "data": {
      "text/html": [
       "<div>\n",
       "<style scoped>\n",
       "    .dataframe tbody tr th:only-of-type {\n",
       "        vertical-align: middle;\n",
       "    }\n",
       "\n",
       "    .dataframe tbody tr th {\n",
       "        vertical-align: top;\n",
       "    }\n",
       "\n",
       "    .dataframe thead th {\n",
       "        text-align: right;\n",
       "    }\n",
       "</style>\n",
       "<table border=\"1\" class=\"dataframe\">\n",
       "  <thead>\n",
       "    <tr style=\"text-align: right;\">\n",
       "      <th></th>\n",
       "      <th>sumsquare_error</th>\n",
       "      <th>aic</th>\n",
       "      <th>bic</th>\n",
       "      <th>kl_div</th>\n",
       "    </tr>\n",
       "  </thead>\n",
       "  <tbody>\n",
       "    <tr>\n",
       "      <th>gamma</th>\n",
       "      <td>0.022635</td>\n",
       "      <td>1248.074686</td>\n",
       "      <td>-126992.984347</td>\n",
       "      <td>inf</td>\n",
       "    </tr>\n",
       "    <tr>\n",
       "      <th>lognorm</th>\n",
       "      <td>0.023100</td>\n",
       "      <td>1214.507508</td>\n",
       "      <td>-126793.888925</td>\n",
       "      <td>inf</td>\n",
       "    </tr>\n",
       "    <tr>\n",
       "      <th>burr</th>\n",
       "      <td>0.023913</td>\n",
       "      <td>1260.071811</td>\n",
       "      <td>-126446.062527</td>\n",
       "      <td>inf</td>\n",
       "    </tr>\n",
       "    <tr>\n",
       "      <th>beta</th>\n",
       "      <td>0.025168</td>\n",
       "      <td>1233.581019</td>\n",
       "      <td>-125945.404929</td>\n",
       "      <td>inf</td>\n",
       "    </tr>\n",
       "    <tr>\n",
       "      <th>norm</th>\n",
       "      <td>0.035357</td>\n",
       "      <td>2301.662067</td>\n",
       "      <td>-122636.829442</td>\n",
       "      <td>inf</td>\n",
       "    </tr>\n",
       "  </tbody>\n",
       "</table>\n",
       "</div>"
      ],
      "text/plain": [
       "         sumsquare_error          aic            bic  kl_div\n",
       "gamma           0.022635  1248.074686 -126992.984347     inf\n",
       "lognorm         0.023100  1214.507508 -126793.888925     inf\n",
       "burr            0.023913  1260.071811 -126446.062527     inf\n",
       "beta            0.025168  1233.581019 -125945.404929     inf\n",
       "norm            0.035357  2301.662067 -122636.829442     inf"
      ]
     },
     "execution_count": 262,
     "metadata": {},
     "output_type": "execute_result"
    },
    {
     "data": {
      "image/png": "[encoded data removed]",
      "text/plain": [
       "<Figure size 432x288 with 1 Axes>"
      ]
     },
     "metadata": {
      "needs_background": "light"
     },
     "output_type": "display_data"
    }
   ],
   "source": [
    "f = Fitter(df['count'].values,\n",
    "           distributions=['gamma','lognorm','beta','burr','norm'],\n",
    "           timeout=2000000)\n",
    "f.fit()\n",
    "f.summary()"
   ]
  },
  {
   "cell_type": "markdown",
   "id": "edc94cf5",
   "metadata": {},
   "source": [
    "Poisson is the most suitable distribution:"
   ]
  },
  {
   "cell_type": "code",
   "execution_count": 333,
   "id": "a6f5d667",
   "metadata": {},
   "outputs": [
    {
     "name": "stdout",
     "output_type": "stream",
     "text": [
      "4950*pois(4.969999999999999, x)\n"
     ]
    }
   ],
   "source": [
    "print(f\"{A_opt}*pois({l_opt}, x)\")"
   ]
  },
  {
   "cell_type": "markdown",
   "id": "638301f5",
   "metadata": {},
   "source": [
    "Let's study the seasonality of the login counts."
   ]
  },
  {
   "cell_type": "code",
   "execution_count": 366,
   "id": "61f9aa83",
   "metadata": {},
   "outputs": [
    {
     "data": {
      "image/png": "[encoded data removed]",
      "text/plain": [
       "<Figure size 432x288 with 1 Axes>"
      ]
     },
     "metadata": {
      "needs_background": "light"
     },
     "output_type": "display_data"
    }
   ],
   "source": [
    "from statsmodels.graphics.tsaplots import plot_acf\n",
    "plot_acf(df['count'].values, lags=1000, alpha=0.05); # x - Series or Array, lags - how many lags of ACF will be plotted, alpha - significance level, determines the width of the confidence interval"
   ]
  },
  {
   "cell_type": "markdown",
   "id": "6cfd5582",
   "metadata": {},
   "source": [
    "From ACF plot, we observe weekly ($7*24*4 = 672$ time periods) and daily ($24*4 = 96$) seasonality."
   ]
  },
  {
   "cell_type": "markdown",
   "id": "320bba24",
   "metadata": {},
   "source": [
    "## Part 2 ‐ Experiment and metrics design\n",
    "The neighboring cities of Gotham and Metropolis have complementary circadian rhythms: on\n",
    "weekdays, Ultimate Gotham is most active at night, and Ultimate Metropolis is most active\n",
    "during the day. On weekends, there is reasonable activity in both cities.\n",
    "However, a toll bridge, with a two way toll, between the two cities causes driver partners to tend\n",
    "to be exclusive to each city. The Ultimate managers of city operations for the two cities have\n",
    "proposed an experiment to encourage driver partners to be available in both cities, by\n",
    "reimbursing all toll costs.\n",
    "1) What would you choose as the key measure of success of this experiment in\n",
    "encouraging driver partners to serve both cities, and why would you choose this metric?"
   ]
  },
  {
   "cell_type": "markdown",
   "id": "5fac354b",
   "metadata": {},
   "source": [
    "Availability of driver partners in a certain city depends on their circadian rhythm: On weekdays, only one city is active during the day or night, hence the driver partners tend to be from the same city. On weekends, there should be approximately the same proportion of driver partners from both cities. The key measure of success would be the value of the proportion of drivers from one of the two cities. If this proportion tends to 0.5, then the experiment is successfull."
   ]
  },
  {
   "cell_type": "markdown",
   "id": "a651f37c",
   "metadata": {},
   "source": [
    "2) Describe a practical experiment you would design to compare the effectiveness of the proposed change in relation to the key measure of success. Please provide details on:\n",
    "\n",
    "a) how you will implement the experiment"
   ]
  },
  {
   "cell_type": "markdown",
   "id": "01a04926",
   "metadata": {},
   "source": [
    "Some time after the start of the experiment, I'd start conducting periodic measurements of the proportion, $p_{2}$, of the drivers from one of the two cities. I'd repeat measurements once a week until the metric of a corresponding statistical test stops changing significantly, plus a few more measurements for extra verification."
   ]
  },
  {
   "cell_type": "markdown",
   "id": "50c4db5b",
   "metadata": {},
   "source": [
    "b) what statistical test(s) you will conduct to verify the significance of the observation.\n",
    "\n",
    "I'd conduct a pairwise z-test with Bonferroni's correction to determine if the proportion $p_{2}$ has changed compared to before experiment, $p_{1}$. The null and alternative hypotheses of the pairwise test are\n",
    "\n",
    "$$H_{0} : p_{1} - p_{2} = 0 \\\\ H_{1} : p_{1} - p_{2} \\neq 0$$\n",
    "\n",
    "The measure of the difference between the two proportions is z-score:\n",
    "$$z = \\dfrac{(p_1 - p_2)}{\\sqrt{\\dfrac{p_1 \\cdot (1-p_1)}{n_1} + \\dfrac{p_2 \\cdot (1-p_2)}{n_2} }}$$\n",
    "where the denominator is the pooled variance, which is the sum of the two variances.\n",
    "Bonferroni's correction is required to avoid the problem of growing probability to commit type I error just by chance due to repeated measurements. The significance level of a subsequent pairwise test would be taken as original significance level (0.05) divided by the sequential number of the current test. E.g., when conducting the 5th test, we'd use the significance level $\\alpha = 0.05/5 = 0.01$."
   ]
  },
  {
   "cell_type": "markdown",
   "id": "b6f3e1f7",
   "metadata": {},
   "source": [
    "c) how you would interpret the results and provide recommendations to the city operations team along with any caveats.\n",
    "\n",
    "If absolute value of the z-score is greater than the critical z-score, $z_{c}$, for a current value of the significance level (e.g., for $\\alpha = 0.05, z_{c} = 1.96$), then the two proportions before and after experiment are significantly different. Once this happens, we can claim that the experiment is successfull.\n",
    "From the repeated z-tests we can find out when we can start seeing a change in the proportion of drivers from the two cities, and eventually what is the final stabilized proportion."
   ]
  },
  {
   "cell_type": "markdown",
   "id": "1b9bf8ee",
   "metadata": {},
   "source": [
    "## Part 3 ‐ Predictive modeling\n",
    "Ultimate is interested in predicting rider retention. To help explore this question, we have\n",
    "provided a sample dataset of a cohort of users who signed up for an Ultimate account in\n",
    "January 2014. The data was pulled several months later; we consider a user retained if they\n",
    "were “active” (i.e. took a trip) in the preceding 30 days.\n",
    "We would like you to use this data set to help understand what factors are the best predictors\n",
    "for retention, and offer suggestions to operationalize those insights to help Ultimate.\n",
    "The data is in the attached file ultimate_data_challenge.json. See below for a detailed\n",
    "description of the dataset. Please include any code you wrote for the analysis and delete the\n",
    "dataset when you have finished with the challenge.\n",
    "1. Perform any cleaning, exploratory analysis, and/or visualizations to use the provided\n",
    "data for this analysis (a few sentences/plots describing your approach will suffice). What\n",
    "fraction of the observed users were retained?\n",
    "2. Build a predictive model to help Ultimate determine whether or not a user will be active in\n",
    "their 6th month on the system. Discuss why you chose your approach, what alternatives\n",
    "you considered, and any concerns you have. How valid is your model? Include any key\n",
    "indicators of model performance.\n",
    "3. Briefly discuss how Ultimate might leverage the insights gained from the model to\n",
    "improve its long term rider retention (again, a few sentences will suffice).\n",
    "\n",
    "Data description\n",
    "\n",
    "● city: city this user signed up in\n",
    "\n",
    "● phone: primary device for this user\n",
    "\n",
    "● signup_date: date of account registration; in the form ‘YYYYMMDD’\n",
    "\n",
    "● last_trip_date: the last time this user completed a trip; in the form ‘YYYYMMDD’\n",
    "\n",
    "● avg_dist: the average distance in miles per trip taken in the first 30 days after signup\n",
    "\n",
    "● avg_rating_by_driver: the rider’s average rating over all of their trips\n",
    "\n",
    "● avg_rating_of_driver: the rider’s average rating of their drivers over all of their trips\n",
    "\n",
    "● surge_pct: the percent of trips taken with surge multiplier > 1\n",
    "\n",
    "● avg_surge: The average surge multiplier over all of this user’s trips\n",
    "\n",
    "● trips_in_first_30_days: the number of trips this user took in the first 30 days after signing up\n",
    "\n",
    "● ultimate_black_user: TRUE if the user took an Ultimate Black in their first 30 days; FALSE\n",
    "otherwise\n",
    "\n",
    "● weekday_pct: the percent of the user’s trips occurring during a weekday"
   ]
  },
  {
   "cell_type": "code",
   "execution_count": 124,
   "id": "7a5c06c8",
   "metadata": {},
   "outputs": [
    {
     "data": {
      "text/html": [
       "<div>\n",
       "<style scoped>\n",
       "    .dataframe tbody tr th:only-of-type {\n",
       "        vertical-align: middle;\n",
       "    }\n",
       "\n",
       "    .dataframe tbody tr th {\n",
       "        vertical-align: top;\n",
       "    }\n",
       "\n",
       "    .dataframe thead th {\n",
       "        text-align: right;\n",
       "    }\n",
       "</style>\n",
       "<table border=\"1\" class=\"dataframe\">\n",
       "  <thead>\n",
       "    <tr style=\"text-align: right;\">\n",
       "      <th></th>\n",
       "      <th>city</th>\n",
       "      <th>trips_in_first_30_days</th>\n",
       "      <th>signup_date</th>\n",
       "      <th>avg_rating_of_driver</th>\n",
       "      <th>avg_surge</th>\n",
       "      <th>last_trip_date</th>\n",
       "      <th>phone</th>\n",
       "      <th>surge_pct</th>\n",
       "      <th>ultimate_black_user</th>\n",
       "      <th>weekday_pct</th>\n",
       "      <th>avg_dist</th>\n",
       "      <th>avg_rating_by_driver</th>\n",
       "    </tr>\n",
       "  </thead>\n",
       "  <tbody>\n",
       "    <tr>\n",
       "      <th>0</th>\n",
       "      <td>King's Landing</td>\n",
       "      <td>4</td>\n",
       "      <td>2014-01-25</td>\n",
       "      <td>4.7</td>\n",
       "      <td>1.10</td>\n",
       "      <td>2014-06-17</td>\n",
       "      <td>iPhone</td>\n",
       "      <td>15.4</td>\n",
       "      <td>True</td>\n",
       "      <td>46.2</td>\n",
       "      <td>3.67</td>\n",
       "      <td>5.0</td>\n",
       "    </tr>\n",
       "    <tr>\n",
       "      <th>1</th>\n",
       "      <td>Astapor</td>\n",
       "      <td>0</td>\n",
       "      <td>2014-01-29</td>\n",
       "      <td>5.0</td>\n",
       "      <td>1.00</td>\n",
       "      <td>2014-05-05</td>\n",
       "      <td>Android</td>\n",
       "      <td>0.0</td>\n",
       "      <td>False</td>\n",
       "      <td>50.0</td>\n",
       "      <td>8.26</td>\n",
       "      <td>5.0</td>\n",
       "    </tr>\n",
       "    <tr>\n",
       "      <th>2</th>\n",
       "      <td>Astapor</td>\n",
       "      <td>3</td>\n",
       "      <td>2014-01-06</td>\n",
       "      <td>4.3</td>\n",
       "      <td>1.00</td>\n",
       "      <td>2014-01-07</td>\n",
       "      <td>iPhone</td>\n",
       "      <td>0.0</td>\n",
       "      <td>False</td>\n",
       "      <td>100.0</td>\n",
       "      <td>0.77</td>\n",
       "      <td>5.0</td>\n",
       "    </tr>\n",
       "    <tr>\n",
       "      <th>3</th>\n",
       "      <td>King's Landing</td>\n",
       "      <td>9</td>\n",
       "      <td>2014-01-10</td>\n",
       "      <td>4.6</td>\n",
       "      <td>1.14</td>\n",
       "      <td>2014-06-29</td>\n",
       "      <td>iPhone</td>\n",
       "      <td>20.0</td>\n",
       "      <td>True</td>\n",
       "      <td>80.0</td>\n",
       "      <td>2.36</td>\n",
       "      <td>4.9</td>\n",
       "    </tr>\n",
       "    <tr>\n",
       "      <th>4</th>\n",
       "      <td>Winterfell</td>\n",
       "      <td>14</td>\n",
       "      <td>2014-01-27</td>\n",
       "      <td>4.4</td>\n",
       "      <td>1.19</td>\n",
       "      <td>2014-03-15</td>\n",
       "      <td>Android</td>\n",
       "      <td>11.8</td>\n",
       "      <td>False</td>\n",
       "      <td>82.4</td>\n",
       "      <td>3.13</td>\n",
       "      <td>4.9</td>\n",
       "    </tr>\n",
       "    <tr>\n",
       "      <th>...</th>\n",
       "      <td>...</td>\n",
       "      <td>...</td>\n",
       "      <td>...</td>\n",
       "      <td>...</td>\n",
       "      <td>...</td>\n",
       "      <td>...</td>\n",
       "      <td>...</td>\n",
       "      <td>...</td>\n",
       "      <td>...</td>\n",
       "      <td>...</td>\n",
       "      <td>...</td>\n",
       "      <td>...</td>\n",
       "    </tr>\n",
       "    <tr>\n",
       "      <th>49995</th>\n",
       "      <td>King's Landing</td>\n",
       "      <td>0</td>\n",
       "      <td>2014-01-25</td>\n",
       "      <td>5.0</td>\n",
       "      <td>1.00</td>\n",
       "      <td>2014-06-05</td>\n",
       "      <td>iPhone</td>\n",
       "      <td>0.0</td>\n",
       "      <td>False</td>\n",
       "      <td>100.0</td>\n",
       "      <td>5.63</td>\n",
       "      <td>4.2</td>\n",
       "    </tr>\n",
       "    <tr>\n",
       "      <th>49996</th>\n",
       "      <td>Astapor</td>\n",
       "      <td>1</td>\n",
       "      <td>2014-01-24</td>\n",
       "      <td>NaN</td>\n",
       "      <td>1.00</td>\n",
       "      <td>2014-01-25</td>\n",
       "      <td>iPhone</td>\n",
       "      <td>0.0</td>\n",
       "      <td>False</td>\n",
       "      <td>0.0</td>\n",
       "      <td>0.00</td>\n",
       "      <td>4.0</td>\n",
       "    </tr>\n",
       "    <tr>\n",
       "      <th>49997</th>\n",
       "      <td>Winterfell</td>\n",
       "      <td>0</td>\n",
       "      <td>2014-01-31</td>\n",
       "      <td>5.0</td>\n",
       "      <td>1.00</td>\n",
       "      <td>2014-05-22</td>\n",
       "      <td>Android</td>\n",
       "      <td>0.0</td>\n",
       "      <td>True</td>\n",
       "      <td>100.0</td>\n",
       "      <td>3.86</td>\n",
       "      <td>5.0</td>\n",
       "    </tr>\n",
       "    <tr>\n",
       "      <th>49998</th>\n",
       "      <td>Astapor</td>\n",
       "      <td>2</td>\n",
       "      <td>2014-01-14</td>\n",
       "      <td>3.0</td>\n",
       "      <td>1.00</td>\n",
       "      <td>2014-01-15</td>\n",
       "      <td>iPhone</td>\n",
       "      <td>0.0</td>\n",
       "      <td>False</td>\n",
       "      <td>100.0</td>\n",
       "      <td>4.58</td>\n",
       "      <td>3.5</td>\n",
       "    </tr>\n",
       "    <tr>\n",
       "      <th>49999</th>\n",
       "      <td>Astapor</td>\n",
       "      <td>0</td>\n",
       "      <td>2014-01-18</td>\n",
       "      <td>NaN</td>\n",
       "      <td>1.00</td>\n",
       "      <td>2014-04-20</td>\n",
       "      <td>Android</td>\n",
       "      <td>0.0</td>\n",
       "      <td>False</td>\n",
       "      <td>0.0</td>\n",
       "      <td>3.49</td>\n",
       "      <td>5.0</td>\n",
       "    </tr>\n",
       "  </tbody>\n",
       "</table>\n",
       "<p>50000 rows × 12 columns</p>\n",
       "</div>"
      ],
      "text/plain": [
       "                 city  trips_in_first_30_days signup_date  \\\n",
       "0      King's Landing                       4  2014-01-25   \n",
       "1             Astapor                       0  2014-01-29   \n",
       "2             Astapor                       3  2014-01-06   \n",
       "3      King's Landing                       9  2014-01-10   \n",
       "4          Winterfell                      14  2014-01-27   \n",
       "...               ...                     ...         ...   \n",
       "49995  King's Landing                       0  2014-01-25   \n",
       "49996         Astapor                       1  2014-01-24   \n",
       "49997      Winterfell                       0  2014-01-31   \n",
       "49998         Astapor                       2  2014-01-14   \n",
       "49999         Astapor                       0  2014-01-18   \n",
       "\n",
       "       avg_rating_of_driver  avg_surge last_trip_date    phone  surge_pct  \\\n",
       "0                       4.7       1.10     2014-06-17   iPhone       15.4   \n",
       "1                       5.0       1.00     2014-05-05  Android        0.0   \n",
       "2                       4.3       1.00     2014-01-07   iPhone        0.0   \n",
       "3                       4.6       1.14     2014-06-29   iPhone       20.0   \n",
       "4                       4.4       1.19     2014-03-15  Android       11.8   \n",
       "...                     ...        ...            ...      ...        ...   \n",
       "49995                   5.0       1.00     2014-06-05   iPhone        0.0   \n",
       "49996                   NaN       1.00     2014-01-25   iPhone        0.0   \n",
       "49997                   5.0       1.00     2014-05-22  Android        0.0   \n",
       "49998                   3.0       1.00     2014-01-15   iPhone        0.0   \n",
       "49999                   NaN       1.00     2014-04-20  Android        0.0   \n",
       "\n",
       "       ultimate_black_user  weekday_pct  avg_dist  avg_rating_by_driver  \n",
       "0                     True         46.2      3.67                   5.0  \n",
       "1                    False         50.0      8.26                   5.0  \n",
       "2                    False        100.0      0.77                   5.0  \n",
       "3                     True         80.0      2.36                   4.9  \n",
       "4                    False         82.4      3.13                   4.9  \n",
       "...                    ...          ...       ...                   ...  \n",
       "49995                False        100.0      5.63                   4.2  \n",
       "49996                False          0.0      0.00                   4.0  \n",
       "49997                 True        100.0      3.86                   5.0  \n",
       "49998                False        100.0      4.58                   3.5  \n",
       "49999                False          0.0      3.49                   5.0  \n",
       "\n",
       "[50000 rows x 12 columns]"
      ]
     },
     "execution_count": 124,
     "metadata": {},
     "output_type": "execute_result"
    }
   ],
   "source": [
    "with open('ultimate_data_challenge.json', 'r') as json_file:\n",
    "    df = pd.DataFrame(json.load(json_file)) # Time series (column of timestamp strings)\n",
    "df"
   ]
  },
  {
   "cell_type": "markdown",
   "id": "8ac069be",
   "metadata": {},
   "source": [
    "### Data Cleaning\n",
    "#### Missing values"
   ]
  },
  {
   "cell_type": "code",
   "execution_count": 125,
   "id": "6b2b6c7f",
   "metadata": {},
   "outputs": [
    {
     "name": "stdout",
     "output_type": "stream",
     "text": [
      "<class 'pandas.core.frame.DataFrame'>\n",
      "RangeIndex: 50000 entries, 0 to 49999\n",
      "Data columns (total 12 columns):\n",
      " #   Column                  Non-Null Count  Dtype  \n",
      "---  ------                  --------------  -----  \n",
      " 0   city                    50000 non-null  object \n",
      " 1   trips_in_first_30_days  50000 non-null  int64  \n",
      " 2   signup_date             50000 non-null  object \n",
      " 3   avg_rating_of_driver    41878 non-null  float64\n",
      " 4   avg_surge               50000 non-null  float64\n",
      " 5   last_trip_date          50000 non-null  object \n",
      " 6   phone                   49604 non-null  object \n",
      " 7   surge_pct               50000 non-null  float64\n",
      " 8   ultimate_black_user     50000 non-null  bool   \n",
      " 9   weekday_pct             50000 non-null  float64\n",
      " 10  avg_dist                50000 non-null  float64\n",
      " 11  avg_rating_by_driver    49799 non-null  float64\n",
      "dtypes: bool(1), float64(6), int64(1), object(4)\n",
      "memory usage: 4.2+ MB\n"
     ]
    }
   ],
   "source": [
    "df.info()"
   ]
  },
  {
   "cell_type": "markdown",
   "id": "19b10fda",
   "metadata": {},
   "source": [
    "Let's see if the 'avg_rating_of_driver' and 'avg_rating_by_driver' are correlated."
   ]
  },
  {
   "cell_type": "code",
   "execution_count": 126,
   "id": "261909b8",
   "metadata": {
    "scrolled": true
   },
   "outputs": [
    {
     "data": {
      "image/png": "[encoded data removed]",
      "text/plain": [
       "<Figure size 432x288 with 1 Axes>"
      ]
     },
     "metadata": {
      "needs_background": "light"
     },
     "output_type": "display_data"
    }
   ],
   "source": [
    "plt.scatter(df['avg_rating_of_driver'], df['avg_rating_by_driver'], s=5)\n",
    "plt.xlabel('avg_rating_of_driver')\n",
    "plt.ylabel('avg_rating_by_driver');"
   ]
  },
  {
   "cell_type": "markdown",
   "id": "4195a07f",
   "metadata": {},
   "source": [
    "No, both ratings are scattered. Let's see if there is a correlation in the mean values. We shall take the mean value of the 'avg_rating_of_driver' on y-axis for each of the values of 'avg_rating_by_driver' on x-axis."
   ]
  },
  {
   "cell_type": "code",
   "execution_count": 127,
   "id": "b378c69f",
   "metadata": {},
   "outputs": [
    {
     "data": {
      "text/html": [
       "<div>\n",
       "<style scoped>\n",
       "    .dataframe tbody tr th:only-of-type {\n",
       "        vertical-align: middle;\n",
       "    }\n",
       "\n",
       "    .dataframe tbody tr th {\n",
       "        vertical-align: top;\n",
       "    }\n",
       "\n",
       "    .dataframe thead th {\n",
       "        text-align: right;\n",
       "    }\n",
       "</style>\n",
       "<table border=\"1\" class=\"dataframe\">\n",
       "  <thead>\n",
       "    <tr style=\"text-align: right;\">\n",
       "      <th></th>\n",
       "      <th>avg_rating_of_driver</th>\n",
       "      <th>avg_rating_by_driver</th>\n",
       "    </tr>\n",
       "  </thead>\n",
       "  <tbody>\n",
       "    <tr>\n",
       "      <th>0</th>\n",
       "      <td>4.7</td>\n",
       "      <td>5.0</td>\n",
       "    </tr>\n",
       "    <tr>\n",
       "      <th>1</th>\n",
       "      <td>5.0</td>\n",
       "      <td>5.0</td>\n",
       "    </tr>\n",
       "  </tbody>\n",
       "</table>\n",
       "</div>"
      ],
      "text/plain": [
       "   avg_rating_of_driver  avg_rating_by_driver\n",
       "0                   4.7                   5.0\n",
       "1                   5.0                   5.0"
      ]
     },
     "execution_count": 127,
     "metadata": {},
     "output_type": "execute_result"
    }
   ],
   "source": [
    "ratings = df[['avg_rating_of_driver','avg_rating_by_driver']]\n",
    "ratings.head(2)"
   ]
  },
  {
   "cell_type": "code",
   "execution_count": 128,
   "id": "b5abe3bc",
   "metadata": {},
   "outputs": [
    {
     "data": {
      "image/png": "[encoded data removed]",
      "text/plain": [
       "<Figure size 432x288 with 1 Axes>"
      ]
     },
     "metadata": {
      "needs_background": "light"
     },
     "output_type": "display_data"
    }
   ],
   "source": [
    "ratings_grp = ratings.groupby(by='avg_rating_by_driver', axis=0, as_index=False, sort=True, group_keys=True, dropna=True).mean()\n",
    "plt.scatter(x='avg_rating_by_driver', y='avg_rating_of_driver', data=ratings_grp)\n",
    "plt.xlabel('avg_rating_by_driver')\n",
    "plt.ylabel('avg(avg_rating_of_driver)');"
   ]
  },
  {
   "cell_type": "markdown",
   "id": "f54d7f50",
   "metadata": {},
   "source": [
    "There is a linear increase trend. Using linear regression,"
   ]
  },
  {
   "cell_type": "code",
   "execution_count": 129,
   "id": "92db7665",
   "metadata": {},
   "outputs": [
    {
     "name": "stdout",
     "output_type": "stream",
     "text": [
      "                             OLS Regression Results                             \n",
      "================================================================================\n",
      "Dep. Variable:     avg_rating_of_driver   R-squared:                       0.201\n",
      "Model:                              OLS   Adj. R-squared:                  0.169\n",
      "Method:                   Least Squares   F-statistic:                     6.291\n",
      "Date:                  Wed, 09 Mar 2022   Prob (F-statistic):             0.0190\n",
      "Time:                          13:40:22   Log-Likelihood:                -6.4599\n",
      "No. Observations:                    27   AIC:                             16.92\n",
      "Df Residuals:                        25   BIC:                             19.51\n",
      "Df Model:                             1                                         \n",
      "Covariance Type:              nonrobust                                         \n",
      "========================================================================================\n",
      "                           coef    std err          t      P>|t|      [0.025      0.975]\n",
      "----------------------------------------------------------------------------------------\n",
      "const                    3.8754      0.220     17.637      0.000       3.423       4.328\n",
      "avg_rating_by_driver     0.1493      0.060      2.508      0.019       0.027       0.272\n",
      "==============================================================================\n",
      "Omnibus:                       14.679   Durbin-Watson:                   1.783\n",
      "Prob(Omnibus):                  0.001   Jarque-Bera (JB):               39.187\n",
      "Skew:                          -0.638   Prob(JB):                     3.10e-09\n",
      "Kurtosis:                       8.762   Cond. No.                         14.1\n",
      "==============================================================================\n",
      "\n",
      "Notes:\n",
      "[1] Standard Errors assume that the covariance matrix of the errors is correctly specified.\n"
     ]
    },
    {
     "name": "stderr",
     "output_type": "stream",
     "text": [
      "C:\\Users\\Admin\\anaconda3\\lib\\site-packages\\statsmodels\\tsa\\tsatools.py:142: FutureWarning: In a future version of pandas all arguments of concat except for the argument 'objs' will be keyword-only\n",
      "  x = pd.concat(x[::order], 1)\n"
     ]
    }
   ],
   "source": [
    "#define response variable\n",
    "y = ratings_grp['avg_rating_of_driver'] # 'avg_rating_of_driver' averaged within a group of same 'avg_rating_by_driver'\n",
    "#define explanatory variable\n",
    "x = ratings_grp['avg_rating_by_driver']\n",
    "#add constant to predictor variables\n",
    "x = sm.add_constant(x)\n",
    "#fit linear regression model\n",
    "model = sm.OLS(y, x).fit()\n",
    "#view model summary\n",
    "print(model.summary())"
   ]
  },
  {
   "cell_type": "markdown",
   "id": "48d3f9c5",
   "metadata": {},
   "source": [
    "we find that both the slope and intercept values are non-zero (p-value is 0.019 for the slope and less than 0.001 for the intercept), so that there is a linear dependence\n",
    "\n",
    "        avg(avg_rating_of_driver) = 3.8754 + 0.1493*avg_rating_by_driver\n",
    "\n",
    "which we can use to fill out many missing values of 'avg_rating_of_driver'.     "
   ]
  },
  {
   "cell_type": "markdown",
   "id": "c7876443",
   "metadata": {},
   "source": [
    "Repeating the linear regression for the swapped variables x and y,"
   ]
  },
  {
   "cell_type": "code",
   "execution_count": 130,
   "id": "3ffc92b6",
   "metadata": {},
   "outputs": [
    {
     "data": {
      "image/png": "[encoded data removed]",
      "text/plain": [
       "<Figure size 432x288 with 1 Axes>"
      ]
     },
     "metadata": {
      "needs_background": "light"
     },
     "output_type": "display_data"
    }
   ],
   "source": [
    "ratings_grp2 = ratings.groupby(by='avg_rating_of_driver', axis=0, as_index=False, sort=True, group_keys=True, dropna=True).mean()\n",
    "plt.scatter(x='avg_rating_of_driver', y='avg_rating_by_driver', data=ratings_grp2)\n",
    "plt.xlabel('avg_rating_of_driver')\n",
    "plt.ylabel('avg(avg_rating_by_driver)');"
   ]
  },
  {
   "cell_type": "markdown",
   "id": "fb7d8678",
   "metadata": {},
   "source": [
    "There is a strong linear increase trend."
   ]
  },
  {
   "cell_type": "code",
   "execution_count": 131,
   "id": "c79b44ff",
   "metadata": {},
   "outputs": [
    {
     "name": "stdout",
     "output_type": "stream",
     "text": [
      "                             OLS Regression Results                             \n",
      "================================================================================\n",
      "Dep. Variable:     avg_rating_by_driver   R-squared:                       0.262\n",
      "Model:                              OLS   Adj. R-squared:                  0.241\n",
      "Method:                   Least Squares   F-statistic:                     12.43\n",
      "Date:                  Wed, 09 Mar 2022   Prob (F-statistic):            0.00120\n",
      "Time:                          13:40:32   Log-Likelihood:                 15.878\n",
      "No. Observations:                    37   AIC:                            -27.76\n",
      "Df Residuals:                        35   BIC:                            -24.53\n",
      "Df Model:                             1                                         \n",
      "Covariance Type:              nonrobust                                         \n",
      "========================================================================================\n",
      "                           coef    std err          t      P>|t|      [0.025      0.975]\n",
      "----------------------------------------------------------------------------------------\n",
      "const                    4.3577      0.082     52.826      0.000       4.190       4.525\n",
      "avg_rating_of_driver     0.0863      0.024      3.525      0.001       0.037       0.136\n",
      "==============================================================================\n",
      "Omnibus:                       26.867   Durbin-Watson:                   2.022\n",
      "Prob(Omnibus):                  0.000   Jarque-Bera (JB):              124.533\n",
      "Skew:                          -1.258   Prob(JB):                     9.08e-28\n",
      "Kurtosis:                      11.628   Cond. No.                         11.3\n",
      "==============================================================================\n",
      "\n",
      "Notes:\n",
      "[1] Standard Errors assume that the covariance matrix of the errors is correctly specified.\n"
     ]
    },
    {
     "name": "stderr",
     "output_type": "stream",
     "text": [
      "C:\\Users\\Admin\\anaconda3\\lib\\site-packages\\statsmodels\\tsa\\tsatools.py:142: FutureWarning: In a future version of pandas all arguments of concat except for the argument 'objs' will be keyword-only\n",
      "  x = pd.concat(x[::order], 1)\n"
     ]
    }
   ],
   "source": [
    "#define response variable\n",
    "y = ratings_grp2['avg_rating_by_driver'] # 'avg_rating_by_driver' averaged within a group of same 'avg_rating_of_driver'\n",
    "#define explanatory variable\n",
    "x = ratings_grp2['avg_rating_of_driver']\n",
    "#add constant to predictor variables\n",
    "x = sm.add_constant(x)\n",
    "#fit linear regression model\n",
    "model = sm.OLS(y, x).fit()\n",
    "#view model summary\n",
    "print(model.summary())"
   ]
  },
  {
   "cell_type": "markdown",
   "id": "34e71dfd",
   "metadata": {},
   "source": [
    "we find that both the slope and intercept values are non-zero (p-value is 0.001 for the slope and even less for the intercept), so that there is a linear dependence\n",
    "\n",
    "        avg(avg_rating_by_driver) = 4.3577 + 0.0863*avg_rating_of_driver"
   ]
  },
  {
   "cell_type": "markdown",
   "id": "605656a1",
   "metadata": {},
   "source": [
    "which we can use to fill out some of the missing values of 'avg_rating_by_driver'."
   ]
  },
  {
   "cell_type": "code",
   "execution_count": 132,
   "id": "4477648f",
   "metadata": {},
   "outputs": [
    {
     "name": "stdout",
     "output_type": "stream",
     "text": [
      "Of total 8122 missing values of 'avg_rating_of_driver', we can impute 8055.\n"
     ]
    }
   ],
   "source": [
    "# Imputation of 'avg_rating_of_driver'\n",
    "print(f\"Of total {df['avg_rating_of_driver'].isnull().sum()} missing values of 'avg_rating_of_driver', we can impute \\\n",
    "{(df['avg_rating_of_driver'].isnull() & df['avg_rating_by_driver'].notnull()).sum()}.\")\n",
    "df.loc[df['avg_rating_of_driver'].isnull() & df['avg_rating_by_driver'].notnull(), 'avg_rating_of_driver'] =\\\n",
    "    3.8754 + 0.1493*df.loc[df['avg_rating_of_driver'].isnull() & df['avg_rating_by_driver'].notnull(), 'avg_rating_by_driver']"
   ]
  },
  {
   "cell_type": "code",
   "execution_count": 133,
   "id": "ede5dd92",
   "metadata": {},
   "outputs": [
    {
     "name": "stdout",
     "output_type": "stream",
     "text": [
      "Of total 201 missing values of 'avg_rating_by_driver', we can impute 134.\n"
     ]
    }
   ],
   "source": [
    "# Imputation of 'avg_rating_by_driver'\n",
    "print(f\"Of total {df['avg_rating_by_driver'].isnull().sum()} missing values of 'avg_rating_by_driver', we can impute \\\n",
    "{(df['avg_rating_by_driver'].isnull() & df['avg_rating_of_driver'].notnull()).sum()}.\")\n",
    "df.loc[df['avg_rating_by_driver'].isnull() & df['avg_rating_of_driver'].notnull(), 'avg_rating_by_driver'] =\\\n",
    "    4.3577 + 0.0863*df.loc[df['avg_rating_by_driver'].isnull() & df['avg_rating_of_driver'].notnull(), 'avg_rating_of_driver']"
   ]
  },
  {
   "cell_type": "code",
   "execution_count": 134,
   "id": "e9b8d55b",
   "metadata": {},
   "outputs": [
    {
     "name": "stdout",
     "output_type": "stream",
     "text": [
      "<class 'pandas.core.frame.DataFrame'>\n",
      "RangeIndex: 50000 entries, 0 to 49999\n",
      "Data columns (total 12 columns):\n",
      " #   Column                  Non-Null Count  Dtype  \n",
      "---  ------                  --------------  -----  \n",
      " 0   city                    50000 non-null  object \n",
      " 1   trips_in_first_30_days  50000 non-null  int64  \n",
      " 2   signup_date             50000 non-null  object \n",
      " 3   avg_rating_of_driver    49933 non-null  float64\n",
      " 4   avg_surge               50000 non-null  float64\n",
      " 5   last_trip_date          50000 non-null  object \n",
      " 6   phone                   49604 non-null  object \n",
      " 7   surge_pct               50000 non-null  float64\n",
      " 8   ultimate_black_user     50000 non-null  bool   \n",
      " 9   weekday_pct             50000 non-null  float64\n",
      " 10  avg_dist                50000 non-null  float64\n",
      " 11  avg_rating_by_driver    49933 non-null  float64\n",
      "dtypes: bool(1), float64(6), int64(1), object(4)\n",
      "memory usage: 4.2+ MB\n"
     ]
    }
   ],
   "source": [
    "df.info()"
   ]
  },
  {
   "cell_type": "code",
   "execution_count": 135,
   "id": "8f158b9f",
   "metadata": {},
   "outputs": [
    {
     "data": {
      "text/plain": [
       "(49539, 12)"
      ]
     },
     "execution_count": 135,
     "metadata": {},
     "output_type": "execute_result"
    }
   ],
   "source": [
    "df = df.dropna()\n",
    "df.shape"
   ]
  },
  {
   "cell_type": "code",
   "execution_count": 136,
   "id": "13caa714",
   "metadata": {},
   "outputs": [
    {
     "name": "stdout",
     "output_type": "stream",
     "text": [
      "<class 'pandas.core.frame.DataFrame'>\n",
      "Int64Index: 49539 entries, 0 to 49999\n",
      "Data columns (total 12 columns):\n",
      " #   Column                  Non-Null Count  Dtype         \n",
      "---  ------                  --------------  -----         \n",
      " 0   city                    49539 non-null  object        \n",
      " 1   trips_in_first_30_days  49539 non-null  int64         \n",
      " 2   signup_date             49539 non-null  datetime64[ns]\n",
      " 3   avg_rating_of_driver    49539 non-null  float64       \n",
      " 4   avg_surge               49539 non-null  float64       \n",
      " 5   last_trip_date          49539 non-null  datetime64[ns]\n",
      " 6   phone                   49539 non-null  object        \n",
      " 7   surge_pct               49539 non-null  float64       \n",
      " 8   ultimate_black_user     49539 non-null  bool          \n",
      " 9   weekday_pct             49539 non-null  float64       \n",
      " 10  avg_dist                49539 non-null  float64       \n",
      " 11  avg_rating_by_driver    49539 non-null  float64       \n",
      "dtypes: bool(1), datetime64[ns](2), float64(6), int64(1), object(2)\n",
      "memory usage: 4.6+ MB\n"
     ]
    },
    {
     "name": "stderr",
     "output_type": "stream",
     "text": [
      "C:\\Users\\Admin\\AppData\\Local\\Temp/ipykernel_11112/770417948.py:2: SettingWithCopyWarning: \n",
      "A value is trying to be set on a copy of a slice from a DataFrame.\n",
      "Try using .loc[row_indexer,col_indexer] = value instead\n",
      "\n",
      "See the caveats in the documentation: https://pandas.pydata.org/pandas-docs/stable/user_guide/indexing.html#returning-a-view-versus-a-copy\n",
      "  df['signup_date'] = pd.to_datetime(df['signup_date'])\n",
      "C:\\Users\\Admin\\AppData\\Local\\Temp/ipykernel_11112/770417948.py:3: SettingWithCopyWarning: \n",
      "A value is trying to be set on a copy of a slice from a DataFrame.\n",
      "Try using .loc[row_indexer,col_indexer] = value instead\n",
      "\n",
      "See the caveats in the documentation: https://pandas.pydata.org/pandas-docs/stable/user_guide/indexing.html#returning-a-view-versus-a-copy\n",
      "  df['last_trip_date'] = pd.to_datetime(df['last_trip_date'])\n"
     ]
    }
   ],
   "source": [
    "# dates from string to datatetimes\n",
    "df['signup_date'] = pd.to_datetime(df['signup_date'])\n",
    "df['last_trip_date'] = pd.to_datetime(df['last_trip_date'])\n",
    "df.info()"
   ]
  },
  {
   "cell_type": "code",
   "execution_count": 137,
   "id": "f8fb7643",
   "metadata": {},
   "outputs": [
    {
     "data": {
      "text/plain": [
       "Winterfell        23092\n",
       "Astapor           16402\n",
       "King's Landing    10045\n",
       "Name: city, dtype: int64"
      ]
     },
     "execution_count": 137,
     "metadata": {},
     "output_type": "execute_result"
    }
   ],
   "source": [
    "df['city'].value_counts()"
   ]
  },
  {
   "cell_type": "markdown",
   "id": "9a5f01d5",
   "metadata": {},
   "source": [
    "To do not introduce an artificial relationship between cities, the 'city' has to be one-hot-encoded (not label-encoded)."
   ]
  },
  {
   "cell_type": "code",
   "execution_count": null,
   "id": "aa7c9434",
   "metadata": {},
   "outputs": [],
   "source": [
    "df['phone'].value_counts()"
   ]
  },
  {
   "cell_type": "code",
   "execution_count": 138,
   "id": "db634a1c",
   "metadata": {},
   "outputs": [],
   "source": [
    "# One-hot encoding based on data type\n",
    "df = pd.get_dummies(df, drop_first=False, columns=df.select_dtypes(include='object').columns)"
   ]
  },
  {
   "cell_type": "code",
   "execution_count": 142,
   "id": "443fa1e0",
   "metadata": {
    "scrolled": true
   },
   "outputs": [
    {
     "data": {
      "text/plain": [
       "False    30939\n",
       "True     18600\n",
       "Name: ultimate_black_user, dtype: int64"
      ]
     },
     "execution_count": 142,
     "metadata": {},
     "output_type": "execute_result"
    }
   ],
   "source": [
    "df['ultimate_black_user'].value_counts()"
   ]
  },
  {
   "cell_type": "markdown",
   "id": "49850dec",
   "metadata": {},
   "source": [
    "Binary variable 'ultimate_black_user' can be label-encoded."
   ]
  },
  {
   "cell_type": "code",
   "execution_count": 144,
   "id": "b595bb72",
   "metadata": {},
   "outputs": [],
   "source": [
    "df[['ultimate_black_user']]=df[['ultimate_black_user']].apply(LabelEncoder().fit_transform)"
   ]
  },
  {
   "cell_type": "code",
   "execution_count": 145,
   "id": "56e74ed2",
   "metadata": {},
   "outputs": [
    {
     "data": {
      "text/html": [
       "<div>\n",
       "<style scoped>\n",
       "    .dataframe tbody tr th:only-of-type {\n",
       "        vertical-align: middle;\n",
       "    }\n",
       "\n",
       "    .dataframe tbody tr th {\n",
       "        vertical-align: top;\n",
       "    }\n",
       "\n",
       "    .dataframe thead th {\n",
       "        text-align: right;\n",
       "    }\n",
       "</style>\n",
       "<table border=\"1\" class=\"dataframe\">\n",
       "  <thead>\n",
       "    <tr style=\"text-align: right;\">\n",
       "      <th></th>\n",
       "      <th>trips_in_first_30_days</th>\n",
       "      <th>signup_date</th>\n",
       "      <th>avg_rating_of_driver</th>\n",
       "      <th>avg_surge</th>\n",
       "      <th>last_trip_date</th>\n",
       "      <th>surge_pct</th>\n",
       "      <th>ultimate_black_user</th>\n",
       "      <th>weekday_pct</th>\n",
       "      <th>avg_dist</th>\n",
       "      <th>avg_rating_by_driver</th>\n",
       "      <th>city_Astapor</th>\n",
       "      <th>city_King's Landing</th>\n",
       "      <th>city_Winterfell</th>\n",
       "      <th>phone_Android</th>\n",
       "      <th>phone_iPhone</th>\n",
       "    </tr>\n",
       "  </thead>\n",
       "  <tbody>\n",
       "    <tr>\n",
       "      <th>0</th>\n",
       "      <td>4</td>\n",
       "      <td>2014-01-25</td>\n",
       "      <td>4.7</td>\n",
       "      <td>1.10</td>\n",
       "      <td>2014-06-17</td>\n",
       "      <td>15.4</td>\n",
       "      <td>1</td>\n",
       "      <td>46.2</td>\n",
       "      <td>3.67</td>\n",
       "      <td>5.0</td>\n",
       "      <td>0</td>\n",
       "      <td>1</td>\n",
       "      <td>0</td>\n",
       "      <td>0</td>\n",
       "      <td>1</td>\n",
       "    </tr>\n",
       "    <tr>\n",
       "      <th>1</th>\n",
       "      <td>0</td>\n",
       "      <td>2014-01-29</td>\n",
       "      <td>5.0</td>\n",
       "      <td>1.00</td>\n",
       "      <td>2014-05-05</td>\n",
       "      <td>0.0</td>\n",
       "      <td>0</td>\n",
       "      <td>50.0</td>\n",
       "      <td>8.26</td>\n",
       "      <td>5.0</td>\n",
       "      <td>1</td>\n",
       "      <td>0</td>\n",
       "      <td>0</td>\n",
       "      <td>1</td>\n",
       "      <td>0</td>\n",
       "    </tr>\n",
       "    <tr>\n",
       "      <th>2</th>\n",
       "      <td>3</td>\n",
       "      <td>2014-01-06</td>\n",
       "      <td>4.3</td>\n",
       "      <td>1.00</td>\n",
       "      <td>2014-01-07</td>\n",
       "      <td>0.0</td>\n",
       "      <td>0</td>\n",
       "      <td>100.0</td>\n",
       "      <td>0.77</td>\n",
       "      <td>5.0</td>\n",
       "      <td>1</td>\n",
       "      <td>0</td>\n",
       "      <td>0</td>\n",
       "      <td>0</td>\n",
       "      <td>1</td>\n",
       "    </tr>\n",
       "    <tr>\n",
       "      <th>3</th>\n",
       "      <td>9</td>\n",
       "      <td>2014-01-10</td>\n",
       "      <td>4.6</td>\n",
       "      <td>1.14</td>\n",
       "      <td>2014-06-29</td>\n",
       "      <td>20.0</td>\n",
       "      <td>1</td>\n",
       "      <td>80.0</td>\n",
       "      <td>2.36</td>\n",
       "      <td>4.9</td>\n",
       "      <td>0</td>\n",
       "      <td>1</td>\n",
       "      <td>0</td>\n",
       "      <td>0</td>\n",
       "      <td>1</td>\n",
       "    </tr>\n",
       "    <tr>\n",
       "      <th>4</th>\n",
       "      <td>14</td>\n",
       "      <td>2014-01-27</td>\n",
       "      <td>4.4</td>\n",
       "      <td>1.19</td>\n",
       "      <td>2014-03-15</td>\n",
       "      <td>11.8</td>\n",
       "      <td>0</td>\n",
       "      <td>82.4</td>\n",
       "      <td>3.13</td>\n",
       "      <td>4.9</td>\n",
       "      <td>0</td>\n",
       "      <td>0</td>\n",
       "      <td>1</td>\n",
       "      <td>1</td>\n",
       "      <td>0</td>\n",
       "    </tr>\n",
       "  </tbody>\n",
       "</table>\n",
       "</div>"
      ],
      "text/plain": [
       "   trips_in_first_30_days signup_date  avg_rating_of_driver  avg_surge  \\\n",
       "0                       4  2014-01-25                   4.7       1.10   \n",
       "1                       0  2014-01-29                   5.0       1.00   \n",
       "2                       3  2014-01-06                   4.3       1.00   \n",
       "3                       9  2014-01-10                   4.6       1.14   \n",
       "4                      14  2014-01-27                   4.4       1.19   \n",
       "\n",
       "  last_trip_date  surge_pct  ultimate_black_user  weekday_pct  avg_dist  \\\n",
       "0     2014-06-17       15.4                    1         46.2      3.67   \n",
       "1     2014-05-05        0.0                    0         50.0      8.26   \n",
       "2     2014-01-07        0.0                    0        100.0      0.77   \n",
       "3     2014-06-29       20.0                    1         80.0      2.36   \n",
       "4     2014-03-15       11.8                    0         82.4      3.13   \n",
       "\n",
       "   avg_rating_by_driver  city_Astapor  city_King's Landing  city_Winterfell  \\\n",
       "0                   5.0             0                    1                0   \n",
       "1                   5.0             1                    0                0   \n",
       "2                   5.0             1                    0                0   \n",
       "3                   4.9             0                    1                0   \n",
       "4                   4.9             0                    0                1   \n",
       "\n",
       "   phone_Android  phone_iPhone  \n",
       "0              0             1  \n",
       "1              1             0  \n",
       "2              0             1  \n",
       "3              0             1  \n",
       "4              1             0  "
      ]
     },
     "execution_count": 145,
     "metadata": {},
     "output_type": "execute_result"
    }
   ],
   "source": [
    "df.head()"
   ]
  },
  {
   "cell_type": "markdown",
   "id": "96015010",
   "metadata": {},
   "source": [
    "To determine if the user is retained, we take the latest available 'last_trip_date' as a current date (when a prediction has to be made) and then see if the user is active (took a ride in the last 30 days)."
   ]
  },
  {
   "cell_type": "code",
   "execution_count": 151,
   "id": "57982920",
   "metadata": {},
   "outputs": [
    {
     "name": "stdout",
     "output_type": "stream",
     "text": [
      "Today: 2014-07-01\n",
      "30 days ago: 2014-06-01\n"
     ]
    }
   ],
   "source": [
    "today = df['last_trip_date'].max()\n",
    "thirty_days_ago = today - pd.Timedelta(days=30)\n",
    "print(\"Today:\", today.strftime('%Y-%m-%d'))\n",
    "print(\"30 days ago:\", thirty_days_ago.strftime('%Y-%m-%d'))"
   ]
  },
  {
   "cell_type": "code",
   "execution_count": 158,
   "id": "7ddd012e",
   "metadata": {},
   "outputs": [
    {
     "name": "stdout",
     "output_type": "stream",
     "text": [
      "Proportion of churn as of 2014-07-01: 0.6235491229132603\n"
     ]
    }
   ],
   "source": [
    "# Label: 1 - churn, 0 - active\n",
    "df['churn'] = 0\n",
    "df.loc[df['last_trip_date'] < thirty_days_ago, 'churn'] = 1\n",
    "print(f\"Proportion of churn as of {today.strftime('%Y-%m-%d')}: {df['churn'].sum()/len(df)}\")"
   ]
  },
  {
   "cell_type": "markdown",
   "id": "2ed67f76",
   "metadata": {},
   "source": [
    "### Train-Test Split\n",
    "We take 30% of data for testing of the trained ML model."
   ]
  },
  {
   "cell_type": "code",
   "execution_count": 188,
   "id": "c4050679",
   "metadata": {},
   "outputs": [],
   "source": [
    "# Full dataset for 6 months\n",
    "X = df.drop(['churn','signup_date','last_trip_date'], axis=1)\n",
    "y=df['churn']"
   ]
  },
  {
   "cell_type": "code",
   "execution_count": 189,
   "id": "58d6c3d8",
   "metadata": {},
   "outputs": [
    {
     "name": "stdout",
     "output_type": "stream",
     "text": [
      "Train samples: 34677\n",
      "Test samples: 14862\n"
     ]
    }
   ],
   "source": [
    "# Train-test split first:\n",
    "X_train, X_test, y_train, y_test = train_test_split(X, y, test_size=0.3, random_state=0)\n",
    "print(\"Train samples:\",y_train.shape[0])\n",
    "print(\"Test samples:\",y_test.shape[0])"
   ]
  },
  {
   "cell_type": "markdown",
   "id": "c87fd4a9",
   "metadata": {},
   "source": [
    "### Correlation matrix"
   ]
  },
  {
   "cell_type": "code",
   "execution_count": 190,
   "id": "e3d3d314",
   "metadata": {},
   "outputs": [
    {
     "data": {
      "image/png": "[encoded data removed]",
      "text/plain": [
       "<Figure size 1152x1152 with 2 Axes>"
      ]
     },
     "metadata": {
      "needs_background": "light"
     },
     "output_type": "display_data"
    }
   ],
   "source": [
    "# Correlation matrix\n",
    "plt.subplots(figsize=(16,16))\n",
    "corr = X_train.join(y_train).corr(method='pearson')\n",
    "ax = sns.heatmap(corr, annot=True,annot_kws={'size':10}, fmt=\".2f\")"
   ]
  },
  {
   "cell_type": "markdown",
   "id": "42210745",
   "metadata": {},
   "source": [
    "The features with larger absolute values of correlation with 'churn' are expected to be more important:"
   ]
  },
  {
   "cell_type": "code",
   "execution_count": 191,
   "id": "b530e110",
   "metadata": {},
   "outputs": [
    {
     "data": {
      "text/plain": [
       "churn                     1.000000\n",
       "city_King's Landing       0.263549\n",
       "phone_iPhone              0.228426\n",
       "phone_Android             0.228426\n",
       "trips_in_first_30_days    0.216207\n",
       "ultimate_black_user       0.207402\n",
       "city_Astapor              0.176650\n",
       "avg_dist                  0.093219\n",
       "city_Winterfell           0.045729\n",
       "avg_rating_by_driver      0.028761\n",
       "surge_pct                 0.014320\n",
       "avg_rating_of_driver      0.009980\n",
       "weekday_pct               0.006591\n",
       "avg_surge                 0.003214\n",
       "Name: churn, dtype: float64"
      ]
     },
     "execution_count": 191,
     "metadata": {},
     "output_type": "execute_result"
    }
   ],
   "source": [
    "corr['churn'].apply(abs).sort_values(ascending=False)"
   ]
  },
  {
   "cell_type": "markdown",
   "id": "83a0741a",
   "metadata": {},
   "source": [
    "### ML model"
   ]
  },
  {
   "cell_type": "code",
   "execution_count": 212,
   "id": "aae3f3af",
   "metadata": {},
   "outputs": [],
   "source": [
    "from sklearn.decomposition import PCA\n",
    "from sklearn.metrics import accuracy_score, roc_auc_score, make_scorer\n",
    "from sklearn.model_selection import train_test_split, StratifiedKFold, GridSearchCV, cross_val_score\n",
    "from sklearn.ensemble import RandomForestClassifier\n",
    "\n",
    "pca = PCA(n_components=2, whiten=True).fit(X_train)\n",
    "X_pca = pca.transform(X)\n",
    "\n",
    "\n",
    "def visualize_tree(classifier, X, y, boundaries=True,xlim=None, ylim=None):\n",
    "    '''\n",
    "    Visualizes a Decision Tree. \n",
    "    INPUTS: Classifier Model, X, y, optional x/y limits.\n",
    "    OUTPUTS: Meshgrid visualization for boundaries (boolean) of the Decision Tree\n",
    "    Adapted from https://github.com/jakevdp/PythonDataScienceHandbook/blob/master/notebooks/helpers_05_08.py\n",
    "    '''\n",
    "     \n",
    "    # Fit the X and y data to the tree\n",
    "    classifier.fit(X, y)\n",
    "\n",
    "    \n",
    "    # Automatically set the x and y limits to the data (+/- 0.1)\n",
    "    if xlim is None:\n",
    "        xlim = (X[:, 0].min() - 0.1, X[:, 0].max() + 0.1)\n",
    "    if ylim is None:\n",
    "        ylim = (X[:, 1].min() - 0.1, X[:, 1].max() + 0.1)\n",
    "\n",
    "    # Assign the variables\n",
    "    x_min, x_max = xlim\n",
    "    y_min, y_max = ylim\n",
    "    \n",
    "    \n",
    "    # Create a mesh grid\n",
    "    xx, yy = np.meshgrid(np.linspace(x_min, x_max, 100),\n",
    "                         np.linspace(y_min, y_max, 100))\n",
    "    \n",
    "    # Define the Z by the predictions (this will be a color in the mesh grid)\n",
    "    Z = classifier.predict(np.c_[xx.ravel(), yy.ravel()])\n",
    "\n",
    "    # Reshape based on meshgrid\n",
    "    Z = Z.reshape(xx.shape)\n",
    "    \n",
    "    # Plot the figure (use)\n",
    "    plt.figure(figsize=(10,10))\n",
    "    plt.pcolormesh(xx, yy, Z, alpha=0.2, cmap='jet')\n",
    "    \n",
    "\n",
    "    # Plot also the training points\n",
    "    plt.scatter(X[:, 0], X[:, 1], c=y, s=50, cmap='jet') # red - churn\n",
    "    \n",
    "    #Set Limits\n",
    "    plt.xlim(x_min, x_max)\n",
    "    plt.ylim(y_min, y_max)        \n",
    "    \n",
    "    def plot_boundaries(i, xlim, ylim):\n",
    "        '''\n",
    "        Plots the Decision Boundaries\n",
    "        '''\n",
    "        if i < 0:\n",
    "            return\n",
    "\n",
    "        # Shorter variable name\n",
    "        tree = classifier.tree_\n",
    "        \n",
    "        # Recursively go through nodes of tree to plot boundaries.\n",
    "        if tree.feature[i] == 0:\n",
    "            plt.plot([tree.threshold[i], tree.threshold[i]], ylim, '-k')\n",
    "            plot_boundaries(tree.children_left[i],\n",
    "                            [xlim[0], tree.threshold[i]], ylim)\n",
    "            plot_boundaries(tree.children_right[i],\n",
    "                            [tree.threshold[i], xlim[1]], ylim)\n",
    "        \n",
    "        elif tree.feature[i] == 1:\n",
    "            plt.plot(xlim, [tree.threshold[i], tree.threshold[i]], '-k')\n",
    "            plot_boundaries(tree.children_left[i], xlim,\n",
    "                            [ylim[0], tree.threshold[i]])\n",
    "            plot_boundaries(tree.children_right[i], xlim,\n",
    "                            [tree.threshold[i], ylim[1]])\n",
    "    \n",
    "    # Random Forest vs Single Tree\n",
    "    if boundaries:\n",
    "        plot_boundaries(0, plt.xlim(), plt.ylim())"
   ]
  },
  {
   "cell_type": "code",
   "execution_count": null,
   "id": "5f896b02",
   "metadata": {},
   "outputs": [],
   "source": [
    "def confusion_matrix_plot(y_actual, y_predicted):\n",
    "    '''Plot Binary Confusion Matrix for actual and predicted labels'''\n",
    "    #from sklearn.metrics import confusion_matrix\n",
    "    cm = confusion_matrix(y_actual, y_predicted)\n",
    "    tn = cm[0,0] # true negative count\n",
    "    fp = cm[0,1] # false positive count\n",
    "    fn = cm[1,0] # false negative count\n",
    "    tp = cm[1,1] # true positive count\n",
    "    print(\"[[TN, FP], [FN, TP]] =\\n\",cm) # print confusion matrix\n",
    "    cm = cm.astype('float') / cm.sum(axis=1)[:, np.newaxis]\n",
    "    fig, ax = plt.subplots(figsize=(4, 4))\n",
    "    ax.imshow(cm, cmap=plt.cm.YlGn) #ax.imshow(cm, cmap=plt.cm.Greens)\n",
    "    ax.grid(False)\n",
    "    ax.xaxis.set(ticks=(0, 1), ticklabels=('Predicted 0', 'Predicted 1'))\n",
    "    ax.yaxis.set(ticks=(0, 1), ticklabels=('Loyal 0', 'Churn 1'))\n",
    "    ax.set_ylim(1.5, -0.5)\n",
    "    for i in range(2):\n",
    "        for j in range(2):\n",
    "            ax.text(j, i, round(cm[i, j],3), ha='center', va='center', color='black', size=15) # counts\n",
    "    plt.show();\n",
    "    return tn,fp,fn,tp\n",
    "\n",
    "def scores_all(X_test, y_test, model, prnt=False):\n",
    "    '''Quality metrics: roc_auc, accuracy, tnr, tpr, precision, f1, MCC. Inputs: X_test, y_test, model'''\n",
    "    y_score = model.predict_proba(X_test)[:,1] # predicted probabilities of y=1\n",
    "    y_pred = model.predict(X_test) # predicted labels 0,1\n",
    "    cm = confusion_matrix(y_test, y_pred)\n",
    "    global tn, fp, fn, tp\n",
    "    tn = cm[0,0] # true negative count\n",
    "    fp = cm[0,1] # false positive count\n",
    "    fn = cm[1,0] # false negative count\n",
    "    tp = cm[1,1] # true positive count\n",
    "    \n",
    "    roc_auc = roc_auc_score(y_test, y_score)\n",
    "    #print(f\"roc_auc_score = {round(roc_auc,dr)}: Area under ROC curve.\")\n",
    "\n",
    "    y_predicted = model.predict(X_test)\n",
    "    accuracy = accuracy_score(y_test, y_predicted)\n",
    "    #print(f\"Accuracy = {round(accuracy,dr)}: (TN+TP)/(TN+TP+FN+FP): Accuracy: percentage of total items classified correctly\")\n",
    "    # accuracy_nosplit = log_reg_nosplit.score(X, y)\n",
    "    \n",
    "    tnr = tn/(tn + fp) # tnr = 1-fpr\n",
    "    #print(f\"TNR = {round(tnr,dr)}: Specificity, selectivity or true negative rate (TNR), proportion of the negative class 0 got correctly classified.\")\n",
    "    fpr = fp/(tn + fp) # fpr = 1-tnr\n",
    "    #print(f\"FPR = {round(fpr,de)} Fall-out or false positive rate (FPR), or Type I Error: proportion of the negative class 0 got incorrectly classified.\")\n",
    "\n",
    "    fnr = fn/(fn + tp) # fnr = 1-tpr\n",
    "    #print(f\"FNR = {round(fnr,dr)}: Type II Error, miss rate or false negative rate (FNR): Proportion of the positive class 1 got incorrectly classified.\")\n",
    "    tpr = tp/(tp + fn) # tpr = 1-fnr\n",
    "    #print(f\"TPR = {round(tpr,dr)}: TP/(TP+FN): Sensitivity, recall, hit rate, or true positive rate (TPR): proportion of the positive class 1 got correctly classified.\")\n",
    "    #print('Recall =', recall_score(y_actual, y_predicted))\n",
    "    \n",
    "    precision = tp/(tp+fp) # TP/PP = TP/(TP+FP)\n",
    "    #print(f\"Precision = {round(precision,dr)}: TP/PP = TP/(TP+FP)\")\n",
    "    #print(f\"Precision = {round(precision_score(y_actual, y_predicted),dr)}\")\n",
    "    \n",
    "    f1 = 2*tp/(2*tp+fp+fn)\n",
    "    #print(f\"F1 score = {round(f1,dr)}: F1 score: harmonic mean of precision and recall.\")\n",
    "    #print(f\"F1 score = {round(f1_score(y_actual, y_predicted),dr)}: F1 score: harmonic mean of precision and recall.\")\n",
    "    \n",
    "    MCC = (tp*tn-fp*fn)/np.sqrt((tp+fp)*(tp+fn)*(tn+fp)*(tn+fn))\n",
    "    #print(f\"MCC = {round(MCC,dr)}: Matthews correlation coefficient: accounts for all 4 confusion matrix categories.\")\n",
    "    \n",
    "    if prnt == True:\n",
    "        dr = 6 # rounding digits\n",
    "        print(f\"AUC\\tAccur\\tTNR\\tTPR\\tPrecis\\tF1\\tMCC\")\n",
    "        print(f\"%.{dr}f\\t%.{dr}f\\t%.{dr}f\\t%.{dr}f\\t%.{dr}f\\t%.{dr}f\\t%.{dr}f\" % (roc_auc, accuracy, tnr, tpr, precision, f1, MCC))\n",
    "    return roc_auc, accuracy, tnr, tpr, precision, f1, MCC;"
   ]
  },
  {
   "cell_type": "code",
   "execution_count": 370,
   "id": "3bebb680",
   "metadata": {},
   "outputs": [],
   "source": [
    "?RandomForestClassifier"
   ]
  },
  {
   "cell_type": "code",
   "execution_count": 406,
   "id": "d6328e25",
   "metadata": {},
   "outputs": [
    {
     "name": "stdout",
     "output_type": "stream",
     "text": [
      "Accuracy in training: 0.8283876921302304\n",
      "Accuracy in testing:\n",
      "AUC\tAccur\tTNR\tTPR\tPrecis\tF1\tMCC\n",
      "0.844734\t0.777890\t0.662710\t0.848432\t0.804196\t0.825722\t0.521614\n",
      "[[TN, FP], [FN, TP]] =\n",
      " [[3741 1904]\n",
      " [1397 7820]]\n"
     ]
    },
    {
     "data": {
      "image/png": "[encoded data removed]",
      "text/plain": [
       "<Figure size 288x288 with 1 Axes>"
      ]
     },
     "metadata": {
      "needs_background": "light"
     },
     "output_type": "display_data"
    }
   ],
   "source": [
    "#clf_rf = RandomForestClassifier(n_estimators=100, max_depth=10, random_state=0,criterion='gini', class_weight='balanced')\n",
    "clf_rf = RandomForestClassifier(random_state=0, criterion='gini', max_depth=11, max_features=0.3, n_estimators=201,\n",
    "                                class_weight={0:1, 1:0.90})\n",
    "#criterion='gini',\n",
    "# Remove boundaries to avoid error\n",
    "#visualize_tree(clf_rf,X_pca,y.ravel(),boundaries=False)\n",
    "\n",
    "clf_rf.fit(X_train, y_train.ravel())\n",
    "print('Accuracy in training:',clf_rf.score(X_train, y_train.ravel()))\n",
    "print('Accuracy in testing:')\n",
    "roc_auc,accuracy,tnr,tpr,precision,f1,mcc = scores_all(X_test, y_test, clf_rf, prnt=True)\n",
    "y_pred = clf_rf.predict(X_test)\n",
    "tn,fp,fn,tp = confusion_matrix_plot(y_test, y_pred)"
   ]
  },
  {
   "cell_type": "code",
   "execution_count": 397,
   "id": "8a8a292b",
   "metadata": {},
   "outputs": [
    {
     "name": "stdout",
     "output_type": "stream",
     "text": [
      "{0: 1, 1: 0.85} 0.8444713157120133\n"
     ]
    }
   ],
   "source": [
    "print(clf_rf.class_weight, roc_auc)"
   ]
  },
  {
   "cell_type": "code",
   "execution_count": 405,
   "id": "1d64bc9c",
   "metadata": {},
   "outputs": [
    {
     "name": "stdout",
     "output_type": "stream",
     "text": [
      "{0: 1, 1: 0.89} 0.8446495591530765\n"
     ]
    }
   ],
   "source": [
    "print(clf_rf.class_weight, roc_auc)"
   ]
  },
  {
   "cell_type": "code",
   "execution_count": 387,
   "id": "e5025978",
   "metadata": {},
   "outputs": [
    {
     "name": "stdout",
     "output_type": "stream",
     "text": [
      "{0: 1, 1: 0.9} 0.8447342411243214\n"
     ]
    }
   ],
   "source": [
    "print(clf_rf.class_weight, roc_auc)"
   ]
  },
  {
   "cell_type": "code",
   "execution_count": 403,
   "id": "cd51b2dd",
   "metadata": {},
   "outputs": [
    {
     "name": "stdout",
     "output_type": "stream",
     "text": [
      "{0: 1, 1: 0.91} 0.8445671162761688\n"
     ]
    }
   ],
   "source": [
    "print(clf_rf.class_weight, roc_auc)"
   ]
  },
  {
   "cell_type": "code",
   "execution_count": 407,
   "id": "76eb7640",
   "metadata": {},
   "outputs": [
    {
     "name": "stdout",
     "output_type": "stream",
     "text": [
      "Cross Validation Scores:\n",
      "[0.78719723 0.78806228 0.78950404 0.79901961 0.78546713 0.79094579\n",
      " 0.78979239 0.77761754 0.7773291  0.78309778]\n",
      "Mean CV accuracy: 0.7868032884780509\n",
      "STD of CV accuracy: 0.006115734986602247\n"
     ]
    }
   ],
   "source": [
    "print('Cross Validation Scores:')\n",
    "scores = cross_val_score(clf_rf, X_train, y_train.ravel(), cv=10)\n",
    "\n",
    "print(scores)\n",
    "print(\"Mean CV accuracy:\",np.mean(scores))\n",
    "print(\"STD of CV accuracy:\",np.std(scores))"
   ]
  },
  {
   "cell_type": "markdown",
   "id": "f966986b",
   "metadata": {},
   "source": [
    "|Optimization|criterion|max_features|max_depth|n_estimators|class_weight|ROC AUC |Accuracy|TNR     |TPR     |Precision|F1      |MCC     | Accuracy CV|STD Accuracy CV|\n",
    "|:-----------|:-------:|:----------:|:-------:|:----------:|:------:|:------:|:------:|:------:|:------:|:-------:|:------:|:------:|:------:|:------:|\n",
    "|Default     |gini*    |auto = 0.3*|None|None=1    |100|0.817683|0.749361|0.658636|0.804926|0.793816|0.799332|0.465703|0.758889|0.004598|\n",
    "|max_depth   |gini     |0.3   |11      |100|1|0.844113|0.775939|0.640213|0.859065|0.795859|0.826255|0.515117|0.786573|0.006251|\n",
    "|n_estimators|gini     |0.3   |11      |201|1|0.844433|0.776881|0.644110|0.858197|0.797459|0.826714|0.517448|0.787611|0.006367|\n",
    "|class_weight|gini     |0.3   |11      |201|0.90|0.844734|0.777890|0.662710|0.848432|0.804196|0.825722|0.521614|0.786803|0.006116|"
   ]
  },
  {
   "cell_type": "markdown",
   "id": "5beb67e7",
   "metadata": {},
   "source": [
    "In all runs, 'random_state'=0 and the cross-validation is 10-fold. Asterisk indicates that optimization of this hyperparameter alone does not change it."
   ]
  },
  {
   "cell_type": "markdown",
   "id": "3f91f63f",
   "metadata": {},
   "source": [
    "### Feature importance"
   ]
  },
  {
   "cell_type": "code",
   "execution_count": 299,
   "id": "58f65d25",
   "metadata": {
    "scrolled": true
   },
   "outputs": [
    {
     "name": "stdout",
     "output_type": "stream",
     "text": [
      "Feature ranking:\n"
     ]
    },
    {
     "data": {
      "image/png": "[encoded data removed]",
      "text/plain": [
       "<Figure size 432x288 with 1 Axes>"
      ]
     },
     "metadata": {
      "needs_background": "light"
     },
     "output_type": "display_data"
    },
    {
     "data": {
      "text/html": [
       "<div>\n",
       "<style scoped>\n",
       "    .dataframe tbody tr th:only-of-type {\n",
       "        vertical-align: middle;\n",
       "    }\n",
       "\n",
       "    .dataframe tbody tr th {\n",
       "        vertical-align: top;\n",
       "    }\n",
       "\n",
       "    .dataframe thead th {\n",
       "        text-align: right;\n",
       "    }\n",
       "</style>\n",
       "<table border=\"1\" class=\"dataframe\">\n",
       "  <thead>\n",
       "    <tr style=\"text-align: right;\">\n",
       "      <th></th>\n",
       "      <th>features</th>\n",
       "      <th>importance</th>\n",
       "    </tr>\n",
       "  </thead>\n",
       "  <tbody>\n",
       "    <tr>\n",
       "      <th>7</th>\n",
       "      <td>avg_rating_by_driver</td>\n",
       "      <td>0.173954</td>\n",
       "    </tr>\n",
       "    <tr>\n",
       "      <th>3</th>\n",
       "      <td>surge_pct</td>\n",
       "      <td>0.130260</td>\n",
       "    </tr>\n",
       "    <tr>\n",
       "      <th>5</th>\n",
       "      <td>weekday_pct</td>\n",
       "      <td>0.128038</td>\n",
       "    </tr>\n",
       "    <tr>\n",
       "      <th>9</th>\n",
       "      <td>city_King's Landing</td>\n",
       "      <td>0.108729</td>\n",
       "    </tr>\n",
       "    <tr>\n",
       "      <th>6</th>\n",
       "      <td>avg_dist</td>\n",
       "      <td>0.084057</td>\n",
       "    </tr>\n",
       "    <tr>\n",
       "      <th>2</th>\n",
       "      <td>avg_surge</td>\n",
       "      <td>0.080736</td>\n",
       "    </tr>\n",
       "    <tr>\n",
       "      <th>0</th>\n",
       "      <td>trips_in_first_30_days</td>\n",
       "      <td>0.075191</td>\n",
       "    </tr>\n",
       "    <tr>\n",
       "      <th>4</th>\n",
       "      <td>ultimate_black_user</td>\n",
       "      <td>0.053696</td>\n",
       "    </tr>\n",
       "    <tr>\n",
       "      <th>1</th>\n",
       "      <td>avg_rating_of_driver</td>\n",
       "      <td>0.042998</td>\n",
       "    </tr>\n",
       "    <tr>\n",
       "      <th>12</th>\n",
       "      <td>phone_iPhone</td>\n",
       "      <td>0.040257</td>\n",
       "    </tr>\n",
       "    <tr>\n",
       "      <th>11</th>\n",
       "      <td>phone_Android</td>\n",
       "      <td>0.039470</td>\n",
       "    </tr>\n",
       "    <tr>\n",
       "      <th>8</th>\n",
       "      <td>city_Astapor</td>\n",
       "      <td>0.026075</td>\n",
       "    </tr>\n",
       "    <tr>\n",
       "      <th>10</th>\n",
       "      <td>city_Winterfell</td>\n",
       "      <td>0.016538</td>\n",
       "    </tr>\n",
       "  </tbody>\n",
       "</table>\n",
       "</div>"
      ],
      "text/plain": [
       "                  features  importance\n",
       "7     avg_rating_by_driver    0.173954\n",
       "3                surge_pct    0.130260\n",
       "5              weekday_pct    0.128038\n",
       "9      city_King's Landing    0.108729\n",
       "6                 avg_dist    0.084057\n",
       "2                avg_surge    0.080736\n",
       "0   trips_in_first_30_days    0.075191\n",
       "4      ultimate_black_user    0.053696\n",
       "1     avg_rating_of_driver    0.042998\n",
       "12            phone_iPhone    0.040257\n",
       "11           phone_Android    0.039470\n",
       "8             city_Astapor    0.026075\n",
       "10         city_Winterfell    0.016538"
      ]
     },
     "execution_count": 299,
     "metadata": {},
     "output_type": "execute_result"
    }
   ],
   "source": [
    "importFeature = clf_rf.feature_importances_\n",
    "feature_importances=pd.DataFrame([importFeature])\n",
    "\n",
    "std = np.std([tree.feature_importances_ for tree in clf_rf.estimators_],axis=0)\n",
    "indices = np.argsort(importFeature)[::-1]\n",
    "\n",
    "# Print the feature ranking\n",
    "print(\"Feature ranking:\")\n",
    "\n",
    "# Plot the feature importances of the forest\n",
    "plt.figure()\n",
    "plt.title(\"Feature importances\")\n",
    "plt.bar(range(X.shape[1]), importFeature[indices],color=\"r\", yerr=std[indices], align=\"center\")\n",
    "plt.xticks(range(X.shape[1]), indices)\n",
    "plt.xlim([-1, X.shape[1]])\n",
    "plt.show()\n",
    "\n",
    "col_names = X_train.columns\n",
    "feature_importances=pd.DataFrame(pd.Series(col_names)[indices])\n",
    "feature_importances['importance']=np.sort(importFeature)[::-1]\n",
    "feature_importances.columns=['features','importance']\n",
    "feature_importances"
   ]
  },
  {
   "cell_type": "code",
   "execution_count": 217,
   "id": "c562de10",
   "metadata": {
    "scrolled": true
   },
   "outputs": [
    {
     "data": {
      "text/plain": [
       "churn                     1.000000\n",
       "phone_Android             0.228426\n",
       "city_Astapor              0.176650\n",
       "avg_dist                  0.093219\n",
       "city_Winterfell           0.045729\n",
       "avg_rating_by_driver      0.028761\n",
       "avg_rating_of_driver      0.009980\n",
       "avg_surge                 0.003214\n",
       "weekday_pct              -0.006591\n",
       "surge_pct                -0.014320\n",
       "ultimate_black_user      -0.207402\n",
       "trips_in_first_30_days   -0.216207\n",
       "phone_iPhone             -0.228426\n",
       "city_King's Landing      -0.263549\n",
       "Name: churn, dtype: float64"
      ]
     },
     "execution_count": 217,
     "metadata": {},
     "output_type": "execute_result"
    }
   ],
   "source": [
    "corr['churn'].sort_values(ascending=False)"
   ]
  },
  {
   "cell_type": "markdown",
   "id": "85c9357d",
   "metadata": {},
   "source": [
    "### Conclusion\n",
    "1) As of 2014-07-01, the proportion of churn is 0.6235.\n",
    "\n",
    "2) I applied the Random Forest model, based on its high performance in my previous project on customer churn prediction. It remains to optimize the hyperparameters of the model. The key indicators are: <b>ROC AUC = 0.844734, Accuracy = 0.777890</b>. Mean CV accuracy is 0.786803, and the standard deviation is 0.006116.\n",
    "\n",
    "3) The most influential feature is the 'avg_rating_by_driver'. Since it is positively correlated with the 'churn' label, the larger this feature is, the larger is the churn probability. Next in importance is 'surge_pct' (the percent of trips taken with surge multiplier > 1), which is negatively correlated with 'churn' label: the higher it is, the lower is the churn probability. The same is true for the third in importance feature 'weekday_pct' (the percent of the user’s trips occurring during a weekday).\n",
    "\n",
    "Therefore, the Ultimate should focus on the passengers with higher average rating by driver, as well as lower 'surge_pct' and 'weekday_pct'."
   ]
  }
 ],
 "metadata": {
  "kernelspec": {
   "display_name": "Python 3 (ipykernel)",
   "language": "python",
   "name": "python3"
  },
  "language_info": {
   "codemirror_mode": {
    "name": "ipython",
    "version": 3
   },
   "file_extension": ".py",
   "mimetype": "text/x-python",
   "name": "python",
   "nbconvert_exporter": "python",
   "pygments_lexer": "ipython3",
   "version": "3.9.7"
  }
 },
 "nbformat": 4,
 "nbformat_minor": 5
}
