{
 "cells": [
  {
   "cell_type": "markdown",
   "metadata": {},
   "source": [
    "# XGBoost Model in Python\n",
    "https://machinelearningmastery.com/develop-first-xgboost-model-python-scikit-learn/\n",
    "\n",
    "For reference, you can review the <a href=\"https://xgboost.readthedocs.io/en/latest/python/python_api.html\">XGBoost Python API reference</a>."
   ]
  },
  {
   "cell_type": "markdown",
   "metadata": {},
   "source": [
    "## Libraries and Data\n",
    "In this section we will load the data from file and prepare it for use for training and evaluating an XGBoost model.\n",
    "\n",
    "We start off by importing the classes and functions we intend to use."
   ]
  },
  {
   "cell_type": "code",
   "execution_count": 233,
   "metadata": {},
   "outputs": [],
   "source": [
    "from numpy import loadtxt\n",
    "from xgboost import XGBClassifier\n",
    "from sklearn.model_selection import train_test_split\n",
    "from sklearn.metrics import accuracy_score, confusion_matrix, roc_auc_score\n",
    "import matplotlib.pyplot as plt\n",
    "import numpy as np"
   ]
  },
  {
   "cell_type": "markdown",
   "metadata": {},
   "source": [
    "Next, we can load the CSV file as a NumPy array using the NumPy function <b>loadtext()</b>."
   ]
  },
  {
   "cell_type": "code",
   "execution_count": 4,
   "metadata": {},
   "outputs": [],
   "source": [
    "# load data\n",
    "import os\n",
    "os.chdir('C:/Sereda/Lectures/Springboard/Capstone2_CustomerChurn/')\n",
    "import pandas as pd\n",
    "csv = 'data/df_20161022_onehot.csv'\n",
    "dataset = pd.read_csv(csv)"
   ]
  },
  {
   "cell_type": "markdown",
   "metadata": {},
   "source": [
    "We must separate the columns (attributes or features) of the dataset into input patterns (X) and output patterns (Y). We can do this easily by specifying the output column name to drop or include."
   ]
  },
  {
   "cell_type": "code",
   "execution_count": 10,
   "metadata": {},
   "outputs": [],
   "source": [
    "# split data into X and y\n",
    "X = dataset.drop('is_churn', axis=1)\n",
    "Y = dataset['is_churn']"
   ]
  },
  {
   "cell_type": "markdown",
   "metadata": {},
   "source": [
    "Finally, we must split the X and Y data into a training and test dataset. The training set will be used to prepare the XGBoost model and the test set will be used to make new predictions, from which we can evaluate the performance of the model.\n",
    "\n",
    "For this we will use the <b>train_test_split()</b> function from the scikit-learn library. We also specify a seed for the random number generator so that we always get the same split of data each time this example is executed."
   ]
  },
  {
   "cell_type": "code",
   "execution_count": 12,
   "metadata": {},
   "outputs": [],
   "source": [
    "# split data into train and test sets\n",
    "seed = 7\n",
    "test_size = 0.3\n",
    "X_train, X_test, y_train, y_test = train_test_split(X, Y, test_size=test_size, random_state=seed)"
   ]
  },
  {
   "cell_type": "markdown",
   "metadata": {},
   "source": [
    "We are now ready to train our model. XGBoost is essentially an ensemble algorithm comprised of decision trees, so it does not require <b>normalization (scaling)</b> for the inputs.\n",
    "\n",
    "## Train the XGBoost Model\n",
    "XGBoost provides a wrapper class to allow models to be treated like classifiers or regressors in the scikit-learn framework.\n",
    "\n",
    "This means we can use the full scikit-learn library with XGBoost models.\n",
    "\n",
    "The XGBoost model for classification is called XGBClassifier. We can create and fit it to our training dataset. Models are fit using the scikit-learn API and the <b>model.fit()</b> function.\n",
    "\n",
    "Parameters for training the model can be passed to the model in the constructor. Here, we use the sensible defaults."
   ]
  },
  {
   "cell_type": "code",
   "execution_count": 44,
   "metadata": {},
   "outputs": [
    {
     "name": "stdout",
     "output_type": "stream",
     "text": [
      "[13:15:49] WARNING: C:/Users/Administrator/workspace/xgboost-win64_release_1.5.1/src/learner.cc:1115: Starting in XGBoost 1.3.0, the default evaluation metric used with the objective 'binary:logistic' was changed from 'error' to 'logloss'. Explicitly set eval_metric if you'd like to restore the old behavior.\n"
     ]
    },
    {
     "data": {
      "text/plain": [
       "XGBClassifier(base_score=0.5, booster='gbtree', colsample_bylevel=1,\n",
       "              colsample_bynode=1, colsample_bytree=1, enable_categorical=False,\n",
       "              gamma=0, gpu_id=-1, importance_type=None,\n",
       "              interaction_constraints='', learning_rate=0.300000012,\n",
       "              max_delta_step=0, max_depth=6, min_child_weight=1, missing=nan,\n",
       "              monotone_constraints='()', n_estimators=100, n_jobs=8,\n",
       "              num_parallel_tree=1, predictor='auto', random_state=0,\n",
       "              reg_alpha=0, reg_lambda=1, scale_pos_weight=1, subsample=1,\n",
       "              tree_method='exact', validate_parameters=1, verbosity=None)"
      ]
     },
     "execution_count": 44,
     "metadata": {},
     "output_type": "execute_result"
    }
   ],
   "source": [
    "# fit model no training data\n",
    "model = XGBClassifier()\n",
    "model.fit(X_train, y_train)"
   ]
  },
  {
   "cell_type": "markdown",
   "metadata": {},
   "source": [
    "You can see the parameters used in a trained model by printing the model, if not shown above:"
   ]
  },
  {
   "cell_type": "code",
   "execution_count": 14,
   "metadata": {
    "collapsed": true
   },
   "outputs": [
    {
     "name": "stdout",
     "output_type": "stream",
     "text": [
      "XGBClassifier(base_score=0.5, booster='gbtree', colsample_bylevel=1,\n",
      "              colsample_bynode=1, colsample_bytree=1, enable_categorical=False,\n",
      "              gamma=0, gpu_id=-1, importance_type=None,\n",
      "              interaction_constraints='', learning_rate=0.300000012,\n",
      "              max_delta_step=0, max_depth=6, min_child_weight=1, missing=nan,\n",
      "              monotone_constraints='()', n_estimators=100, n_jobs=8,\n",
      "              num_parallel_tree=1, predictor='auto', random_state=0,\n",
      "              reg_alpha=0, reg_lambda=1, scale_pos_weight=1, subsample=1,\n",
      "              tree_method='exact', validate_parameters=1, verbosity=None)\n"
     ]
    }
   ],
   "source": [
    "print(model)"
   ]
  },
  {
   "cell_type": "markdown",
   "metadata": {},
   "source": [
    "You can learn more about the defaults for the XGBClassifier and XGBRegressor classes in the <a href=\"https://xgboost.readthedocs.io/en/latest/python/python_api.html#module-xgboost.sklearn\">XGBoost Python scikit-learn API</a>.\n",
    "\n",
    "You can learn more about the meaning of each parameter and how to configure them on the <a href=\"https://xgboost.readthedocs.io/en/latest//parameter.html\">XGBoost parameters page</a>.\n",
    "\n",
    "We are now ready to use the trained model to make predictions.\n",
    "\n",
    "## Make Predictions with XGBoost Model\n",
    "We can make predictions using the fit model on the test dataset.\n",
    "\n",
    "To make predictions we use the scikit-learn function <b>model.predict()</b>.\n",
    "\n",
    "By default, the predictions made by XGBoost are probabilities. Because this is a binary classification problem, each prediction is the probability of the input pattern belonging to the first class. We can easily convert them to binary class values by rounding them to 0 or 1."
   ]
  },
  {
   "cell_type": "code",
   "execution_count": 45,
   "metadata": {},
   "outputs": [],
   "source": [
    "# make predictions for test data\n",
    "y_pred = model.predict(X_test)"
   ]
  },
  {
   "cell_type": "markdown",
   "metadata": {},
   "source": [
    "Now that we have used the fit model to make predictions on new data, we can evaluate the performance of the predictions by comparing them to the expected values. For this we will use the built in <b>accuracy_score()</b> function in scikit-learn."
   ]
  },
  {
   "cell_type": "code",
   "execution_count": 46,
   "metadata": {},
   "outputs": [
    {
     "name": "stdout",
     "output_type": "stream",
     "text": [
      "Accuracy: 0.952899961074348\n"
     ]
    }
   ],
   "source": [
    "# evaluate predictions\n",
    "accuracy = accuracy_score(y_test, y_pred)\n",
    "#print(\"Accuracy: %.2f%%\" % (accuracy * 100.0))\n",
    "print(\"Accuracy: %.15f\" % (accuracy)) #Accuracy: 0.952899961074348"
   ]
  },
  {
   "cell_type": "code",
   "execution_count": 224,
   "metadata": {},
   "outputs": [],
   "source": [
    "def scores_all(X_test, y_test, model):\n",
    "    '''Quality Metrics: roc_auc, accuracy, tnr, tpr, precision, f1, MCC'''\n",
    "    y_score = model.predict_proba(X_test)[:,1] # predicted probabilities of y=1\n",
    "    y_pred = model.predict(X_test) # predicted labels 0,1\n",
    "    cm = confusion_matrix(y_test, y_pred)\n",
    "    tn = cm[0,0] # true negative count\n",
    "    fp = cm[0,1] # false positive count\n",
    "    fn = cm[1,0] # false negative count\n",
    "    tp = cm[1,1] # true positive count\n",
    "    \n",
    "    roc_auc = roc_auc_score(y_test, y_score)\n",
    "    #print(f\"roc_auc_score = {round(roc_auc,dr)}: Area under ROC curve.\")\n",
    "\n",
    "    y_predicted = model.predict(X_test)\n",
    "    accuracy = accuracy_score(y_test, y_predicted)\n",
    "    #print(f\"Accuracy = {round(accuracy,dr)}: (TN+TP)/(TN+TP+FN+FP): Accuracy: percentage of total items classified correctly\")\n",
    "    # accuracy_nosplit = log_reg_nosplit.score(X, y)\n",
    "    \n",
    "    tnr = tn/(tn + fp) # tnr = 1-fpr\n",
    "    #print(f\"TNR = {round(tnr,dr)}: Specificity, selectivity or true negative rate (TNR), proportion of the negative class 0 got correctly classified.\")\n",
    "    fpr = fp/(tn + fp) # fpr = 1-tnr\n",
    "    #print(f\"FPR = {round(fpr,de)} Fall-out or false positive rate (FPR), or Type I Error: proportion of the negative class 0 got incorrectly classified.\")\n",
    "\n",
    "    fnr = fn/(fn + tp) # fnr = 1-tpr\n",
    "    #print(f\"FNR = {round(fnr,dr)}: Type II Error, miss rate or false negative rate (FNR): Proportion of the positive class 1 got incorrectly classified.\")\n",
    "    tpr = tp/(tp + fn) # tpr = 1-fnr\n",
    "    #print(f\"TPR = {round(tpr,dr)}: TP/(TP+FN): Sensitivity, recall, hit rate, or true positive rate (TPR): proportion of the positive class 1 got correctly classified.\")\n",
    "    #print('Recall =', recall_score(y_actual, y_predicted))\n",
    "    \n",
    "    precision = tp/(tp+fp) # TP/PP = TP/(TP+FP)\n",
    "    #print(f\"Precision = {round(precision,dr)}: TP/PP = TP/(TP+FP)\")\n",
    "    #print(f\"Precision = {round(precision_score(y_actual, y_predicted),dr)}\")\n",
    "    \n",
    "    f1 = 2*tp/(2*tp+fp+fn)\n",
    "    #print(f\"F1 score = {round(f1,dr)}: F1 score: harmonic mean of precision and recall.\")\n",
    "    #print(f\"F1 score = {round(f1_score(y_actual, y_predicted),dr)}: F1 score: harmonic mean of precision and recall.\")\n",
    "    \n",
    "    MCC = (tp*tn-fp*fn)/np.sqrt((tp+fp)*(tp+fn)*(tn+fp)*(tn+fn))\n",
    "    #print(f\"MCC = {round(MCC,dr)}: Matthews correlation coefficient: accounts for all 4 confusion matrix categories.\")\n",
    "    \n",
    "    #print(f\"AUC\\tAccur\\tTNR\\tTPR\\tPrecis\\tF1\\tMCC\")\n",
    "    #print(\"%.5f\\t%.5f\\t%.5f\\t%.5f\\t%.5f\\t%.5f\\t%.5f\" % (roc_auc, accuracy, tnr, tpr, precision, f1, MCC))\n",
    "    return roc_auc, accuracy, tnr, tpr, precision, f1, MCC;"
   ]
  },
  {
   "cell_type": "code",
   "execution_count": 234,
   "metadata": {},
   "outputs": [
    {
     "name": "stdout",
     "output_type": "stream",
     "text": [
      "AUC\tAccur\tTNR\tTPR\tPrecis\tF1\tMCC\n",
      "0.92469\t0.94083\t0.99049\t0.36207\t0.76562\t0.49164\t0.50146\n"
     ]
    }
   ],
   "source": [
    "roc_auc, accuracy, tnr, tpr, precision, f1, MCC = scores_all(X_test, y_test, model)\n",
    "print(f\"AUC\\tAccur\\tTNR\\tTPR\\tPrecis\\tF1\\tMCC\")\n",
    "print(\"%.5f\\t%.5f\\t%.5f\\t%.5f\\t%.5f\\t%.5f\\t%.5f\" % (roc_auc, accuracy, tnr, tpr, precision, f1, MCC))"
   ]
  },
  {
   "cell_type": "markdown",
   "metadata": {},
   "source": [
    "Note: Your <a href=\"https://machinelearningmastery.com/different-results-each-time-in-machine-learning/\">results may vary</a> given the stochastic nature of the algorithm or evaluation procedure, or differences in numerical precision. Consider running the example a few times and compare the average outcome.\n",
    "\n",
    "Running this example produces the following output."
   ]
  },
  {
   "cell_type": "markdown",
   "metadata": {},
   "source": [
    "This is a good accuracy score</a> on this problem, which we would expect, given the capabilities of the model and the complexity of the problem."
   ]
  },
  {
   "cell_type": "markdown",
   "metadata": {},
   "source": [
    "## Optimization of Parameters of the XGBoost Model\n",
    "* booster: 'gbtree' and 'dart' use tree based models while 'gblinear' uses linear functions."
   ]
  },
  {
   "cell_type": "code",
   "execution_count": 255,
   "metadata": {},
   "outputs": [
    {
     "name": "stdout",
     "output_type": "stream",
     "text": [
      "data/df_20161022_onehot.csv data/xgboost_test30.score.learningrate_nestimators.csv\n"
     ]
    }
   ],
   "source": [
    "print(csv, scores_csv)"
   ]
  },
  {
   "cell_type": "code",
   "execution_count": 360,
   "metadata": {
    "collapsed": true
   },
   "outputs": [
    {
     "data": {
      "text/html": [
       "<div>\n",
       "<style scoped>\n",
       "    .dataframe tbody tr th:only-of-type {\n",
       "        vertical-align: middle;\n",
       "    }\n",
       "\n",
       "    .dataframe tbody tr th {\n",
       "        vertical-align: top;\n",
       "    }\n",
       "\n",
       "    .dataframe thead th {\n",
       "        text-align: right;\n",
       "    }\n",
       "</style>\n",
       "<table border=\"1\" class=\"dataframe\">\n",
       "  <thead>\n",
       "    <tr style=\"text-align: right;\">\n",
       "      <th></th>\n",
       "      <th>booster</th>\n",
       "      <th>learning_rate</th>\n",
       "      <th>n_estimators</th>\n",
       "      <th>roc_auc</th>\n",
       "      <th>accuracy</th>\n",
       "      <th>tnr</th>\n",
       "      <th>tpr</th>\n",
       "      <th>precision</th>\n",
       "      <th>f1</th>\n",
       "      <th>mcc</th>\n",
       "    </tr>\n",
       "  </thead>\n",
       "  <tbody>\n",
       "    <tr>\n",
       "      <th>0</th>\n",
       "      <td>gblinear</td>\n",
       "      <td>0.001</td>\n",
       "      <td>1</td>\n",
       "      <td>0.669427</td>\n",
       "      <td>0.920981</td>\n",
       "      <td>1.0</td>\n",
       "      <td>0.0</td>\n",
       "      <td>NaN</td>\n",
       "      <td>0.0</td>\n",
       "      <td>NaN</td>\n",
       "    </tr>\n",
       "    <tr>\n",
       "      <th>1</th>\n",
       "      <td>gblinear</td>\n",
       "      <td>0.001</td>\n",
       "      <td>2</td>\n",
       "      <td>0.670528</td>\n",
       "      <td>0.920981</td>\n",
       "      <td>1.0</td>\n",
       "      <td>0.0</td>\n",
       "      <td>NaN</td>\n",
       "      <td>0.0</td>\n",
       "      <td>NaN</td>\n",
       "    </tr>\n",
       "    <tr>\n",
       "      <th>2</th>\n",
       "      <td>gblinear</td>\n",
       "      <td>0.001</td>\n",
       "      <td>3</td>\n",
       "      <td>0.671420</td>\n",
       "      <td>0.920981</td>\n",
       "      <td>1.0</td>\n",
       "      <td>0.0</td>\n",
       "      <td>NaN</td>\n",
       "      <td>0.0</td>\n",
       "      <td>NaN</td>\n",
       "    </tr>\n",
       "    <tr>\n",
       "      <th>3</th>\n",
       "      <td>gblinear</td>\n",
       "      <td>0.001</td>\n",
       "      <td>4</td>\n",
       "      <td>0.672366</td>\n",
       "      <td>0.920981</td>\n",
       "      <td>1.0</td>\n",
       "      <td>0.0</td>\n",
       "      <td>NaN</td>\n",
       "      <td>0.0</td>\n",
       "      <td>NaN</td>\n",
       "    </tr>\n",
       "    <tr>\n",
       "      <th>4</th>\n",
       "      <td>gblinear</td>\n",
       "      <td>0.001</td>\n",
       "      <td>5</td>\n",
       "      <td>0.673262</td>\n",
       "      <td>0.920981</td>\n",
       "      <td>1.0</td>\n",
       "      <td>0.0</td>\n",
       "      <td>NaN</td>\n",
       "      <td>0.0</td>\n",
       "      <td>NaN</td>\n",
       "    </tr>\n",
       "  </tbody>\n",
       "</table>\n",
       "</div>"
      ],
      "text/plain": [
       "    booster  learning_rate  n_estimators   roc_auc  accuracy  tnr  tpr  \\\n",
       "0  gblinear          0.001             1  0.669427  0.920981  1.0  0.0   \n",
       "1  gblinear          0.001             2  0.670528  0.920981  1.0  0.0   \n",
       "2  gblinear          0.001             3  0.671420  0.920981  1.0  0.0   \n",
       "3  gblinear          0.001             4  0.672366  0.920981  1.0  0.0   \n",
       "4  gblinear          0.001             5  0.673262  0.920981  1.0  0.0   \n",
       "\n",
       "   precision   f1  mcc  \n",
       "0        NaN  0.0  NaN  \n",
       "1        NaN  0.0  NaN  \n",
       "2        NaN  0.0  NaN  \n",
       "3        NaN  0.0  NaN  \n",
       "4        NaN  0.0  NaN  "
      ]
     },
     "metadata": {},
     "output_type": "display_data"
    },
    {
     "data": {
      "text/html": [
       "<div>\n",
       "<style scoped>\n",
       "    .dataframe tbody tr th:only-of-type {\n",
       "        vertical-align: middle;\n",
       "    }\n",
       "\n",
       "    .dataframe tbody tr th {\n",
       "        vertical-align: top;\n",
       "    }\n",
       "\n",
       "    .dataframe thead th {\n",
       "        text-align: right;\n",
       "    }\n",
       "</style>\n",
       "<table border=\"1\" class=\"dataframe\">\n",
       "  <thead>\n",
       "    <tr style=\"text-align: right;\">\n",
       "      <th></th>\n",
       "      <th>booster</th>\n",
       "      <th>learning_rate</th>\n",
       "      <th>n_estimators</th>\n",
       "      <th>roc_auc</th>\n",
       "      <th>accuracy</th>\n",
       "      <th>tnr</th>\n",
       "      <th>tpr</th>\n",
       "      <th>precision</th>\n",
       "      <th>f1</th>\n",
       "      <th>mcc</th>\n",
       "    </tr>\n",
       "  </thead>\n",
       "  <tbody>\n",
       "    <tr>\n",
       "      <th>3995</th>\n",
       "      <td>gbtree</td>\n",
       "      <td>0.01</td>\n",
       "      <td>196</td>\n",
       "      <td>0.959308</td>\n",
       "      <td>0.956014</td>\n",
       "      <td>0.986264</td>\n",
       "      <td>0.603448</td>\n",
       "      <td>0.790323</td>\n",
       "      <td>0.684358</td>\n",
       "      <td>0.66813</td>\n",
       "    </tr>\n",
       "    <tr>\n",
       "      <th>3996</th>\n",
       "      <td>gbtree</td>\n",
       "      <td>0.01</td>\n",
       "      <td>197</td>\n",
       "      <td>0.959301</td>\n",
       "      <td>0.956014</td>\n",
       "      <td>0.986264</td>\n",
       "      <td>0.603448</td>\n",
       "      <td>0.790323</td>\n",
       "      <td>0.684358</td>\n",
       "      <td>0.66813</td>\n",
       "    </tr>\n",
       "    <tr>\n",
       "      <th>3997</th>\n",
       "      <td>gbtree</td>\n",
       "      <td>0.01</td>\n",
       "      <td>198</td>\n",
       "      <td>0.959283</td>\n",
       "      <td>0.956014</td>\n",
       "      <td>0.986264</td>\n",
       "      <td>0.603448</td>\n",
       "      <td>0.790323</td>\n",
       "      <td>0.684358</td>\n",
       "      <td>0.66813</td>\n",
       "    </tr>\n",
       "    <tr>\n",
       "      <th>3998</th>\n",
       "      <td>gbtree</td>\n",
       "      <td>0.01</td>\n",
       "      <td>199</td>\n",
       "      <td>0.959286</td>\n",
       "      <td>0.956014</td>\n",
       "      <td>0.986264</td>\n",
       "      <td>0.603448</td>\n",
       "      <td>0.790323</td>\n",
       "      <td>0.684358</td>\n",
       "      <td>0.66813</td>\n",
       "    </tr>\n",
       "    <tr>\n",
       "      <th>3999</th>\n",
       "      <td>gbtree</td>\n",
       "      <td>0.01</td>\n",
       "      <td>200</td>\n",
       "      <td>0.959257</td>\n",
       "      <td>0.956014</td>\n",
       "      <td>0.986264</td>\n",
       "      <td>0.603448</td>\n",
       "      <td>0.790323</td>\n",
       "      <td>0.684358</td>\n",
       "      <td>0.66813</td>\n",
       "    </tr>\n",
       "  </tbody>\n",
       "</table>\n",
       "</div>"
      ],
      "text/plain": [
       "     booster  learning_rate  n_estimators   roc_auc  accuracy       tnr  \\\n",
       "3995  gbtree           0.01           196  0.959308  0.956014  0.986264   \n",
       "3996  gbtree           0.01           197  0.959301  0.956014  0.986264   \n",
       "3997  gbtree           0.01           198  0.959283  0.956014  0.986264   \n",
       "3998  gbtree           0.01           199  0.959286  0.956014  0.986264   \n",
       "3999  gbtree           0.01           200  0.959257  0.956014  0.986264   \n",
       "\n",
       "           tpr  precision        f1      mcc  \n",
       "3995  0.603448   0.790323  0.684358  0.66813  \n",
       "3996  0.603448   0.790323  0.684358  0.66813  \n",
       "3997  0.603448   0.790323  0.684358  0.66813  \n",
       "3998  0.603448   0.790323  0.684358  0.66813  \n",
       "3999  0.603448   0.790323  0.684358  0.66813  "
      ]
     },
     "metadata": {},
     "output_type": "display_data"
    },
    {
     "name": "stderr",
     "output_type": "stream",
     "text": [
      "<ipython-input-224-66a3f8e64c9a>:30: RuntimeWarning: invalid value encountered in longlong_scalars\n",
      "  precision = tp/(tp+fp) # TP/PP = TP/(TP+FP)\n",
      "<ipython-input-224-66a3f8e64c9a>:38: RuntimeWarning: invalid value encountered in true_divide\n",
      "  MCC = (tp*tn-fp*fn)/np.sqrt((tp+fp)*(tp+fn)*(tn+fp)*(tn+fn))\n",
      "<ipython-input-224-66a3f8e64c9a>:30: RuntimeWarning: invalid value encountered in longlong_scalars\n",
      "  precision = tp/(tp+fp) # TP/PP = TP/(TP+FP)\n",
      "<ipython-input-224-66a3f8e64c9a>:38: RuntimeWarning: invalid value encountered in true_divide\n",
      "  MCC = (tp*tn-fp*fn)/np.sqrt((tp+fp)*(tp+fn)*(tn+fp)*(tn+fn))\n",
      "<ipython-input-224-66a3f8e64c9a>:30: RuntimeWarning: invalid value encountered in longlong_scalars\n",
      "  precision = tp/(tp+fp) # TP/PP = TP/(TP+FP)\n",
      "<ipython-input-224-66a3f8e64c9a>:38: RuntimeWarning: invalid value encountered in true_divide\n",
      "  MCC = (tp*tn-fp*fn)/np.sqrt((tp+fp)*(tp+fn)*(tn+fp)*(tn+fn))\n",
      "<ipython-input-224-66a3f8e64c9a>:30: RuntimeWarning: invalid value encountered in longlong_scalars\n",
      "  precision = tp/(tp+fp) # TP/PP = TP/(TP+FP)\n",
      "<ipython-input-224-66a3f8e64c9a>:38: RuntimeWarning: invalid value encountered in true_divide\n",
      "  MCC = (tp*tn-fp*fn)/np.sqrt((tp+fp)*(tp+fn)*(tn+fp)*(tn+fn))\n",
      "<ipython-input-224-66a3f8e64c9a>:30: RuntimeWarning: invalid value encountered in longlong_scalars\n",
      "  precision = tp/(tp+fp) # TP/PP = TP/(TP+FP)\n",
      "<ipython-input-224-66a3f8e64c9a>:38: RuntimeWarning: invalid value encountered in true_divide\n",
      "  MCC = (tp*tn-fp*fn)/np.sqrt((tp+fp)*(tp+fn)*(tn+fp)*(tn+fn))\n",
      "<ipython-input-224-66a3f8e64c9a>:30: RuntimeWarning: invalid value encountered in longlong_scalars\n",
      "  precision = tp/(tp+fp) # TP/PP = TP/(TP+FP)\n",
      "<ipython-input-224-66a3f8e64c9a>:38: RuntimeWarning: invalid value encountered in true_divide\n",
      "  MCC = (tp*tn-fp*fn)/np.sqrt((tp+fp)*(tp+fn)*(tn+fp)*(tn+fn))\n",
      "<ipython-input-224-66a3f8e64c9a>:30: RuntimeWarning: invalid value encountered in longlong_scalars\n",
      "  precision = tp/(tp+fp) # TP/PP = TP/(TP+FP)\n",
      "<ipython-input-224-66a3f8e64c9a>:38: RuntimeWarning: invalid value encountered in true_divide\n",
      "  MCC = (tp*tn-fp*fn)/np.sqrt((tp+fp)*(tp+fn)*(tn+fp)*(tn+fn))\n",
      "<ipython-input-224-66a3f8e64c9a>:30: RuntimeWarning: invalid value encountered in longlong_scalars\n",
      "  precision = tp/(tp+fp) # TP/PP = TP/(TP+FP)\n",
      "<ipython-input-224-66a3f8e64c9a>:38: RuntimeWarning: invalid value encountered in true_divide\n",
      "  MCC = (tp*tn-fp*fn)/np.sqrt((tp+fp)*(tp+fn)*(tn+fp)*(tn+fn))\n",
      "<ipython-input-224-66a3f8e64c9a>:30: RuntimeWarning: invalid value encountered in longlong_scalars\n",
      "  precision = tp/(tp+fp) # TP/PP = TP/(TP+FP)\n",
      "<ipython-input-224-66a3f8e64c9a>:38: RuntimeWarning: invalid value encountered in true_divide\n",
      "  MCC = (tp*tn-fp*fn)/np.sqrt((tp+fp)*(tp+fn)*(tn+fp)*(tn+fn))\n",
      "<ipython-input-224-66a3f8e64c9a>:30: RuntimeWarning: invalid value encountered in longlong_scalars\n",
      "  precision = tp/(tp+fp) # TP/PP = TP/(TP+FP)\n",
      "<ipython-input-224-66a3f8e64c9a>:38: RuntimeWarning: invalid value encountered in true_divide\n",
      "  MCC = (tp*tn-fp*fn)/np.sqrt((tp+fp)*(tp+fn)*(tn+fp)*(tn+fn))\n",
      "<ipython-input-224-66a3f8e64c9a>:30: RuntimeWarning: invalid value encountered in longlong_scalars\n",
      "  precision = tp/(tp+fp) # TP/PP = TP/(TP+FP)\n",
      "<ipython-input-224-66a3f8e64c9a>:38: RuntimeWarning: invalid value encountered in true_divide\n",
      "  MCC = (tp*tn-fp*fn)/np.sqrt((tp+fp)*(tp+fn)*(tn+fp)*(tn+fn))\n",
      "<ipython-input-224-66a3f8e64c9a>:30: RuntimeWarning: invalid value encountered in longlong_scalars\n",
      "  precision = tp/(tp+fp) # TP/PP = TP/(TP+FP)\n",
      "<ipython-input-224-66a3f8e64c9a>:38: RuntimeWarning: invalid value encountered in true_divide\n",
      "  MCC = (tp*tn-fp*fn)/np.sqrt((tp+fp)*(tp+fn)*(tn+fp)*(tn+fn))\n",
      "<ipython-input-224-66a3f8e64c9a>:30: RuntimeWarning: invalid value encountered in longlong_scalars\n",
      "  precision = tp/(tp+fp) # TP/PP = TP/(TP+FP)\n",
      "<ipython-input-224-66a3f8e64c9a>:38: RuntimeWarning: invalid value encountered in true_divide\n",
      "  MCC = (tp*tn-fp*fn)/np.sqrt((tp+fp)*(tp+fn)*(tn+fp)*(tn+fn))\n",
      "<ipython-input-224-66a3f8e64c9a>:30: RuntimeWarning: invalid value encountered in longlong_scalars\n",
      "  precision = tp/(tp+fp) # TP/PP = TP/(TP+FP)\n",
      "<ipython-input-224-66a3f8e64c9a>:38: RuntimeWarning: invalid value encountered in true_divide\n",
      "  MCC = (tp*tn-fp*fn)/np.sqrt((tp+fp)*(tp+fn)*(tn+fp)*(tn+fn))\n",
      "<ipython-input-224-66a3f8e64c9a>:30: RuntimeWarning: invalid value encountered in longlong_scalars\n",
      "  precision = tp/(tp+fp) # TP/PP = TP/(TP+FP)\n",
      "<ipython-input-224-66a3f8e64c9a>:38: RuntimeWarning: invalid value encountered in true_divide\n",
      "  MCC = (tp*tn-fp*fn)/np.sqrt((tp+fp)*(tp+fn)*(tn+fp)*(tn+fn))\n",
      "<ipython-input-224-66a3f8e64c9a>:30: RuntimeWarning: invalid value encountered in longlong_scalars\n",
      "  precision = tp/(tp+fp) # TP/PP = TP/(TP+FP)\n",
      "<ipython-input-224-66a3f8e64c9a>:38: RuntimeWarning: invalid value encountered in true_divide\n",
      "  MCC = (tp*tn-fp*fn)/np.sqrt((tp+fp)*(tp+fn)*(tn+fp)*(tn+fn))\n",
      "<ipython-input-224-66a3f8e64c9a>:30: RuntimeWarning: invalid value encountered in longlong_scalars\n",
      "  precision = tp/(tp+fp) # TP/PP = TP/(TP+FP)\n",
      "<ipython-input-224-66a3f8e64c9a>:38: RuntimeWarning: invalid value encountered in true_divide\n",
      "  MCC = (tp*tn-fp*fn)/np.sqrt((tp+fp)*(tp+fn)*(tn+fp)*(tn+fn))\n",
      "<ipython-input-224-66a3f8e64c9a>:30: RuntimeWarning: invalid value encountered in longlong_scalars\n",
      "  precision = tp/(tp+fp) # TP/PP = TP/(TP+FP)\n",
      "<ipython-input-224-66a3f8e64c9a>:38: RuntimeWarning: invalid value encountered in true_divide\n",
      "  MCC = (tp*tn-fp*fn)/np.sqrt((tp+fp)*(tp+fn)*(tn+fp)*(tn+fn))\n",
      "<ipython-input-224-66a3f8e64c9a>:30: RuntimeWarning: invalid value encountered in longlong_scalars\n",
      "  precision = tp/(tp+fp) # TP/PP = TP/(TP+FP)\n",
      "<ipython-input-224-66a3f8e64c9a>:38: RuntimeWarning: invalid value encountered in true_divide\n",
      "  MCC = (tp*tn-fp*fn)/np.sqrt((tp+fp)*(tp+fn)*(tn+fp)*(tn+fn))\n",
      "<ipython-input-224-66a3f8e64c9a>:30: RuntimeWarning: invalid value encountered in longlong_scalars\n",
      "  precision = tp/(tp+fp) # TP/PP = TP/(TP+FP)\n",
      "<ipython-input-224-66a3f8e64c9a>:38: RuntimeWarning: invalid value encountered in true_divide\n",
      "  MCC = (tp*tn-fp*fn)/np.sqrt((tp+fp)*(tp+fn)*(tn+fp)*(tn+fn))\n",
      "<ipython-input-224-66a3f8e64c9a>:30: RuntimeWarning: invalid value encountered in longlong_scalars\n",
      "  precision = tp/(tp+fp) # TP/PP = TP/(TP+FP)\n",
      "<ipython-input-224-66a3f8e64c9a>:38: RuntimeWarning: invalid value encountered in true_divide\n",
      "  MCC = (tp*tn-fp*fn)/np.sqrt((tp+fp)*(tp+fn)*(tn+fp)*(tn+fn))\n",
      "<ipython-input-224-66a3f8e64c9a>:30: RuntimeWarning: invalid value encountered in longlong_scalars\n",
      "  precision = tp/(tp+fp) # TP/PP = TP/(TP+FP)\n",
      "<ipython-input-224-66a3f8e64c9a>:38: RuntimeWarning: invalid value encountered in true_divide\n",
      "  MCC = (tp*tn-fp*fn)/np.sqrt((tp+fp)*(tp+fn)*(tn+fp)*(tn+fn))\n",
      "<ipython-input-224-66a3f8e64c9a>:30: RuntimeWarning: invalid value encountered in longlong_scalars\n",
      "  precision = tp/(tp+fp) # TP/PP = TP/(TP+FP)\n",
      "<ipython-input-224-66a3f8e64c9a>:38: RuntimeWarning: invalid value encountered in true_divide\n",
      "  MCC = (tp*tn-fp*fn)/np.sqrt((tp+fp)*(tp+fn)*(tn+fp)*(tn+fn))\n",
      "<ipython-input-224-66a3f8e64c9a>:30: RuntimeWarning: invalid value encountered in longlong_scalars\n",
      "  precision = tp/(tp+fp) # TP/PP = TP/(TP+FP)\n",
      "<ipython-input-224-66a3f8e64c9a>:38: RuntimeWarning: invalid value encountered in true_divide\n",
      "  MCC = (tp*tn-fp*fn)/np.sqrt((tp+fp)*(tp+fn)*(tn+fp)*(tn+fn))\n",
      "<ipython-input-224-66a3f8e64c9a>:30: RuntimeWarning: invalid value encountered in longlong_scalars\n",
      "  precision = tp/(tp+fp) # TP/PP = TP/(TP+FP)\n",
      "<ipython-input-224-66a3f8e64c9a>:38: RuntimeWarning: invalid value encountered in true_divide\n",
      "  MCC = (tp*tn-fp*fn)/np.sqrt((tp+fp)*(tp+fn)*(tn+fp)*(tn+fn))\n",
      "<ipython-input-224-66a3f8e64c9a>:30: RuntimeWarning: invalid value encountered in longlong_scalars\n",
      "  precision = tp/(tp+fp) # TP/PP = TP/(TP+FP)\n",
      "<ipython-input-224-66a3f8e64c9a>:38: RuntimeWarning: invalid value encountered in true_divide\n",
      "  MCC = (tp*tn-fp*fn)/np.sqrt((tp+fp)*(tp+fn)*(tn+fp)*(tn+fn))\n",
      "<ipython-input-224-66a3f8e64c9a>:30: RuntimeWarning: invalid value encountered in longlong_scalars\n",
      "  precision = tp/(tp+fp) # TP/PP = TP/(TP+FP)\n",
      "<ipython-input-224-66a3f8e64c9a>:38: RuntimeWarning: invalid value encountered in true_divide\n",
      "  MCC = (tp*tn-fp*fn)/np.sqrt((tp+fp)*(tp+fn)*(tn+fp)*(tn+fn))\n",
      "<ipython-input-224-66a3f8e64c9a>:30: RuntimeWarning: invalid value encountered in longlong_scalars\n",
      "  precision = tp/(tp+fp) # TP/PP = TP/(TP+FP)\n",
      "<ipython-input-224-66a3f8e64c9a>:38: RuntimeWarning: invalid value encountered in true_divide\n",
      "  MCC = (tp*tn-fp*fn)/np.sqrt((tp+fp)*(tp+fn)*(tn+fp)*(tn+fn))\n"
     ]
    },
    {
     "name": "stderr",
     "output_type": "stream",
     "text": [
      "<ipython-input-224-66a3f8e64c9a>:30: RuntimeWarning: invalid value encountered in longlong_scalars\n",
      "  precision = tp/(tp+fp) # TP/PP = TP/(TP+FP)\n",
      "<ipython-input-224-66a3f8e64c9a>:38: RuntimeWarning: invalid value encountered in true_divide\n",
      "  MCC = (tp*tn-fp*fn)/np.sqrt((tp+fp)*(tp+fn)*(tn+fp)*(tn+fn))\n",
      "<ipython-input-224-66a3f8e64c9a>:30: RuntimeWarning: invalid value encountered in longlong_scalars\n",
      "  precision = tp/(tp+fp) # TP/PP = TP/(TP+FP)\n",
      "<ipython-input-224-66a3f8e64c9a>:38: RuntimeWarning: invalid value encountered in true_divide\n",
      "  MCC = (tp*tn-fp*fn)/np.sqrt((tp+fp)*(tp+fn)*(tn+fp)*(tn+fn))\n",
      "<ipython-input-224-66a3f8e64c9a>:30: RuntimeWarning: invalid value encountered in longlong_scalars\n",
      "  precision = tp/(tp+fp) # TP/PP = TP/(TP+FP)\n",
      "<ipython-input-224-66a3f8e64c9a>:38: RuntimeWarning: invalid value encountered in true_divide\n",
      "  MCC = (tp*tn-fp*fn)/np.sqrt((tp+fp)*(tp+fn)*(tn+fp)*(tn+fn))\n",
      "<ipython-input-224-66a3f8e64c9a>:30: RuntimeWarning: invalid value encountered in longlong_scalars\n",
      "  precision = tp/(tp+fp) # TP/PP = TP/(TP+FP)\n",
      "<ipython-input-224-66a3f8e64c9a>:38: RuntimeWarning: invalid value encountered in true_divide\n",
      "  MCC = (tp*tn-fp*fn)/np.sqrt((tp+fp)*(tp+fn)*(tn+fp)*(tn+fn))\n",
      "<ipython-input-224-66a3f8e64c9a>:30: RuntimeWarning: invalid value encountered in longlong_scalars\n",
      "  precision = tp/(tp+fp) # TP/PP = TP/(TP+FP)\n",
      "<ipython-input-224-66a3f8e64c9a>:38: RuntimeWarning: invalid value encountered in true_divide\n",
      "  MCC = (tp*tn-fp*fn)/np.sqrt((tp+fp)*(tp+fn)*(tn+fp)*(tn+fn))\n",
      "<ipython-input-224-66a3f8e64c9a>:30: RuntimeWarning: invalid value encountered in longlong_scalars\n",
      "  precision = tp/(tp+fp) # TP/PP = TP/(TP+FP)\n",
      "<ipython-input-224-66a3f8e64c9a>:38: RuntimeWarning: invalid value encountered in true_divide\n",
      "  MCC = (tp*tn-fp*fn)/np.sqrt((tp+fp)*(tp+fn)*(tn+fp)*(tn+fn))\n",
      "<ipython-input-224-66a3f8e64c9a>:30: RuntimeWarning: invalid value encountered in longlong_scalars\n",
      "  precision = tp/(tp+fp) # TP/PP = TP/(TP+FP)\n",
      "<ipython-input-224-66a3f8e64c9a>:38: RuntimeWarning: invalid value encountered in true_divide\n",
      "  MCC = (tp*tn-fp*fn)/np.sqrt((tp+fp)*(tp+fn)*(tn+fp)*(tn+fn))\n",
      "<ipython-input-224-66a3f8e64c9a>:30: RuntimeWarning: invalid value encountered in longlong_scalars\n",
      "  precision = tp/(tp+fp) # TP/PP = TP/(TP+FP)\n",
      "<ipython-input-224-66a3f8e64c9a>:38: RuntimeWarning: invalid value encountered in true_divide\n",
      "  MCC = (tp*tn-fp*fn)/np.sqrt((tp+fp)*(tp+fn)*(tn+fp)*(tn+fn))\n",
      "<ipython-input-224-66a3f8e64c9a>:30: RuntimeWarning: invalid value encountered in longlong_scalars\n",
      "  precision = tp/(tp+fp) # TP/PP = TP/(TP+FP)\n",
      "<ipython-input-224-66a3f8e64c9a>:38: RuntimeWarning: invalid value encountered in true_divide\n",
      "  MCC = (tp*tn-fp*fn)/np.sqrt((tp+fp)*(tp+fn)*(tn+fp)*(tn+fn))\n"
     ]
    }
   ],
   "source": [
    "# Initialize score dataframe\n",
    "scores_csv = \"data/xgboost_test30.score.learningrate_nestimators.csv\"\n",
    "#scores_csv = \"data/xgboost_std_test30.score.learningrate_nestimators.csv\"\n",
    "if os.path.exists(scores_csv):\n",
    "    scores = pd.read_csv(scores_csv)\n",
    "else:\n",
    "    scores = pd.DataFrame(columns=['booster','learning_rate','n_estimators',\n",
    "                                'roc_auc','accuracy','tnr','tpr','precision','f1','mcc'])\n",
    "display(scores.head())\n",
    "display(scores.tail())\n",
    "\n",
    "for booster in ['gbtree','gblinear']: # booster: {gbtree, dart, gblinear}\n",
    "    for learning_rate in np.arange(0.02,0.10+0.001,0.01):\n",
    "        for n_estimators in np.arange(1,200+1,1):\n",
    "            # Train model\n",
    "            model = XGBClassifier(booster=booster, learning_rate=learning_rate, n_estimators=n_estimators,\n",
    "                                  eval_metric='logloss', use_label_encoder=False).fit(X_train, y_train)\n",
    "            # Evaluate predictions\n",
    "            roc_auc,accuracy,tnr,tpr,precision,f1,mcc = scores_all(X_test, y_test, model);\n",
    "            scores = scores.append({'booster':booster,'learning_rate':round(learning_rate,3),'n_estimators':n_estimators,\n",
    "                              'roc_auc':roc_auc,'accuracy':accuracy,'tnr':tnr,'tpr':tpr,'precision':precision,'f1':f1,'mcc':mcc}, ignore_index=True)\n",
    "        scores.to_csv(scores_csv, index=False)\n",
    "scores.sort_values(by=['booster','learning_rate'], inplace=True)\n",
    "scores.drop_duplicates()\n",
    "scores.to_csv(scores_csv, index=False)"
   ]
  },
  {
   "cell_type": "code",
   "execution_count": 340,
   "metadata": {},
   "outputs": [
    {
     "data": {
      "text/html": [
       "<div>\n",
       "<style scoped>\n",
       "    .dataframe tbody tr th:only-of-type {\n",
       "        vertical-align: middle;\n",
       "    }\n",
       "\n",
       "    .dataframe tbody tr th {\n",
       "        vertical-align: top;\n",
       "    }\n",
       "\n",
       "    .dataframe thead th {\n",
       "        text-align: right;\n",
       "    }\n",
       "</style>\n",
       "<table border=\"1\" class=\"dataframe\">\n",
       "  <thead>\n",
       "    <tr style=\"text-align: right;\">\n",
       "      <th></th>\n",
       "      <th>booster</th>\n",
       "      <th>learning_rate</th>\n",
       "      <th>n_estimators</th>\n",
       "      <th>roc_auc</th>\n",
       "      <th>accuracy</th>\n",
       "      <th>tnr</th>\n",
       "      <th>tpr</th>\n",
       "      <th>precision</th>\n",
       "      <th>f1</th>\n",
       "      <th>mcc</th>\n",
       "    </tr>\n",
       "  </thead>\n",
       "  <tbody>\n",
       "    <tr>\n",
       "      <th>3795</th>\n",
       "      <td>gbtree</td>\n",
       "      <td>0.01</td>\n",
       "      <td>196</td>\n",
       "      <td>0.959308</td>\n",
       "      <td>0.956014</td>\n",
       "      <td>0.986264</td>\n",
       "      <td>0.603448</td>\n",
       "      <td>0.790323</td>\n",
       "      <td>0.684358</td>\n",
       "      <td>0.66813</td>\n",
       "    </tr>\n",
       "    <tr>\n",
       "      <th>3796</th>\n",
       "      <td>gbtree</td>\n",
       "      <td>0.01</td>\n",
       "      <td>197</td>\n",
       "      <td>0.959301</td>\n",
       "      <td>0.956014</td>\n",
       "      <td>0.986264</td>\n",
       "      <td>0.603448</td>\n",
       "      <td>0.790323</td>\n",
       "      <td>0.684358</td>\n",
       "      <td>0.66813</td>\n",
       "    </tr>\n",
       "    <tr>\n",
       "      <th>3797</th>\n",
       "      <td>gbtree</td>\n",
       "      <td>0.01</td>\n",
       "      <td>198</td>\n",
       "      <td>0.959283</td>\n",
       "      <td>0.956014</td>\n",
       "      <td>0.986264</td>\n",
       "      <td>0.603448</td>\n",
       "      <td>0.790323</td>\n",
       "      <td>0.684358</td>\n",
       "      <td>0.66813</td>\n",
       "    </tr>\n",
       "    <tr>\n",
       "      <th>3798</th>\n",
       "      <td>gbtree</td>\n",
       "      <td>0.01</td>\n",
       "      <td>199</td>\n",
       "      <td>0.959286</td>\n",
       "      <td>0.956014</td>\n",
       "      <td>0.986264</td>\n",
       "      <td>0.603448</td>\n",
       "      <td>0.790323</td>\n",
       "      <td>0.684358</td>\n",
       "      <td>0.66813</td>\n",
       "    </tr>\n",
       "    <tr>\n",
       "      <th>3799</th>\n",
       "      <td>gbtree</td>\n",
       "      <td>0.01</td>\n",
       "      <td>200</td>\n",
       "      <td>0.959257</td>\n",
       "      <td>0.956014</td>\n",
       "      <td>0.986264</td>\n",
       "      <td>0.603448</td>\n",
       "      <td>0.790323</td>\n",
       "      <td>0.684358</td>\n",
       "      <td>0.66813</td>\n",
       "    </tr>\n",
       "  </tbody>\n",
       "</table>\n",
       "</div>"
      ],
      "text/plain": [
       "     booster  learning_rate  n_estimators   roc_auc  accuracy       tnr  \\\n",
       "3795  gbtree           0.01           196  0.959308  0.956014  0.986264   \n",
       "3796  gbtree           0.01           197  0.959301  0.956014  0.986264   \n",
       "3797  gbtree           0.01           198  0.959283  0.956014  0.986264   \n",
       "3798  gbtree           0.01           199  0.959286  0.956014  0.986264   \n",
       "3799  gbtree           0.01           200  0.959257  0.956014  0.986264   \n",
       "\n",
       "           tpr  precision        f1      mcc  \n",
       "3795  0.603448   0.790323  0.684358  0.66813  \n",
       "3796  0.603448   0.790323  0.684358  0.66813  \n",
       "3797  0.603448   0.790323  0.684358  0.66813  \n",
       "3798  0.603448   0.790323  0.684358  0.66813  \n",
       "3799  0.603448   0.790323  0.684358  0.66813  "
      ]
     },
     "execution_count": 340,
     "metadata": {},
     "output_type": "execute_result"
    }
   ],
   "source": [
    "scores.tail()"
   ]
  },
  {
   "cell_type": "code",
   "execution_count": 361,
   "metadata": {
    "scrolled": true
   },
   "outputs": [
    {
     "name": "stdout",
     "output_type": "stream",
     "text": [
      "XGBClassifier(base_score=0.5, booster='gblinear', colsample_bylevel=None,\n",
      "              colsample_bynode=None, colsample_bytree=None,\n",
      "              enable_categorical=False, eval_metric='logloss', gamma=None,\n",
      "              gpu_id=-1, importance_type=None, interaction_constraints=None,\n",
      "              learning_rate=0.09999999999999999, max_delta_step=None,\n",
      "              max_depth=None, min_child_weight=None, missing=nan,\n",
      "              monotone_constraints=None, n_estimators=200, n_jobs=8,\n",
      "              num_parallel_tree=None, predictor=None, random_state=0,\n",
      "              reg_alpha=0, reg_lambda=0, scale_pos_weight=1, subsample=None,\n",
      "              tree_method=None, use_label_encoder=False, validate_parameters=1,\n",
      "              verbosity=None)\n"
     ]
    }
   ],
   "source": [
    "print(model)"
   ]
  },
  {
   "cell_type": "markdown",
   "metadata": {},
   "source": [
    "## Results"
   ]
  },
  {
   "cell_type": "code",
   "execution_count": 363,
   "metadata": {
    "scrolled": true
   },
   "outputs": [
    {
     "name": "stdout",
     "output_type": "stream",
     "text": [
      "data/xgboost_test30.score.learningrate_nestimators.csv\n"
     ]
    }
   ],
   "source": [
    "print(scores_csv)\n",
    "scores = pd.read_csv(scores_csv)"
   ]
  },
  {
   "cell_type": "code",
   "execution_count": 364,
   "metadata": {},
   "outputs": [
    {
     "data": {
      "image/png": "[encoded data removed]",
      "text/plain": [
       "<Figure size 432x288 with 2 Axes>"
      ]
     },
     "metadata": {
      "needs_background": "light"
     },
     "output_type": "display_data"
    }
   ],
   "source": [
    "# Contour plot for a chosen booster\n",
    "booster = 'gblinear' # gbtree, gblinear, dart\n",
    "ds = scores.loc[scores['booster']==booster] # dataset selection\n",
    "x_val = ds['learning_rate'].unique()\n",
    "y_val = ds['n_estimators'].unique()\n",
    "levels=np.arange(np.floor(np.min(ds['roc_auc'])*100)/100,1.001,0.01)\n",
    "\n",
    "#https://jakevdp.github.io/PythonDataScienceHandbook/04.04-density-and-contour-plots.html\n",
    "plt.contourf(x_val, y_val, np.array(ds['roc_auc']).reshape(len(y_val), len(x_val)),\n",
    "             levels=levels, cmap='jet'); #https://matplotlib.org/stable/tutorials/colors/colormaps.html\n",
    "plt.colorbar();\n",
    "plt.xlabel('learning_rate')\n",
    "plt.ylabel('n_estimators')\n",
    "#plt.ylim(1,200)\n",
    "plt.suptitle(f'Unscaled, 30% test, booster: {booster}');"
   ]
  },
  {
   "cell_type": "code",
   "execution_count": 365,
   "metadata": {},
   "outputs": [
    {
     "data": {
      "image/png": "[encoded data removed]",
      "text/plain": [
       "<Figure size 432x288 with 1 Axes>"
      ]
     },
     "metadata": {
      "needs_background": "light"
     },
     "output_type": "display_data"
    }
   ],
   "source": [
    "# Contour plot for a chosen booster\n",
    "booster = 'gbtree' # gbtree, gblinear, dart\n",
    "ds = scores.loc[scores['booster']==booster] # dataset selection\n",
    "x_val = ds['learning_rate'].unique()\n",
    "y_val = ds['n_estimators'].unique()\n",
    "\n",
    "#https://jakevdp.github.io/PythonDataScienceHandbook/04.04-density-and-contour-plots.html\n",
    "plt.contourf(x_val, y_val, np.array(ds['roc_auc']).reshape(len(y_val), len(x_val)),\n",
    "             levels=levels, cmap='jet'); #https://matplotlib.org/stable/tutorials/colors/colormaps.html\n",
    "#plt.colorbar();\n",
    "plt.xlabel('learning_rate')\n",
    "plt.ylabel('n_estimators')\n",
    "#plt.ylim(30,45)\n",
    "plt.suptitle(f'Unscaled, 30% test, booster: {booster}');"
   ]
  },
  {
   "cell_type": "code",
   "execution_count": null,
   "metadata": {},
   "outputs": [],
   "source": [
    "# 'dart' is very close to 'gbtree'\n",
    "print(\"gbtree - dart\")\n",
    "xgboost_res.loc[xgboost_res['booster']==\"gbtree\"]['accuracy'][0:3].values - xgboost_res.loc[xgboost_res['booster']==\"dart\"]['accuracy'].values\n",
    "#array([-0.00447645, -0.00467108, -0.00155703])"
   ]
  },
  {
   "cell_type": "code",
   "execution_count": 368,
   "metadata": {},
   "outputs": [
    {
     "name": "stdout",
     "output_type": "stream",
     "text": [
      "Optimal parameters:\n"
     ]
    },
    {
     "data": {
      "text/plain": [
       "booster            gbtree\n",
       "learning_rate         0.1\n",
       "n_estimators           70\n",
       "roc_auc          0.968587\n",
       "accuracy         0.956014\n",
       "tnr              0.984996\n",
       "tpr              0.618227\n",
       "precision        0.779503\n",
       "f1                0.68956\n",
       "mcc              0.671416\n",
       "Name: 7469, dtype: object"
      ]
     },
     "execution_count": 368,
     "metadata": {},
     "output_type": "execute_result"
    }
   ],
   "source": [
    "print(\"Optimal parameters:\")\n",
    "idx_opt = np.argmax(scores['roc_auc'])\n",
    "scores.iloc[idx_opt]"
   ]
  },
  {
   "cell_type": "code",
   "execution_count": 369,
   "metadata": {},
   "outputs": [
    {
     "data": {
      "text/plain": [
       "booster          gblinear\n",
       "learning_rate         0.1\n",
       "n_estimators           19\n",
       "roc_auc          0.926893\n",
       "accuracy          0.94239\n",
       "tnr              0.988588\n",
       "tpr              0.403941\n",
       "precision        0.752294\n",
       "f1               0.525641\n",
       "mcc              0.525347\n",
       "Name: 3618, dtype: object"
      ]
     },
     "execution_count": 369,
     "metadata": {},
     "output_type": "execute_result"
    }
   ],
   "source": [
    "idx_opt = np.argmax(scores.loc[scores['booster']==\"gblinear\"]['roc_auc'])\n",
    "scores.iloc[idx_opt]"
   ]
  },
  {
   "cell_type": "code",
   "execution_count": null,
   "metadata": {
    "scrolled": true
   },
   "outputs": [
    {
     "data": {
      "text/html": [
       "<div>\n",
       "<style scoped>\n",
       "    .dataframe tbody tr th:only-of-type {\n",
       "        vertical-align: middle;\n",
       "    }\n",
       "\n",
       "    .dataframe tbody tr th {\n",
       "        vertical-align: top;\n",
       "    }\n",
       "\n",
       "    .dataframe thead th {\n",
       "        text-align: right;\n",
       "    }\n",
       "</style>\n",
       "<table border=\"1\" class=\"dataframe\">\n",
       "  <thead>\n",
       "    <tr style=\"text-align: right;\">\n",
       "      <th></th>\n",
       "      <th>booster</th>\n",
       "      <th>learning_rate</th>\n",
       "      <th>n_estimators</th>\n",
       "      <th>roc_auc</th>\n",
       "      <th>accuracy</th>\n",
       "      <th>tnr</th>\n",
       "      <th>tpr</th>\n",
       "      <th>precision</th>\n",
       "      <th>f1</th>\n",
       "      <th>mcc</th>\n",
       "    </tr>\n",
       "  </thead>\n",
       "  <tbody>\n",
       "    <tr>\n",
       "      <th>0</th>\n",
       "      <td>gblinear</td>\n",
       "      <td>0.001</td>\n",
       "      <td>1</td>\n",
       "      <td>0.669427</td>\n",
       "      <td>0.920981</td>\n",
       "      <td>1.0</td>\n",
       "      <td>0.0</td>\n",
       "      <td>NaN</td>\n",
       "      <td>0.0</td>\n",
       "      <td>NaN</td>\n",
       "    </tr>\n",
       "    <tr>\n",
       "      <th>1</th>\n",
       "      <td>gblinear</td>\n",
       "      <td>0.001</td>\n",
       "      <td>2</td>\n",
       "      <td>0.670528</td>\n",
       "      <td>0.920981</td>\n",
       "      <td>1.0</td>\n",
       "      <td>0.0</td>\n",
       "      <td>NaN</td>\n",
       "      <td>0.0</td>\n",
       "      <td>NaN</td>\n",
       "    </tr>\n",
       "    <tr>\n",
       "      <th>2</th>\n",
       "      <td>gblinear</td>\n",
       "      <td>0.001</td>\n",
       "      <td>3</td>\n",
       "      <td>0.671420</td>\n",
       "      <td>0.920981</td>\n",
       "      <td>1.0</td>\n",
       "      <td>0.0</td>\n",
       "      <td>NaN</td>\n",
       "      <td>0.0</td>\n",
       "      <td>NaN</td>\n",
       "    </tr>\n",
       "    <tr>\n",
       "      <th>3</th>\n",
       "      <td>gblinear</td>\n",
       "      <td>0.001</td>\n",
       "      <td>4</td>\n",
       "      <td>0.672366</td>\n",
       "      <td>0.920981</td>\n",
       "      <td>1.0</td>\n",
       "      <td>0.0</td>\n",
       "      <td>NaN</td>\n",
       "      <td>0.0</td>\n",
       "      <td>NaN</td>\n",
       "    </tr>\n",
       "    <tr>\n",
       "      <th>4</th>\n",
       "      <td>gblinear</td>\n",
       "      <td>0.001</td>\n",
       "      <td>5</td>\n",
       "      <td>0.673262</td>\n",
       "      <td>0.920981</td>\n",
       "      <td>1.0</td>\n",
       "      <td>0.0</td>\n",
       "      <td>NaN</td>\n",
       "      <td>0.0</td>\n",
       "      <td>NaN</td>\n",
       "    </tr>\n",
       "  </tbody>\n",
       "</table>\n",
       "</div>"
      ],
      "text/plain": [
       "    booster  learning_rate  n_estimators   roc_auc  accuracy  tnr  tpr  \\\n",
       "0  gblinear          0.001             1  0.669427  0.920981  1.0  0.0   \n",
       "1  gblinear          0.001             2  0.670528  0.920981  1.0  0.0   \n",
       "2  gblinear          0.001             3  0.671420  0.920981  1.0  0.0   \n",
       "3  gblinear          0.001             4  0.672366  0.920981  1.0  0.0   \n",
       "4  gblinear          0.001             5  0.673262  0.920981  1.0  0.0   \n",
       "\n",
       "   precision   f1  mcc  \n",
       "0        NaN  0.0  NaN  \n",
       "1        NaN  0.0  NaN  \n",
       "2        NaN  0.0  NaN  \n",
       "3        NaN  0.0  NaN  \n",
       "4        NaN  0.0  NaN  "
      ]
     },
     "metadata": {},
     "output_type": "display_data"
    },
    {
     "data": {
      "text/html": [
       "<div>\n",
       "<style scoped>\n",
       "    .dataframe tbody tr th:only-of-type {\n",
       "        vertical-align: middle;\n",
       "    }\n",
       "\n",
       "    .dataframe tbody tr th {\n",
       "        vertical-align: top;\n",
       "    }\n",
       "\n",
       "    .dataframe thead th {\n",
       "        text-align: right;\n",
       "    }\n",
       "</style>\n",
       "<table border=\"1\" class=\"dataframe\">\n",
       "  <thead>\n",
       "    <tr style=\"text-align: right;\">\n",
       "      <th></th>\n",
       "      <th>booster</th>\n",
       "      <th>learning_rate</th>\n",
       "      <th>n_estimators</th>\n",
       "      <th>roc_auc</th>\n",
       "      <th>accuracy</th>\n",
       "      <th>tnr</th>\n",
       "      <th>tpr</th>\n",
       "      <th>precision</th>\n",
       "      <th>f1</th>\n",
       "      <th>mcc</th>\n",
       "    </tr>\n",
       "  </thead>\n",
       "  <tbody>\n",
       "    <tr>\n",
       "      <th>7685</th>\n",
       "      <td>gbtree</td>\n",
       "      <td>0.96</td>\n",
       "      <td>70</td>\n",
       "      <td>0.947240</td>\n",
       "      <td>0.944726</td>\n",
       "      <td>0.976965</td>\n",
       "      <td>0.568966</td>\n",
       "      <td>0.679412</td>\n",
       "      <td>0.619303</td>\n",
       "      <td>0.592452</td>\n",
       "    </tr>\n",
       "    <tr>\n",
       "      <th>7686</th>\n",
       "      <td>gbtree</td>\n",
       "      <td>0.97</td>\n",
       "      <td>70</td>\n",
       "      <td>0.940570</td>\n",
       "      <td>0.951343</td>\n",
       "      <td>0.982037</td>\n",
       "      <td>0.593596</td>\n",
       "      <td>0.739264</td>\n",
       "      <td>0.658470</td>\n",
       "      <td>0.637030</td>\n",
       "    </tr>\n",
       "    <tr>\n",
       "      <th>7687</th>\n",
       "      <td>gbtree</td>\n",
       "      <td>0.98</td>\n",
       "      <td>70</td>\n",
       "      <td>0.945982</td>\n",
       "      <td>0.947061</td>\n",
       "      <td>0.979924</td>\n",
       "      <td>0.564039</td>\n",
       "      <td>0.706790</td>\n",
       "      <td>0.627397</td>\n",
       "      <td>0.603712</td>\n",
       "    </tr>\n",
       "    <tr>\n",
       "      <th>7688</th>\n",
       "      <td>gbtree</td>\n",
       "      <td>0.99</td>\n",
       "      <td>70</td>\n",
       "      <td>0.944109</td>\n",
       "      <td>0.950564</td>\n",
       "      <td>0.979713</td>\n",
       "      <td>0.610837</td>\n",
       "      <td>0.720930</td>\n",
       "      <td>0.661333</td>\n",
       "      <td>0.637403</td>\n",
       "    </tr>\n",
       "    <tr>\n",
       "      <th>7689</th>\n",
       "      <td>gbtree</td>\n",
       "      <td>1.00</td>\n",
       "      <td>70</td>\n",
       "      <td>0.944824</td>\n",
       "      <td>0.947256</td>\n",
       "      <td>0.980135</td>\n",
       "      <td>0.564039</td>\n",
       "      <td>0.708978</td>\n",
       "      <td>0.628258</td>\n",
       "      <td>0.604817</td>\n",
       "    </tr>\n",
       "  </tbody>\n",
       "</table>\n",
       "</div>"
      ],
      "text/plain": [
       "     booster  learning_rate  n_estimators   roc_auc  accuracy       tnr  \\\n",
       "7685  gbtree           0.96            70  0.947240  0.944726  0.976965   \n",
       "7686  gbtree           0.97            70  0.940570  0.951343  0.982037   \n",
       "7687  gbtree           0.98            70  0.945982  0.947061  0.979924   \n",
       "7688  gbtree           0.99            70  0.944109  0.950564  0.979713   \n",
       "7689  gbtree           1.00            70  0.944824  0.947256  0.980135   \n",
       "\n",
       "           tpr  precision        f1       mcc  \n",
       "7685  0.568966   0.679412  0.619303  0.592452  \n",
       "7686  0.593596   0.739264  0.658470  0.637030  \n",
       "7687  0.564039   0.706790  0.627397  0.603712  \n",
       "7688  0.610837   0.720930  0.661333  0.637403  \n",
       "7689  0.564039   0.708978  0.628258  0.604817  "
      ]
     },
     "metadata": {},
     "output_type": "display_data"
    }
   ],
   "source": [
    "# Initialize score dataframe\n",
    "scores_csv = \"data/xgboost_test30.score.learningrate_nestimators.csv\"\n",
    "#scores_csv = \"data/xgboost_std_test30.score.learningrate_nestimators.csv\"\n",
    "if os.path.exists(scores_csv):\n",
    "    scores = pd.read_csv(scores_csv)\n",
    "else:\n",
    "    scores = pd.DataFrame(columns=['booster','learning_rate','n_estimators',\n",
    "                                'roc_auc','accuracy','tnr','tpr','precision','f1','mcc'])\n",
    "display(scores.head())\n",
    "display(scores.tail())\n",
    "\n",
    "for booster in ['gblinear']: # booster: [gbtree, dart, gblinear]\n",
    "    for learning_rate in np.arange(0.11,1+0.001,0.01):\n",
    "        for n_estimators in np.arange(70,70+1,1):\n",
    "            # Train model\n",
    "            model = XGBClassifier(booster=booster, learning_rate=learning_rate, n_estimators=n_estimators,\n",
    "                                  eval_metric='logloss', use_label_encoder=False).fit(X_train, y_train)\n",
    "            # Evaluate predictions\n",
    "            roc_auc,accuracy,tnr,tpr,precision,f1,mcc = scores_all(X_test, y_test, model);\n",
    "            scores = scores.append({'booster':booster,'learning_rate':round(learning_rate,3),'n_estimators':n_estimators,\n",
    "                              'roc_auc':roc_auc,'accuracy':accuracy,'tnr':tnr,'tpr':tpr,'precision':precision,'f1':f1,'mcc':mcc}, ignore_index=True)\n",
    "        scores.to_csv(scores_csv, index=False)\n",
    "scores.sort_values(by=['booster','learning_rate'], inplace=True)\n",
    "scores.drop_duplicates()\n",
    "scores.to_csv(scores_csv, index=False)"
   ]
  },
  {
   "cell_type": "code",
   "execution_count": 372,
   "metadata": {},
   "outputs": [
    {
     "data": {
      "image/png": "[encoded data removed]",
      "text/plain": [
       "<Figure size 1440x576 with 1 Axes>"
      ]
     },
     "metadata": {
      "needs_background": "light"
     },
     "output_type": "display_data"
    }
   ],
   "source": [
    "n_estimators = 196\n",
    "plt.figure(figsize=(20, 8))\n",
    "for booster in ['gbtree','gblinear']:\n",
    "    ds = scores.loc[(scores['booster']==booster) & (scores['n_estimators']==n_estimators)] # selection dataset\n",
    "    plt.scatter( x = ds['learning_rate'], y = ds['roc_auc'], label=booster);\n",
    "plt.title('XGBoost performance for different boosters vs learning_rate');\n",
    "plt.xlabel('learning_rate');\n",
    "plt.ylabel('ROC AUC');\n",
    "plt.legend(['gbtree','gblinear']);"
   ]
  },
  {
   "cell_type": "code",
   "execution_count": 373,
   "metadata": {},
   "outputs": [
    {
     "data": {
      "image/png": "[encoded data removed]",
      "text/plain": [
       "<Figure size 1440x576 with 1 Axes>"
      ]
     },
     "metadata": {
      "needs_background": "light"
     },
     "output_type": "display_data"
    }
   ],
   "source": [
    "n_estimators = 70\n",
    "plt.figure(figsize=(20, 8))\n",
    "for booster in ['gbtree','gblinear']:\n",
    "    ds = scores.loc[(scores['booster']==booster) & (scores['n_estimators']==n_estimators)] # selection dataset\n",
    "    plt.scatter( x = ds['learning_rate'], y = ds['roc_auc'], label=booster);\n",
    "plt.title('XGBoost performance for different boosters vs learning_rate');\n",
    "plt.xlabel('learning_rate');\n",
    "plt.ylabel('ROC AUC');\n",
    "plt.legend(['gbtree','gblinear']);"
   ]
  },
  {
   "cell_type": "code",
   "execution_count": null,
   "metadata": {},
   "outputs": [],
   "source": [
    "# Delete below later!"
   ]
  },
  {
   "cell_type": "code",
   "execution_count": 267,
   "metadata": {},
   "outputs": [
    {
     "data": {
      "image/png": "[encoded data removed]",
      "text/plain": [
       "<Figure size 1440x576 with 1 Axes>"
      ]
     },
     "metadata": {
      "needs_background": "light"
     },
     "output_type": "display_data"
    }
   ],
   "source": [
    "plt.figure(figsize=(20, 8))\n",
    "for booster in ['gbtree','gblinear']:\n",
    "    plt.scatter( x = scores.loc[scores['booster']==booster]['learning_rate'],\n",
    "           y = scores.loc[scores['booster']==booster]['roc_auc'], label=booster);\n",
    "plt.title('XGBoost performance for different boosters vs learning_rate');\n",
    "plt.xlabel('learning_rate');\n",
    "plt.ylabel('ROC AUC');\n",
    "plt.legend(['gbtree','gblinear']);"
   ]
  },
  {
   "cell_type": "code",
   "execution_count": 276,
   "metadata": {},
   "outputs": [],
   "source": [
    "?XGBClassifier"
   ]
  }
 ],
 "metadata": {
  "kernelspec": {
   "display_name": "Python 3",
   "language": "python",
   "name": "python3"
  },
  "language_info": {
   "codemirror_mode": {
    "name": "ipython",
    "version": 3
   },
   "file_extension": ".py",
   "mimetype": "text/x-python",
   "name": "python",
   "nbconvert_exporter": "python",
   "pygments_lexer": "ipython3",
   "version": "3.8.5"
  }
 },
 "nbformat": 4,
 "nbformat_minor": 4
}
